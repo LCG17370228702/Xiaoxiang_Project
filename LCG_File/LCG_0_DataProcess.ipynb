{
 "cells": [
  {
   "cell_type": "code",
   "execution_count": 1,
   "metadata": {},
   "outputs": [],
   "source": [
    "import warnings\n",
    "warnings.filterwarnings('ignore')\n",
    "import pandas as pd\n",
    "\n",
    "# data 路径\n",
    "path_train = './data/train.csv'  \n",
    "path_test = './data/test.csv'\n",
    "\n",
    "# 设置列名\n",
    "column_name = ['ID', 'Age', 'Gender', 'Edu', 'Query_list']\n",
    "\n",
    "#  pandas读入训练数据和测试数据\n",
    "df_train = pd.read_csv(path_train, sep = '###__###', header = None, encoding = 'utf-8')\n",
    "df_train = df_train.dropna()\n",
    "\n",
    "df_test = pd.read_csv(path_test, sep = '###__###', header = None, encoding = 'utf-8')\n",
    "df_test = df_test.dropna()\n",
    "\n",
    "# 给train数据加上列名\n",
    "df_train.columns =  column_name"
   ]
  },
  {
   "cell_type": "code",
   "execution_count": 2,
   "metadata": {},
   "outputs": [
    {
     "data": {
      "text/html": [
       "<div>\n",
       "<style scoped>\n",
       "    .dataframe tbody tr th:only-of-type {\n",
       "        vertical-align: middle;\n",
       "    }\n",
       "\n",
       "    .dataframe tbody tr th {\n",
       "        vertical-align: top;\n",
       "    }\n",
       "\n",
       "    .dataframe thead th {\n",
       "        text-align: right;\n",
       "    }\n",
       "</style>\n",
       "<table border=\"1\" class=\"dataframe\">\n",
       "  <thead>\n",
       "    <tr style=\"text-align: right;\">\n",
       "      <th></th>\n",
       "      <th>ID</th>\n",
       "      <th>Age</th>\n",
       "      <th>Gender</th>\n",
       "      <th>Edu</th>\n",
       "      <th>Query_list</th>\n",
       "    </tr>\n",
       "  </thead>\n",
       "  <tbody>\n",
       "    <tr>\n",
       "      <th>0</th>\n",
       "      <td>22DD920316420BE2DF8D6EE651BA174B</td>\n",
       "      <td>1</td>\n",
       "      <td>1</td>\n",
       "      <td>4</td>\n",
       "      <td>柔和双沟\\t女生\\t中财网首页 财经\\thttp://pan.baidu.com/s/1pl...</td>\n",
       "    </tr>\n",
       "    <tr>\n",
       "      <th>1</th>\n",
       "      <td>43CC3AF5A8D6430A3B572337A889AFE4</td>\n",
       "      <td>2</td>\n",
       "      <td>1</td>\n",
       "      <td>3</td>\n",
       "      <td>广州厨宝烤箱\\t世情薄,人情恶,雨送黄昏花易落,晓风干,泪痕\\t厦门酒店用品批发市场\\t我只...</td>\n",
       "    </tr>\n",
       "    <tr>\n",
       "      <th>2</th>\n",
       "      <td>E97654BFF5570E2CCD433EA6128EAC19</td>\n",
       "      <td>4</td>\n",
       "      <td>1</td>\n",
       "      <td>0</td>\n",
       "      <td>钻石之泪耳机\\t盘锦到沈阳\\t旅顺公交\\t辽宁阜新车牌\\tbaidu\\tk715\\tk716...</td>\n",
       "    </tr>\n",
       "    <tr>\n",
       "      <th>3</th>\n",
       "      <td>6931EFC26D229CCFCEA125D3F3C21E57</td>\n",
       "      <td>4</td>\n",
       "      <td>2</td>\n",
       "      <td>3</td>\n",
       "      <td>最受欢迎狗狗排行榜\\t舶怎么读\\t场景描 写范例\\t三维绘图软件\\t枣和酸奶能一起吃吗\\t好...</td>\n",
       "    </tr>\n",
       "    <tr>\n",
       "      <th>4</th>\n",
       "      <td>E780470C3BB0D340334BD08CDCC3C71A</td>\n",
       "      <td>2</td>\n",
       "      <td>2</td>\n",
       "      <td>4</td>\n",
       "      <td>干槽症能自愈吗\\t太太万岁叶舒心去没去美国\\t干槽症\\t右眼皮下面一直跳是怎么回事\\t麦当劳...</td>\n",
       "    </tr>\n",
       "  </tbody>\n",
       "</table>\n",
       "</div>"
      ],
      "text/plain": [
       "                                 ID  Age  Gender  Edu  \\\n",
       "0  22DD920316420BE2DF8D6EE651BA174B    1       1    4   \n",
       "1  43CC3AF5A8D6430A3B572337A889AFE4    2       1    3   \n",
       "2  E97654BFF5570E2CCD433EA6128EAC19    4       1    0   \n",
       "3  6931EFC26D229CCFCEA125D3F3C21E57    4       2    3   \n",
       "4  E780470C3BB0D340334BD08CDCC3C71A    2       2    4   \n",
       "\n",
       "                                          Query_list  \n",
       "0  柔和双沟\\t女生\\t中财网首页 财经\\thttp://pan.baidu.com/s/1pl...  \n",
       "1  广州厨宝烤箱\\t世情薄,人情恶,雨送黄昏花易落,晓风干,泪痕\\t厦门酒店用品批发市场\\t我只...  \n",
       "2  钻石之泪耳机\\t盘锦到沈阳\\t旅顺公交\\t辽宁阜新车牌\\tbaidu\\tk715\\tk716...  \n",
       "3  最受欢迎狗狗排行榜\\t舶怎么读\\t场景描 写范例\\t三维绘图软件\\t枣和酸奶能一起吃吗\\t好...  \n",
       "4  干槽症能自愈吗\\t太太万岁叶舒心去没去美国\\t干槽症\\t右眼皮下面一直跳是怎么回事\\t麦当劳...  "
      ]
     },
     "execution_count": 2,
     "metadata": {},
     "output_type": "execute_result"
    }
   ],
   "source": [
    "df_train.head()"
   ]
  },
  {
   "cell_type": "code",
   "execution_count": 3,
   "metadata": {},
   "outputs": [
    {
     "data": {
      "text/plain": [
       "ID            False\n",
       "Age           False\n",
       "Gender        False\n",
       "Edu           False\n",
       "Query_list    False\n",
       "dtype: bool"
      ]
     },
     "execution_count": 3,
     "metadata": {},
     "output_type": "execute_result"
    }
   ],
   "source": [
    "df_train.isnull().any()"
   ]
  },
  {
   "cell_type": "code",
   "execution_count": 4,
   "metadata": {},
   "outputs": [
    {
     "data": {
      "text/plain": [
       "ID            object\n",
       "Age            int64\n",
       "Gender         int64\n",
       "Edu            int64\n",
       "Query_list    object\n",
       "dtype: object"
      ]
     },
     "execution_count": 4,
     "metadata": {},
     "output_type": "execute_result"
    }
   ],
   "source": [
    "df_train.dtypes"
   ]
  },
  {
   "cell_type": "code",
   "execution_count": 5,
   "metadata": {},
   "outputs": [
    {
     "data": {
      "text/html": [
       "<div>\n",
       "<style scoped>\n",
       "    .dataframe tbody tr th:only-of-type {\n",
       "        vertical-align: middle;\n",
       "    }\n",
       "\n",
       "    .dataframe tbody tr th {\n",
       "        vertical-align: top;\n",
       "    }\n",
       "\n",
       "    .dataframe thead th {\n",
       "        text-align: right;\n",
       "    }\n",
       "</style>\n",
       "<table border=\"1\" class=\"dataframe\">\n",
       "  <thead>\n",
       "    <tr style=\"text-align: right;\">\n",
       "      <th></th>\n",
       "      <th>Age</th>\n",
       "      <th>Gender</th>\n",
       "      <th>Edu</th>\n",
       "    </tr>\n",
       "  </thead>\n",
       "  <tbody>\n",
       "    <tr>\n",
       "      <th>count</th>\n",
       "      <td>100000.000000</td>\n",
       "      <td>100000.000000</td>\n",
       "      <td>100000.000000</td>\n",
       "    </tr>\n",
       "    <tr>\n",
       "      <th>mean</th>\n",
       "      <td>2.082310</td>\n",
       "      <td>1.387140</td>\n",
       "      <td>3.903330</td>\n",
       "    </tr>\n",
       "    <tr>\n",
       "      <th>std</th>\n",
       "      <td>1.184276</td>\n",
       "      <td>0.529495</td>\n",
       "      <td>1.522205</td>\n",
       "    </tr>\n",
       "    <tr>\n",
       "      <th>min</th>\n",
       "      <td>0.000000</td>\n",
       "      <td>0.000000</td>\n",
       "      <td>0.000000</td>\n",
       "    </tr>\n",
       "    <tr>\n",
       "      <th>25%</th>\n",
       "      <td>1.000000</td>\n",
       "      <td>1.000000</td>\n",
       "      <td>3.000000</td>\n",
       "    </tr>\n",
       "    <tr>\n",
       "      <th>50%</th>\n",
       "      <td>2.000000</td>\n",
       "      <td>1.000000</td>\n",
       "      <td>4.000000</td>\n",
       "    </tr>\n",
       "    <tr>\n",
       "      <th>75%</th>\n",
       "      <td>3.000000</td>\n",
       "      <td>2.000000</td>\n",
       "      <td>5.000000</td>\n",
       "    </tr>\n",
       "    <tr>\n",
       "      <th>max</th>\n",
       "      <td>6.000000</td>\n",
       "      <td>2.000000</td>\n",
       "      <td>6.000000</td>\n",
       "    </tr>\n",
       "  </tbody>\n",
       "</table>\n",
       "</div>"
      ],
      "text/plain": [
       "                 Age         Gender            Edu\n",
       "count  100000.000000  100000.000000  100000.000000\n",
       "mean        2.082310       1.387140       3.903330\n",
       "std         1.184276       0.529495       1.522205\n",
       "min         0.000000       0.000000       0.000000\n",
       "25%         1.000000       1.000000       3.000000\n",
       "50%         2.000000       1.000000       4.000000\n",
       "75%         3.000000       2.000000       5.000000\n",
       "max         6.000000       2.000000       6.000000"
      ]
     },
     "execution_count": 5,
     "metadata": {},
     "output_type": "execute_result"
    }
   ],
   "source": [
    "df_train.describe()"
   ]
  },
  {
   "cell_type": "code",
   "execution_count": 6,
   "metadata": {},
   "outputs": [
    {
     "data": {
      "text/plain": [
       "'pan.baidu.com/s/1esytqsi\\tpan.baidu.com/s/1mhbyjko\\tpan.baidu.com/s/1jicqk7o\\tpan.baidu.com/s/1qyvm8qw\\tpan.baidu.com/s/1kuziaxd\\tpan.baidu.com/s/1nv50c2h\\tpan.baidu.com/s/1kvi5olp\\tpan.baidu.com/s/1dfg7hjz\\tpan.baidu.com/s/1nvrgidb\\tpan.baidu.com/s/1nvvyabr\\tpan.baidu.com/s/1ji9axqq\\tpan.baidu.com/s/1qynd56w\\tpan.baidu.com/s/1hsdbf6k\\tpan.baidu.com/s/1o86kaii\\tpan.baidu.com/s/1bojbiyr\\tpan.baidu.com/s/1midafew\\tpan.baidu.com/s/1pkys2kb\\tpan.baidu.com/s/1nuxbyb3\\tpan.baidu.com/s/1b0hvku\\tpan.baidu.com/s/1kudx1yn\\tpan.baidu.com/s/1slrlvyp\\tpan.baidu.com/s/1miqayfu\\tpan.baidu.com/s/1hrkvdus\\tpan.baidu.com/s/1ku48yj9\\tpan.baidu.com/s/1ddzwcox\\tpan.baidu.com/s/1nuccqr3\\tpan.baidu.com/s/1bpr74f1\\tpan.baidu.com/s/1jijk3h0\\tpan.baidu.com/s/1ktvsjmf\\tpan.baidu.com/s/1pklw6ar\\tpan.baidu.com/s/1bymckq\\tpan.baidu.com/s/1slvmrtr\\tpan.baidu.com/s/1mhumfh2\\tpan.baidu.com/s/1qyal9bi\\tpan.baidu.com/s/1midjjry\\tpan.baidu.com/s/1kubuscj\\tpan.baidu.com/s/1gfhmkhd\\tpan.baidu.com/s/1pksniz5\\tpan.baidu.com/s/1de2ctcl\\tpan.baidu.com/s/1kvhpnzl\\tpan.baidu.com/s/1hspolcc\\tpan.baidu.com/s/1skmd8uh\\tpan.baidu.com/s/1c2cehac\\tpan.baidu.com/s/1nvrlxst\\tpan.baidu.com/s/1o7uryuq\\tpan.baidu.com/s/1bp5fttt\\tan.baidu.com/s/1bcqo94\\tpan.baidu.com/s/1bhcez8\\tpan.baidu.com/s/1jicsvb4\\tpan.baidu.com/s/1bpn1wq\\tpan.baidu.com/s/1kudxwx5\\tpan.baidu.com/s/1kuzhlnp\\tpan.baidu.com/s/1hr3zh56\\tpan.baidu.com/s/1ery6que\\tpan.baidu.com/s/1gf5cv1t\\tpan.baidu.com/s/1df3fbxz\\tpan.baidu.com/s/1gf4yabt\\tpan.baidu.com/s/1bcsvyq\\tpan.baidu.com/s/1mgo0wik\\tpan.baidu.com/s/1dfnrgbn\\tpan.baidu.com/s/1dfc3rfn\\tpan.baidu.com/s/1hr3w6sc\\tpan.baidu.com/s/1jivyano\\tpan.baidu.com/s/1dergan3\\tpan.baidu.com/s/1qyitobm\\tpan.baidu.com/s/1qyink0s\\tpan.baidu.com/s/1qydzpgk1002pan.baidu.co\\tpan.baidu.com/s/1hs8yo7m\\tpan.baidu.com/s/1minthv6\\tpan.baidu.com/s/1esk5srw\\tpan.baidu.com/s/1hr6hhfu\\tpan.baidu.com/s/1skdllcx\\tpan.baidu.com/s/1bo4isdp\\tpan.baidu.com/s/1nvas725\\tpan.baidu.com/s/1ge4cdfx\\tpan.baidu.com/s/1qyrfube\\tpan.baidu.com/s/1jijtzzg\\tpan.baidu.com/s/1qydzpgk\\tpan.baidu.com/s/1c12eugw\\tpan.baidu.com/s/1qykuvfa\\tpan.baidu.com/s/1c1gz0t6\\tpan.baidu.com/s/1o7bld3s\\tpan.baidu.com/s/1plms6nd\\tpan.baidu.com/s/1qygpme4\\tpan.baidu.com/s/1qxe7nis\\tpan.baidu.com/s/1qygt2j6\\tpan.baidu.com/s/1hsc5wly\\tpan.baidu.com/s/1o88g2a2\\tpan.baidu.com/s/1kvturp1\\tpan.baidu.com/s/1essohno\\tpan.baidu.com/s/1pluximn\\tpan.baidu.com/s/1df9emc5\\tpan.baidu.com/s/1ernf0hk\\tpan.baidu.com/s/1c2fn88s\\tpan.baidu.com/s/1plq4qcb\\tpan.baidu.com/s/1derl0sx\\tpan.baidu.com/s/1bn2i1p1\\tpan.baidu.com/s/1bpjspef\\tpan.baidu.com/s/1bpblp8n\\tpan.baidu.com/s/1o8s82xk\\tpan.baidu.com/s/1bp1hnzd\\tpan.baidu.com/s/1dfx7o6t\\tpan.baidu.com/s/1o8ztlfs\\tpan.baidu.com/s/1mhvam04\\tpan.baidu.com/s/1df0rq1b\\tpan.baidu.com/s/1bjjzto\\tpan.baidu.com/s/1o8tuopc\\tan.baidu.com/s/1nvxtll3\\tpan.baidu.com/s/1jittqey\\tpan.baidu.com/s/1slenyad\\tpan.baidu.com/s/1esjzsrc\\tpan.baidu.com/s/1c2lyfnm\\tpan.baidu.com/s/1sknzg7r'"
      ]
     },
     "execution_count": 6,
     "metadata": {},
     "output_type": "execute_result"
    }
   ],
   "source": [
    "df_train.loc[32620, 'Query_list']"
   ]
  },
  {
   "cell_type": "markdown",
   "metadata": {},
   "source": [
    "##### 正则表达式去掉 http和www.等"
   ]
  },
  {
   "cell_type": "code",
   "execution_count": 7,
   "metadata": {},
   "outputs": [],
   "source": [
    "import re\n",
    "\n",
    "# 创建正则表达式函数\n",
    "def remove_noise(document):\n",
    "    noise_pattern = re.compile(\"|\".join([\"http\\S+\", \":http\\S+\", \"ｗｗｗ.+?\\t\",'\\d+\\@\\S+']))\n",
    "    clean_text = re.sub(noise_pattern, \"\", document)\n",
    "    return clean_text.strip()\n",
    "\n",
    "# 使用创建的remove_noise函数,对Query_list列进行数据清洗\n",
    "df_train['Query_list'] = df_train['Query_list'].map(remove_noise)"
   ]
  },
  {
   "cell_type": "code",
   "execution_count": 8,
   "metadata": {},
   "outputs": [
    {
     "data": {
      "text/html": [
       "<div>\n",
       "<style scoped>\n",
       "    .dataframe tbody tr th:only-of-type {\n",
       "        vertical-align: middle;\n",
       "    }\n",
       "\n",
       "    .dataframe tbody tr th {\n",
       "        vertical-align: top;\n",
       "    }\n",
       "\n",
       "    .dataframe thead th {\n",
       "        text-align: right;\n",
       "    }\n",
       "</style>\n",
       "<table border=\"1\" class=\"dataframe\">\n",
       "  <thead>\n",
       "    <tr style=\"text-align: right;\">\n",
       "      <th></th>\n",
       "      <th>ID</th>\n",
       "      <th>Age</th>\n",
       "      <th>Gender</th>\n",
       "      <th>Edu</th>\n",
       "      <th>Query_list</th>\n",
       "    </tr>\n",
       "  </thead>\n",
       "  <tbody>\n",
       "    <tr>\n",
       "      <th>0</th>\n",
       "      <td>22DD920316420BE2DF8D6EE651BA174B</td>\n",
       "      <td>1</td>\n",
       "      <td>1</td>\n",
       "      <td>4</td>\n",
       "      <td>柔和双沟\\t女生\\t中财网首页 财经\\t\\t周公解梦大全查询2345\\t曹云金再讽郭德纲\\t...</td>\n",
       "    </tr>\n",
       "    <tr>\n",
       "      <th>1</th>\n",
       "      <td>43CC3AF5A8D6430A3B572337A889AFE4</td>\n",
       "      <td>2</td>\n",
       "      <td>1</td>\n",
       "      <td>3</td>\n",
       "      <td>广州厨宝烤箱\\t世情薄,人情恶,雨送黄昏花易落,晓风干,泪痕\\t厦门酒店用品批发市场\\t我只...</td>\n",
       "    </tr>\n",
       "    <tr>\n",
       "      <th>2</th>\n",
       "      <td>E97654BFF5570E2CCD433EA6128EAC19</td>\n",
       "      <td>4</td>\n",
       "      <td>1</td>\n",
       "      <td>0</td>\n",
       "      <td>钻石之泪耳机\\t盘锦到沈阳\\t旅顺公交\\t辽宁阜新车牌\\tbaidu\\tk715\\tk716...</td>\n",
       "    </tr>\n",
       "    <tr>\n",
       "      <th>3</th>\n",
       "      <td>6931EFC26D229CCFCEA125D3F3C21E57</td>\n",
       "      <td>4</td>\n",
       "      <td>2</td>\n",
       "      <td>3</td>\n",
       "      <td>最受欢迎狗狗排行榜\\t舶怎么读\\t场景描 写范例\\t三维绘图软件\\t枣和酸奶能一起吃吗\\t好...</td>\n",
       "    </tr>\n",
       "    <tr>\n",
       "      <th>4</th>\n",
       "      <td>E780470C3BB0D340334BD08CDCC3C71A</td>\n",
       "      <td>2</td>\n",
       "      <td>2</td>\n",
       "      <td>4</td>\n",
       "      <td>干槽症能自愈吗\\t太太万岁叶舒心去没去美国\\t干槽症\\t右眼皮下面一直跳是怎么回事\\t麦当劳...</td>\n",
       "    </tr>\n",
       "  </tbody>\n",
       "</table>\n",
       "</div>"
      ],
      "text/plain": [
       "                                 ID  Age  Gender  Edu  \\\n",
       "0  22DD920316420BE2DF8D6EE651BA174B    1       1    4   \n",
       "1  43CC3AF5A8D6430A3B572337A889AFE4    2       1    3   \n",
       "2  E97654BFF5570E2CCD433EA6128EAC19    4       1    0   \n",
       "3  6931EFC26D229CCFCEA125D3F3C21E57    4       2    3   \n",
       "4  E780470C3BB0D340334BD08CDCC3C71A    2       2    4   \n",
       "\n",
       "                                          Query_list  \n",
       "0  柔和双沟\\t女生\\t中财网首页 财经\\t\\t周公解梦大全查询2345\\t曹云金再讽郭德纲\\t...  \n",
       "1  广州厨宝烤箱\\t世情薄,人情恶,雨送黄昏花易落,晓风干,泪痕\\t厦门酒店用品批发市场\\t我只...  \n",
       "2  钻石之泪耳机\\t盘锦到沈阳\\t旅顺公交\\t辽宁阜新车牌\\tbaidu\\tk715\\tk716...  \n",
       "3  最受欢迎狗狗排行榜\\t舶怎么读\\t场景描 写范例\\t三维绘图软件\\t枣和酸奶能一起吃吗\\t好...  \n",
       "4  干槽症能自愈吗\\t太太万岁叶舒心去没去美国\\t干槽症\\t右眼皮下面一直跳是怎么回事\\t麦当劳...  "
      ]
     },
     "execution_count": 8,
     "metadata": {},
     "output_type": "execute_result"
    }
   ],
   "source": [
    "df_train.head()"
   ]
  },
  {
   "cell_type": "code",
   "execution_count": 9,
   "metadata": {},
   "outputs": [
    {
     "data": {
      "text/plain": [
       "ID            False\n",
       "Age           False\n",
       "Gender        False\n",
       "Edu           False\n",
       "Query_list    False\n",
       "dtype: bool"
      ]
     },
     "execution_count": 9,
     "metadata": {},
     "output_type": "execute_result"
    }
   ],
   "source": [
    "df_train.isnull().any()"
   ]
  },
  {
   "cell_type": "markdown",
   "metadata": {},
   "source": [
    "##### 准备分词"
   ]
  },
  {
   "cell_type": "code",
   "execution_count": 10,
   "metadata": {},
   "outputs": [],
   "source": [
    "import jieba"
   ]
  },
  {
   "cell_type": "code",
   "execution_count": 11,
   "metadata": {},
   "outputs": [],
   "source": [
    "str_test = '财经\\thttp://pan.baidu.com/s/1plpjtn9\\t周公解梦大全查询2345\\thttps://yunpan.cn/ocsqfgtfya2ewj'"
   ]
  },
  {
   "cell_type": "code",
   "execution_count": 12,
   "metadata": {},
   "outputs": [
    {
     "name": "stderr",
     "output_type": "stream",
     "text": [
      "Building prefix dict from the default dictionary ...\n",
      "Loading model from cache C:\\Users\\LCG\\AppData\\Local\\Temp\\jieba.cache\n",
      "Loading model cost 0.482 seconds.\n",
      "Prefix dict has been built successfully.\n"
     ]
    },
    {
     "name": "stdout",
     "output_type": "stream",
     "text": [
      "['财经', '\\t', 'http', ':', '/', '/', 'pan', '.', 'baidu', '.', 'com', '/', 's', '/', '1plpjtn9', '\\t', '周公', '解梦', '大全', '查询', '2345', '\\t', 'https', ':', '/', '/', 'yunpan', '.', 'cn', '/', 'ocsqfgtfya2ewj']\n"
     ]
    }
   ],
   "source": [
    "print(jieba.lcut(str_test))"
   ]
  },
  {
   "cell_type": "markdown",
   "metadata": {},
   "source": [
    "##### 去停用词"
   ]
  },
  {
   "cell_type": "code",
   "execution_count": 13,
   "metadata": {},
   "outputs": [],
   "source": [
    "path_stopword = './data/hit_stopwords.txt'"
   ]
  },
  {
   "cell_type": "code",
   "execution_count": 14,
   "metadata": {},
   "outputs": [],
   "source": [
    "stopwords=pd.read_csv(path_stopword,index_col=False,quoting=3,sep=\"\\t\",names=['stopword'], encoding='utf-8')"
   ]
  },
  {
   "cell_type": "code",
   "execution_count": 15,
   "metadata": {},
   "outputs": [],
   "source": [
    "stopwords=stopwords['stopword'].values"
   ]
  },
  {
   "cell_type": "code",
   "execution_count": 16,
   "metadata": {},
   "outputs": [],
   "source": [
    "def preprocess_text(content_lines, sentences, category):\n",
    "    for line in content_lines:\n",
    "        try:\n",
    "            segs=jieba.lcut(line)\n",
    "            segs = list(filter(lambda x:len(x)>1, segs)) #没有解析出来的新闻过滤掉\n",
    "            segs = list(filter(lambda x:x not in stopwords, segs)) #把停用词过滤掉\n",
    "            sentences.append((\" \".join(segs), category))\n",
    "        except Exception as e:\n",
    "            print(line)\n",
    "            continue"
   ]
  },
  {
   "cell_type": "code",
   "execution_count": 17,
   "metadata": {},
   "outputs": [],
   "source": [
    "def process_df_text(content_lines):       \n",
    "    segs=jieba.lcut(content_lines)\n",
    "    segs = list(filter(lambda x:len(x)>1, segs)) #没有解析出来的新闻过滤掉\n",
    "    segs = list(filter(lambda x:x not in stopwords, segs)) #把停用词过滤掉\n",
    "    return (\" \".join(segs))"
   ]
  },
  {
   "cell_type": "code",
   "execution_count": null,
   "metadata": {},
   "outputs": [],
   "source": [
    "df_train['Query_list'] = df_train['Query_list'].map(process_df_text)"
   ]
  },
  {
   "cell_type": "markdown",
   "metadata": {},
   "source": [
    "##### 把处理后的Train数据写入文件"
   ]
  },
  {
   "cell_type": "code",
   "execution_count": null,
   "metadata": {},
   "outputs": [],
   "source": [
    "file_proce_path = './data/Pro_Train_Data.csv'"
   ]
  },
  {
   "cell_type": "code",
   "execution_count": null,
   "metadata": {},
   "outputs": [],
   "source": [
    "df_train.to_csv(file_proce_path,encoding='utf-8',index=False)"
   ]
  },
  {
   "cell_type": "markdown",
   "metadata": {},
   "source": [
    "### 数据按照标签处理"
   ]
  },
  {
   "cell_type": "markdown",
   "metadata": {},
   "source": [
    "#### 1、按Age处理"
   ]
  },
  {
   "cell_type": "code",
   "execution_count": 19,
   "metadata": {},
   "outputs": [
    {
     "data": {
      "text/html": [
       "<div>\n",
       "<style scoped>\n",
       "    .dataframe tbody tr th:only-of-type {\n",
       "        vertical-align: middle;\n",
       "    }\n",
       "\n",
       "    .dataframe tbody tr th {\n",
       "        vertical-align: top;\n",
       "    }\n",
       "\n",
       "    .dataframe thead th {\n",
       "        text-align: right;\n",
       "    }\n",
       "</style>\n",
       "<table border=\"1\" class=\"dataframe\">\n",
       "  <thead>\n",
       "    <tr style=\"text-align: right;\">\n",
       "      <th></th>\n",
       "      <th>ID</th>\n",
       "      <th>Age</th>\n",
       "      <th>Gender</th>\n",
       "      <th>Edu</th>\n",
       "      <th>Query_list</th>\n",
       "    </tr>\n",
       "  </thead>\n",
       "  <tbody>\n",
       "    <tr>\n",
       "      <th>0</th>\n",
       "      <td>22DD920316420BE2DF8D6EE651BA174B</td>\n",
       "      <td>1</td>\n",
       "      <td>1</td>\n",
       "      <td>4</td>\n",
       "      <td>柔和 双沟 女生 中财网 首页 财经 周公 解梦 大全 查询 2345 曹云金 再讽 郭德纲...</td>\n",
       "    </tr>\n",
       "    <tr>\n",
       "      <th>1</th>\n",
       "      <td>43CC3AF5A8D6430A3B572337A889AFE4</td>\n",
       "      <td>2</td>\n",
       "      <td>1</td>\n",
       "      <td>3</td>\n",
       "      <td>广州 厨宝 烤箱 世情 人情 雨送 黄昏 花易落 风干 泪痕 厦门 酒店用品 批发市场 不想...</td>\n",
       "    </tr>\n",
       "    <tr>\n",
       "      <th>2</th>\n",
       "      <td>E97654BFF5570E2CCD433EA6128EAC19</td>\n",
       "      <td>4</td>\n",
       "      <td>1</td>\n",
       "      <td>0</td>\n",
       "      <td>钻石 之泪 耳机 盘锦 沈阳 旅顺 公交 辽宁 阜新 车牌 baidu k715 k716 ...</td>\n",
       "    </tr>\n",
       "    <tr>\n",
       "      <th>3</th>\n",
       "      <td>6931EFC26D229CCFCEA125D3F3C21E57</td>\n",
       "      <td>4</td>\n",
       "      <td>2</td>\n",
       "      <td>3</td>\n",
       "      <td>受欢迎 狗狗 排行榜 场景 范例 三维 绘图 软件 酸奶 一起 壮观 衣服 网站 动漫 绘图...</td>\n",
       "    </tr>\n",
       "    <tr>\n",
       "      <th>4</th>\n",
       "      <td>E780470C3BB0D340334BD08CDCC3C71A</td>\n",
       "      <td>2</td>\n",
       "      <td>2</td>\n",
       "      <td>4</td>\n",
       "      <td>干槽症 自愈 太太 万岁 舒心 美国 干槽症 眼皮 下面 怎么回事 麦当劳 旋风 勺子 吉林...</td>\n",
       "    </tr>\n",
       "  </tbody>\n",
       "</table>\n",
       "</div>"
      ],
      "text/plain": [
       "                                 ID  Age  Gender  Edu  \\\n",
       "0  22DD920316420BE2DF8D6EE651BA174B    1       1    4   \n",
       "1  43CC3AF5A8D6430A3B572337A889AFE4    2       1    3   \n",
       "2  E97654BFF5570E2CCD433EA6128EAC19    4       1    0   \n",
       "3  6931EFC26D229CCFCEA125D3F3C21E57    4       2    3   \n",
       "4  E780470C3BB0D340334BD08CDCC3C71A    2       2    4   \n",
       "\n",
       "                                          Query_list  \n",
       "0  柔和 双沟 女生 中财网 首页 财经 周公 解梦 大全 查询 2345 曹云金 再讽 郭德纲...  \n",
       "1  广州 厨宝 烤箱 世情 人情 雨送 黄昏 花易落 风干 泪痕 厦门 酒店用品 批发市场 不想...  \n",
       "2  钻石 之泪 耳机 盘锦 沈阳 旅顺 公交 辽宁 阜新 车牌 baidu k715 k716 ...  \n",
       "3  受欢迎 狗狗 排行榜 场景 范例 三维 绘图 软件 酸奶 一起 壮观 衣服 网站 动漫 绘图...  \n",
       "4  干槽症 自愈 太太 万岁 舒心 美国 干槽症 眼皮 下面 怎么回事 麦当劳 旋风 勺子 吉林...  "
      ]
     },
     "execution_count": 19,
     "metadata": {},
     "output_type": "execute_result"
    }
   ],
   "source": [
    "df_train.head()"
   ]
  },
  {
   "cell_type": "code",
   "execution_count": 20,
   "metadata": {},
   "outputs": [
    {
     "data": {
      "text/plain": [
       "1    38996\n",
       "2    26744\n",
       "3    18529\n",
       "4    10654\n",
       "5     2922\n",
       "0     1666\n",
       "6      489\n",
       "Name: Age, dtype: int64"
      ]
     },
     "execution_count": 20,
     "metadata": {},
     "output_type": "execute_result"
    }
   ],
   "source": [
    "df_train['Age'].value_counts()"
   ]
  },
  {
   "cell_type": "code",
   "execution_count": 21,
   "metadata": {},
   "outputs": [],
   "source": [
    "df_train_Age = df_train[['Age' , 'Query_list']]"
   ]
  },
  {
   "cell_type": "code",
   "execution_count": 22,
   "metadata": {},
   "outputs": [
    {
     "data": {
      "text/html": [
       "<div>\n",
       "<style scoped>\n",
       "    .dataframe tbody tr th:only-of-type {\n",
       "        vertical-align: middle;\n",
       "    }\n",
       "\n",
       "    .dataframe tbody tr th {\n",
       "        vertical-align: top;\n",
       "    }\n",
       "\n",
       "    .dataframe thead th {\n",
       "        text-align: right;\n",
       "    }\n",
       "</style>\n",
       "<table border=\"1\" class=\"dataframe\">\n",
       "  <thead>\n",
       "    <tr style=\"text-align: right;\">\n",
       "      <th></th>\n",
       "      <th>Age</th>\n",
       "      <th>Query_list</th>\n",
       "    </tr>\n",
       "  </thead>\n",
       "  <tbody>\n",
       "    <tr>\n",
       "      <th>0</th>\n",
       "      <td>1</td>\n",
       "      <td>柔和 双沟 女生 中财网 首页 财经 周公 解梦 大全 查询 2345 曹云金 再讽 郭德纲...</td>\n",
       "    </tr>\n",
       "    <tr>\n",
       "      <th>1</th>\n",
       "      <td>2</td>\n",
       "      <td>广州 厨宝 烤箱 世情 人情 雨送 黄昏 花易落 风干 泪痕 厦门 酒店用品 批发市场 不想...</td>\n",
       "    </tr>\n",
       "    <tr>\n",
       "      <th>2</th>\n",
       "      <td>4</td>\n",
       "      <td>钻石 之泪 耳机 盘锦 沈阳 旅顺 公交 辽宁 阜新 车牌 baidu k715 k716 ...</td>\n",
       "    </tr>\n",
       "    <tr>\n",
       "      <th>3</th>\n",
       "      <td>4</td>\n",
       "      <td>受欢迎 狗狗 排行榜 场景 范例 三维 绘图 软件 酸奶 一起 壮观 衣服 网站 动漫 绘图...</td>\n",
       "    </tr>\n",
       "    <tr>\n",
       "      <th>4</th>\n",
       "      <td>2</td>\n",
       "      <td>干槽症 自愈 太太 万岁 舒心 美国 干槽症 眼皮 下面 怎么回事 麦当劳 旋风 勺子 吉林...</td>\n",
       "    </tr>\n",
       "  </tbody>\n",
       "</table>\n",
       "</div>"
      ],
      "text/plain": [
       "   Age                                         Query_list\n",
       "0    1  柔和 双沟 女生 中财网 首页 财经 周公 解梦 大全 查询 2345 曹云金 再讽 郭德纲...\n",
       "1    2  广州 厨宝 烤箱 世情 人情 雨送 黄昏 花易落 风干 泪痕 厦门 酒店用品 批发市场 不想...\n",
       "2    4  钻石 之泪 耳机 盘锦 沈阳 旅顺 公交 辽宁 阜新 车牌 baidu k715 k716 ...\n",
       "3    4  受欢迎 狗狗 排行榜 场景 范例 三维 绘图 软件 酸奶 一起 壮观 衣服 网站 动漫 绘图...\n",
       "4    2  干槽症 自愈 太太 万岁 舒心 美国 干槽症 眼皮 下面 怎么回事 麦当劳 旋风 勺子 吉林..."
      ]
     },
     "execution_count": 22,
     "metadata": {},
     "output_type": "execute_result"
    }
   ],
   "source": [
    "df_train_Age.head()"
   ]
  },
  {
   "cell_type": "code",
   "execution_count": 23,
   "metadata": {},
   "outputs": [
    {
     "data": {
      "text/plain": [
       "1    38996\n",
       "2    26744\n",
       "3    18529\n",
       "4    10654\n",
       "5     2922\n",
       "0     1666\n",
       "6      489\n",
       "Name: Age, dtype: int64"
      ]
     },
     "execution_count": 23,
     "metadata": {},
     "output_type": "execute_result"
    }
   ],
   "source": [
    "df_train_Age['Age'].value_counts()"
   ]
  },
  {
   "cell_type": "markdown",
   "metadata": {},
   "source": [
    "##### 全部数据用来做训练"
   ]
  },
  {
   "cell_type": "markdown",
   "metadata": {},
   "source": [
    "###### 首先切分数据"
   ]
  },
  {
   "cell_type": "code",
   "execution_count": 24,
   "metadata": {},
   "outputs": [],
   "source": [
    "from sklearn.model_selection import train_test_split\n",
    "\n",
    "X_Age = df_train_Age['Query_list'].values.tolist()\n",
    "Y_Age = df_train_Age['Age'].values.tolist()"
   ]
  },
  {
   "cell_type": "markdown",
   "metadata": {},
   "source": [
    "###### 使用词向量NB模型"
   ]
  },
  {
   "cell_type": "code",
   "execution_count": 25,
   "metadata": {},
   "outputs": [],
   "source": [
    "from sklearn.feature_extraction.text import CountVectorizer\n",
    "\n",
    "# 字符级装换为词向量\n",
    "vec = CountVectorizer(\n",
    "    ngram_range=(1,4) , \n",
    "    analyzer = 'word' ,    # 可调的参数\n",
    "    max_features = 20000 ,  # 可调的参数\n",
    ")"
   ]
  },
  {
   "cell_type": "code",
   "execution_count": 26,
   "metadata": {},
   "outputs": [],
   "source": [
    "from sklearn.naive_bayes import MultinomialNB\n",
    "from sklearn.model_selection import StratifiedKFold\n",
    "import numpy as np"
   ]
  },
  {
   "cell_type": "code",
   "execution_count": 27,
   "metadata": {},
   "outputs": [],
   "source": [
    "def stratifiedkfold_cv(x , y , vec_word , clf , shuffle = True , n_folds = 5):\n",
    "    stratifiedk_fold = StratifiedKFold(n_splits = n_folds , shuffle = shuffle)\n",
    "    history_score = []\n",
    "    vec_word.fit(x)\n",
    "    \n",
    "    for train_index , test_index in stratifiedk_fold.split(x,y):\n",
    "        X_train , X_test = x[train_index] , x[test_index]\n",
    "        y_train , y_test = y[train_index] , y[test_index]\n",
    "        clf.fit(vec_word.transform(X_train) , y_train)\n",
    "        history_score.append(clf.score(vec_word.transform(X_test) , y_test))\n",
    "        \n",
    "    return history_score\n",
    "    "
   ]
  },
  {
   "cell_type": "code",
   "execution_count": null,
   "metadata": {},
   "outputs": [],
   "source": [
    "classifier = MultinomialNB()\n",
    "\n",
    "history_score = stratifiedkfold_cv( np.array(X_Age) , np.array(Y_Age) , vec , classifier ) "
   ]
  },
  {
   "cell_type": "code",
   "execution_count": null,
   "metadata": {},
   "outputs": [],
   "source": [
    "print(history_score)"
   ]
  },
  {
   "cell_type": "code",
   "execution_count": 75,
   "metadata": {},
   "outputs": [
    {
     "name": "stdout",
     "output_type": "stream",
     "text": [
      "max_features = 20000\n",
      "[0.50875, 0.50375, 0.50635, 0.50655, 0.5047]\n"
     ]
    }
   ],
   "source": [
    "print('max_features = 20000')\n",
    "print( history_score)"
   ]
  },
  {
   "cell_type": "code",
   "execution_count": null,
   "metadata": {},
   "outputs": [],
   "source": [
    "print('ngram_range = (1,4)')\n",
    "print('max_features = 20000')\n",
    "print('------------------------')\n",
    "print( history_score)"
   ]
  },
  {
   "cell_type": "markdown",
   "metadata": {},
   "source": [
    "#### 以上对Age标签的NB模型处理。当改变vec的参数时，可以提高性能：\n",
    "- 当vec是默认参数时：（即analyzer = 'word' ,max_features = 4000 ,时）-->[0.4767, 0.47915, 0.4777, 0.4803, 0.4815]\n",
    "- 当vec参数为       （analyzer = 'word' ,max_features = 20000时） -->[0.50875, 0.50375, 0.50635, 0.50655, 0.5047]\n",
    "- 当vec参数为(ngram_range=(1,4) ,analyzer = 'word' , max_features = 20000时）-->    "
   ]
  },
  {
   "cell_type": "code",
   "execution_count": null,
   "metadata": {},
   "outputs": [],
   "source": []
  }
 ],
 "metadata": {
  "kernelspec": {
   "display_name": "Python 3",
   "language": "python",
   "name": "python3"
  },
  "language_info": {
   "codemirror_mode": {
    "name": "ipython",
    "version": 3
   },
   "file_extension": ".py",
   "mimetype": "text/x-python",
   "name": "python",
   "nbconvert_exporter": "python",
   "pygments_lexer": "ipython3",
   "version": "3.8.5"
  }
 },
 "nbformat": 4,
 "nbformat_minor": 4
}
