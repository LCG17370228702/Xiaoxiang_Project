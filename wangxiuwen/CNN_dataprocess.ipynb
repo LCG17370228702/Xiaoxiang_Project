{
 "cells": [
  {
   "cell_type": "markdown",
   "metadata": {},
   "source": [
    "## 引入模型"
   ]
  },
  {
   "cell_type": "markdown",
   "metadata": {},
   "source": [
    "## 建立词表"
   ]
  },
  {
   "cell_type": "code",
   "execution_count": 1,
   "metadata": {
    "collapsed": true
   },
   "outputs": [],
   "source": [
    "file_proce_path = './Data/VersonData_2/traindf.csv'"
   ]
  },
  {
   "cell_type": "code",
   "execution_count": 2,
   "metadata": {
    "collapsed": true
   },
   "outputs": [],
   "source": [
    "import pandas as pd"
   ]
  },
  {
   "cell_type": "code",
   "execution_count": 3,
   "metadata": {},
   "outputs": [
    {
     "data": {
      "text/html": [
       "<div>\n",
       "<style>\n",
       "    .dataframe thead tr:only-child th {\n",
       "        text-align: right;\n",
       "    }\n",
       "\n",
       "    .dataframe thead th {\n",
       "        text-align: left;\n",
       "    }\n",
       "\n",
       "    .dataframe tbody tr th {\n",
       "        vertical-align: top;\n",
       "    }\n",
       "</style>\n",
       "<table border=\"1\" class=\"dataframe\">\n",
       "  <thead>\n",
       "    <tr style=\"text-align: right;\">\n",
       "      <th></th>\n",
       "      <th>ID</th>\n",
       "      <th>Age</th>\n",
       "      <th>Gender</th>\n",
       "      <th>Education</th>\n",
       "      <th>Query List</th>\n",
       "    </tr>\n",
       "  </thead>\n",
       "  <tbody>\n",
       "    <tr>\n",
       "      <th>0</th>\n",
       "      <td>22DD920316420BE2DF8D6EE651BA174B</td>\n",
       "      <td>1</td>\n",
       "      <td>1</td>\n",
       "      <td>4</td>\n",
       "      <td>柔和 双沟 女生 中财网 首页 财经 周公 解梦 大全 查询 2345 曹云金 再讽 郭德纲...</td>\n",
       "    </tr>\n",
       "    <tr>\n",
       "      <th>1</th>\n",
       "      <td>43CC3AF5A8D6430A3B572337A889AFE4</td>\n",
       "      <td>2</td>\n",
       "      <td>1</td>\n",
       "      <td>3</td>\n",
       "      <td>广州 厨宝 烤箱 世情 人情 雨送 黄昏 花易落 风干 泪痕 厦门 酒店用品 批发市场 不想...</td>\n",
       "    </tr>\n",
       "    <tr>\n",
       "      <th>2</th>\n",
       "      <td>E97654BFF5570E2CCD433EA6128EAC19</td>\n",
       "      <td>4</td>\n",
       "      <td>1</td>\n",
       "      <td>0</td>\n",
       "      <td>钻石 之泪 耳机 盘锦 沈阳 旅顺 公交 辽宁 阜新 车牌 baidu k715 k716 ...</td>\n",
       "    </tr>\n",
       "    <tr>\n",
       "      <th>3</th>\n",
       "      <td>6931EFC26D229CCFCEA125D3F3C21E57</td>\n",
       "      <td>4</td>\n",
       "      <td>2</td>\n",
       "      <td>3</td>\n",
       "      <td>受欢迎 狗狗 排行榜 场景 范例 三维 绘图 软件 酸奶 壮观 衣服 网站 动漫 绘图 软件...</td>\n",
       "    </tr>\n",
       "    <tr>\n",
       "      <th>4</th>\n",
       "      <td>E780470C3BB0D340334BD08CDCC3C71A</td>\n",
       "      <td>2</td>\n",
       "      <td>2</td>\n",
       "      <td>4</td>\n",
       "      <td>干槽症 自愈 太太 万岁 舒心 美国 干槽症 眼皮 怎么回事 麦当劳 旋风 勺子 吉林市 鹿...</td>\n",
       "    </tr>\n",
       "  </tbody>\n",
       "</table>\n",
       "</div>"
      ],
      "text/plain": [
       "                                 ID  Age  Gender  Education  \\\n",
       "0  22DD920316420BE2DF8D6EE651BA174B    1       1          4   \n",
       "1  43CC3AF5A8D6430A3B572337A889AFE4    2       1          3   \n",
       "2  E97654BFF5570E2CCD433EA6128EAC19    4       1          0   \n",
       "3  6931EFC26D229CCFCEA125D3F3C21E57    4       2          3   \n",
       "4  E780470C3BB0D340334BD08CDCC3C71A    2       2          4   \n",
       "\n",
       "                                          Query List  \n",
       "0  柔和 双沟 女生 中财网 首页 财经 周公 解梦 大全 查询 2345 曹云金 再讽 郭德纲...  \n",
       "1  广州 厨宝 烤箱 世情 人情 雨送 黄昏 花易落 风干 泪痕 厦门 酒店用品 批发市场 不想...  \n",
       "2  钻石 之泪 耳机 盘锦 沈阳 旅顺 公交 辽宁 阜新 车牌 baidu k715 k716 ...  \n",
       "3  受欢迎 狗狗 排行榜 场景 范例 三维 绘图 软件 酸奶 壮观 衣服 网站 动漫 绘图 软件...  \n",
       "4  干槽症 自愈 太太 万岁 舒心 美国 干槽症 眼皮 怎么回事 麦当劳 旋风 勺子 吉林市 鹿...  "
      ]
     },
     "execution_count": 3,
     "metadata": {},
     "output_type": "execute_result"
    }
   ],
   "source": [
    "traindf = pd.read_csv(file_proce_path,encoding='utf-8')\n",
    "traindf.head()"
   ]
  },
  {
   "cell_type": "markdown",
   "metadata": {},
   "source": [
    "### age词表建立"
   ]
  },
  {
   "cell_type": "code",
   "execution_count": 4,
   "metadata": {
    "collapsed": true
   },
   "outputs": [],
   "source": [
    "agedf= traindf[['Age','Query List']]\n",
    "agedf = agedf[agedf['Age']!=0]"
   ]
  },
  {
   "cell_type": "code",
   "execution_count": 5,
   "metadata": {},
   "outputs": [
    {
     "data": {
      "text/html": [
       "<div>\n",
       "<style>\n",
       "    .dataframe thead tr:only-child th {\n",
       "        text-align: right;\n",
       "    }\n",
       "\n",
       "    .dataframe thead th {\n",
       "        text-align: left;\n",
       "    }\n",
       "\n",
       "    .dataframe tbody tr th {\n",
       "        vertical-align: top;\n",
       "    }\n",
       "</style>\n",
       "<table border=\"1\" class=\"dataframe\">\n",
       "  <thead>\n",
       "    <tr style=\"text-align: right;\">\n",
       "      <th></th>\n",
       "      <th>Age</th>\n",
       "      <th>Query List</th>\n",
       "    </tr>\n",
       "  </thead>\n",
       "  <tbody>\n",
       "    <tr>\n",
       "      <th>0</th>\n",
       "      <td>1</td>\n",
       "      <td>[柔和, 双沟, 女生, 中财网, 首页, 财经, 周公, 解梦, 大全, 查询, 2345...</td>\n",
       "    </tr>\n",
       "    <tr>\n",
       "      <th>1</th>\n",
       "      <td>2</td>\n",
       "      <td>[广州, 厨宝, 烤箱, 世情, 人情, 雨送, 黄昏, 花易落, 风干, 泪痕, 厦门, ...</td>\n",
       "    </tr>\n",
       "    <tr>\n",
       "      <th>2</th>\n",
       "      <td>4</td>\n",
       "      <td>[钻石, 之泪, 耳机, 盘锦, 沈阳, 旅顺, 公交, 辽宁, 阜新, 车牌, baidu...</td>\n",
       "    </tr>\n",
       "    <tr>\n",
       "      <th>3</th>\n",
       "      <td>4</td>\n",
       "      <td>[受欢迎, 狗狗, 排行榜, 场景, 范例, 三维, 绘图, 软件, 酸奶, 壮观, 衣服,...</td>\n",
       "    </tr>\n",
       "    <tr>\n",
       "      <th>4</th>\n",
       "      <td>2</td>\n",
       "      <td>[干槽症, 自愈, 太太, 万岁, 舒心, 美国, 干槽症, 眼皮, 怎么回事, 麦当劳, ...</td>\n",
       "    </tr>\n",
       "  </tbody>\n",
       "</table>\n",
       "</div>"
      ],
      "text/plain": [
       "   Age                                         Query List\n",
       "0    1  [柔和, 双沟, 女生, 中财网, 首页, 财经, 周公, 解梦, 大全, 查询, 2345...\n",
       "1    2  [广州, 厨宝, 烤箱, 世情, 人情, 雨送, 黄昏, 花易落, 风干, 泪痕, 厦门, ...\n",
       "2    4  [钻石, 之泪, 耳机, 盘锦, 沈阳, 旅顺, 公交, 辽宁, 阜新, 车牌, baidu...\n",
       "3    4  [受欢迎, 狗狗, 排行榜, 场景, 范例, 三维, 绘图, 软件, 酸奶, 壮观, 衣服,...\n",
       "4    2  [干槽症, 自愈, 太太, 万岁, 舒心, 美国, 干槽症, 眼皮, 怎么回事, 麦当劳, ..."
      ]
     },
     "execution_count": 5,
     "metadata": {},
     "output_type": "execute_result"
    }
   ],
   "source": [
    "agedf['Query List'] = agedf['Query List'].apply(lambda x:x.split(' '))\n",
    "agedf.head()"
   ]
  },
  {
   "cell_type": "code",
   "execution_count": 6,
   "metadata": {},
   "outputs": [
    {
     "data": {
      "text/plain": [
       "1    38996\n",
       "2    26744\n",
       "3    18529\n",
       "4    10654\n",
       "5     2922\n",
       "6      489\n",
       "Name: Age, dtype: int64"
      ]
     },
     "execution_count": 6,
     "metadata": {},
     "output_type": "execute_result"
    }
   ],
   "source": [
    "agedf.Age.value_counts()"
   ]
  },
  {
   "cell_type": "code",
   "execution_count": 6,
   "metadata": {
    "collapsed": true
   },
   "outputs": [],
   "source": [
    "X_age = agedf['Query List'].values.tolist()\n",
    "Y_age = agedf['Age'].values.tolist()"
   ]
  },
  {
   "cell_type": "code",
   "execution_count": 8,
   "metadata": {},
   "outputs": [
    {
     "name": "stdout",
     "output_type": "stream",
     "text": [
      "['柔和 双沟 女生 中财网 首页 财经 周公 解梦 大全 查询 2345 曹云金 再讽 郭德纲 总裁 大人 行行好 中财网 第一 财经 传媒 教师节 全文 砸毁 墓碑 黄岩岛 最新 海图 缘来 迟落 甜心 不好惹 梁朝伟 替身 同框 笑傲江湖 电视剧 任贤齐 小起 名字 女孩 名字 海运 行李 堪培拉 诱爱 司少 天价 宝贝 遥控 魔棒 徽信 表情 动态 搞笑 图片 教师节 征文 安微 联通 网上 营业厅 甜宠 百分百 校草 萌萌 未婚妻 豪门 重生 之暖爱 成婚 nikehypershift kd5 好看 韭菜 炒鸡蛋 陈赫 王者 荣耀 虎牙 楚河 三国演义 小说 txt 下载 威县 欧派 好吃 黄岩岛 最新消息 中秋节 诗句 大全 祝福 教师节 征文 菜谱 柔和 双沟 七位数 开奖 以色列 停车场 坍塌 天龙 家庭 农场 7.22 星座 新旧 圣经 合本 下载 wifi 万能钥匙 威灵仙 图片 临泉 长官 天龙 家庭 农场 早安 总统 大人 百合 莲藕 做法 花街 无锡 蚬壳 胃散 触手 忆寒 中秋节 诗句 孟州 电信 电子 发票 鸡丝 做法 临泉 长官 镇桥口 李小刚 农场 朋仇 全民 葱花 蒜苔 炒肉 冰川 图片 kd5 若风 好奇 纸尿裤 清蒸鱼 189.8 平方 重庆 餐馆 发生爆炸 手机 失主 抢劫 家常 做法 三国演义 小说 百度 总裁 掠爱 小舅 太坏 周公 解梦 坦克 冰川 凉拌 藕片 做法 投票 鸡丝 好吃 时光 掩埋 秘密 小说 下载 中国电信 电子 发票 张续 月亮 诗句 酵母 馒头 方法 赵丽颖 碧瑶 触手 兵长 图集 下载 腾讯 新闻 街头 混战 武警 厦门航空 蚬壳 胃散 茄子 做法 身份 类别 方特 生活 强迫症 表现 白袍 法师 图片 朋仇 广场 小宇 热游 馒头 方法 狡滑 黄石 大冶 东岳 派出所 服务 电话 三国演义 小说 下载 txt 松柏 道馆 10.1 高速 免费 几天 三国演义 小说 txt 柔和 双沟 业务 待遇 酵母 馒头 方法 初中 家教 一对一 辅导 口子 中秋节 祝福 诗句 侠岚 王国 价格表 1001 王国 价格表 批注 殿下 专属 小丫头 无锡 爆炸 茄子 做法 大件 行李 邮寄 烟火 陈翔 没想到 真没想到 作文 安徽 滁州 石坝 虎牙 小宇 驾校 培训 长途 骨质 关节炎 膝盖 内侧 怎么回事 虎皮 尖椒 做法 大全 陈翔 女朋友 吻照 世界 23.04 平方根 神将 世界 表情 寻找 成龙 柔和 双沟 三国演义 txt 百度 澳洲 邮寄 行李 费用 触手 1991 星座 校草 成长 暮光 女友 求婚 钢弩 价格 图片 乐乐 课堂 宠妻 成瘾 老婆 魔手 tv 梅河口 济南 火车票 临泉 长官 君子兰 南洋 十大 邪术 电影 炸油条 做法 配方 根号 等于 笑笑 昨日 帝王 吃惊 词语 教师节 征文 朝阳区 庄户 邮编 千百 1991 农历 星座 圣经 合本 免费 下载 水煮 花生米 做法 十字 徽信 表情 含义 天才 小熊猫 微博长 宠冠六宫 帝王 娇蛮 皇妃 广告 软件 安卓版 萌妻 娇俏帝 总裁 霸爱 小小 新娘 逃婚 花生 好吃 中国 证券网 柔和 双沟 销售 中秋节 诗句 图片 怪病 洗洁精 等于 服装 批发 怀孕 肚子 隐隐作痛 怎么回事 百度 蒜苔 家常 做法 水煮 花生米 天才 小熊猫 作品 袁姗姗 临泉 长官 镇桥口 呼作 白玉 一句 微信 表情 搞笑 图片 滴滴 快车 司机 教师节 手抄报 简单 好看 大冶 公安局 派出所 柔和 双沟 业务 待遇 哺乳期 月经 临泉 长官 水上 乐园 忐忑不安 临泉 长官 李小刚 家庭 农场 电信 电子 发票 报销 岳不群 临泉 长官 镇桥口 天龙 农场 凉拌 水煮 花生米 做法 威灵仙 功效 作用 鸽子 做法 战神 伪高冷 天降 医妃 回家 白颠 初期 症状 天才 小熊猫 首席 萌妻 咬一口 弩弓 商城 三国演义 小说 临泉 长官 镇桥口 植物 养殖 基地 邮储 银行 手机 银行 客户端 下载 花米 好吃 英语 在线翻译 糖醋 鲤鱼 搞笑 微信 表情图片 带字 新婚 似火 鲜妻 胎生 一对 三国演义 教师节 手抄报 王国 价格表 鱼汤 做法 临泉 长官 镇桥口 私人 农场 临泉 长官 镇桥 口镇 杨营 临泉 长官 天龙 家庭 农场 李子树 根部 脓包 怎么回事 单手 高速 转牌 医学院 路上 徽信 早上好 动态 表情 宝宝 小名 大全 洋气 寂寞 男女 聊天记录 截图 神将 世界 美丽 秋天 作文 300 钢弩 冰川 世纪 电影 全文 触手 蓝烟 做法 金罐 加多宝 澳洲 托运 行李 蒜苔 家常 做法 时光 掩埋 秘密 根号 13.6 等于 方特 东方 神画 粉红 花朵 图片 qq 申请 千亿 盛宠 大叔 慢点 东方 财富网 首页 动力 价格 手机 遥控 魔棒 jzg 行李 托运 澳洲 蚬壳 胃散 副作用 红烧 鲤鱼 触手 tv 中国 财经 信息网 中财网 立方根 800 美食 菜谱 笑傲江湖 电视剧 柔和 双沟 笑傲江湖 品种 名字 图片 滴滴 司机 奇怪 鸡蛋 灌饼 天龙 农家乐 拉拉 歌词 陈翔 女朋友 牢解场 生活 微微一笑 倾城 豪门 少奶奶 谢少 心尖 宠妻', '广州 厨宝 烤箱 世情 人情 雨送 黄昏 花易落 风干 泪痕 厦门 酒店用品 批发市场 不想 支付 原谅 无情 对不起 处女座 代表 花朵 鸡胸肉 做法 烤箱 忘记 想起 一辈子 终点 联塑 pvc 排水管 规格 大王 性格 文静 250ml 牛奶 奶粉 化蝶 寻花 夜夜 芳草 学会 懂得 1001 学会 福睿斯 斗鱼 tv 厨宝 厨宝 烤箱 禹州 城市 广场 电影院 大王 棕树 图片 棕树 图片 发酵 6920882798458 不想 支付 原谅 无情 对不起 城市 下雨 带伞 250ml 牛奶 奶粉 做法 烤箱 全脂奶粉 比例 牛肉 厨宝牌 猴配 婚姻 可惜 mv 爱情 公寓 不住 笑话 太岁 禹州 城市 广场 电影院 1001 禹州 城市 广场 电影院 烤箱 牌子 全脂奶粉 铁人 面粉 蛋白质 含量 活成 样子 鸡排 做法 大全 放爱 斗鱼 直播 糖浆 鸡胸肉 沙枣 轮胎 气压 mp1003 轮胎 气压 6933005900560 厨宝 牌子 冰皮 月饼 糯米粉 一辈子 永远都是 1992 生肖 配对 处女座 配对 1001 处女座 世界 冒险 自欺欺人 虎牙 直播 想像 1006 5000 瓦一 小时 多少度 鸡排 做法 大全 好吃 卡农 故事 陌上 花开 缓缓 不用 道歉 首歌 这场 婚礼 足够 1001 这场 婚礼 厨宝 人生 如初 何事 秋风 悲画 hiv 耳朵 图片 空间 视频 普洁 厨宝 官网 一辈子 终点 1001 一辈子 生肖 配对 高筋 面粉 杨之华 林肯 处女座 男生 感情 有恃无恐 紫罗兰 学会 懂得 王棕 龟头 小红点 烤鸡肉 做法 烤箱 邓超 香菇 鸡片 做法 5000 瓦一 小时 多少度 10015000 瓦一 小时 黄油 1688 阿里巴巴 批发网 和面机 茉香 绿茶 泡法 意大利 烟肉 厨宝 漫漫 人生路 一句 冰皮 月饼 做法 配方 分手 6909640000644 可不可以 勇敢 厨宝 烤箱 价格表 处女座 男生 恋爱 鸡胸肉 做法 全家 牛至 香菇 鸡块 做法 电池 逆变器 联塑 南瓜 饺子 做法 蝴蝶 兰花 心寒 人生 总有 太多 无奈 遗憾 1001 人生 总有 太多 拖拉机 图片 1001 月饼 比例 鸡胸肉 做法 大全 这场 婚礼 足够 一亿 人民币 多重 生肖 代表 轮胎 气压 mp 处女座 男生 恋爱 铁人 面粉 烤鸡肉 做法 触宝 官网 瑞斯 雅格 丽板 打喷嚏 吉凶 沙棕 面包 做法 可惜 mv 女人 出轨 女人 烤肉 做法 未来 爱情 公寓 可惜 红豆相思 诗句 月饼 豆沙 做法 土司面包 做法 人生 总有 太多 无奈 遗憾 想像 一份 真挚 爱情 摆在 面前 全脂奶粉 罗勒 图片 罗勒 种子 胡子 长得 原因 走过 懂得 烤鱼 烤箱 温度 时间 厨宝牌 烤箱 分手 鸡胸肉 做法 猴子 头像 简笔画 朋友圈 视频 厨宝 烤箱 牌子 生日 当天 相亲 意大利 烟肉 珍珠奶茶 南瓜 做法 一辈子 永远都是 1002 一辈子 手扶拖拉机 猴子 头像 椰子树 椰子树 手机 空间 视频 成人高考 时间 茉香 绿茶 酒店用品 批发市场 冰皮 月饼 南瓜 做法 虎牙 直播 在线 观看 铁人 面粉 蛋白质 月亮 奥尔良 做法 轮胎 气压 杨志华 人工 黄油 相思 诗句 文静 处女座 配对 罗勒 手碰水 起皱 原因 茉香 绿茶 做法 冰皮 月饼 做法 世界 雅虎 直播 波导 l902 泉州 酒店用品 批发市场 昔年 蛋黄 温度 4009200530 朋友 再见 再见', '钻石 之泪 耳机 盘锦 沈阳 旅顺 公交 辽宁 阜新 车牌 baidu k715 k716 盘锦 台安 网游 永生 网游 辽中 北镇 大连 盘锦 炮神 燕窝 霉菌性 阴道炎 外敷 天佑 快手 东北 项目 旅顺 商场 规划 东北 项目 大连 山海关 赤峰 通辽 大连 长沙 王小源 快手 id 网盘 搜索 软件 国脚 张玉宁 近况 特比 萘芬 乳膏 全球 公共 采购 济广 高速 任航 浩克 雷克萨斯 nx300h 价格 便秘 拉屎 手机号 注册 微信 便秘 最快 排便 网游 小说 网游 小说 排行榜 完本 驾加 无证 驾驶 校园 篮球风云 第二季 海城 沟帮子 大石桥 沈阳 大连 一方 网盘 搜索 阿鲁科尔沁旗 通辽 王小源 快手 id 大连 民意 大连 地铁 mc 天佑 王宝强 狮子山 台风 路径 苹果 合约 套餐 开塞露 便秘 盐水 校园 篮球风云 大庆 锦州 天山 通辽 网游 长生 刘公岛 网盘 007 box 网盘 sina 凌志 nx300 命运 手心 尔克 尔克 法库 沟帮子 凌志 雷克萨斯 nx300 扎哈维 便秘 天佑 快手 id 沈阳 哈尔滨 沈曼 苹果 合约 台安 盘锦 辽中 沟帮子 流浪 流浪 海洋 飘飘荡荡 望眼 网游 之逆天 戒指 霉菌性 阴炎 网盘 收费 霉菌性 阴炎 自愈 任航 背景 鞍山 沟帮子 网盘 资源 天佑 大学 教材 海底隧道 佳泰 前台 内线 电话 沈阳 吉首 网盘 网游 之神级 机械 猎人 开鲁 通辽 大连 202 轻轨 大连 地铁 佳泰 前台 电话 t131 天佑 盐酸 特比 萘芬片 商场 小说 便秘 快速 解决 旅顺 公交 规划 皇族 天赐 万达 落户 旅顺 网游 之邪 龙逆天 济广 高速 飞机 坠落 尔克 任航 续约 旅顺 新开 商场', '受欢迎 狗狗 排行榜 场景 范例 三维 绘图 软件 酸奶 壮观 衣服 网站 动漫 绘图 软件 千篇一律 妒羡 卡通图片 瀑布 单位 饥肠辘辘 形声字 流光溢彩 华鼎 公司简介 儿童 考级 舞蹈 视频 拖把 受欢迎 狗狗 排名 绘图 软件 暑假 作文 开头 歌词 组词 课外书 读书 人物 暑假 作文 尹正 豆桨 面皮 浴缸 装修 效果图 作文 黄果树 瀑布 水泥 地上 唯美 图片 读书 名言 鄙视 表情 中秋节 祝福语 毛咕 芭比 梦想 豪宅 英文 仓库 一批 大米 钢筋 截出 三米 出人意料 句子 衣服 换牙 时间 祖国 贵州 打油诗 傅园慧 表情 受欢迎 狗狗 排名 虫儿 舞蹈 视频 害怕 飞行 英语 公主 生如夏 绚烂 秋叶 之静美 英文 卡通 头像 女生 可爱 描写 贵州 风景 作文 dilraba 凌空 近义词 夺门而出 悬白龙 计算 难题 英文 王雷 比熊 白毛 变黄 舞蹈 教学 视频 雨布 大帘 古典 舞蹈 教学 视频 打油诗 描写 贵州 诗句 嘴慢 气盛 天秤座 图片 卡通 唯美 鸡蛋 凌空 而立 近义词 毛晓彤 晕车 症状 贵州 作文 描写 贵州 刘书 迪丽 热巴 图片 rock 舞蹈 豆桨 面皮 贵州 景色 作文 新闻 2o16 教师节 祝语 布偶 一只 岩口 逼仄 夺门而出 悬白龙 拼音 读书 宣传语 泊船 瓜洲 诗意 直角三角形 三条 三十厘米 四十 安钧璨 场景 描写 螺丝 瀑布 作文 组词 开卷有益 开卷 未必 有益 辩论 杨蓉 图片 奔跑 浴缸 装修 效果图 儿童 舞蹈 暑假 作文 贵州 游玩 中秋节 图片 谈鬼 说狐 魏勇 太原 kris 女生 巨加 偏旁 组词 秋思 诗意 历史 名人 书中 读书 人物 教师节 图片 迪丽 热巴 网名 歌词 总统 rock 原因 比熊 毛变 原因 卡通 头像 邪财 黄果树 瀑布 犀牛 组词 二马 骆驼 祥子 本书 杨斯琪 千户 苗寨 作文 唯美 卡通图片 教师节 祝福语 老师 祝福语 组词 钢铁 表情图片 喜欢 课外书 二马 枣核 深度 好文 偷书 儿童 舞蹈 鸡蛋 储存 方法 儿童 舞蹈 视频 富有 哲理 句子 球体 博美 公主 风泽中孚 详解 g20 峰会 军训 作文 护士 英文 十二月份 英文 舞蹈 视频 钢铁 作文 约克夏 黄果树 瀑布 犀牛 作文 小比 熊毛变 黄果树 瀑布 作文 威士忌 岩口 逼仄 夺门而出 悬白龙 泡泡 难忘 暑假 作文 古代 公主 服装 图片 杰克 卡通图片 军训 自语 独白 作文 杨洋 魏勇 世界 盒子 下载 场景 描写 儿童 舞蹈 舞蹈 教学 视频 儿童 擅长 英文 迪丽 热巴 英文名 公主 服装 图片 大全 楞头磕脑 豆桨 医术 英文 腾讯 视频 下载 数学家 英文 相思 诗意 出人意料 搞笑 句子 免费 打电话 软件 古代 公主', '干槽症 自愈 太太 万岁 舒心 美国 干槽症 眼皮 怎么回事 麦当劳 旋风 勺子 吉林市 鹿王 制药 股份 有限公司 脑络通 胶囊 蛐蛐 蜂蜜 大鹅 袋子 缺什么 喜则 留厌 意见 检测 ipad 真假 完牙 几天 东西 秦语 个人资料 大鹅 袋子 拍手 游戏 大全 拍手 游戏 口诀 检测 ipad 翻新 完牙 漱口 三生 三世 十里 桃花 电视剧 夏有 乔木 雅望 天堂 结局 张赫 秦语 电脑 图片 白百何 唐嫣 关系 蛐蛐 叫声 三生 三世 十里 桃花 电影 上映 时间 必胜客 最新 优惠活动 12306 青云 小说 全文 阅读 完牙 疼不疼 郑爽 完牙 刺挠 完牙 东西 拔牙 医生 彬彬 下巴 衔接 唯品 会上 ipadair32g 真的假 星星 小说 裴念 毛晓彤 拔牙 血凝 杉杉 小说 牛肉 辣椒酱 做法 大鹅 尿素 袋子 车太贤 麦当劳 旋风 红心 火龙果 禁忌 完牙 多久 东西 微微一笑 倾城 演员表 旋风 肯德基 麦当劳 下巴 衔接 智齿 完牙 血凝 必胜客 郑业成 我儿 爸爸 ipad air232g 报价 ipad16g 够用 抗生素 电视台 赚钱 微信 红包 发出 显示 ipadair2 32g 中国式 关系 剧情 介绍 尿酸 下巴 衔接 完牙 刺挠 张赫 个人资料 烧心 怎么回事 崔航 牛油果 好吃 两个 世界 一共 夏有 乔木 雅望 天堂 小说 笑傲江湖 哪吒闹海 拔牙 疼不疼 完牙 狗来 月经 多长时间 12306 官网 麦当劳 旋风 图片 股骨头 坏死 唯品 会上 ipad 真的假 药能 杀死 蛐蛐 干槽症 图片 瘊子 唯品 会上 ipadair2 真的假 红心 火龙果 功效 作用 ipad mini4 air2 夏有 乔木 雅望 天堂 完牙 多久 恢复 牛骏峰 酸奶机 内胆 材质 网上 ipad air 32g 懂得 慈悲 来事 肚子疼 厉害 晚上 腰痛 厉害 手机号码 发短信 名字 麻药 副作用 三生 三世 十里 桃花 电视剧 上映 ipad air2 mini4 吉林市 鹿王 制药 股份 有限公司 郭珍 背影 朱自清 拔牙 注意事项 苹果 电影 简介 杨洋 亿韩元 相当于 人民币 蹄子 热量 拍手 游戏 两个 世界 太岁 东西 盗墓 笔记 电影票房 白宇 完牙 注意事项 微微一笑 倾城 小说 月饼 烧心 怎么回事 任意 依恋 剧情 介绍 做法 拍子 儿歌 微微一笑 倾城 完牙 多久 东西', '钢琴曲 欣赏 一个月 宝宝 眼睫毛 黄色 宝宝 右眼 眼屎 小儿 抽搐 剖腹产 刀口 线头 属鸡 一个月 婴儿 眼睫毛 没长 玛丽 敏感 修护 套装 芦花 疾病 知询 剖腹产 一个月 肚子 腰疼 剖腹产 肚子 腰疼 先天性 心脏病 原因 牛奶 冲后 泡泡 模具厂 取名 小儿 梅毒 图片 大全 一个多月 宝宝 毫升 奶粉 小儿 消化不良 肠胃 不好 调理 剖腹产 一个月 肚子疼 宝宝 哭时 脸红 国内 喜宝 奶粉 剖腹产 多久 同房 一至 二个月 宝宝 宝宝 消化不良 要换 奶粉 小儿 湿疹 治疗 方法 宝宝 手心 脚心 发热 怎么回事 喜宝 玛丽 修复 系列产品 一至 二月 宝宝 消化不良 那种 奶粉 射手座 hipp 中文翻译 配属 下雨 声音 完美 玛丽 产品 价格表 脂肪 一流 芦花 走路 一走 怎会事 一个多月 宝宝 老吐奶 怎么回事 一个多月 宝宝 鼻梁 横纹 乳房 彩超 检查 一个多月 宝宝 大哭 脑血管 乳房 彩超 剖腹产 刀口 硬块 一个多月 宝宝 喘气 困难 儿歌 大全 一个多月 宝宝 老吐 唾液 声音 mp3 属鸡 白羊座 剖腹产 肚子疼 怎么回事 属猪 属狗 相配 一个多月 宝宝 脚有 裂痕 德国 喜宝 奶粉 鱼肝油 功效 作用 藏力康 胶囊 一盒 一个多月 宝宝 头发 黄怎会 声音 剖腹 腰疼 怎么回事 国内 喜宝 奶粉 属鸡 内膜 遗位 一个多月 宝宝 一哭 血管 发紫 怎会事 灵芝 菌丝体 胶囊 hipp 中文翻译 儿歌 视频 大全 连续 播放 鸡蛋 价格表 一个多月 宝宝 睡觉 挣扎 乳透 彩超 中文 喜宝 奶粉 剖腹产 关节痛 小儿 舌苔 发白 剖腹产 刀口 柏哲病 芦花 一斤 德国 喜宝 奶粉 致癌 喜旺 食品 有限公司 乳透 检查 消化不良 症状 康婷瑞 倪维儿 甘蓝 灵芝 伤口 线头 化脓 完美 营养 功效 作用 属鸡 白羊座 羊天 竭座 一个多月 宝宝 睡觉 踏实 惊醒 下雨 声音 催眠 放屁 拉肚子 怎会事 一个多月 宝宝 喘气 剖腹产 肚子 发硬 一个多月 宝宝 肚子 咕噜噜 剖腹产 肚子 葫芦丝 剖腹产 肚脐 先天性 心脏病 表现 天蝎座 白羊座 一个多月 宝宝 长气 属猪 属猪 姻缘 玛丽 灵芝 孢子粉 功效 作用 芦花 剖腹产 屁多 肠胃 湿热 湿疹 心脏病 早期 症状 剖腹产 后屁 特别', '貔貅 饲育 指南 韩姨 贵阳 古琴 洛基 风速 英美 店主 好吃 重生 儿童 寻家记 锦里 oppor7 雷神 英国 古代 牧羊犬 贵阳 领养 为食 神探 古琴 豪门 贵妇 守则 oppor7plus 方形 游戏 花蓓蓓 三星 g7106 参数 幸运 开花 连连看 未来 霸气 吃货 心脏 早博 成都 雅安 食物链 顶端 国家 制造 贵阳 简爱 救助站 托尼 斯塔克 贵阳 西子 琴舍 苹果 苹果 大明宫 攻略 牙釉质 脱落 水务 贵阳 流浪狗 领养 古筝 贵阳 动物 救助站 复仇者 联盟 阴阳师 变种 人锐雯 坐飞机 心肌炎 肌肉 瘦成 筷子 洛基 英语 索尔 洛基 美丽 便秘 生机 甲天 古琴 流水 美纳斯 贵阳 领养 猫咪 花洁 夫人 麦考夫 福尔摩斯 沙皮狗 索尔 末世 占山为王 古代 片警 幸福生活 赵川 主持 爱情 保卫战 探长 孩子 综英 言灵师 娱乐圈 雷斯 垂德 战警 千秋 朝歌 唯品 三星 g7106 瑞雯 德克士 南洋 鸡肉 博美 石斛 牙齿 外侧 一小片 哈罗德 芬奇 南京 万科 总经理 手绘 踩点 地图 秋田 柯基犬 重生 儿童 寻家记 牙釉质 脱落 贵阳 简爱 狗狗 茶杯 英雄 大明宫 哈罗德 六角 拼拼 慢性 淋巴结炎 水痘 笨笨 进化 美纳斯 牙釉质 雾化 俊介犬 价格 古琴 古筝 变种 金牌 编剧 未来 牙齿 一小片 古琴 古筝 易学 便秘 按摩 085188114259 小狗 成都 300 锦里 石羊 头上 有个 身上 起水泡 重生 修仙 网游 无敌 奶爸 牙齿 演技派 征服 世界 成都 牌楼 广场 双流 机场 牙齿 一小块 将夫 当家', '笔顺 三年级 上册 数学 英语 木机 多长时间 造句 可可 小爱 起动 保护装置 龙岩 公共资源 交易中心 吊车 鲜艳 近义词 快乐 城堡 儿歌 鼓舞 造句 大全 儿歌 小手 拍拍 视频 可可 小爱 起动 网络 幼儿园 图画 作品 图片 陕西 厦门 手上 水泡 小手 拍拍 儿歌 视频 孔雀舞 量词 喜羊羊 一只 口红 代表 字母 组词 作者 天都峰 托班 儿歌 小手 拍拍 视频 读音 小手 小手 拍拍 小手 终于 近义词 乐迪 视频 峰顶 换种 说法 句子 蒲公英 拼音 汲取 近义词 依然 近义词 喜羊羊 绚丽多彩 造句 小手 小手 拍拍 小手 握起 儿歌 视频 自卸 汽车 儿童 搞笑 视频 笑死人 作者 天都峰 目的 巧克 泥土 作文 汽车吊 神犬小七 破碎 安静 近义词 留意 近义词 三年级 上册 作文 轮胎 招引 近义词 搞笑 视频 忠诚 神犬小七 主题曲 水泥 搅拌车 斗山 挖掘机 二年级 上册 数学 飘扬 拼音 小鸟 草地 填空 词语 造句 邵武市 组词 w0rd2007 版是 哪种 整理 房间 作文 草地 歌曲 五星红旗 迎风 飘扬 挖掘机 视频 表演 320 接近 300 福建省 招投标 采购网 乔布斯 遗作 iboat 一个零 不读 三位数 挖掘 装载机 孩子 合适 词语 鼓舞 句子 二年级 下册 数学 长臂 挖掘机 快乐 城堡 旅行 近义词 奇能 好像 造句 神犬小七 第二季 演员表 巧克 泥土 作父 历险记 英语 几个 字母 起司 公主 儿歌 全集 凉爽 近义词 打扮 近义词 昂昂 自若 表演 视频 工程车 神犬小七 蒲公英 填空 答案 组词 挖掘机 散步 散会 读音 鼓舞 造句 耳朵 快乐 城堡 歌曲 近义词 快乐 城堡 首歌 造句 乐比 悠悠 可可 小爱 起动 保护 zhuangzhi 蒲公英 填空 化妆 释义 儿歌 小手 拍拍 舞蹈 视频 精灵 王座 点照 镜子 神犬 七家 快乐 儿歌 自卸车 沟机 挖土 视频 搞笑 压路机 钩机 晃动 近义词 昌组 幼儿园 涂色 可可 小爱 全集 熊出没 秋日 团团转 神犬小七 第二季 近义词 打扮 近义 儿歌 视频 大全 小手 拍拍 喜羊羊 侦探 挖土机 可可 小爱 动画片 水陆两用 挖掘机 近义词 逗逗 迪迪爱 探险 球球 作战 边上 铁链 是从 天上 挂下来 乐迪 龙岩市 公共资源 交易中心 小学 广播体操 七彩 阳光 儿童 舞蹈 写字 一只 口红 代表 五星红旗 校园 飘扬 动画片 挖掘机 小鸟 枝头 改成 拟人', '李明霖 直播 英文翻译 薄荷 搜狐 视频 缓存 一首歌 女生 唱的歌 词是 冬天 联想 拯救 触摸板 图标 虐杀 原型 第九 宋丹丹 个人资料 消逝 光芒 制作 视频 手机软件 wwwse94secon 软件 视频 消逝 光芒 训练 老师 巡山 吉祥 龙凤 联想 拯救 触摸板 联想 拯救 触摸板 图标 老师 训山 万宝路 爆珠 一首歌 女生 高潮 冬天 马桶 个人空间 联想 拯救 触摸板 图标 笔记本 连接 电源 显示 充电 一首歌 歌词 冬天 一条龙 服务 慕诗琪 肠胃炎 抗韩 中年人 抗韩 中年人 优酷 铁皮 石斛 视频 手机软件 虐杀 原型 中国 地图 全图 高清 肠胃炎 牛肉 虐杀 原形 删除 存档 虐杀 原形 攻略 大全 肠胃炎 抽烟 联想 电脑 显示 连接 充电器 充电 分辨 假烟 电脑 显示 连接 充电器 充电 tig 手机 qq 背景 怎么弄 透明 吸烟 牙齿 咋样 变白 红眼病 传染 手机 视频 软件 联想 拯救 触板 小苍 第一 视角 网站 进不去 一首歌 冬天 看雪 虐杀 原形 作弊码 大全 联想 拯救 触摸板 女王 驾到 电脑 显示 连接 充电器 充电 怎么回事 昆仑 北冥有 名为 李明霖 直播 几点 倾城 几点 播出 虐杀 原型 流程 东关 windous 打开 软件 游戏 一局 英雄 联盟 流量 龙凤呈祥 白加 消逝 光芒 鞭炮 烟好 虐杀 原形 形态 吸烟 牙齿 去除 虐杀 原形 攻略 幻城 电视剧 吸烟 头晕 陈子 个人空间 联想 笔记本 背光 键盘 消逝 光芒 攻略 数码 大师 联想 拯救 触摸板 关不了 一首歌 歌词 冬天 联想 拯救 强制 重启 会声 会影 龙凤 李明霖 几点 直播 咸鱼 妇炎洁 作用 一首歌 高潮 冬天 联通 查话费 虐杀 原形 一学 技能 停止 运行 windous7 防火墙 范伟 windows 无法访问 指定 设备 路径 肠胃炎 症状 肠胃炎 水果 龙凤 qq 背景 怎么弄 透明 windous 访问 手机 qq 主题 怎么弄 透明 笔记本 背光 键盘 天骄 薄荷 头七有 讲究 妇炎洁 生日 祝福语 简短', 'bft20 龙王 长治 成都 坐火车 龙王 txt 司机 双子座 第几名 张家界 旅游景点 源代码 拉卡 张艺兴 歌曲 眉山 东站 公交车 金立 s8 换个 摄像头 多钱 长治 眉山 坐车 临汾 上海 南站 火车票 瓦特 肉番 漫画 本子 五代 风影 阵容 张家界 蹦极 bft20 手机 雷主 忍考 暗黑 头像 四川 冬天 冷不冷 降头术 真的 金立 s8 摄像头 多钱 叶非夜 肉番 邪恶 少女 漫画 本子 女生 左手 中指 戒指 网名 大全 小样 矫情 张艺兴 忍考 水主 太原 眉山 临汾 上海 火车 双子座 万人 双子座 爱上 12345 金立 s8 摄像头 成都 眉山 成都 东站 金立 s8 分屏 多任务 太原 成都 张家界 旅游 国内 蹦极 排名 关晓彤 风主 忍考 里番 肉番 漫画 本子 12345 12345 代表 张家界 蹦极 地方 成都 东到 眉山 汽车 长治 重庆 火车票 张家界 玻璃 约会 软件 真是假 张艺兴 mv 关晓彤 张艺兴 关晓彤 张艺兴 火焰 纹身 太原 成都 少女 漫画 肉番 本子 临汾 太原 火车 时刻表 男人 痛经 246810 张家界 旅游景点 玻璃 bycbbs 源代码 拉卡 特效 长治 成都 火车 欧米 小队 幽灵 特工 风主 阵容 葫芦娃 阵容 张家界 长治 成都 坐火车 小样 矫情 77bbs 金立 s8 摄像头 换个 太原 上海 火车票 成都 东到 眉山 东站 公交车 绅士 漫画 本子 张家界 蹦极 5s 英雄 联盟 幸运 召唤师 网址 女生 左手 食指 戒指 双鱼 男爱上 长治 太原 火车 时刻表 歌词 小样 矫情 火影 风暴 个性 签名 长治 关林 上海 特产 龙王 最新 章节']\n"
     ]
    }
   ],
   "source": [
    "print(X_age[0:10])"
   ]
  },
  {
   "cell_type": "code",
   "execution_count": 7,
   "metadata": {
    "collapsed": true
   },
   "outputs": [],
   "source": [
    "import sys\n",
    "from collections import Counter\n",
    "import numpy as np\n",
    "import tensorflow.keras as kr\n",
    "import os"
   ]
  },
  {
   "cell_type": "code",
   "execution_count": 8,
   "metadata": {
    "collapsed": true
   },
   "outputs": [],
   "source": [
    "def build_vocab(train_data, vocab_file, vocab_size=5000):\n",
    "    all_data = []\n",
    "    for xage in train_data:\n",
    "        all_data.extend(xage)\n",
    "    print('all_data len is ',len(all_data))\n",
    "    counter = Counter(all_data)\n",
    "    print('couter len is  ',len(counter))\n",
    "    count_pairs = counter.most_common(vocab_size - 1)\n",
    "    words, _ = list(zip(*count_pairs))\n",
    "    words = ['<PAD>'] + list(words)\n",
    "    print(words[0:10])\n",
    "    with open(vocab_file,mode='w',encoding='utf-8') as f:\n",
    "        f.write('\\n'.join(words) + '\\n')\n",
    "    print('file write over')"
   ]
  },
  {
   "cell_type": "code",
   "execution_count": 9,
   "metadata": {
    "collapsed": true
   },
   "outputs": [],
   "source": [
    "vocab_file_age = './Data/VersonData_4/vocab_file_age.txt'\n",
    "vocab_file_gender = './Data/VersonData_4/vocab_file_gender.txt'\n",
    "vocab_file_education = './Data/VersonData_4/vocab_file_education.txt'"
   ]
  },
  {
   "cell_type": "code",
   "execution_count": 10,
   "metadata": {},
   "outputs": [
    {
     "name": "stdout",
     "output_type": "stream",
     "text": [
      "all_data len is  35296784\n",
      "couter len is   963133\n",
      "['<PAD>', '图片', '手机', '小说', '视频', '下载', '大全', 'qq', '电影', '中国']\n",
      "file write over\n"
     ]
    }
   ],
   "source": [
    "build_vocab(X_age,vocab_file_age,vocab_size = 40000)"
   ]
  },
  {
   "cell_type": "code",
   "execution_count": 11,
   "metadata": {
    "collapsed": true
   },
   "outputs": [],
   "source": [
    "del X_age,Y_age"
   ]
  },
  {
   "cell_type": "code",
   "execution_count": 12,
   "metadata": {
    "collapsed": true
   },
   "outputs": [],
   "source": [
    "del agedf"
   ]
  },
  {
   "cell_type": "code",
   "execution_count": 14,
   "metadata": {
    "collapsed": true
   },
   "outputs": [],
   "source": [
    "def read_vocab(vocab_file):\n",
    "    \"\"\"读取词汇表\"\"\"\n",
    "    # words = open_file(vocab_dir).read().strip().split('\\n')\n",
    "    with open(vocab_file,mode='r',encoding='utf-8') as fp:\n",
    "        # 如果是py2 则每个值都转化为unicode\n",
    "        words = [_.strip() for _ in fp.readlines()]\n",
    "    word_to_id = dict(zip(words, range(len(words))))\n",
    "    return words, word_to_id"
   ]
  },
  {
   "cell_type": "markdown",
   "metadata": {},
   "source": [
    "### 性别隔离"
   ]
  },
  {
   "cell_type": "code",
   "execution_count": 13,
   "metadata": {},
   "outputs": [
    {
     "data": {
      "text/html": [
       "<div>\n",
       "<style>\n",
       "    .dataframe thead tr:only-child th {\n",
       "        text-align: right;\n",
       "    }\n",
       "\n",
       "    .dataframe thead th {\n",
       "        text-align: left;\n",
       "    }\n",
       "\n",
       "    .dataframe tbody tr th {\n",
       "        vertical-align: top;\n",
       "    }\n",
       "</style>\n",
       "<table border=\"1\" class=\"dataframe\">\n",
       "  <thead>\n",
       "    <tr style=\"text-align: right;\">\n",
       "      <th></th>\n",
       "      <th>Age</th>\n",
       "      <th>Query List</th>\n",
       "      <th>Gender</th>\n",
       "    </tr>\n",
       "  </thead>\n",
       "  <tbody>\n",
       "    <tr>\n",
       "      <th>0</th>\n",
       "      <td>1</td>\n",
       "      <td>[柔和, 双沟, 女生, 中财网, 首页, 财经, 周公, 解梦, 大全, 查询, 2345...</td>\n",
       "      <td>1</td>\n",
       "    </tr>\n",
       "    <tr>\n",
       "      <th>1</th>\n",
       "      <td>2</td>\n",
       "      <td>[广州, 厨宝, 烤箱, 世情, 人情, 雨送, 黄昏, 花易落, 风干, 泪痕, 厦门, ...</td>\n",
       "      <td>1</td>\n",
       "    </tr>\n",
       "    <tr>\n",
       "      <th>2</th>\n",
       "      <td>4</td>\n",
       "      <td>[钻石, 之泪, 耳机, 盘锦, 沈阳, 旅顺, 公交, 辽宁, 阜新, 车牌, baidu...</td>\n",
       "      <td>1</td>\n",
       "    </tr>\n",
       "    <tr>\n",
       "      <th>3</th>\n",
       "      <td>4</td>\n",
       "      <td>[受欢迎, 狗狗, 排行榜, 场景, 范例, 三维, 绘图, 软件, 酸奶, 壮观, 衣服,...</td>\n",
       "      <td>2</td>\n",
       "    </tr>\n",
       "    <tr>\n",
       "      <th>4</th>\n",
       "      <td>2</td>\n",
       "      <td>[干槽症, 自愈, 太太, 万岁, 舒心, 美国, 干槽症, 眼皮, 怎么回事, 麦当劳, ...</td>\n",
       "      <td>2</td>\n",
       "    </tr>\n",
       "  </tbody>\n",
       "</table>\n",
       "</div>"
      ],
      "text/plain": [
       "   Age                                         Query List  Gender\n",
       "0    1  [柔和, 双沟, 女生, 中财网, 首页, 财经, 周公, 解梦, 大全, 查询, 2345...       1\n",
       "1    2  [广州, 厨宝, 烤箱, 世情, 人情, 雨送, 黄昏, 花易落, 风干, 泪痕, 厦门, ...       1\n",
       "2    4  [钻石, 之泪, 耳机, 盘锦, 沈阳, 旅顺, 公交, 辽宁, 阜新, 车牌, baidu...       1\n",
       "3    4  [受欢迎, 狗狗, 排行榜, 场景, 范例, 三维, 绘图, 软件, 酸奶, 壮观, 衣服,...       2\n",
       "4    2  [干槽症, 自愈, 太太, 万岁, 舒心, 美国, 干槽症, 眼皮, 怎么回事, 麦当劳, ...       2"
      ]
     },
     "execution_count": 13,
     "metadata": {},
     "output_type": "execute_result"
    }
   ],
   "source": [
    "genderdf = traindf[['Age','Query List','Gender']]\n",
    "genderdf = genderdf[genderdf['Gender']!= 0]\n",
    "genderdf['Query List'] = genderdf['Query List'].apply(lambda x:x.split(' '))\n",
    "genderdf.head()"
   ]
  },
  {
   "cell_type": "code",
   "execution_count": 14,
   "metadata": {
    "collapsed": true
   },
   "outputs": [],
   "source": [
    "X_gender = genderdf['Query List'].values.tolist() "
   ]
  },
  {
   "cell_type": "code",
   "execution_count": 15,
   "metadata": {},
   "outputs": [
    {
     "name": "stdout",
     "output_type": "stream",
     "text": [
      "all_data len is  35122041\n",
      "couter len is   960444\n",
      "['<PAD>', '图片', '手机', '小说', '视频', '下载', '大全', 'qq', '电影', '中国']\n",
      "file write over\n"
     ]
    }
   ],
   "source": [
    "build_vocab(X_gender,vocab_file_gender,vocab_size = 40000)"
   ]
  },
  {
   "cell_type": "code",
   "execution_count": 16,
   "metadata": {
    "collapsed": true
   },
   "outputs": [],
   "source": [
    "del X_gender"
   ]
  },
  {
   "cell_type": "markdown",
   "metadata": {},
   "source": [
    "### 教育隔离"
   ]
  },
  {
   "cell_type": "code",
   "execution_count": 17,
   "metadata": {},
   "outputs": [
    {
     "data": {
      "text/html": [
       "<div>\n",
       "<style>\n",
       "    .dataframe thead tr:only-child th {\n",
       "        text-align: right;\n",
       "    }\n",
       "\n",
       "    .dataframe thead th {\n",
       "        text-align: left;\n",
       "    }\n",
       "\n",
       "    .dataframe tbody tr th {\n",
       "        vertical-align: top;\n",
       "    }\n",
       "</style>\n",
       "<table border=\"1\" class=\"dataframe\">\n",
       "  <thead>\n",
       "    <tr style=\"text-align: right;\">\n",
       "      <th></th>\n",
       "      <th>Education</th>\n",
       "      <th>Query List</th>\n",
       "    </tr>\n",
       "  </thead>\n",
       "  <tbody>\n",
       "    <tr>\n",
       "      <th>0</th>\n",
       "      <td>4</td>\n",
       "      <td>[柔和, 双沟, 女生, 中财网, 首页, 财经, 周公, 解梦, 大全, 查询, 2345...</td>\n",
       "    </tr>\n",
       "    <tr>\n",
       "      <th>1</th>\n",
       "      <td>3</td>\n",
       "      <td>[广州, 厨宝, 烤箱, 世情, 人情, 雨送, 黄昏, 花易落, 风干, 泪痕, 厦门, ...</td>\n",
       "    </tr>\n",
       "    <tr>\n",
       "      <th>3</th>\n",
       "      <td>3</td>\n",
       "      <td>[受欢迎, 狗狗, 排行榜, 场景, 范例, 三维, 绘图, 软件, 酸奶, 壮观, 衣服,...</td>\n",
       "    </tr>\n",
       "    <tr>\n",
       "      <th>4</th>\n",
       "      <td>4</td>\n",
       "      <td>[干槽症, 自愈, 太太, 万岁, 舒心, 美国, 干槽症, 眼皮, 怎么回事, 麦当劳, ...</td>\n",
       "    </tr>\n",
       "    <tr>\n",
       "      <th>6</th>\n",
       "      <td>3</td>\n",
       "      <td>[貔貅, 饲育, 指南, 韩姨, 贵阳, 古琴, 洛基, 风速, 英美, 店主, 好吃, 重...</td>\n",
       "    </tr>\n",
       "  </tbody>\n",
       "</table>\n",
       "</div>"
      ],
      "text/plain": [
       "   Education                                         Query List\n",
       "0          4  [柔和, 双沟, 女生, 中财网, 首页, 财经, 周公, 解梦, 大全, 查询, 2345...\n",
       "1          3  [广州, 厨宝, 烤箱, 世情, 人情, 雨送, 黄昏, 花易落, 风干, 泪痕, 厦门, ...\n",
       "3          3  [受欢迎, 狗狗, 排行榜, 场景, 范例, 三维, 绘图, 软件, 酸奶, 壮观, 衣服,...\n",
       "4          4  [干槽症, 自愈, 太太, 万岁, 舒心, 美国, 干槽症, 眼皮, 怎么回事, 麦当劳, ...\n",
       "6          3  [貔貅, 饲育, 指南, 韩姨, 贵阳, 古琴, 洛基, 风速, 英美, 店主, 好吃, 重..."
      ]
     },
     "execution_count": 17,
     "metadata": {},
     "output_type": "execute_result"
    }
   ],
   "source": [
    "educationdf = traindf[['Education','Query List']]\n",
    "educationdf = educationdf[educationdf['Education']!=0]\n",
    "educationdf['Query List'] = educationdf['Query List'].apply(lambda x:x.split(' '))\n",
    "educationdf.head()"
   ]
  },
  {
   "cell_type": "code",
   "execution_count": 18,
   "metadata": {
    "collapsed": true
   },
   "outputs": [],
   "source": [
    "X_education = educationdf['Query List'].values.tolist()"
   ]
  },
  {
   "cell_type": "code",
   "execution_count": 19,
   "metadata": {},
   "outputs": [
    {
     "name": "stdout",
     "output_type": "stream",
     "text": [
      "all_data len is  32519986\n",
      "couter len is   915241\n",
      "['<PAD>', '图片', '手机', '小说', '视频', '下载', '大全', 'qq', '电影', '中国']\n",
      "file write over\n"
     ]
    }
   ],
   "source": [
    "build_vocab(X_education,vocab_file_education,vocab_size = 40000)"
   ]
  },
  {
   "cell_type": "code",
   "execution_count": 20,
   "metadata": {
    "collapsed": true
   },
   "outputs": [],
   "source": [
    "del X_education"
   ]
  },
  {
   "cell_type": "code",
   "execution_count": null,
   "metadata": {
    "collapsed": true
   },
   "outputs": [],
   "source": []
  }
 ],
 "metadata": {
  "kernelspec": {
   "display_name": "Python 3",
   "language": "python",
   "name": "python3"
  },
  "language_info": {
   "codemirror_mode": {
    "name": "ipython",
    "version": 3
   },
   "file_extension": ".py",
   "mimetype": "text/x-python",
   "name": "python",
   "nbconvert_exporter": "python",
   "pygments_lexer": "ipython3",
   "version": "3.6.12"
  }
 },
 "nbformat": 4,
 "nbformat_minor": 2
}
