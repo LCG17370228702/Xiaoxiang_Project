{
 "cells": [
  {
   "cell_type": "markdown",
   "metadata": {},
   "source": [
    "## 导入模型"
   ]
  },
  {
   "cell_type": "code",
   "execution_count": 1,
   "metadata": {
    "collapsed": true
   },
   "outputs": [],
   "source": [
    "from tensorflow.keras import Input, Model\n",
    "from tensorflow.keras.layers import Embedding, Dense, Conv1D, GlobalMaxPooling1D, Concatenate, Dropout"
   ]
  },
  {
   "cell_type": "code",
   "execution_count": 2,
   "metadata": {
    "collapsed": true
   },
   "outputs": [],
   "source": [
    "# 神经网络配置\n",
    "max_features = 40001\n",
    "maxlen = 100\n",
    "batch_size = 256\n",
    "embedding_dims = 50\n",
    "epochs = 8\n",
    "vocab_size = 40000\n"
   ]
  },
  {
   "cell_type": "code",
   "execution_count": 3,
   "metadata": {
    "collapsed": true
   },
   "outputs": [],
   "source": [
    "class TextCNN(object):\n",
    "    def __init__(self, maxlen, max_features, embedding_dims,\n",
    "                 class_num=5,\n",
    "                 last_activation='softmax'):\n",
    "        self.maxlen = maxlen\n",
    "        self.max_features = max_features\n",
    "        self.embedding_dims = embedding_dims\n",
    "        self.class_num = class_num\n",
    "        self.last_activation = last_activation\n",
    "\n",
    "    def get_model(self):\n",
    "        input = Input((self.maxlen,))\n",
    "        embedding = Embedding(self.max_features, self.embedding_dims, input_length=self.maxlen)(input)\n",
    "        convs = []\n",
    "        for kernel_size in [3, 4, 5]:\n",
    "            c = Conv1D(128, kernel_size, activation='relu')(embedding)\n",
    "            c = GlobalMaxPooling1D()(c)\n",
    "            convs.append(c)\n",
    "        x = Concatenate()(convs)\n",
    "\n",
    "        output = Dense(self.class_num, activation=self.last_activation)(x)\n",
    "        model = Model(inputs=input, outputs=output)\n",
    "        return model"
   ]
  },
  {
   "cell_type": "code",
   "execution_count": 4,
   "metadata": {
    "collapsed": true
   },
   "outputs": [],
   "source": [
    "from tensorflow.keras.preprocessing import sequence\n",
    "import random\n",
    "from sklearn.model_selection import train_test_split\n",
    "from tensorflow.keras.callbacks import EarlyStopping, ModelCheckpoint\n",
    "from tensorflow.keras.utils import to_categorical\n",
    "import pandas as pd\n",
    "import matplotlib.pyplot as plt \n",
    "plt.switch_backend('agg')\n",
    "%matplotlib inline"
   ]
  },
  {
   "cell_type": "code",
   "execution_count": 5,
   "metadata": {
    "collapsed": true
   },
   "outputs": [],
   "source": [
    "import sys\n",
    "from collections import Counter\n",
    "import numpy as np\n",
    "import tensorflow.keras as kr\n",
    "import os"
   ]
  },
  {
   "cell_type": "markdown",
   "metadata": {},
   "source": [
    "## 定义一些数据处理函数"
   ]
  },
  {
   "cell_type": "code",
   "execution_count": 6,
   "metadata": {
    "collapsed": true
   },
   "outputs": [],
   "source": [
    "def read_vocab(vocab_file):\n",
    "    \"\"\"读取词汇表\"\"\"\n",
    "    # words = open_file(vocab_dir).read().strip().split('\\n')\n",
    "    with open(vocab_file,mode='r',encoding='utf-8') as fp:\n",
    "        # 如果是py2 则每个值都转化为unicode\n",
    "        words = [_.strip() for _ in fp.readlines()]\n",
    "    word_to_id = dict(zip(words, range(len(words))))\n",
    "    return words, word_to_id\n",
    "\n",
    "def encode_cate(content, words):\n",
    "    \"\"\"将id表示的内容转换为文字\"\"\"\n",
    "    return [(words[x] if x in words else 40000) for x in content]\n",
    "\n",
    "def encode_sentences(contents, words):\n",
    "    \"\"\"将id表示的内容转换为文字\"\"\"\n",
    "    return [encode_cate(x,words) for x in contents]"
   ]
  },
  {
   "cell_type": "markdown",
   "metadata": {},
   "source": [
    "这是一些类型的转换"
   ]
  },
  {
   "cell_type": "code",
   "execution_count": 7,
   "metadata": {
    "collapsed": true
   },
   "outputs": [],
   "source": [
    "age_to_id = {1:0,2:1,3:2,4:3,5:4,6:5}\n",
    "gender_to_id = {1:0,2:1}\n",
    "education_to_id = {1:0,2:1,3:2,4:3,5:4,6:5}"
   ]
  },
  {
   "cell_type": "code",
   "execution_count": 8,
   "metadata": {
    "collapsed": true
   },
   "outputs": [],
   "source": [
    "vocab_file_age = './Data/VersonData_4/vocab_file_age'\n",
    "vocab_file_gender = './Data/VersonData_4/vocab_file_gender'\n",
    "vocab_file_education = './Data/VersonData_4/vocab_file_education'"
   ]
  },
  {
   "cell_type": "markdown",
   "metadata": {},
   "source": [
    "## 表征搭建"
   ]
  },
  {
   "cell_type": "code",
   "execution_count": 9,
   "metadata": {},
   "outputs": [
    {
     "data": {
      "text/html": [
       "<div>\n",
       "<style>\n",
       "    .dataframe thead tr:only-child th {\n",
       "        text-align: right;\n",
       "    }\n",
       "\n",
       "    .dataframe thead th {\n",
       "        text-align: left;\n",
       "    }\n",
       "\n",
       "    .dataframe tbody tr th {\n",
       "        vertical-align: top;\n",
       "    }\n",
       "</style>\n",
       "<table border=\"1\" class=\"dataframe\">\n",
       "  <thead>\n",
       "    <tr style=\"text-align: right;\">\n",
       "      <th></th>\n",
       "      <th>ID</th>\n",
       "      <th>Age</th>\n",
       "      <th>Gender</th>\n",
       "      <th>Education</th>\n",
       "      <th>Query List</th>\n",
       "    </tr>\n",
       "  </thead>\n",
       "  <tbody>\n",
       "    <tr>\n",
       "      <th>0</th>\n",
       "      <td>22DD920316420BE2DF8D6EE651BA174B</td>\n",
       "      <td>1</td>\n",
       "      <td>1</td>\n",
       "      <td>4</td>\n",
       "      <td>柔和 双沟 女生 中财网 首页 财经 周公 解梦 大全 查询 2345 曹云金 再讽 郭德纲...</td>\n",
       "    </tr>\n",
       "    <tr>\n",
       "      <th>1</th>\n",
       "      <td>43CC3AF5A8D6430A3B572337A889AFE4</td>\n",
       "      <td>2</td>\n",
       "      <td>1</td>\n",
       "      <td>3</td>\n",
       "      <td>广州 厨宝 烤箱 世情 人情 雨送 黄昏 花易落 风干 泪痕 厦门 酒店用品 批发市场 不想...</td>\n",
       "    </tr>\n",
       "    <tr>\n",
       "      <th>2</th>\n",
       "      <td>E97654BFF5570E2CCD433EA6128EAC19</td>\n",
       "      <td>4</td>\n",
       "      <td>1</td>\n",
       "      <td>0</td>\n",
       "      <td>钻石 之泪 耳机 盘锦 沈阳 旅顺 公交 辽宁 阜新 车牌 baidu k715 k716 ...</td>\n",
       "    </tr>\n",
       "    <tr>\n",
       "      <th>3</th>\n",
       "      <td>6931EFC26D229CCFCEA125D3F3C21E57</td>\n",
       "      <td>4</td>\n",
       "      <td>2</td>\n",
       "      <td>3</td>\n",
       "      <td>受欢迎 狗狗 排行榜 场景 范例 三维 绘图 软件 酸奶 壮观 衣服 网站 动漫 绘图 软件...</td>\n",
       "    </tr>\n",
       "    <tr>\n",
       "      <th>4</th>\n",
       "      <td>E780470C3BB0D340334BD08CDCC3C71A</td>\n",
       "      <td>2</td>\n",
       "      <td>2</td>\n",
       "      <td>4</td>\n",
       "      <td>干槽症 自愈 太太 万岁 舒心 美国 干槽症 眼皮 怎么回事 麦当劳 旋风 勺子 吉林市 鹿...</td>\n",
       "    </tr>\n",
       "  </tbody>\n",
       "</table>\n",
       "</div>"
      ],
      "text/plain": [
       "                                 ID  Age  Gender  Education  \\\n",
       "0  22DD920316420BE2DF8D6EE651BA174B    1       1          4   \n",
       "1  43CC3AF5A8D6430A3B572337A889AFE4    2       1          3   \n",
       "2  E97654BFF5570E2CCD433EA6128EAC19    4       1          0   \n",
       "3  6931EFC26D229CCFCEA125D3F3C21E57    4       2          3   \n",
       "4  E780470C3BB0D340334BD08CDCC3C71A    2       2          4   \n",
       "\n",
       "                                          Query List  \n",
       "0  柔和 双沟 女生 中财网 首页 财经 周公 解梦 大全 查询 2345 曹云金 再讽 郭德纲...  \n",
       "1  广州 厨宝 烤箱 世情 人情 雨送 黄昏 花易落 风干 泪痕 厦门 酒店用品 批发市场 不想...  \n",
       "2  钻石 之泪 耳机 盘锦 沈阳 旅顺 公交 辽宁 阜新 车牌 baidu k715 k716 ...  \n",
       "3  受欢迎 狗狗 排行榜 场景 范例 三维 绘图 软件 酸奶 壮观 衣服 网站 动漫 绘图 软件...  \n",
       "4  干槽症 自愈 太太 万岁 舒心 美国 干槽症 眼皮 怎么回事 麦当劳 旋风 勺子 吉林市 鹿...  "
      ]
     },
     "execution_count": 9,
     "metadata": {},
     "output_type": "execute_result"
    }
   ],
   "source": [
    "file_proce_path = './Data/VersonData_2/traindf.csv'\n",
    "traindf = pd.read_csv(file_proce_path,encoding='utf-8')\n",
    "traindf.head()"
   ]
  },
  {
   "cell_type": "markdown",
   "metadata": {},
   "source": [
    "### age测试"
   ]
  },
  {
   "cell_type": "code",
   "execution_count": 10,
   "metadata": {
    "collapsed": true
   },
   "outputs": [],
   "source": [
    "agedf= traindf[['Age','Query List']]\n",
    "agedf = agedf[agedf['Age']!=0]\n",
    "X_age = agedf['Query List'].values.tolist()\n",
    "Y_age = agedf['Age'].values.tolist()"
   ]
  },
  {
   "cell_type": "code",
   "execution_count": 11,
   "metadata": {
    "collapsed": true
   },
   "outputs": [],
   "source": [
    "age_words, age_word_to_id = read_vocab(vocab_file_age)"
   ]
  },
  {
   "cell_type": "code",
   "execution_count": 12,
   "metadata": {
    "collapsed": true
   },
   "outputs": [],
   "source": [
    "#数据打乱 \n",
    "data = list(zip(X_age,Y_age))\n",
    "del X_age,Y_age\n",
    "random.shuffle(data)\n",
    "X_age,Y_age = zip(*data)"
   ]
  },
  {
   "cell_type": "code",
   "execution_count": 13,
   "metadata": {
    "collapsed": true
   },
   "outputs": [],
   "source": [
    "datax_train, datax_test,datay_train,datay_test = train_test_split(X_age,Y_age,random_state =33)"
   ]
  },
  {
   "cell_type": "code",
   "execution_count": 14,
   "metadata": {
    "collapsed": true
   },
   "outputs": [],
   "source": [
    "x_train = encode_sentences([content[0] for content in datax_train], age_word_to_id)\n",
    "y_train = to_categorical(encode_cate(datay_train, age_to_id))\n",
    "x_test = encode_sentences([content[0] for content in datax_test], age_word_to_id)\n",
    "y_test = to_categorical(encode_cate(datay_test, age_to_id))"
   ]
  },
  {
   "cell_type": "code",
   "execution_count": 16,
   "metadata": {},
   "outputs": [
    {
     "name": "stdout",
     "output_type": "stream",
     "text": [
      "对序列做padding，保证是 samples*timestep 的维度\n",
      "x_train shape: (73750, 100)\n",
      "x_test shape: (24584, 100)\n",
      "y_test shape: (24584, 6)\n"
     ]
    }
   ],
   "source": [
    "print('对序列做padding，保证是 samples*timestep 的维度')\n",
    "x_train = sequence.pad_sequences(x_train, maxlen=maxlen)\n",
    "x_test = sequence.pad_sequences(x_test, maxlen=maxlen)\n",
    "print('x_train shape:', x_train.shape)\n",
    "print('x_test shape:', x_test.shape)\n",
    "print('y_test shape:', y_test.shape)"
   ]
  },
  {
   "cell_type": "code",
   "execution_count": 17,
   "metadata": {},
   "outputs": [
    {
     "name": "stdout",
     "output_type": "stream",
     "text": [
      "构建模型...\n",
      "WARNING:tensorflow:From D:\\PYTHON\\SDK\\lib\\site-packages\\tensorflow\\python\\keras\\initializers.py:119: calling RandomUniform.__init__ (from tensorflow.python.ops.init_ops) with dtype is deprecated and will be removed in a future version.\n",
      "Instructions for updating:\n",
      "Call initializer instance with the dtype argument instead of passing it to the constructor\n",
      "WARNING:tensorflow:From D:\\PYTHON\\SDK\\lib\\site-packages\\tensorflow\\python\\ops\\init_ops.py:1251: calling VarianceScaling.__init__ (from tensorflow.python.ops.init_ops) with dtype is deprecated and will be removed in a future version.\n",
      "Instructions for updating:\n",
      "Call initializer instance with the dtype argument instead of passing it to the constructor\n"
     ]
    }
   ],
   "source": [
    "print('构建模型...')\n",
    "age_model = TextCNN(maxlen, max_features, embedding_dims,class_num=6).get_model()\n",
    "age_model.compile('adam', 'categorical_crossentropy', metrics=['accuracy'])"
   ]
  },
  {
   "cell_type": "code",
   "execution_count": 10,
   "metadata": {
    "collapsed": true
   },
   "outputs": [],
   "source": [
    "# 设定callbacks回调函数\n",
    "age_model_file = './Model/cnn_age_model.h5'\n",
    "my_callbacks = [\n",
    "    ModelCheckpoint(age_model_file, verbose=1),\n",
    "    EarlyStopping(monitor='val_accuracy', patience=2, mode='max')\n",
    "]"
   ]
  },
  {
   "cell_type": "code",
   "execution_count": 21,
   "metadata": {},
   "outputs": [
    {
     "name": "stdout",
     "output_type": "stream",
     "text": [
      "Train on 73750 samples, validate on 24584 samples\n",
      "Epoch 1/8\n",
      "73216/73750 [============================>.] - ETA: 0s - loss: 1.4152 - acc: 0.3943\n",
      "Epoch 00001: saving model to ./Model/cnn_age_model.h5\n",
      "WARNING:tensorflow:Early stopping conditioned on metric `val_accuracy` which is not available. Available metrics are: loss,acc,val_loss,val_acc\n",
      "73750/73750 [==============================] - 7s 101us/sample - loss: 1.4151 - acc: 0.3945 - val_loss: 1.3875 - val_acc: 0.3992\n",
      "Epoch 2/8\n",
      "73216/73750 [============================>.] - ETA: 0s - loss: 1.3813 - acc: 0.4056\n",
      "Epoch 00002: saving model to ./Model/cnn_age_model.h5\n",
      "WARNING:tensorflow:Early stopping conditioned on metric `val_accuracy` which is not available. Available metrics are: loss,acc,val_loss,val_acc\n",
      "73750/73750 [==============================] - 6s 78us/sample - loss: 1.3812 - acc: 0.4055 - val_loss: 1.3896 - val_acc: 0.3967\n",
      "Epoch 3/8\n",
      "73216/73750 [============================>.] - ETA: 0s - loss: 1.3667 - acc: 0.4134\n",
      "Epoch 00003: saving model to ./Model/cnn_age_model.h5\n",
      "WARNING:tensorflow:Early stopping conditioned on metric `val_accuracy` which is not available. Available metrics are: loss,acc,val_loss,val_acc\n",
      "73750/73750 [==============================] - 6s 79us/sample - loss: 1.3665 - acc: 0.4135 - val_loss: 1.3961 - val_acc: 0.3976\n",
      "Epoch 4/8\n",
      "73216/73750 [============================>.] - ETA: 0s - loss: 1.3558 - acc: 0.4193\n",
      "Epoch 00004: saving model to ./Model/cnn_age_model.h5\n",
      "WARNING:tensorflow:Early stopping conditioned on metric `val_accuracy` which is not available. Available metrics are: loss,acc,val_loss,val_acc\n",
      "73750/73750 [==============================] - 6s 79us/sample - loss: 1.3558 - acc: 0.4193 - val_loss: 1.4011 - val_acc: 0.3938\n",
      "Epoch 5/8\n",
      "73216/73750 [============================>.] - ETA: 0s - loss: 1.3478 - acc: 0.4204\n",
      "Epoch 00005: saving model to ./Model/cnn_age_model.h5\n",
      "WARNING:tensorflow:Early stopping conditioned on metric `val_accuracy` which is not available. Available metrics are: loss,acc,val_loss,val_acc\n",
      "73750/73750 [==============================] - 6s 79us/sample - loss: 1.3479 - acc: 0.4205 - val_loss: 1.4073 - val_acc: 0.3975\n",
      "Epoch 6/8\n",
      "73216/73750 [============================>.] - ETA: 0s - loss: 1.3410 - acc: 0.4206\n",
      "Epoch 00006: saving model to ./Model/cnn_age_model.h5\n",
      "WARNING:tensorflow:Early stopping conditioned on metric `val_accuracy` which is not available. Available metrics are: loss,acc,val_loss,val_acc\n",
      "73750/73750 [==============================] - 6s 79us/sample - loss: 1.3409 - acc: 0.4208 - val_loss: 1.4175 - val_acc: 0.3888\n",
      "Epoch 7/8\n",
      "73216/73750 [============================>.] - ETA: 0s - loss: 1.3350 - acc: 0.4234\n",
      "Epoch 00007: saving model to ./Model/cnn_age_model.h5\n",
      "WARNING:tensorflow:Early stopping conditioned on metric `val_accuracy` which is not available. Available metrics are: loss,acc,val_loss,val_acc\n",
      "73750/73750 [==============================] - 6s 79us/sample - loss: 1.3351 - acc: 0.4232 - val_loss: 1.4246 - val_acc: 0.3902\n",
      "Epoch 8/8\n",
      "73216/73750 [============================>.] - ETA: 0s - loss: 1.3291 - acc: 0.4244\n",
      "Epoch 00008: saving model to ./Model/cnn_age_model.h5\n",
      "WARNING:tensorflow:Early stopping conditioned on metric `val_accuracy` which is not available. Available metrics are: loss,acc,val_loss,val_acc\n",
      "73750/73750 [==============================] - 6s 79us/sample - loss: 1.3294 - acc: 0.4245 - val_loss: 1.4300 - val_acc: 0.3956\n"
     ]
    }
   ],
   "source": [
    "# fit拟合数据\n",
    "history = age_model.fit(x_train, y_train,\n",
    "          batch_size=batch_size,\n",
    "          epochs=epochs,\n",
    "          callbacks=my_callbacks,\n",
    "          validation_data=(x_test, y_test))"
   ]
  },
  {
   "cell_type": "code",
   "execution_count": 22,
   "metadata": {},
   "outputs": [
    {
     "data": {
      "image/png": "[encoded data removed]",
      "text/plain": [
       "<Figure size 432x288 with 1 Axes>"
      ]
     },
     "metadata": {
      "needs_background": "light"
     },
     "output_type": "display_data"
    }
   ],
   "source": [
    "fig1 = plt.figure()\n",
    "plt.plot(history.history['loss'],'r',linewidth=3.0)\n",
    "plt.plot(history.history['val_loss'],'b',linewidth=3.0)\n",
    "plt.legend(['Training loss', 'Validation Loss'],fontsize=18)\n",
    "plt.xlabel('Epochs ',fontsize=16)\n",
    "plt.ylabel('Loss',fontsize=16)\n",
    "plt.title('Loss Curves :CNN',fontsize=16)\n",
    "#fig1.savefig('../../tmp/loss_cnn.png')\n",
    "plt.show()"
   ]
  },
  {
   "cell_type": "code",
   "execution_count": 23,
   "metadata": {},
   "outputs": [
    {
     "data": {
      "image/png": "[encoded data removed]",
      "text/plain": [
       "<Figure size 432x288 with 1 Axes>"
      ]
     },
     "metadata": {
      "needs_background": "light"
     },
     "output_type": "display_data"
    }
   ],
   "source": [
    "fig2=plt.figure()\n",
    "plt.plot(history.history['acc'],'r',linewidth=3.0)\n",
    "plt.plot(history.history['val_acc'],'b',linewidth=3.0)\n",
    "plt.legend(['Training Accuracy', 'Validation Accuracy'],fontsize=18)\n",
    "plt.xlabel('Epochs ',fontsize=16)\n",
    "plt.ylabel('Accuracy',fontsize=16)\n",
    "plt.title('Accuracy Curves : CNN',fontsize=16)\n",
    "#fig2.savefig('../../tmp/accuracy_cnn.png')\n",
    "plt.show()"
   ]
  },
  {
   "cell_type": "markdown",
   "metadata": {},
   "source": [
    "### 改用分层抽样"
   ]
  },
  {
   "cell_type": "code",
   "execution_count": 16,
   "metadata": {
    "collapsed": true
   },
   "outputs": [],
   "source": [
    "from sklearn.model_selection import StratifiedKFold"
   ]
  },
  {
   "cell_type": "code",
   "execution_count": 17,
   "metadata": {
    "collapsed": true
   },
   "outputs": [],
   "source": [
    "import warnings\n",
    "warnings.filterwarnings(\"ignore\")"
   ]
  },
  {
   "cell_type": "code",
   "execution_count": 26,
   "metadata": {
    "collapsed": true
   },
   "outputs": [],
   "source": [
    "npX = np.array(X_age)\n",
    "npY = np.array(Y_age)"
   ]
  },
  {
   "cell_type": "code",
   "execution_count": 31,
   "metadata": {
    "collapsed": true
   },
   "outputs": [],
   "source": [
    "stratifiedk_fold = StratifiedKFold(n_splits=5, shuffle=True)\n",
    "train_index=[] \n",
    "test_index = []\n",
    "for ta_index,te_index  in stratifiedk_fold.split(npX, npY):\n",
    "    train_index.append(ta_index)\n",
    "    test_index.append(te_index)"
   ]
  },
  {
   "cell_type": "code",
   "execution_count": 32,
   "metadata": {
    "collapsed": true
   },
   "outputs": [],
   "source": [
    "x_train = npX[train_index[0]]\n",
    "x_test = npX[test_index[0]]\n",
    "y_train = npY[train_index[0]]\n",
    "y_test = npY[test_index[0]]"
   ]
  },
  {
   "cell_type": "code",
   "execution_count": 36,
   "metadata": {
    "collapsed": true
   },
   "outputs": [],
   "source": [
    "xs_train = encode_sentences([content[0] for content in list(x_train)], age_word_to_id)\n",
    "ys_train = to_categorical(encode_cate(list(y_train), age_to_id))\n",
    "xs_test = encode_sentences([content[0] for content in list(x_test)], age_word_to_id)\n",
    "ys_test = to_categorical(encode_cate(list(y_test), age_to_id))"
   ]
  },
  {
   "cell_type": "code",
   "execution_count": 38,
   "metadata": {},
   "outputs": [
    {
     "name": "stdout",
     "output_type": "stream",
     "text": [
      "对序列做padding，保证是 samples*timestep 的维度\n",
      "x_train shape: (78665, 100)\n",
      "x_test shape: (19669, 100)\n",
      "y_test shape: (19669, 6)\n"
     ]
    }
   ],
   "source": [
    "print('对序列做padding，保证是 samples*timestep 的维度')\n",
    "xs_train = sequence.pad_sequences(xs_train, maxlen=maxlen)\n",
    "xs_test = sequence.pad_sequences(xs_test, maxlen=maxlen)\n",
    "print('x_train shape:', xs_train.shape)\n",
    "print('x_test shape:', xs_test.shape)\n",
    "print('y_test shape:', ys_test.shape)"
   ]
  },
  {
   "cell_type": "code",
   "execution_count": 39,
   "metadata": {},
   "outputs": [
    {
     "name": "stdout",
     "output_type": "stream",
     "text": [
      "构建模型...\n"
     ]
    }
   ],
   "source": [
    "print('构建模型...')\n",
    "age_model_sta = TextCNN(maxlen, max_features, embedding_dims,class_num=6).get_model()\n",
    "age_model_sta.compile('adam', 'categorical_crossentropy', metrics=['accuracy'])"
   ]
  },
  {
   "cell_type": "code",
   "execution_count": 40,
   "metadata": {
    "collapsed": true
   },
   "outputs": [],
   "source": [
    "age_model_file = './Model/cnn_age2_model.h5'"
   ]
  },
  {
   "cell_type": "code",
   "execution_count": 43,
   "metadata": {},
   "outputs": [
    {
     "name": "stdout",
     "output_type": "stream",
     "text": [
      "Train on 78665 samples, validate on 19669 samples\n",
      "Epoch 1/8\n",
      "78592/78665 [============================>.] - ETA: 0s - loss: 1.4095 - acc: 0.3951\n",
      "Epoch 00001: saving model to ./Model/cnn_age_model.h5\n",
      "WARNING:tensorflow:Early stopping conditioned on metric `val_accuracy` which is not available. Available metrics are: loss,acc,val_loss,val_acc\n",
      "78665/78665 [==============================] - 7s 85us/sample - loss: 1.4094 - acc: 0.3951 - val_loss: 1.3949 - val_acc: 0.4007\n",
      "Epoch 2/8\n",
      "78592/78665 [============================>.] - ETA: 0s - loss: 1.3786 - acc: 0.4046\n",
      "Epoch 00002: saving model to ./Model/cnn_age_model.h5\n",
      "WARNING:tensorflow:Early stopping conditioned on metric `val_accuracy` which is not available. Available metrics are: loss,acc,val_loss,val_acc\n",
      "78665/78665 [==============================] - 6s 79us/sample - loss: 1.3786 - acc: 0.4046 - val_loss: 1.3948 - val_acc: 0.3884\n",
      "Epoch 3/8\n",
      "78592/78665 [============================>.] - ETA: 0s - loss: 1.3648 - acc: 0.4134\n",
      "Epoch 00003: saving model to ./Model/cnn_age_model.h5\n",
      "WARNING:tensorflow:Early stopping conditioned on metric `val_accuracy` which is not available. Available metrics are: loss,acc,val_loss,val_acc\n",
      "78665/78665 [==============================] - 6s 78us/sample - loss: 1.3649 - acc: 0.4135 - val_loss: 1.3979 - val_acc: 0.3944\n",
      "Epoch 4/8\n",
      "78592/78665 [============================>.] - ETA: 0s - loss: 1.3543 - acc: 0.4181\n",
      "Epoch 00004: saving model to ./Model/cnn_age_model.h5\n",
      "WARNING:tensorflow:Early stopping conditioned on metric `val_accuracy` which is not available. Available metrics are: loss,acc,val_loss,val_acc\n",
      "78665/78665 [==============================] - 6s 78us/sample - loss: 1.3544 - acc: 0.4181 - val_loss: 1.4051 - val_acc: 0.3975\n",
      "Epoch 5/8\n",
      "78592/78665 [============================>.] - ETA: 0s - loss: 1.3461 - acc: 0.4211\n",
      "Epoch 00005: saving model to ./Model/cnn_age_model.h5\n",
      "WARNING:tensorflow:Early stopping conditioned on metric `val_accuracy` which is not available. Available metrics are: loss,acc,val_loss,val_acc\n",
      "78665/78665 [==============================] - 6s 78us/sample - loss: 1.3460 - acc: 0.4211 - val_loss: 1.4157 - val_acc: 0.3945\n",
      "Epoch 6/8\n",
      "78592/78665 [============================>.] - ETA: 0s - loss: 1.3400 - acc: 0.4217\n",
      "Epoch 00006: saving model to ./Model/cnn_age_model.h5\n",
      "WARNING:tensorflow:Early stopping conditioned on metric `val_accuracy` which is not available. Available metrics are: loss,acc,val_loss,val_acc\n",
      "78665/78665 [==============================] - 6s 78us/sample - loss: 1.3401 - acc: 0.4216 - val_loss: 1.4168 - val_acc: 0.3974\n",
      "Epoch 7/8\n",
      "78592/78665 [============================>.] - ETA: 0s - loss: 1.3348 - acc: 0.4225\n",
      "Epoch 00007: saving model to ./Model/cnn_age_model.h5\n",
      "WARNING:tensorflow:Early stopping conditioned on metric `val_accuracy` which is not available. Available metrics are: loss,acc,val_loss,val_acc\n",
      "78665/78665 [==============================] - 6s 79us/sample - loss: 1.3347 - acc: 0.4226 - val_loss: 1.4212 - val_acc: 0.3970\n",
      "Epoch 8/8\n",
      "78592/78665 [============================>.] - ETA: 0s - loss: 1.3302 - acc: 0.4222\n",
      "Epoch 00008: saving model to ./Model/cnn_age_model.h5\n",
      "WARNING:tensorflow:Early stopping conditioned on metric `val_accuracy` which is not available. Available metrics are: loss,acc,val_loss,val_acc\n",
      "78665/78665 [==============================] - 6s 78us/sample - loss: 1.3304 - acc: 0.4222 - val_loss: 1.4308 - val_acc: 0.3925\n"
     ]
    }
   ],
   "source": [
    "# fit拟合数据\n",
    "history = age_model_sta.fit(xs_train, ys_train,\n",
    "          batch_size=batch_size,\n",
    "          epochs=epochs,\n",
    "          callbacks=my_callbacks,\n",
    "          validation_data=(xs_test, ys_test))"
   ]
  },
  {
   "cell_type": "code",
   "execution_count": 24,
   "metadata": {
    "collapsed": true
   },
   "outputs": [],
   "source": [
    "def plt_show_loss(history):\n",
    "    plt.plot(history.history['loss'],'r',linewidth=3.0)\n",
    "    plt.plot(history.history['val_loss'],'b',linewidth=3.0)\n",
    "    plt.legend(['Training loss', 'Validation Loss'],fontsize=18)\n",
    "    plt.xlabel('Epochs ',fontsize=16)\n",
    "    plt.ylabel('Loss',fontsize=16)\n",
    "    plt.title('Loss Curves :CNN',fontsize=16)\n",
    "    plt.show()\n",
    "\n",
    "    \n",
    "def plt_show_acc(history):\n",
    "    plt.plot(history.history['acc'],'r',linewidth=3.0)\n",
    "    plt.plot(history.history['val_acc'],'b',linewidth=3.0)\n",
    "    plt.legend(['Training Accuracy', 'Validation Accuracy'],fontsize=18)\n",
    "    plt.xlabel('Epochs ',fontsize=16)\n",
    "    plt.ylabel('Accuracy',fontsize=16)\n",
    "    plt.title('Accuracy Curves : CNN',fontsize=16)\n",
    "    plt.show()  \n",
    "    "
   ]
  },
  {
   "cell_type": "code",
   "execution_count": 44,
   "metadata": {},
   "outputs": [
    {
     "data": {
      "image/png": "[encoded data removed]",
      "text/plain": [
       "<Figure size 432x288 with 1 Axes>"
      ]
     },
     "metadata": {
      "needs_background": "light"
     },
     "output_type": "display_data"
    }
   ],
   "source": [
    "plt_show_loss(history)"
   ]
  },
  {
   "cell_type": "code",
   "execution_count": 45,
   "metadata": {},
   "outputs": [
    {
     "data": {
      "image/png": "[encoded data removed]",
      "text/plain": [
       "<Figure size 432x288 with 1 Axes>"
      ]
     },
     "metadata": {
      "needs_background": "light"
     },
     "output_type": "display_data"
    }
   ],
   "source": [
    "plt_show_acc(history)"
   ]
  },
  {
   "cell_type": "markdown",
   "metadata": {},
   "source": [
    "## 测试性别"
   ]
  },
  {
   "cell_type": "code",
   "execution_count": 46,
   "metadata": {
    "collapsed": true
   },
   "outputs": [],
   "source": [
    "genderdf = traindf[['Age','Query List','Gender']]\n",
    "genderdf = genderdf[genderdf['Gender']!= 0]\n",
    "X_gender = genderdf['Query List'].values.tolist()\n",
    "Y_gender = genderdf['Gender'].values.tolist() \n",
    "Y_ageflg = genderdf['Age'].values.tolist() "
   ]
  },
  {
   "cell_type": "code",
   "execution_count": 47,
   "metadata": {
    "collapsed": true
   },
   "outputs": [],
   "source": [
    "gender_words, gender_word_to_id = read_vocab(vocab_file_gender)"
   ]
  },
  {
   "cell_type": "code",
   "execution_count": 48,
   "metadata": {
    "collapsed": true
   },
   "outputs": [],
   "source": [
    "npX_gender = np.array(X_gender)\n",
    "npY_gender = np.array(Y_gender)\n",
    "npY_ageflg = np.array(Y_ageflg)"
   ]
  },
  {
   "cell_type": "code",
   "execution_count": 49,
   "metadata": {
    "collapsed": true
   },
   "outputs": [],
   "source": [
    "train_index_gender=[] \n",
    "test_index_gender = []\n",
    "for ta_index,te_index  in stratifiedk_fold.split(npX_gender, npY_ageflg):\n",
    "    train_index_gender.append(ta_index)\n",
    "    test_index_gender.append(te_index)"
   ]
  },
  {
   "cell_type": "code",
   "execution_count": 50,
   "metadata": {
    "collapsed": true
   },
   "outputs": [],
   "source": [
    "x_train = npX_gender[train_index_gender[0]]\n",
    "x_test = npX_gender[test_index_gender[0]]\n",
    "y_train = npY_gender[train_index_gender[0]]\n",
    "y_test = npY_gender[test_index_gender[0]]"
   ]
  },
  {
   "cell_type": "code",
   "execution_count": 51,
   "metadata": {
    "collapsed": true
   },
   "outputs": [],
   "source": [
    "del age_model_sta,age_model"
   ]
  },
  {
   "cell_type": "code",
   "execution_count": 52,
   "metadata": {
    "collapsed": true
   },
   "outputs": [],
   "source": [
    "del npX,npY,X_age,Y_age"
   ]
  },
  {
   "cell_type": "code",
   "execution_count": 53,
   "metadata": {
    "collapsed": true
   },
   "outputs": [],
   "source": [
    "xs_train = encode_sentences([content[0] for content in list(x_train)], gender_word_to_id)\n",
    "ys_train = to_categorical(encode_cate(list(y_train), gender_to_id))\n",
    "xs_test = encode_sentences([content[0] for content in list(x_test)], gender_word_to_id)\n",
    "ys_test = to_categorical(encode_cate(list(y_test), gender_to_id))"
   ]
  },
  {
   "cell_type": "code",
   "execution_count": 54,
   "metadata": {},
   "outputs": [
    {
     "name": "stdout",
     "output_type": "stream",
     "text": [
      "对序列做padding，保证是 samples*timestep 的维度\n",
      "x_train shape: (78273, 100)\n",
      "x_test shape: (19572, 100)\n",
      "y_test shape: (19572, 2)\n"
     ]
    }
   ],
   "source": [
    "print('对序列做padding，保证是 samples*timestep 的维度')\n",
    "xs_train = sequence.pad_sequences(xs_train, maxlen=maxlen)\n",
    "xs_test = sequence.pad_sequences(xs_test, maxlen=maxlen)\n",
    "print('x_train shape:', xs_train.shape)\n",
    "print('x_test shape:', xs_test.shape)\n",
    "print('y_test shape:', ys_test.shape)"
   ]
  },
  {
   "cell_type": "code",
   "execution_count": 57,
   "metadata": {},
   "outputs": [
    {
     "name": "stdout",
     "output_type": "stream",
     "text": [
      "构建模型...\n"
     ]
    }
   ],
   "source": [
    "print('构建模型...')\n",
    "gender_model = TextCNN(maxlen, max_features, embedding_dims,class_num=2).get_model()\n",
    "gender_model.compile('adam', 'categorical_crossentropy', metrics=['accuracy'])\n",
    "gender_model_file = './Model/cnn_gender_model.h5'"
   ]
  },
  {
   "cell_type": "code",
   "execution_count": 56,
   "metadata": {
    "collapsed": true
   },
   "outputs": [],
   "source": [
    "del gender_model"
   ]
  },
  {
   "cell_type": "code",
   "execution_count": 58,
   "metadata": {},
   "outputs": [
    {
     "name": "stdout",
     "output_type": "stream",
     "text": [
      "Train on 78273 samples, validate on 19572 samples\n",
      "Epoch 1/8\n",
      "77824/78273 [============================>.] - ETA: 0s - loss: 0.6700 - acc: 0.5920\n",
      "Epoch 00001: saving model to ./Model/cnn_age_model.h5\n",
      "WARNING:tensorflow:Early stopping conditioned on metric `val_accuracy` which is not available. Available metrics are: loss,acc,val_loss,val_acc\n",
      "78273/78273 [==============================] - 8s 101us/sample - loss: 0.6699 - acc: 0.5923 - val_loss: 0.6690 - val_acc: 0.5917\n",
      "Epoch 2/8\n",
      "77824/78273 [============================>.] - ETA: 0s - loss: 0.6550 - acc: 0.6126\n",
      "Epoch 00002: saving model to ./Model/cnn_age_model.h5\n",
      "WARNING:tensorflow:Early stopping conditioned on metric `val_accuracy` which is not available. Available metrics are: loss,acc,val_loss,val_acc\n",
      "78273/78273 [==============================] - 6s 79us/sample - loss: 0.6551 - acc: 0.6125 - val_loss: 0.6694 - val_acc: 0.5937\n",
      "Epoch 3/8\n",
      "77824/78273 [============================>.] - ETA: 0s - loss: 0.6504 - acc: 0.6186\n",
      "Epoch 00003: saving model to ./Model/cnn_age_model.h5\n",
      "WARNING:tensorflow:Early stopping conditioned on metric `val_accuracy` which is not available. Available metrics are: loss,acc,val_loss,val_acc\n",
      "78273/78273 [==============================] - 6s 82us/sample - loss: 0.6503 - acc: 0.6187 - val_loss: 0.6750 - val_acc: 0.5941\n",
      "Epoch 4/8\n",
      "77824/78273 [============================>.] - ETA: 0s - loss: 0.6469 - acc: 0.6218\n",
      "Epoch 00004: saving model to ./Model/cnn_age_model.h5\n",
      "WARNING:tensorflow:Early stopping conditioned on metric `val_accuracy` which is not available. Available metrics are: loss,acc,val_loss,val_acc\n",
      "78273/78273 [==============================] - 6s 81us/sample - loss: 0.6469 - acc: 0.6217 - val_loss: 0.6760 - val_acc: 0.5943\n",
      "Epoch 5/8\n",
      "77824/78273 [============================>.] - ETA: 0s - loss: 0.6454 - acc: 0.6230\n",
      "Epoch 00005: saving model to ./Model/cnn_age_model.h5\n",
      "WARNING:tensorflow:Early stopping conditioned on metric `val_accuracy` which is not available. Available metrics are: loss,acc,val_loss,val_acc\n",
      "78273/78273 [==============================] - 6s 81us/sample - loss: 0.6455 - acc: 0.6228 - val_loss: 0.6750 - val_acc: 0.5938\n",
      "Epoch 6/8\n",
      "77824/78273 [============================>.] - ETA: 0s - loss: 0.6439 - acc: 0.6248\n",
      "Epoch 00006: saving model to ./Model/cnn_age_model.h5\n",
      "WARNING:tensorflow:Early stopping conditioned on metric `val_accuracy` which is not available. Available metrics are: loss,acc,val_loss,val_acc\n",
      "78273/78273 [==============================] - 6s 78us/sample - loss: 0.6440 - acc: 0.6246 - val_loss: 0.6780 - val_acc: 0.5921\n",
      "Epoch 7/8\n",
      "77824/78273 [============================>.] - ETA: 0s - loss: 0.6430 - acc: 0.6247\n",
      "Epoch 00007: saving model to ./Model/cnn_age_model.h5\n",
      "WARNING:tensorflow:Early stopping conditioned on metric `val_accuracy` which is not available. Available metrics are: loss,acc,val_loss,val_acc\n",
      "78273/78273 [==============================] - 6s 78us/sample - loss: 0.6429 - acc: 0.6248 - val_loss: 0.6754 - val_acc: 0.5930\n",
      "Epoch 8/8\n",
      "77824/78273 [============================>.] - ETA: 0s - loss: 0.6419 - acc: 0.6251\n",
      "Epoch 00008: saving model to ./Model/cnn_age_model.h5\n",
      "WARNING:tensorflow:Early stopping conditioned on metric `val_accuracy` which is not available. Available metrics are: loss,acc,val_loss,val_acc\n",
      "78273/78273 [==============================] - 6s 79us/sample - loss: 0.6420 - acc: 0.6250 - val_loss: 0.6841 - val_acc: 0.5938\n"
     ]
    }
   ],
   "source": [
    "# fit拟合数据\n",
    "history_gender = gender_model.fit(xs_train, ys_train,\n",
    "          batch_size=batch_size,\n",
    "          epochs=epochs,\n",
    "          callbacks=my_callbacks,\n",
    "          validation_data=(xs_test, ys_test))"
   ]
  },
  {
   "cell_type": "code",
   "execution_count": 60,
   "metadata": {},
   "outputs": [
    {
     "data": {
      "image/png": "[encoded data removed]",
      "text/plain": [
       "<Figure size 432x288 with 1 Axes>"
      ]
     },
     "metadata": {
      "needs_background": "light"
     },
     "output_type": "display_data"
    }
   ],
   "source": [
    "plt_show_loss(history_gender)"
   ]
  },
  {
   "cell_type": "code",
   "execution_count": 61,
   "metadata": {},
   "outputs": [
    {
     "data": {
      "image/png": "[encoded data removed]",
      "text/plain": [
       "<Figure size 432x288 with 1 Axes>"
      ]
     },
     "metadata": {
      "needs_background": "light"
     },
     "output_type": "display_data"
    }
   ],
   "source": [
    "plt_show_acc(history_gender)"
   ]
  },
  {
   "cell_type": "markdown",
   "metadata": {},
   "source": [
    "## 测试学历"
   ]
  },
  {
   "cell_type": "code",
   "execution_count": 11,
   "metadata": {
    "collapsed": true
   },
   "outputs": [],
   "source": [
    "educationdf = traindf[['Education','Query List']]\n",
    "educationdf = educationdf[educationdf['Education']!=0]\n",
    "X_education = educationdf['Query List'].values.tolist()\n",
    "Y_education = educationdf['Education'].values.tolist() "
   ]
  },
  {
   "cell_type": "code",
   "execution_count": 12,
   "metadata": {
    "collapsed": true
   },
   "outputs": [],
   "source": [
    "education_words, education_word_to_id = read_vocab(vocab_file_education)"
   ]
  },
  {
   "cell_type": "code",
   "execution_count": 13,
   "metadata": {
    "collapsed": true
   },
   "outputs": [],
   "source": [
    "npX_education = np.array(X_education)\n",
    "npY_education = np.array(Y_education)"
   ]
  },
  {
   "cell_type": "code",
   "execution_count": 18,
   "metadata": {},
   "outputs": [],
   "source": [
    "\n",
    "stratifiedk_fold = StratifiedKFold(n_splits=5, shuffle=True)\n",
    "train_index_education=[] \n",
    "test_index_education = []\n",
    "for ta_index,te_index  in stratifiedk_fold.split(npX_education, npY_education):\n",
    "    train_index_education.append(ta_index)\n",
    "    test_index_education.append(te_index)"
   ]
  },
  {
   "cell_type": "code",
   "execution_count": 19,
   "metadata": {},
   "outputs": [],
   "source": [
    "x_train = npX_education[train_index_education[0]]\n",
    "x_test = npX_education[test_index_education[0]]\n",
    "y_train = npY_education[train_index_education[0]]\n",
    "y_test = npY_education[test_index_education[0]]"
   ]
  },
  {
   "cell_type": "code",
   "execution_count": 20,
   "metadata": {
    "collapsed": true
   },
   "outputs": [],
   "source": [
    "xs_train = encode_sentences([content[0] for content in list(x_train)], education_word_to_id)\n",
    "ys_train = to_categorical(encode_cate(list(y_train), education_to_id))\n",
    "xs_test = encode_sentences([content[0] for content in list(x_test)], education_word_to_id)\n",
    "ys_test = to_categorical(encode_cate(list(y_test), education_to_id))"
   ]
  },
  {
   "cell_type": "code",
   "execution_count": 21,
   "metadata": {},
   "outputs": [
    {
     "name": "stdout",
     "output_type": "stream",
     "text": [
      "对序列做padding，保证是 samples*timestep 的维度\n",
      "x_train shape: (72574, 100)\n",
      "x_test shape: (18146, 100)\n",
      "y_test shape: (18146, 6)\n"
     ]
    }
   ],
   "source": [
    "print('对序列做padding，保证是 samples*timestep 的维度')\n",
    "xs_train = sequence.pad_sequences(xs_train, maxlen=maxlen)\n",
    "xs_test = sequence.pad_sequences(xs_test, maxlen=maxlen)\n",
    "print('x_train shape:', xs_train.shape)\n",
    "print('x_test shape:', xs_test.shape)\n",
    "print('y_test shape:', ys_test.shape)"
   ]
  },
  {
   "cell_type": "code",
   "execution_count": 22,
   "metadata": {},
   "outputs": [
    {
     "name": "stdout",
     "output_type": "stream",
     "text": [
      "构建模型...\n",
      "WARNING:tensorflow:From D:\\PYTHON\\SDK\\lib\\site-packages\\tensorflow\\python\\keras\\initializers.py:119: calling RandomUniform.__init__ (from tensorflow.python.ops.init_ops) with dtype is deprecated and will be removed in a future version.\n",
      "Instructions for updating:\n",
      "Call initializer instance with the dtype argument instead of passing it to the constructor\n",
      "WARNING:tensorflow:From D:\\PYTHON\\SDK\\lib\\site-packages\\tensorflow\\python\\ops\\init_ops.py:1251: calling VarianceScaling.__init__ (from tensorflow.python.ops.init_ops) with dtype is deprecated and will be removed in a future version.\n",
      "Instructions for updating:\n",
      "Call initializer instance with the dtype argument instead of passing it to the constructor\n"
     ]
    }
   ],
   "source": [
    "print('构建模型...')\n",
    "education_model = TextCNN(maxlen, max_features, embedding_dims,class_num=6).get_model()\n",
    "education_model.compile('adam', 'categorical_crossentropy', metrics=['accuracy'])\n",
    "education_model_file = './Model/cnn_education_model.h5'"
   ]
  },
  {
   "cell_type": "code",
   "execution_count": 23,
   "metadata": {},
   "outputs": [
    {
     "name": "stdout",
     "output_type": "stream",
     "text": [
      "Train on 72574 samples, validate on 18146 samples\n",
      "Epoch 1/8\n",
      "72448/72574 [============================>.] - ETA: 0s - loss: 1.2962 - acc: 0.4055\n",
      "Epoch 00001: saving model to ./Model/cnn_age_model.h5\n",
      "WARNING:tensorflow:Early stopping conditioned on metric `val_accuracy` which is not available. Available metrics are: loss,acc,val_loss,val_acc\n",
      "72574/72574 [==============================] - 11s 158us/sample - loss: 1.2962 - acc: 0.4056 - val_loss: 1.2699 - val_acc: 0.4107\n",
      "Epoch 2/8\n",
      "72448/72574 [============================>.] - ETA: 0s - loss: 1.2571 - acc: 0.4264\n",
      "Epoch 00002: saving model to ./Model/cnn_age_model.h5\n",
      "WARNING:tensorflow:Early stopping conditioned on metric `val_accuracy` which is not available. Available metrics are: loss,acc,val_loss,val_acc\n",
      "72574/72574 [==============================] - 6s 78us/sample - loss: 1.2571 - acc: 0.4265 - val_loss: 1.2678 - val_acc: 0.4107\n",
      "Epoch 3/8\n",
      "72448/72574 [============================>.] - ETA: 0s - loss: 1.2442 - acc: 0.4348\n",
      "Epoch 00003: saving model to ./Model/cnn_age_model.h5\n",
      "WARNING:tensorflow:Early stopping conditioned on metric `val_accuracy` which is not available. Available metrics are: loss,acc,val_loss,val_acc\n",
      "72574/72574 [==============================] - 6s 78us/sample - loss: 1.2444 - acc: 0.4348 - val_loss: 1.2743 - val_acc: 0.4136\n",
      "Epoch 4/8\n",
      "72448/72574 [============================>.] - ETA: 0s - loss: 1.2342 - acc: 0.4384\n",
      "Epoch 00004: saving model to ./Model/cnn_age_model.h5\n",
      "WARNING:tensorflow:Early stopping conditioned on metric `val_accuracy` which is not available. Available metrics are: loss,acc,val_loss,val_acc\n",
      "72574/72574 [==============================] - 6s 79us/sample - loss: 1.2341 - acc: 0.4384 - val_loss: 1.2836 - val_acc: 0.3945\n",
      "Epoch 5/8\n",
      "72448/72574 [============================>.] - ETA: 0s - loss: 1.2270 - acc: 0.4397\n",
      "Epoch 00005: saving model to ./Model/cnn_age_model.h5\n",
      "WARNING:tensorflow:Early stopping conditioned on metric `val_accuracy` which is not available. Available metrics are: loss,acc,val_loss,val_acc\n",
      "72574/72574 [==============================] - 6s 78us/sample - loss: 1.2270 - acc: 0.4396 - val_loss: 1.2863 - val_acc: 0.4091\n",
      "Epoch 6/8\n",
      "72448/72574 [============================>.] - ETA: 0s - loss: 1.2216 - acc: 0.4415\n",
      "Epoch 00006: saving model to ./Model/cnn_age_model.h5\n",
      "WARNING:tensorflow:Early stopping conditioned on metric `val_accuracy` which is not available. Available metrics are: loss,acc,val_loss,val_acc\n",
      "72574/72574 [==============================] - 6s 78us/sample - loss: 1.2216 - acc: 0.4414 - val_loss: 1.2897 - val_acc: 0.4115\n",
      "Epoch 7/8\n",
      "72448/72574 [============================>.] - ETA: 0s - loss: 1.2168 - acc: 0.4434\n",
      "Epoch 00007: saving model to ./Model/cnn_age_model.h5\n",
      "WARNING:tensorflow:Early stopping conditioned on metric `val_accuracy` which is not available. Available metrics are: loss,acc,val_loss,val_acc\n",
      "72574/72574 [==============================] - 6s 78us/sample - loss: 1.2167 - acc: 0.4435 - val_loss: 1.2953 - val_acc: 0.4114\n",
      "Epoch 8/8\n",
      "72448/72574 [============================>.] - ETA: 0s - loss: 1.2119 - acc: 0.4460\n",
      "Epoch 00008: saving model to ./Model/cnn_age_model.h5\n",
      "WARNING:tensorflow:Early stopping conditioned on metric `val_accuracy` which is not available. Available metrics are: loss,acc,val_loss,val_acc\n",
      "72574/72574 [==============================] - 6s 78us/sample - loss: 1.2121 - acc: 0.4459 - val_loss: 1.3027 - val_acc: 0.4125\n"
     ]
    }
   ],
   "source": [
    "# fit拟合数据\n",
    "history_education = education_model.fit(xs_train, ys_train,\n",
    "          batch_size=batch_size,\n",
    "          epochs=epochs,\n",
    "          callbacks=my_callbacks,\n",
    "          validation_data=(xs_test, ys_test))"
   ]
  },
  {
   "cell_type": "code",
   "execution_count": 25,
   "metadata": {},
   "outputs": [
    {
     "data": {
      "image/png": "[encoded data removed]",
      "text/plain": [
       "<Figure size 432x288 with 1 Axes>"
      ]
     },
     "metadata": {
      "needs_background": "light"
     },
     "output_type": "display_data"
    }
   ],
   "source": [
    "plt_show_loss(history_education)"
   ]
  },
  {
   "cell_type": "code",
   "execution_count": 26,
   "metadata": {},
   "outputs": [
    {
     "data": {
      "image/png": "[encoded data removed]",
      "text/plain": [
       "<Figure size 432x288 with 1 Axes>"
      ]
     },
     "metadata": {
      "needs_background": "light"
     },
     "output_type": "display_data"
    }
   ],
   "source": [
    "plt_show_acc(history_education)"
   ]
  },
  {
   "cell_type": "code",
   "execution_count": null,
   "metadata": {
    "collapsed": true
   },
   "outputs": [],
   "source": []
  }
 ],
 "metadata": {
  "kernelspec": {
   "display_name": "Python 3",
   "language": "python",
   "name": "python3"
  },
  "language_info": {
   "codemirror_mode": {
    "name": "ipython",
    "version": 3
   },
   "file_extension": ".py",
   "mimetype": "text/x-python",
   "name": "python",
   "nbconvert_exporter": "python",
   "pygments_lexer": "ipython3",
   "version": "3.6.12"
  }
 },
 "nbformat": 4,
 "nbformat_minor": 2
}
