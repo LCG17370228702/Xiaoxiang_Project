{
 "cells": [
  {
   "cell_type": "code",
   "execution_count": 1,
   "metadata": {
    "collapsed": true
   },
   "outputs": [],
   "source": [
    "import warnings\n",
    "warnings.filterwarnings(\"ignore\")\n",
    "import pandas as pd"
   ]
  },
  {
   "cell_type": "code",
   "execution_count": 2,
   "metadata": {
    "collapsed": true
   },
   "outputs": [],
   "source": [
    "file_train_path = './Data/train.csv'  \n",
    "file_test_path = './Data/test.csv'"
   ]
  },
  {
   "cell_type": "code",
   "execution_count": 3,
   "metadata": {
    "collapsed": true
   },
   "outputs": [],
   "source": [
    "columns_values = ['ID','Age','Gender','Education','Query List']"
   ]
  },
  {
   "cell_type": "code",
   "execution_count": 4,
   "metadata": {
    "collapsed": true
   },
   "outputs": [],
   "source": [
    "traindf = pd.read_csv(\"./data/train.csv\", sep=\"###__###\",header = None,encoding='utf-8',)"
   ]
  },
  {
   "cell_type": "code",
   "execution_count": 5,
   "metadata": {
    "collapsed": true
   },
   "outputs": [],
   "source": [
    "traindf.columns = columns_values"
   ]
  },
  {
   "cell_type": "code",
   "execution_count": 6,
   "metadata": {},
   "outputs": [
    {
     "data": {
      "text/html": [
       "<div>\n",
       "<style>\n",
       "    .dataframe thead tr:only-child th {\n",
       "        text-align: right;\n",
       "    }\n",
       "\n",
       "    .dataframe thead th {\n",
       "        text-align: left;\n",
       "    }\n",
       "\n",
       "    .dataframe tbody tr th {\n",
       "        vertical-align: top;\n",
       "    }\n",
       "</style>\n",
       "<table border=\"1\" class=\"dataframe\">\n",
       "  <thead>\n",
       "    <tr style=\"text-align: right;\">\n",
       "      <th></th>\n",
       "      <th>ID</th>\n",
       "      <th>Age</th>\n",
       "      <th>Gender</th>\n",
       "      <th>Education</th>\n",
       "      <th>Query List</th>\n",
       "    </tr>\n",
       "  </thead>\n",
       "  <tbody>\n",
       "    <tr>\n",
       "      <th>0</th>\n",
       "      <td>22DD920316420BE2DF8D6EE651BA174B</td>\n",
       "      <td>1</td>\n",
       "      <td>1</td>\n",
       "      <td>4</td>\n",
       "      <td>柔和双沟\\t女生\\t中财网首页 财经\\thttp://pan.baidu.com/s/1pl...</td>\n",
       "    </tr>\n",
       "    <tr>\n",
       "      <th>1</th>\n",
       "      <td>43CC3AF5A8D6430A3B572337A889AFE4</td>\n",
       "      <td>2</td>\n",
       "      <td>1</td>\n",
       "      <td>3</td>\n",
       "      <td>广州厨宝烤箱\\t世情薄,人情恶,雨送黄昏花易落,晓风干,泪痕\\t厦门酒店用品批发市场\\t我只...</td>\n",
       "    </tr>\n",
       "    <tr>\n",
       "      <th>2</th>\n",
       "      <td>E97654BFF5570E2CCD433EA6128EAC19</td>\n",
       "      <td>4</td>\n",
       "      <td>1</td>\n",
       "      <td>0</td>\n",
       "      <td>钻石之泪耳机\\t盘锦到沈阳\\t旅顺公交\\t辽宁阜新车牌\\tbaidu\\tk715\\tk716...</td>\n",
       "    </tr>\n",
       "    <tr>\n",
       "      <th>3</th>\n",
       "      <td>6931EFC26D229CCFCEA125D3F3C21E57</td>\n",
       "      <td>4</td>\n",
       "      <td>2</td>\n",
       "      <td>3</td>\n",
       "      <td>最受欢迎狗狗排行榜\\t舶怎么读\\t场景描 写范例\\t三维绘图软件\\t枣和酸奶能一起吃吗\\t好...</td>\n",
       "    </tr>\n",
       "    <tr>\n",
       "      <th>4</th>\n",
       "      <td>E780470C3BB0D340334BD08CDCC3C71A</td>\n",
       "      <td>2</td>\n",
       "      <td>2</td>\n",
       "      <td>4</td>\n",
       "      <td>干槽症能自愈吗\\t太太万岁叶舒心去没去美国\\t干槽症\\t右眼皮下面一直跳是怎么回事\\t麦当劳...</td>\n",
       "    </tr>\n",
       "  </tbody>\n",
       "</table>\n",
       "</div>"
      ],
      "text/plain": [
       "                                 ID  Age  Gender  Education  \\\n",
       "0  22DD920316420BE2DF8D6EE651BA174B    1       1          4   \n",
       "1  43CC3AF5A8D6430A3B572337A889AFE4    2       1          3   \n",
       "2  E97654BFF5570E2CCD433EA6128EAC19    4       1          0   \n",
       "3  6931EFC26D229CCFCEA125D3F3C21E57    4       2          3   \n",
       "4  E780470C3BB0D340334BD08CDCC3C71A    2       2          4   \n",
       "\n",
       "                                          Query List  \n",
       "0  柔和双沟\\t女生\\t中财网首页 财经\\thttp://pan.baidu.com/s/1pl...  \n",
       "1  广州厨宝烤箱\\t世情薄,人情恶,雨送黄昏花易落,晓风干,泪痕\\t厦门酒店用品批发市场\\t我只...  \n",
       "2  钻石之泪耳机\\t盘锦到沈阳\\t旅顺公交\\t辽宁阜新车牌\\tbaidu\\tk715\\tk716...  \n",
       "3  最受欢迎狗狗排行榜\\t舶怎么读\\t场景描 写范例\\t三维绘图软件\\t枣和酸奶能一起吃吗\\t好...  \n",
       "4  干槽症能自愈吗\\t太太万岁叶舒心去没去美国\\t干槽症\\t右眼皮下面一直跳是怎么回事\\t麦当劳...  "
      ]
     },
     "execution_count": 6,
     "metadata": {},
     "output_type": "execute_result"
    }
   ],
   "source": [
    "traindf.head()"
   ]
  },
  {
   "cell_type": "code",
   "execution_count": 7,
   "metadata": {},
   "outputs": [
    {
     "data": {
      "text/plain": [
       "ID            False\n",
       "Age           False\n",
       "Gender        False\n",
       "Education     False\n",
       "Query List    False\n",
       "dtype: bool"
      ]
     },
     "execution_count": 7,
     "metadata": {},
     "output_type": "execute_result"
    }
   ],
   "source": [
    "traindf.isnull().any()"
   ]
  },
  {
   "cell_type": "code",
   "execution_count": 8,
   "metadata": {},
   "outputs": [
    {
     "data": {
      "text/plain": [
       "ID            object\n",
       "Age            int64\n",
       "Gender         int64\n",
       "Education      int64\n",
       "Query List    object\n",
       "dtype: object"
      ]
     },
     "execution_count": 8,
     "metadata": {},
     "output_type": "execute_result"
    }
   ],
   "source": [
    "traindf.dtypes"
   ]
  },
  {
   "cell_type": "code",
   "execution_count": 9,
   "metadata": {},
   "outputs": [
    {
     "data": {
      "text/html": [
       "<div>\n",
       "<style>\n",
       "    .dataframe thead tr:only-child th {\n",
       "        text-align: right;\n",
       "    }\n",
       "\n",
       "    .dataframe thead th {\n",
       "        text-align: left;\n",
       "    }\n",
       "\n",
       "    .dataframe tbody tr th {\n",
       "        vertical-align: top;\n",
       "    }\n",
       "</style>\n",
       "<table border=\"1\" class=\"dataframe\">\n",
       "  <thead>\n",
       "    <tr style=\"text-align: right;\">\n",
       "      <th></th>\n",
       "      <th>Age</th>\n",
       "      <th>Gender</th>\n",
       "      <th>Education</th>\n",
       "    </tr>\n",
       "  </thead>\n",
       "  <tbody>\n",
       "    <tr>\n",
       "      <th>count</th>\n",
       "      <td>100000.000000</td>\n",
       "      <td>100000.000000</td>\n",
       "      <td>100000.000000</td>\n",
       "    </tr>\n",
       "    <tr>\n",
       "      <th>mean</th>\n",
       "      <td>2.082310</td>\n",
       "      <td>1.387140</td>\n",
       "      <td>3.903330</td>\n",
       "    </tr>\n",
       "    <tr>\n",
       "      <th>std</th>\n",
       "      <td>1.184276</td>\n",
       "      <td>0.529495</td>\n",
       "      <td>1.522205</td>\n",
       "    </tr>\n",
       "    <tr>\n",
       "      <th>min</th>\n",
       "      <td>0.000000</td>\n",
       "      <td>0.000000</td>\n",
       "      <td>0.000000</td>\n",
       "    </tr>\n",
       "    <tr>\n",
       "      <th>25%</th>\n",
       "      <td>1.000000</td>\n",
       "      <td>1.000000</td>\n",
       "      <td>3.000000</td>\n",
       "    </tr>\n",
       "    <tr>\n",
       "      <th>50%</th>\n",
       "      <td>2.000000</td>\n",
       "      <td>1.000000</td>\n",
       "      <td>4.000000</td>\n",
       "    </tr>\n",
       "    <tr>\n",
       "      <th>75%</th>\n",
       "      <td>3.000000</td>\n",
       "      <td>2.000000</td>\n",
       "      <td>5.000000</td>\n",
       "    </tr>\n",
       "    <tr>\n",
       "      <th>max</th>\n",
       "      <td>6.000000</td>\n",
       "      <td>2.000000</td>\n",
       "      <td>6.000000</td>\n",
       "    </tr>\n",
       "  </tbody>\n",
       "</table>\n",
       "</div>"
      ],
      "text/plain": [
       "                 Age         Gender      Education\n",
       "count  100000.000000  100000.000000  100000.000000\n",
       "mean        2.082310       1.387140       3.903330\n",
       "std         1.184276       0.529495       1.522205\n",
       "min         0.000000       0.000000       0.000000\n",
       "25%         1.000000       1.000000       3.000000\n",
       "50%         2.000000       1.000000       4.000000\n",
       "75%         3.000000       2.000000       5.000000\n",
       "max         6.000000       2.000000       6.000000"
      ]
     },
     "execution_count": 9,
     "metadata": {},
     "output_type": "execute_result"
    }
   ],
   "source": [
    "traindf.describe()"
   ]
  },
  {
   "cell_type": "code",
   "execution_count": 11,
   "metadata": {
    "scrolled": true
   },
   "outputs": [
    {
     "data": {
      "text/plain": [
       "'pan.baidu.com/s/1esytqsi\\tpan.baidu.com/s/1mhbyjko\\tpan.baidu.com/s/1jicqk7o\\tpan.baidu.com/s/1qyvm8qw\\tpan.baidu.com/s/1kuziaxd\\tpan.baidu.com/s/1nv50c2h\\tpan.baidu.com/s/1kvi5olp\\tpan.baidu.com/s/1dfg7hjz\\tpan.baidu.com/s/1nvrgidb\\tpan.baidu.com/s/1nvvyabr\\tpan.baidu.com/s/1ji9axqq\\tpan.baidu.com/s/1qynd56w\\tpan.baidu.com/s/1hsdbf6k\\tpan.baidu.com/s/1o86kaii\\tpan.baidu.com/s/1bojbiyr\\tpan.baidu.com/s/1midafew\\tpan.baidu.com/s/1pkys2kb\\tpan.baidu.com/s/1nuxbyb3\\tpan.baidu.com/s/1b0hvku\\tpan.baidu.com/s/1kudx1yn\\tpan.baidu.com/s/1slrlvyp\\tpan.baidu.com/s/1miqayfu\\tpan.baidu.com/s/1hrkvdus\\tpan.baidu.com/s/1ku48yj9\\tpan.baidu.com/s/1ddzwcox\\tpan.baidu.com/s/1nuccqr3\\tpan.baidu.com/s/1bpr74f1\\tpan.baidu.com/s/1jijk3h0\\tpan.baidu.com/s/1ktvsjmf\\tpan.baidu.com/s/1pklw6ar\\tpan.baidu.com/s/1bymckq\\tpan.baidu.com/s/1slvmrtr\\tpan.baidu.com/s/1mhumfh2\\tpan.baidu.com/s/1qyal9bi\\tpan.baidu.com/s/1midjjry\\tpan.baidu.com/s/1kubuscj\\tpan.baidu.com/s/1gfhmkhd\\tpan.baidu.com/s/1pksniz5\\tpan.baidu.com/s/1de2ctcl\\tpan.baidu.com/s/1kvhpnzl\\tpan.baidu.com/s/1hspolcc\\tpan.baidu.com/s/1skmd8uh\\tpan.baidu.com/s/1c2cehac\\tpan.baidu.com/s/1nvrlxst\\tpan.baidu.com/s/1o7uryuq\\tpan.baidu.com/s/1bp5fttt\\tan.baidu.com/s/1bcqo94\\tpan.baidu.com/s/1bhcez8\\tpan.baidu.com/s/1jicsvb4\\tpan.baidu.com/s/1bpn1wq\\tpan.baidu.com/s/1kudxwx5\\tpan.baidu.com/s/1kuzhlnp\\tpan.baidu.com/s/1hr3zh56\\tpan.baidu.com/s/1ery6que\\tpan.baidu.com/s/1gf5cv1t\\tpan.baidu.com/s/1df3fbxz\\tpan.baidu.com/s/1gf4yabt\\tpan.baidu.com/s/1bcsvyq\\tpan.baidu.com/s/1mgo0wik\\tpan.baidu.com/s/1dfnrgbn\\tpan.baidu.com/s/1dfc3rfn\\tpan.baidu.com/s/1hr3w6sc\\tpan.baidu.com/s/1jivyano\\tpan.baidu.com/s/1dergan3\\tpan.baidu.com/s/1qyitobm\\tpan.baidu.com/s/1qyink0s\\tpan.baidu.com/s/1qydzpgk1002pan.baidu.co\\tpan.baidu.com/s/1hs8yo7m\\tpan.baidu.com/s/1minthv6\\tpan.baidu.com/s/1esk5srw\\tpan.baidu.com/s/1hr6hhfu\\tpan.baidu.com/s/1skdllcx\\tpan.baidu.com/s/1bo4isdp\\tpan.baidu.com/s/1nvas725\\tpan.baidu.com/s/1ge4cdfx\\tpan.baidu.com/s/1qyrfube\\tpan.baidu.com/s/1jijtzzg\\tpan.baidu.com/s/1qydzpgk\\tpan.baidu.com/s/1c12eugw\\tpan.baidu.com/s/1qykuvfa\\tpan.baidu.com/s/1c1gz0t6\\tpan.baidu.com/s/1o7bld3s\\tpan.baidu.com/s/1plms6nd\\tpan.baidu.com/s/1qygpme4\\tpan.baidu.com/s/1qxe7nis\\tpan.baidu.com/s/1qygt2j6\\tpan.baidu.com/s/1hsc5wly\\tpan.baidu.com/s/1o88g2a2\\tpan.baidu.com/s/1kvturp1\\tpan.baidu.com/s/1essohno\\tpan.baidu.com/s/1pluximn\\tpan.baidu.com/s/1df9emc5\\tpan.baidu.com/s/1ernf0hk\\tpan.baidu.com/s/1c2fn88s\\tpan.baidu.com/s/1plq4qcb\\tpan.baidu.com/s/1derl0sx\\tpan.baidu.com/s/1bn2i1p1\\tpan.baidu.com/s/1bpjspef\\tpan.baidu.com/s/1bpblp8n\\tpan.baidu.com/s/1o8s82xk\\tpan.baidu.com/s/1bp1hnzd\\tpan.baidu.com/s/1dfx7o6t\\tpan.baidu.com/s/1o8ztlfs\\tpan.baidu.com/s/1mhvam04\\tpan.baidu.com/s/1df0rq1b\\tpan.baidu.com/s/1bjjzto\\tpan.baidu.com/s/1o8tuopc\\tan.baidu.com/s/1nvxtll3\\tpan.baidu.com/s/1jittqey\\tpan.baidu.com/s/1slenyad\\tpan.baidu.com/s/1esjzsrc\\tpan.baidu.com/s/1c2lyfnm\\tpan.baidu.com/s/1sknzg7r'"
      ]
     },
     "execution_count": 11,
     "metadata": {},
     "output_type": "execute_result"
    }
   ],
   "source": [
    "traindf.loc[32620,'Query List']"
   ]
  },
  {
   "cell_type": "markdown",
   "metadata": {},
   "source": [
    "## 正则去掉一些干扰  \n",
    "像http 和 www 这些都会被jieba分词分出来，词频比较大，是噪声"
   ]
  },
  {
   "cell_type": "code",
   "execution_count": 12,
   "metadata": {
    "collapsed": true
   },
   "outputs": [],
   "source": [
    "import re"
   ]
  },
  {
   "cell_type": "code",
   "execution_count": 13,
   "metadata": {
    "collapsed": true
   },
   "outputs": [],
   "source": [
    "def remove_noise(document):\n",
    "    noise_pattern = re.compile(\"|\".join([\"http\\S+\", \":http\\S+\", \"ｗｗｗ.+?\\t\",'\\d+\\@\\S+']))\n",
    "    clean_text = re.sub(noise_pattern, \"\", document)\n",
    "    return clean_text.strip()"
   ]
  },
  {
   "cell_type": "code",
   "execution_count": 14,
   "metadata": {
    "collapsed": true
   },
   "outputs": [],
   "source": [
    "dataname = traindf.loc[0,'Query List']"
   ]
  },
  {
   "cell_type": "code",
   "execution_count": 15,
   "metadata": {},
   "outputs": [
    {
     "data": {
      "text/plain": [
       "'柔和双沟\\t女生\\t中财网首页 财经\\thttp://pan.baidu.com/s/1plpjtn9\\t周公解梦大全查询2345\\t曹云金再讽郭德纲\\t总裁大人行行好\\t中财网第一财经传媒\\t教师节全文\\t男子砸毁15墓碑\\t黄岩岛最新填海图\\t引起的疲\\t缘来未迟落跑甜心不好惹\\t梁朝伟与替身同框\\t笑傲江湖电视剧任贤齐\\t小起名字女孩名字\\t海运行李到堪培拉\\t确定\\t诱爱99天 司少的天价宝贝\\t什么是遥控魔棒\\t徽信表情动态搞笑图片\\t教师节征文100字\\t安微联通网上营业厅\\t甜宠百分百:校草的萌萌未婚妻\\t豪门重生之暖爱成婚\\tnikehypershift和kd5哪个好看\\t韭菜炒鸡蛋\\t陈赫玩王者荣耀\\t虎牙楚河\\t三国演义小说txt下载\\t威县欧派\\t炒馍花怎么做好吃\\t黄岩岛最新消息2016年\\t中秋节诗句大全祝福\\t教师节征文\\t菜谱\\t柔和双沟卖的怎么样\\t七位数开奖结果\\t以色列停车场坍塌\\t天龙家庭农场\\t7.22什么星座\\t新旧约圣经和合本下载\\t4π\\twifi万能钥匙\\t威灵仙图片\\t临泉长官天龙家庭农场\\t早安总统大人\\t百合\\t莲藕的做法\\t花街\\t无锡\\t蚬壳胃散怎么吃\\t触手忆寒\\t中秋节的诗句\\t孟州电信 电子发票\\t鸡丝汤的做法\\t我等你\\t临泉长官镇桥口李小刚农场\\t朋仇\\t全民k歌\\t炸葱花\\t蒜苔炒肉\\t冰川的图片\\tkd5\\t…\\t若风\\t好奇纸尿裤\\t清蒸鱼\\t189.8是谁的平方\\t重庆餐馆发生爆炸\\t捡手机被失主抢劫\\thttps://yunpan.cn/ocsqfgtfya2ewj\\t炒馍花的家常做法\\t三国演义小说百度云\\t总裁掠爱小舅别太坏\\t:https://yunpan.cn/cmh8tmeyraiww\\t周公解梦\\t查坦克冰川\\t凉拌藕片的做法\\t投票\\t鸡丝炒什么好吃\\t被时光掩埋的秘密小说下载\\t中国电信电子发票\\t张续豪\\t关于月亮的诗句\\t用酵母蒸馒头的方法\\t赵丽颖碧瑶坐\\t触手兵长\\t图集 下载腾讯新闻,看街头混战武警\\t厦门航空\\t蚬壳胃散\\t炒茄子做法\\t身份类别怎么填\\t最好的我们里面的方特在哪里\\t牢里面的生活是怎样的\\t强迫症有哪些表现\\t白袍法师暖暖图片\\t朋仇广场舞\\t小宇热游\\t蒸馒头的方法\\t狡滑的意思\\t黄石大冶东岳派出所服务电话\\t三国演义小说下载txt\\thttp://zxjhjc9088.1688.com\\t松柏道馆\\t10.1高速免费几天\\t三国演义小说txt\\t柔和双沟业务待遇\\t酵母蒸馒头的方法\\t初中家教一对一辅导\\t口子窖\\t中秋节祝福诗句\\t侠岚\\t文王国窖42度价格表1001文王国窖42度价格表\\t批注是什么意思\\t殿下专属小丫头\\t无锡爆炸\\t炸茄子做法\\thttp://pan.baidu.com/s/1cor7gy\\t大件行李邮寄\\t烟火陈翔\\t没想到,真没想到作文\\t安徽滁州石坝镇\\t虎牙小宇\\t驾校培训跑长途\\t骨质性关节炎\\t左膝盖内侧疼是怎么回事\\t虎皮尖椒的做法大全\\t陈翔的女朋友吻照\\tq我的世界、5\\t23.04的平方根\\t神将世界表情包\\t寻找成龙\\t柔和双沟卖的\\t三国演义txt百度云\\t一般现在时\\t澳洲邮寄行李费用\\t触手若月\\t1991年11月26日是什么星座\\t校草成长记\\t暮光女向女友求婚\\t钢弩的价格图片\\t乐乐课堂\\t宠妻成瘾老婆你要乖\\t魔手tv\\t梅河口到济南的火车票\\t临泉长官镇\\t君子兰\\t南洋十大邪术电影\\t肚\\t炸油条的做法和配方\\t根号6等于多少\\t笑笑昨日帝王骗\\t吃惊的什么填词语\\t50字教师节征文\\t朝阳区黑庄户邮编\\t千百鲁\\t1991年农历11月26日是什么星座\\t圣经和合本免费下载\\t水煮花生米的做法\\thttp://pan.baidu.com/s/1jhbv9pg\\t十字弓\\t徽信表情含义\\t天才小熊猫微博长图\\t宠冠六宫:帝王的娇蛮皇妃\\t去广告软件 安卓版\\t萌妻娇俏帝少我嘴挑\\t总裁霸爱小小新娘要逃婚\\t花生怎么煮好吃\\t中国证券网\\t柔和双沟销售\\t中秋节的诗句图片\\t男子怪病喝洗洁精\\t4π等于多少\\t服装批发5元\\t怀孕33周肚子隐隐作痛怎么回事\\t百度云\\t酱炒蒜苔的家常做法\\t水煮花生米\\t天才小熊猫作品\\t袁姗姗\\t临泉长官镇桥口\\t呼作白玉盘的上一句\\t微信表情包搞笑图片\\t滴滴快车司机端\\t教师节手抄报简单好看\\t大冶公安局 派出所\\t柔和双沟业务待遇怎么样\\t为什么哺乳期不会有月经\\t临泉长官水上乐园\\t忐忑不安的意思\\t临泉长官李小刚家庭农场\\t电信电子发票怎么报销\\t岳不群\\t:http://pan.baidu.com/s/1plefcb5\\t临泉长官镇桥口李天龙农场\\t凉拌水煮花生米的做法\\t威灵仙的功效与作用\\thttp://pan.baidu.com/s/1o7hnpmy\\t鸽子汤的做法\\t战神伪高冷 天降医妃拐回家\\t白颠疯初期症状\\t天才小熊猫\\t首席萌妻咬一口\\t弩弓枪商城\\t三国演义小说\\t临泉长官镇桥口植物养殖基地\\t邮储银行手机银行客户端下载\\t煮花米怎么做好吃\\t英语在线翻译\\t糖醋鲤鱼\\tｗｗｗ．２０１６ｙｇ．ｃｏｍ\\t搞笑微信表情图片带字\\t新婚甜似火:鲜妻,二胎生一对\\t三国演义\\t关于教师节的手抄报\\thttp://m37189.mustfollow.vx.mvote.net/wx\\t文王国窖42度价格表\\t鱼汤的做法\\thttp://www.cswanda.com/weixin/game1/2016\\t临泉长官镇桥口私人农场\\t临泉长官镇桥口镇杨营\\t临泉长官李天龙家庭农场\\t李子树根部有脓包怎么回事\\t单手高速转牌\\t医学院在什么路上\\t徽信早上好动态表情\\t宝宝小名大全2016洋气\\t寂寞男女聊天记录截图\\thttps://yunpan.cn/oc6nhvmrg5j2ur\\t神将世界\\t美丽的秋天作文300字\\thttp://pan.baidu.com/s/1nu9uizn\\t钢弩\\t冰川世纪电影\\t全文\\t触手蓝烟\\t鱼的做法\\t金罐加多宝20罐\\t澳洲托运行李规定\\t15346171303@189.cn\\t炒蒜苔的家常做法\\t被时光掩埋的秘密\\t根号13.6等于几\\t方特东方神画\\t粉红花朵图片\\tqq号申请\\t千亿盛宠 大叔吻慢点\\thttp://linjiada1989.1688.com\\t东方财富网首页\\thttp://pan.baidu.com/s/1hraemhe\\t动力煤价格\\t手机遥控魔棒\\tjzg\\thttp://pan.baidu.com/s/1o8cxpmm\\t行李托运到澳洲\\t蚬壳胃散副作用\\t红烧鲤鱼\\t触手tv\\t中国财经信息网中财网\\t立方根800\\t美食菜谱\\t笑傲江湖电视剧\\t柔和双沟怎么样\\t笑傲江湖\\t花的品种名字及图片\\t滴滴司机端\\t奇怪君\\t鸡蛋灌饼\\t天龙农家乐园\\t吉拉拉歌词\\t陈翔的女朋友\\t牢解场的生活\\t微微一笑很倾城\\t豪门少奶奶谢少的心尖宠妻'"
      ]
     },
     "execution_count": 15,
     "metadata": {},
     "output_type": "execute_result"
    }
   ],
   "source": [
    "dataname"
   ]
  },
  {
   "cell_type": "code",
   "execution_count": 16,
   "metadata": {},
   "outputs": [
    {
     "data": {
      "text/plain": [
       "'柔和双沟\\t女生\\t中财网首页 财经\\t\\t周公解梦大全查询2345\\t曹云金再讽郭德纲\\t总裁大人行行好\\t中财网第一财经传媒\\t教师节全文\\t男子砸毁15墓碑\\t黄岩岛最新填海图\\t引起的疲\\t缘来未迟落跑甜心不好惹\\t梁朝伟与替身同框\\t笑傲江湖电视剧任贤齐\\t小起名字女孩名字\\t海运行李到堪培拉\\t确定\\t诱爱99天 司少的天价宝贝\\t什么是遥控魔棒\\t徽信表情动态搞笑图片\\t教师节征文100字\\t安微联通网上营业厅\\t甜宠百分百:校草的萌萌未婚妻\\t豪门重生之暖爱成婚\\tnikehypershift和kd5哪个好看\\t韭菜炒鸡蛋\\t陈赫玩王者荣耀\\t虎牙楚河\\t三国演义小说txt下载\\t威县欧派\\t炒馍花怎么做好吃\\t黄岩岛最新消息2016年\\t中秋节诗句大全祝福\\t教师节征文\\t菜谱\\t柔和双沟卖的怎么样\\t七位数开奖结果\\t以色列停车场坍塌\\t天龙家庭农场\\t7.22什么星座\\t新旧约圣经和合本下载\\t4π\\twifi万能钥匙\\t威灵仙图片\\t临泉长官天龙家庭农场\\t早安总统大人\\t百合\\t莲藕的做法\\t花街\\t无锡\\t蚬壳胃散怎么吃\\t触手忆寒\\t中秋节的诗句\\t孟州电信 电子发票\\t鸡丝汤的做法\\t我等你\\t临泉长官镇桥口李小刚农场\\t朋仇\\t全民k歌\\t炸葱花\\t蒜苔炒肉\\t冰川的图片\\tkd5\\t…\\t若风\\t好奇纸尿裤\\t清蒸鱼\\t189.8是谁的平方\\t重庆餐馆发生爆炸\\t捡手机被失主抢劫\\t\\t炒馍花的家常做法\\t三国演义小说百度云\\t总裁掠爱小舅别太坏\\t\\t周公解梦\\t查坦克冰川\\t凉拌藕片的做法\\t投票\\t鸡丝炒什么好吃\\t被时光掩埋的秘密小说下载\\t中国电信电子发票\\t张续豪\\t关于月亮的诗句\\t用酵母蒸馒头的方法\\t赵丽颖碧瑶坐\\t触手兵长\\t图集 下载腾讯新闻,看街头混战武警\\t厦门航空\\t蚬壳胃散\\t炒茄子做法\\t身份类别怎么填\\t最好的我们里面的方特在哪里\\t牢里面的生活是怎样的\\t强迫症有哪些表现\\t白袍法师暖暖图片\\t朋仇广场舞\\t小宇热游\\t蒸馒头的方法\\t狡滑的意思\\t黄石大冶东岳派出所服务电话\\t三国演义小说下载txt\\t\\t松柏道馆\\t10.1高速免费几天\\t三国演义小说txt\\t柔和双沟业务待遇\\t酵母蒸馒头的方法\\t初中家教一对一辅导\\t口子窖\\t中秋节祝福诗句\\t侠岚\\t文王国窖42度价格表1001文王国窖42度价格表\\t批注是什么意思\\t殿下专属小丫头\\t无锡爆炸\\t炸茄子做法\\t\\t大件行李邮寄\\t烟火陈翔\\t没想到,真没想到作文\\t安徽滁州石坝镇\\t虎牙小宇\\t驾校培训跑长途\\t骨质性关节炎\\t左膝盖内侧疼是怎么回事\\t虎皮尖椒的做法大全\\t陈翔的女朋友吻照\\tq我的世界、5\\t23.04的平方根\\t神将世界表情包\\t寻找成龙\\t柔和双沟卖的\\t三国演义txt百度云\\t一般现在时\\t澳洲邮寄行李费用\\t触手若月\\t1991年11月26日是什么星座\\t校草成长记\\t暮光女向女友求婚\\t钢弩的价格图片\\t乐乐课堂\\t宠妻成瘾老婆你要乖\\t魔手tv\\t梅河口到济南的火车票\\t临泉长官镇\\t君子兰\\t南洋十大邪术电影\\t肚\\t炸油条的做法和配方\\t根号6等于多少\\t笑笑昨日帝王骗\\t吃惊的什么填词语\\t50字教师节征文\\t朝阳区黑庄户邮编\\t千百鲁\\t1991年农历11月26日是什么星座\\t圣经和合本免费下载\\t水煮花生米的做法\\t\\t十字弓\\t徽信表情含义\\t天才小熊猫微博长图\\t宠冠六宫:帝王的娇蛮皇妃\\t去广告软件 安卓版\\t萌妻娇俏帝少我嘴挑\\t总裁霸爱小小新娘要逃婚\\t花生怎么煮好吃\\t中国证券网\\t柔和双沟销售\\t中秋节的诗句图片\\t男子怪病喝洗洁精\\t4π等于多少\\t服装批发5元\\t怀孕33周肚子隐隐作痛怎么回事\\t百度云\\t酱炒蒜苔的家常做法\\t水煮花生米\\t天才小熊猫作品\\t袁姗姗\\t临泉长官镇桥口\\t呼作白玉盘的上一句\\t微信表情包搞笑图片\\t滴滴快车司机端\\t教师节手抄报简单好看\\t大冶公安局 派出所\\t柔和双沟业务待遇怎么样\\t为什么哺乳期不会有月经\\t临泉长官水上乐园\\t忐忑不安的意思\\t临泉长官李小刚家庭农场\\t电信电子发票怎么报销\\t岳不群\\t\\t临泉长官镇桥口李天龙农场\\t凉拌水煮花生米的做法\\t威灵仙的功效与作用\\t\\t鸽子汤的做法\\t战神伪高冷 天降医妃拐回家\\t白颠疯初期症状\\t天才小熊猫\\t首席萌妻咬一口\\t弩弓枪商城\\t三国演义小说\\t临泉长官镇桥口植物养殖基地\\t邮储银行手机银行客户端下载\\t煮花米怎么做好吃\\t英语在线翻译\\t糖醋鲤鱼\\t搞笑微信表情图片带字\\t新婚甜似火:鲜妻,二胎生一对\\t三国演义\\t关于教师节的手抄报\\t\\t文王国窖42度价格表\\t鱼汤的做法\\t\\t临泉长官镇桥口私人农场\\t临泉长官镇桥口镇杨营\\t临泉长官李天龙家庭农场\\t李子树根部有脓包怎么回事\\t单手高速转牌\\t医学院在什么路上\\t徽信早上好动态表情\\t宝宝小名大全2016洋气\\t寂寞男女聊天记录截图\\t\\t神将世界\\t美丽的秋天作文300字\\t\\t钢弩\\t冰川世纪电影\\t全文\\t触手蓝烟\\t鱼的做法\\t金罐加多宝20罐\\t澳洲托运行李规定\\t\\t炒蒜苔的家常做法\\t被时光掩埋的秘密\\t根号13.6等于几\\t方特东方神画\\t粉红花朵图片\\tqq号申请\\t千亿盛宠 大叔吻慢点\\t\\t东方财富网首页\\t\\t动力煤价格\\t手机遥控魔棒\\tjzg\\t\\t行李托运到澳洲\\t蚬壳胃散副作用\\t红烧鲤鱼\\t触手tv\\t中国财经信息网中财网\\t立方根800\\t美食菜谱\\t笑傲江湖电视剧\\t柔和双沟怎么样\\t笑傲江湖\\t花的品种名字及图片\\t滴滴司机端\\t奇怪君\\t鸡蛋灌饼\\t天龙农家乐园\\t吉拉拉歌词\\t陈翔的女朋友\\t牢解场的生活\\t微微一笑很倾城\\t豪门少奶奶谢少的心尖宠妻'"
      ]
     },
     "execution_count": 16,
     "metadata": {},
     "output_type": "execute_result"
    }
   ],
   "source": [
    "remove_noise(dataname)"
   ]
  },
  {
   "cell_type": "markdown",
   "metadata": {},
   "source": [
    "## 数据清理"
   ]
  },
  {
   "cell_type": "code",
   "execution_count": 17,
   "metadata": {
    "collapsed": true
   },
   "outputs": [],
   "source": [
    "traindf['Query List'] = traindf['Query List'].map(remove_noise)"
   ]
  },
  {
   "cell_type": "code",
   "execution_count": 18,
   "metadata": {},
   "outputs": [
    {
     "data": {
      "text/html": [
       "<div>\n",
       "<style>\n",
       "    .dataframe thead tr:only-child th {\n",
       "        text-align: right;\n",
       "    }\n",
       "\n",
       "    .dataframe thead th {\n",
       "        text-align: left;\n",
       "    }\n",
       "\n",
       "    .dataframe tbody tr th {\n",
       "        vertical-align: top;\n",
       "    }\n",
       "</style>\n",
       "<table border=\"1\" class=\"dataframe\">\n",
       "  <thead>\n",
       "    <tr style=\"text-align: right;\">\n",
       "      <th></th>\n",
       "      <th>ID</th>\n",
       "      <th>Age</th>\n",
       "      <th>Gender</th>\n",
       "      <th>Education</th>\n",
       "      <th>Query List</th>\n",
       "    </tr>\n",
       "  </thead>\n",
       "  <tbody>\n",
       "    <tr>\n",
       "      <th>0</th>\n",
       "      <td>22DD920316420BE2DF8D6EE651BA174B</td>\n",
       "      <td>1</td>\n",
       "      <td>1</td>\n",
       "      <td>4</td>\n",
       "      <td>柔和双沟\\t女生\\t中财网首页 财经\\t\\t周公解梦大全查询2345\\t曹云金再讽郭德纲\\t...</td>\n",
       "    </tr>\n",
       "    <tr>\n",
       "      <th>1</th>\n",
       "      <td>43CC3AF5A8D6430A3B572337A889AFE4</td>\n",
       "      <td>2</td>\n",
       "      <td>1</td>\n",
       "      <td>3</td>\n",
       "      <td>广州厨宝烤箱\\t世情薄,人情恶,雨送黄昏花易落,晓风干,泪痕\\t厦门酒店用品批发市场\\t我只...</td>\n",
       "    </tr>\n",
       "    <tr>\n",
       "      <th>2</th>\n",
       "      <td>E97654BFF5570E2CCD433EA6128EAC19</td>\n",
       "      <td>4</td>\n",
       "      <td>1</td>\n",
       "      <td>0</td>\n",
       "      <td>钻石之泪耳机\\t盘锦到沈阳\\t旅顺公交\\t辽宁阜新车牌\\tbaidu\\tk715\\tk716...</td>\n",
       "    </tr>\n",
       "    <tr>\n",
       "      <th>3</th>\n",
       "      <td>6931EFC26D229CCFCEA125D3F3C21E57</td>\n",
       "      <td>4</td>\n",
       "      <td>2</td>\n",
       "      <td>3</td>\n",
       "      <td>最受欢迎狗狗排行榜\\t舶怎么读\\t场景描 写范例\\t三维绘图软件\\t枣和酸奶能一起吃吗\\t好...</td>\n",
       "    </tr>\n",
       "    <tr>\n",
       "      <th>4</th>\n",
       "      <td>E780470C3BB0D340334BD08CDCC3C71A</td>\n",
       "      <td>2</td>\n",
       "      <td>2</td>\n",
       "      <td>4</td>\n",
       "      <td>干槽症能自愈吗\\t太太万岁叶舒心去没去美国\\t干槽症\\t右眼皮下面一直跳是怎么回事\\t麦当劳...</td>\n",
       "    </tr>\n",
       "  </tbody>\n",
       "</table>\n",
       "</div>"
      ],
      "text/plain": [
       "                                 ID  Age  Gender  Education  \\\n",
       "0  22DD920316420BE2DF8D6EE651BA174B    1       1          4   \n",
       "1  43CC3AF5A8D6430A3B572337A889AFE4    2       1          3   \n",
       "2  E97654BFF5570E2CCD433EA6128EAC19    4       1          0   \n",
       "3  6931EFC26D229CCFCEA125D3F3C21E57    4       2          3   \n",
       "4  E780470C3BB0D340334BD08CDCC3C71A    2       2          4   \n",
       "\n",
       "                                          Query List  \n",
       "0  柔和双沟\\t女生\\t中财网首页 财经\\t\\t周公解梦大全查询2345\\t曹云金再讽郭德纲\\t...  \n",
       "1  广州厨宝烤箱\\t世情薄,人情恶,雨送黄昏花易落,晓风干,泪痕\\t厦门酒店用品批发市场\\t我只...  \n",
       "2  钻石之泪耳机\\t盘锦到沈阳\\t旅顺公交\\t辽宁阜新车牌\\tbaidu\\tk715\\tk716...  \n",
       "3  最受欢迎狗狗排行榜\\t舶怎么读\\t场景描 写范例\\t三维绘图软件\\t枣和酸奶能一起吃吗\\t好...  \n",
       "4  干槽症能自愈吗\\t太太万岁叶舒心去没去美国\\t干槽症\\t右眼皮下面一直跳是怎么回事\\t麦当劳...  "
      ]
     },
     "execution_count": 18,
     "metadata": {},
     "output_type": "execute_result"
    }
   ],
   "source": [
    "traindf.head()"
   ]
  },
  {
   "cell_type": "code",
   "execution_count": 19,
   "metadata": {},
   "outputs": [
    {
     "data": {
      "text/plain": [
       "ID            False\n",
       "Age           False\n",
       "Gender        False\n",
       "Education     False\n",
       "Query List    False\n",
       "dtype: bool"
      ]
     },
     "execution_count": 19,
     "metadata": {},
     "output_type": "execute_result"
    }
   ],
   "source": [
    "traindf.isnull().any()"
   ]
  },
  {
   "cell_type": "markdown",
   "metadata": {},
   "source": [
    "## 准备分词"
   ]
  },
  {
   "cell_type": "code",
   "execution_count": 20,
   "metadata": {
    "collapsed": true
   },
   "outputs": [],
   "source": [
    "import jieba"
   ]
  },
  {
   "cell_type": "code",
   "execution_count": 21,
   "metadata": {
    "collapsed": true
   },
   "outputs": [],
   "source": [
    "str_test = '财经\\thttp://pan.baidu.com/s/1plpjtn9\\t周公解梦大全查询2345\\thttps://yunpan.cn/ocsqfgtfya2ewj'"
   ]
  },
  {
   "cell_type": "code",
   "execution_count": 22,
   "metadata": {},
   "outputs": [
    {
     "name": "stderr",
     "output_type": "stream",
     "text": [
      "Building prefix dict from the default dictionary ...\n",
      "Loading model from cache C:\\Users\\SEELE\\AppData\\Local\\Temp\\jieba.cache\n",
      "Loading model cost 0.542 seconds.\n",
      "Prefix dict has been built successfully.\n"
     ]
    },
    {
     "name": "stdout",
     "output_type": "stream",
     "text": [
      "['财经', '\\t', 'http', ':', '/', '/', 'pan', '.', 'baidu', '.', 'com', '/', 's', '/', '1plpjtn9', '\\t', '周公', '解梦', '大全', '查询', '2345', '\\t', 'https', ':', '/', '/', 'yunpan', '.', 'cn', '/', 'ocsqfgtfya2ewj']\n"
     ]
    }
   ],
   "source": [
    "print(jieba.lcut(str_test))"
   ]
  },
  {
   "cell_type": "markdown",
   "metadata": {},
   "source": [
    "## 去停用词"
   ]
  },
  {
   "cell_type": "code",
   "execution_count": 23,
   "metadata": {
    "collapsed": true
   },
   "outputs": [],
   "source": [
    "file_stoppath = './Data/stopwords.txt'"
   ]
  },
  {
   "cell_type": "code",
   "execution_count": 24,
   "metadata": {
    "collapsed": true
   },
   "outputs": [],
   "source": [
    "stopwords=pd.read_csv(file_stoppath,index_col=False,quoting=3,sep=\"\\t\",names=['stopword'], encoding='utf-8')\n",
    "stopwords=stopwords['stopword'].values"
   ]
  },
  {
   "cell_type": "code",
   "execution_count": 25,
   "metadata": {
    "collapsed": true
   },
   "outputs": [],
   "source": [
    "def preprocess_text(content_lines, sentences, category):\n",
    "    for line in content_lines:\n",
    "        try:\n",
    "            segs=jieba.lcut(line)\n",
    "            segs = list(filter(lambda x:len(x)>1, segs)) #没有解析出来的新闻过滤掉\n",
    "            segs = list(filter(lambda x:x not in stopwords, segs)) #把停用词过滤掉\n",
    "            sentences.append((\" \".join(segs), category))\n",
    "        except Exception as e:\n",
    "            print(line)\n",
    "            continue"
   ]
  },
  {
   "cell_type": "code",
   "execution_count": 26,
   "metadata": {
    "collapsed": true
   },
   "outputs": [],
   "source": [
    "def process_df_text(content_lines):       \n",
    "    segs=jieba.lcut(content_lines)\n",
    "    segs = list(filter(lambda x:len(x)>1, segs)) #没有解析出来的新闻过滤掉\n",
    "    segs = list(filter(lambda x:x not in stopwords, segs)) #把停用词过滤掉\n",
    "    return (\" \".join(segs))\n",
    "       "
   ]
  },
  {
   "cell_type": "code",
   "execution_count": 27,
   "metadata": {
    "collapsed": true
   },
   "outputs": [],
   "source": [
    "traindf['Query List'] = traindf['Query List'].map(process_df_text)"
   ]
  },
  {
   "cell_type": "code",
   "execution_count": 28,
   "metadata": {},
   "outputs": [
    {
     "data": {
      "text/html": [
       "<div>\n",
       "<style>\n",
       "    .dataframe thead tr:only-child th {\n",
       "        text-align: right;\n",
       "    }\n",
       "\n",
       "    .dataframe thead th {\n",
       "        text-align: left;\n",
       "    }\n",
       "\n",
       "    .dataframe tbody tr th {\n",
       "        vertical-align: top;\n",
       "    }\n",
       "</style>\n",
       "<table border=\"1\" class=\"dataframe\">\n",
       "  <thead>\n",
       "    <tr style=\"text-align: right;\">\n",
       "      <th></th>\n",
       "      <th>ID</th>\n",
       "      <th>Age</th>\n",
       "      <th>Gender</th>\n",
       "      <th>Education</th>\n",
       "      <th>Query List</th>\n",
       "    </tr>\n",
       "  </thead>\n",
       "  <tbody>\n",
       "    <tr>\n",
       "      <th>0</th>\n",
       "      <td>22DD920316420BE2DF8D6EE651BA174B</td>\n",
       "      <td>1</td>\n",
       "      <td>1</td>\n",
       "      <td>4</td>\n",
       "      <td>柔和 双沟 女生 中财网 首页 财经 周公 解梦 大全 查询 2345 曹云金 再讽 郭德纲...</td>\n",
       "    </tr>\n",
       "    <tr>\n",
       "      <th>1</th>\n",
       "      <td>43CC3AF5A8D6430A3B572337A889AFE4</td>\n",
       "      <td>2</td>\n",
       "      <td>1</td>\n",
       "      <td>3</td>\n",
       "      <td>广州 厨宝 烤箱 世情 人情 雨送 黄昏 花易落 风干 泪痕 厦门 酒店用品 批发市场 不想...</td>\n",
       "    </tr>\n",
       "    <tr>\n",
       "      <th>2</th>\n",
       "      <td>E97654BFF5570E2CCD433EA6128EAC19</td>\n",
       "      <td>4</td>\n",
       "      <td>1</td>\n",
       "      <td>0</td>\n",
       "      <td>钻石 之泪 耳机 盘锦 沈阳 旅顺 公交 辽宁 阜新 车牌 baidu k715 k716 ...</td>\n",
       "    </tr>\n",
       "    <tr>\n",
       "      <th>3</th>\n",
       "      <td>6931EFC26D229CCFCEA125D3F3C21E57</td>\n",
       "      <td>4</td>\n",
       "      <td>2</td>\n",
       "      <td>3</td>\n",
       "      <td>受欢迎 狗狗 排行榜 场景 范例 三维 绘图 软件 酸奶 壮观 衣服 网站 动漫 绘图 软件...</td>\n",
       "    </tr>\n",
       "    <tr>\n",
       "      <th>4</th>\n",
       "      <td>E780470C3BB0D340334BD08CDCC3C71A</td>\n",
       "      <td>2</td>\n",
       "      <td>2</td>\n",
       "      <td>4</td>\n",
       "      <td>干槽症 自愈 太太 万岁 舒心 美国 干槽症 眼皮 怎么回事 麦当劳 旋风 勺子 吉林市 鹿...</td>\n",
       "    </tr>\n",
       "  </tbody>\n",
       "</table>\n",
       "</div>"
      ],
      "text/plain": [
       "                                 ID  Age  Gender  Education  \\\n",
       "0  22DD920316420BE2DF8D6EE651BA174B    1       1          4   \n",
       "1  43CC3AF5A8D6430A3B572337A889AFE4    2       1          3   \n",
       "2  E97654BFF5570E2CCD433EA6128EAC19    4       1          0   \n",
       "3  6931EFC26D229CCFCEA125D3F3C21E57    4       2          3   \n",
       "4  E780470C3BB0D340334BD08CDCC3C71A    2       2          4   \n",
       "\n",
       "                                          Query List  \n",
       "0  柔和 双沟 女生 中财网 首页 财经 周公 解梦 大全 查询 2345 曹云金 再讽 郭德纲...  \n",
       "1  广州 厨宝 烤箱 世情 人情 雨送 黄昏 花易落 风干 泪痕 厦门 酒店用品 批发市场 不想...  \n",
       "2  钻石 之泪 耳机 盘锦 沈阳 旅顺 公交 辽宁 阜新 车牌 baidu k715 k716 ...  \n",
       "3  受欢迎 狗狗 排行榜 场景 范例 三维 绘图 软件 酸奶 壮观 衣服 网站 动漫 绘图 软件...  \n",
       "4  干槽症 自愈 太太 万岁 舒心 美国 干槽症 眼皮 怎么回事 麦当劳 旋风 勺子 吉林市 鹿...  "
      ]
     },
     "execution_count": 28,
     "metadata": {},
     "output_type": "execute_result"
    }
   ],
   "source": [
    "traindf.head()"
   ]
  },
  {
   "cell_type": "code",
   "execution_count": 81,
   "metadata": {
    "collapsed": true
   },
   "outputs": [],
   "source": [
    "#file_proce_path = './Data/VersonData_2/traindf.csv'"
   ]
  },
  {
   "cell_type": "code",
   "execution_count": 82,
   "metadata": {
    "collapsed": true
   },
   "outputs": [],
   "source": [
    "#traindf.to_csv(file_proce_path,encoding='utf-8',index=False)"
   ]
  },
  {
   "cell_type": "markdown",
   "metadata": {},
   "source": [
    "##    数据按标签处理"
   ]
  },
  {
   "cell_type": "markdown",
   "metadata": {},
   "source": [
    "### 按age来处理"
   ]
  },
  {
   "cell_type": "code",
   "execution_count": 87,
   "metadata": {},
   "outputs": [
    {
     "data": {
      "text/plain": [
       "'pan baidu 1esytqsi pan baidu 1mhbyjko pan baidu 1jicqk7o pan baidu 1qyvm8qw pan baidu 1kuziaxd pan baidu 1nv50c2h pan baidu 1kvi5olp pan baidu 1dfg7hjz pan baidu 1nvrgidb pan baidu 1nvvyabr pan baidu 1ji9axqq pan baidu 1qynd56w pan baidu 1hsdbf6k pan baidu 1o86kaii pan baidu 1bojbiyr pan baidu 1midafew pan baidu 1pkys2kb pan baidu 1nuxbyb3 pan baidu 1b0hvku pan baidu 1kudx1yn pan baidu 1slrlvyp pan baidu 1miqayfu pan baidu 1hrkvdus pan baidu 1ku48yj9 pan baidu 1ddzwcox pan baidu 1nuccqr3 pan baidu 1bpr74f1 pan baidu 1jijk3h0 pan baidu 1ktvsjmf pan baidu 1pklw6ar pan baidu 1bymckq pan baidu 1slvmrtr pan baidu 1mhumfh2 pan baidu 1qyal9bi pan baidu 1midjjry pan baidu 1kubuscj pan baidu 1gfhmkhd pan baidu 1pksniz5 pan baidu 1de2ctcl pan baidu 1kvhpnzl pan baidu 1hspolcc pan baidu 1skmd8uh pan baidu 1c2cehac pan baidu 1nvrlxst pan baidu 1o7uryuq pan baidu 1bp5fttt baidu 1bcqo94 pan baidu 1bhcez8 pan baidu 1jicsvb4 pan baidu 1bpn1wq pan baidu 1kudxwx5 pan baidu 1kuzhlnp pan baidu 1hr3zh56 pan baidu 1ery6que pan baidu 1gf5cv1t pan baidu 1df3fbxz pan baidu 1gf4yabt pan baidu 1bcsvyq pan baidu 1mgo0wik pan baidu 1dfnrgbn pan baidu 1dfc3rfn pan baidu 1hr3w6sc pan baidu 1jivyano pan baidu 1dergan3 pan baidu 1qyitobm pan baidu 1qyink0s pan baidu 1qydzpgk1002pan baidu pan baidu 1hs8yo7m pan baidu 1minthv6 pan baidu 1esk5srw pan baidu 1hr6hhfu pan baidu 1skdllcx pan baidu 1bo4isdp pan baidu 1nvas725 pan baidu 1ge4cdfx pan baidu 1qyrfube pan baidu 1jijtzzg pan baidu 1qydzpgk pan baidu 1c12eugw pan baidu 1qykuvfa pan baidu 1c1gz0t6 pan baidu 1o7bld3s pan baidu 1plms6nd pan baidu 1qygpme4 pan baidu 1qxe7nis pan baidu 1qygt2j6 pan baidu 1hsc5wly pan baidu 1o88g2a2 pan baidu 1kvturp1 pan baidu 1essohno pan baidu 1pluximn pan baidu 1df9emc5 pan baidu 1ernf0hk pan baidu 1c2fn88s pan baidu 1plq4qcb pan baidu 1derl0sx pan baidu 1bn2i1p1 pan baidu 1bpjspef pan baidu 1bpblp8n pan baidu 1o8s82xk pan baidu 1bp1hnzd pan baidu 1dfx7o6t pan baidu 1o8ztlfs pan baidu 1mhvam04 pan baidu 1df0rq1b pan baidu 1bjjzto pan baidu 1o8tuopc baidu 1nvxtll3 pan baidu 1jittqey pan baidu 1slenyad pan baidu 1esjzsrc pan baidu 1c2lyfnm pan baidu 1sknzg7r'"
      ]
     },
     "execution_count": 87,
     "metadata": {},
     "output_type": "execute_result"
    }
   ],
   "source": [
    "traindf.loc[32620,'Query List']  #87648"
   ]
  },
  {
   "cell_type": "code",
   "execution_count": 29,
   "metadata": {},
   "outputs": [
    {
     "data": {
      "text/plain": [
       "1    38996\n",
       "2    26744\n",
       "3    18529\n",
       "4    10654\n",
       "5     2922\n",
       "0     1666\n",
       "6      489\n",
       "Name: Age, dtype: int64"
      ]
     },
     "execution_count": 29,
     "metadata": {},
     "output_type": "execute_result"
    }
   ],
   "source": [
    "traindf['Age'].value_counts()"
   ]
  },
  {
   "cell_type": "code",
   "execution_count": 31,
   "metadata": {},
   "outputs": [],
   "source": [
    "agedf= traindf[['Age','Query List']]"
   ]
  },
  {
   "cell_type": "code",
   "execution_count": 32,
   "metadata": {
    "collapsed": true
   },
   "outputs": [],
   "source": [
    "agedf = agedf[agedf['Age']!=0]"
   ]
  },
  {
   "cell_type": "code",
   "execution_count": 33,
   "metadata": {},
   "outputs": [
    {
     "data": {
      "text/html": [
       "<div>\n",
       "<style>\n",
       "    .dataframe thead tr:only-child th {\n",
       "        text-align: right;\n",
       "    }\n",
       "\n",
       "    .dataframe thead th {\n",
       "        text-align: left;\n",
       "    }\n",
       "\n",
       "    .dataframe tbody tr th {\n",
       "        vertical-align: top;\n",
       "    }\n",
       "</style>\n",
       "<table border=\"1\" class=\"dataframe\">\n",
       "  <thead>\n",
       "    <tr style=\"text-align: right;\">\n",
       "      <th></th>\n",
       "      <th>Age</th>\n",
       "      <th>Query List</th>\n",
       "    </tr>\n",
       "  </thead>\n",
       "  <tbody>\n",
       "    <tr>\n",
       "      <th>0</th>\n",
       "      <td>1</td>\n",
       "      <td>柔和 双沟 女生 中财网 首页 财经 周公 解梦 大全 查询 2345 曹云金 再讽 郭德纲...</td>\n",
       "    </tr>\n",
       "    <tr>\n",
       "      <th>1</th>\n",
       "      <td>2</td>\n",
       "      <td>广州 厨宝 烤箱 世情 人情 雨送 黄昏 花易落 风干 泪痕 厦门 酒店用品 批发市场 不想...</td>\n",
       "    </tr>\n",
       "    <tr>\n",
       "      <th>2</th>\n",
       "      <td>4</td>\n",
       "      <td>钻石 之泪 耳机 盘锦 沈阳 旅顺 公交 辽宁 阜新 车牌 baidu k715 k716 ...</td>\n",
       "    </tr>\n",
       "    <tr>\n",
       "      <th>3</th>\n",
       "      <td>4</td>\n",
       "      <td>受欢迎 狗狗 排行榜 场景 范例 三维 绘图 软件 酸奶 壮观 衣服 网站 动漫 绘图 软件...</td>\n",
       "    </tr>\n",
       "    <tr>\n",
       "      <th>4</th>\n",
       "      <td>2</td>\n",
       "      <td>干槽症 自愈 太太 万岁 舒心 美国 干槽症 眼皮 怎么回事 麦当劳 旋风 勺子 吉林市 鹿...</td>\n",
       "    </tr>\n",
       "  </tbody>\n",
       "</table>\n",
       "</div>"
      ],
      "text/plain": [
       "   Age                                         Query List\n",
       "0    1  柔和 双沟 女生 中财网 首页 财经 周公 解梦 大全 查询 2345 曹云金 再讽 郭德纲...\n",
       "1    2  广州 厨宝 烤箱 世情 人情 雨送 黄昏 花易落 风干 泪痕 厦门 酒店用品 批发市场 不想...\n",
       "2    4  钻石 之泪 耳机 盘锦 沈阳 旅顺 公交 辽宁 阜新 车牌 baidu k715 k716 ...\n",
       "3    4  受欢迎 狗狗 排行榜 场景 范例 三维 绘图 软件 酸奶 壮观 衣服 网站 动漫 绘图 软件...\n",
       "4    2  干槽症 自愈 太太 万岁 舒心 美国 干槽症 眼皮 怎么回事 麦当劳 旋风 勺子 吉林市 鹿..."
      ]
     },
     "execution_count": 33,
     "metadata": {},
     "output_type": "execute_result"
    }
   ],
   "source": [
    "agedf.head()"
   ]
  },
  {
   "cell_type": "code",
   "execution_count": 34,
   "metadata": {},
   "outputs": [
    {
     "data": {
      "text/plain": [
       "1    38996\n",
       "2    26744\n",
       "3    18529\n",
       "4    10654\n",
       "5     2922\n",
       "6      489\n",
       "Name: Age, dtype: int64"
      ]
     },
     "execution_count": 34,
     "metadata": {},
     "output_type": "execute_result"
    }
   ],
   "source": [
    "agedf['Age'].value_counts()"
   ]
  },
  {
   "cell_type": "markdown",
   "metadata": {},
   "source": [
    "### 全部数据用来做训练"
   ]
  },
  {
   "cell_type": "code",
   "execution_count": 35,
   "metadata": {
    "collapsed": true
   },
   "outputs": [],
   "source": [
    "from sklearn.model_selection import train_test_split"
   ]
  },
  {
   "cell_type": "code",
   "execution_count": 36,
   "metadata": {
    "collapsed": true
   },
   "outputs": [],
   "source": [
    "X_age = agedf['Query List'].values.tolist()\n",
    "Y_age = agedf['Age'].values.tolist()"
   ]
  },
  {
   "cell_type": "markdown",
   "metadata": {},
   "source": [
    "### 使用词向量 NB模型"
   ]
  },
  {
   "cell_type": "code",
   "execution_count": 37,
   "metadata": {
    "collapsed": true
   },
   "outputs": [],
   "source": [
    "from sklearn.feature_extraction.text import CountVectorizer"
   ]
  },
  {
   "cell_type": "code",
   "execution_count": 38,
   "metadata": {
    "collapsed": true
   },
   "outputs": [],
   "source": [
    "vec = CountVectorizer(\n",
    "    analyzer='word', # tokenise by character ngrams\n",
    "    max_features=4000,  # keep the most common 4000 ngrams\n",
    ")"
   ]
  },
  {
   "cell_type": "code",
   "execution_count": 39,
   "metadata": {
    "collapsed": true
   },
   "outputs": [],
   "source": [
    "from sklearn.naive_bayes import MultinomialNB\n",
    "from sklearn.model_selection import StratifiedKFold\n",
    "import numpy as np"
   ]
  },
  {
   "cell_type": "code",
   "execution_count": 43,
   "metadata": {
    "collapsed": true
   },
   "outputs": [],
   "source": [
    "def stratifiedkfold_cv(x, y,vec_word, clf,shuffle=True, n_folds=5):\n",
    "    stratifiedk_fold = StratifiedKFold(n_splits=n_folds, shuffle=shuffle)\n",
    "    history_score=[]\n",
    "    vec_word.fit(x)\n",
    "    for train_index, test_index in stratifiedk_fold.split(x, y):\n",
    "        X_train, X_test = x[train_index], x[test_index]\n",
    "        y_train,y_test = y[train_index],y[test_index]\n",
    "        clf.fit(vec_word.transform(X_train),y_train)\n",
    "        history_score.append(clf.score(vec_word.transform(X_test), y_test)) \n",
    "    return history_score "
   ]
  },
  {
   "cell_type": "code",
   "execution_count": 41,
   "metadata": {
    "collapsed": true
   },
   "outputs": [],
   "source": [
    "classifier = MultinomialNB()"
   ]
  },
  {
   "cell_type": "code",
   "execution_count": 44,
   "metadata": {},
   "outputs": [],
   "source": [
    "history_score = stratifiedkfold_cv(np.array(X_age),np.array(Y_age),vec,classifier)"
   ]
  },
  {
   "cell_type": "code",
   "execution_count": 45,
   "metadata": {},
   "outputs": [
    {
     "name": "stdout",
     "output_type": "stream",
     "text": [
      "[0.5063297574864, 0.504779336994102, 0.49748309350688974, 0.5046016169217471, 0.5001271423485735]\n"
     ]
    }
   ],
   "source": [
    "print(history_score)"
   ]
  },
  {
   "cell_type": "markdown",
   "metadata": {},
   "source": [
    "可以看到预测值是 0.5 左右"
   ]
  },
  {
   "cell_type": "markdown",
   "metadata": {},
   "source": [
    "### 处理性别"
   ]
  },
  {
   "cell_type": "code",
   "execution_count": 46,
   "metadata": {},
   "outputs": [
    {
     "data": {
      "text/plain": [
       "1    56976\n",
       "2    40869\n",
       "0     2155\n",
       "Name: Gender, dtype: int64"
      ]
     },
     "execution_count": 46,
     "metadata": {},
     "output_type": "execute_result"
    }
   ],
   "source": [
    "traindf['Gender'].value_counts()"
   ]
  },
  {
   "cell_type": "code",
   "execution_count": 47,
   "metadata": {
    "collapsed": true
   },
   "outputs": [],
   "source": [
    "genderdf = traindf[['Age','Query List','Gender']]"
   ]
  },
  {
   "cell_type": "code",
   "execution_count": 48,
   "metadata": {
    "collapsed": true
   },
   "outputs": [],
   "source": [
    "genderdf = genderdf[genderdf['Gender']!= 0]"
   ]
  },
  {
   "cell_type": "code",
   "execution_count": 49,
   "metadata": {
    "collapsed": true
   },
   "outputs": [],
   "source": [
    "X_gender = genderdf['Query List'].values.tolist()\n",
    "Y_gender = genderdf['Gender'].values.tolist() \n",
    "Y_age = genderdf['Age'].values.tolist() "
   ]
  },
  {
   "cell_type": "code",
   "execution_count": 50,
   "metadata": {
    "collapsed": true
   },
   "outputs": [],
   "source": [
    "def stratifiedkfold_gender_cv(x, y,y_flag,vec_word, clf,shuffle=True, n_folds=5):\n",
    "    stratifiedk_fold = StratifiedKFold(n_splits=n_folds, shuffle=shuffle)\n",
    "    history_score=[]\n",
    "    vec_word.fit(x)\n",
    "    for train_index, test_index in stratifiedk_fold.split(x, y_flag):\n",
    "        X_train, X_test = x[train_index], x[test_index]\n",
    "        y_train,y_test = y[train_index],y[test_index]\n",
    "        clf.fit(vec_word.transform(X_train),y_train)\n",
    "        history_score.append(clf.score(vec_word.transform(X_test), y_test)) \n",
    "    return history_score "
   ]
  },
  {
   "cell_type": "code",
   "execution_count": 51,
   "metadata": {
    "collapsed": true
   },
   "outputs": [],
   "source": [
    "classifier_gender = MultinomialNB()"
   ]
  },
  {
   "cell_type": "code",
   "execution_count": 52,
   "metadata": {
    "collapsed": true
   },
   "outputs": [],
   "source": [
    "history_score_gender = stratifiedkfold_gender_cv(np.array(X_gender),np.array(Y_gender),np.array(Y_age),vec,classifier_gender)"
   ]
  },
  {
   "cell_type": "code",
   "execution_count": 53,
   "metadata": {},
   "outputs": [
    {
     "name": "stdout",
     "output_type": "stream",
     "text": [
      "[0.799202942979767, 0.7930100659138521, 0.7930911134958353, 0.7942454131956866, 0.7912705713993663]\n"
     ]
    }
   ],
   "source": [
    "print(history_score_gender)"
   ]
  },
  {
   "cell_type": "markdown",
   "metadata": {},
   "source": [
    "处理性别还是0.79可恶"
   ]
  },
  {
   "cell_type": "markdown",
   "metadata": {},
   "source": [
    "### 处理学历"
   ]
  },
  {
   "cell_type": "code",
   "execution_count": 54,
   "metadata": {},
   "outputs": [
    {
     "data": {
      "text/plain": [
       "5    37107\n",
       "4    28148\n",
       "3    18858\n",
       "0     9280\n",
       "6     5693\n",
       "2      560\n",
       "1      354\n",
       "Name: Education, dtype: int64"
      ]
     },
     "execution_count": 54,
     "metadata": {},
     "output_type": "execute_result"
    }
   ],
   "source": [
    "traindf['Education'].value_counts()"
   ]
  },
  {
   "cell_type": "code",
   "execution_count": 55,
   "metadata": {
    "collapsed": true
   },
   "outputs": [],
   "source": [
    "educationdf = traindf[['Education','Query List']]"
   ]
  },
  {
   "cell_type": "code",
   "execution_count": 56,
   "metadata": {
    "collapsed": true
   },
   "outputs": [],
   "source": [
    "educationdf = educationdf[educationdf['Education']!=0]"
   ]
  },
  {
   "cell_type": "code",
   "execution_count": 57,
   "metadata": {
    "collapsed": true
   },
   "outputs": [],
   "source": [
    "X_education = educationdf['Query List'].values.tolist()\n",
    "Y_education = educationdf['Education'].values.tolist() "
   ]
  },
  {
   "cell_type": "code",
   "execution_count": 58,
   "metadata": {
    "collapsed": true
   },
   "outputs": [],
   "source": [
    "classifier_education = MultinomialNB()"
   ]
  },
  {
   "cell_type": "code",
   "execution_count": 59,
   "metadata": {
    "collapsed": true
   },
   "outputs": [],
   "source": [
    "history_score_education = stratifiedkfold_cv(np.array(X_education),np.array(Y_education),vec,classifier_education)"
   ]
  },
  {
   "cell_type": "code",
   "execution_count": 60,
   "metadata": {},
   "outputs": [
    {
     "name": "stdout",
     "output_type": "stream",
     "text": [
      "[0.47404386641684115, 0.48875785297035157, 0.4785891430146046, 0.48004630140006616, 0.4794664020726531]\n"
     ]
    }
   ],
   "source": [
    "print(history_score_education)"
   ]
  },
  {
   "cell_type": "markdown",
   "metadata": {},
   "source": [
    "有点低"
   ]
  },
  {
   "cell_type": "markdown",
   "metadata": {},
   "source": [
    "## 平均准确率"
   ]
  },
  {
   "cell_type": "code",
   "execution_count": 66,
   "metadata": {},
   "outputs": [
    {
     "name": "stdout",
     "output_type": "stream",
     "text": [
      "age score   0.5026641894515425\n",
      "gender score   0.7941640213969016\n",
      "education score   0.4801807131749033\n"
     ]
    }
   ],
   "source": [
    "print('age score  ',np.mean(history_score))\n",
    "print('gender score  ',np.mean(history_score_gender))\n",
    "print('education score  ',np.mean(history_score_education))"
   ]
  },
  {
   "cell_type": "code",
   "execution_count": 67,
   "metadata": {
    "collapsed": true
   },
   "outputs": [],
   "source": [
    "average_score = (np.mean(history_score) + np.mean(history_score_gender)+ np.mean(history_score_education) )/3"
   ]
  },
  {
   "cell_type": "code",
   "execution_count": 68,
   "metadata": {},
   "outputs": [
    {
     "data": {
      "text/plain": [
       "0.5923363080077825"
      ]
     },
     "execution_count": 68,
     "metadata": {},
     "output_type": "execute_result"
    }
   ],
   "source": [
    "average_score"
   ]
  },
  {
   "cell_type": "markdown",
   "metadata": {},
   "source": [
    " ## 下一步 test集测试  模型保存 线上部署"
   ]
  },
  {
   "cell_type": "code",
   "execution_count": null,
   "metadata": {
    "collapsed": true
   },
   "outputs": [],
   "source": []
  }
 ],
 "metadata": {
  "kernelspec": {
   "display_name": "Python 3",
   "language": "python",
   "name": "python3"
  },
  "language_info": {
   "codemirror_mode": {
    "name": "ipython",
    "version": 3
   },
   "file_extension": ".py",
   "mimetype": "text/x-python",
   "name": "python",
   "nbconvert_exporter": "python",
   "pygments_lexer": "ipython3",
   "version": "3.6.12"
  }
 },
 "nbformat": 4,
 "nbformat_minor": 2
}
