{
 "cells": [
  {
   "cell_type": "code",
   "execution_count": 1,
   "metadata": {
    "collapsed": true
   },
   "outputs": [],
   "source": [
    "import pandas as pd"
   ]
  },
  {
   "cell_type": "code",
   "execution_count": 2,
   "metadata": {
    "collapsed": true
   },
   "outputs": [],
   "source": [
    "file_source_data = './Data/proced_train.csv'"
   ]
  },
  {
   "cell_type": "code",
   "execution_count": 3,
   "metadata": {
    "collapsed": true
   },
   "outputs": [],
   "source": [
    "df = pd.read_csv(file_source_data,encoding='utf-8')"
   ]
  },
  {
   "cell_type": "code",
   "execution_count": 4,
   "metadata": {},
   "outputs": [
    {
     "data": {
      "text/html": [
       "<div>\n",
       "<style>\n",
       "    .dataframe thead tr:only-child th {\n",
       "        text-align: right;\n",
       "    }\n",
       "\n",
       "    .dataframe thead th {\n",
       "        text-align: left;\n",
       "    }\n",
       "\n",
       "    .dataframe tbody tr th {\n",
       "        vertical-align: top;\n",
       "    }\n",
       "</style>\n",
       "<table border=\"1\" class=\"dataframe\">\n",
       "  <thead>\n",
       "    <tr style=\"text-align: right;\">\n",
       "      <th></th>\n",
       "      <th>ID</th>\n",
       "      <th>Age</th>\n",
       "      <th>Gender</th>\n",
       "      <th>Education</th>\n",
       "      <th>Query List</th>\n",
       "    </tr>\n",
       "  </thead>\n",
       "  <tbody>\n",
       "    <tr>\n",
       "      <th>0</th>\n",
       "      <td>22DD920316420BE2DF8D6EE651BA174B</td>\n",
       "      <td>1</td>\n",
       "      <td>1</td>\n",
       "      <td>4</td>\n",
       "      <td>柔和双沟,女生,中财网首页 财经, 司少的天价宝贝,什么是遥控魔棒,徽信表情动态搞笑图片,教...</td>\n",
       "    </tr>\n",
       "    <tr>\n",
       "      <th>1</th>\n",
       "      <td>43CC3AF5A8D6430A3B572337A889AFE4</td>\n",
       "      <td>2</td>\n",
       "      <td>1</td>\n",
       "      <td>3</td>\n",
       "      <td>广州厨宝烤箱,世情薄,人情恶,雨送黄昏花易落,晓风干,泪痕,厦门酒店用品批发市场,我只是不想...</td>\n",
       "    </tr>\n",
       "    <tr>\n",
       "      <th>2</th>\n",
       "      <td>E97654BFF5570E2CCD433EA6128EAC19</td>\n",
       "      <td>4</td>\n",
       "      <td>1</td>\n",
       "      <td>0</td>\n",
       "      <td>钻石之泪耳机,盘锦到沈阳,旅顺公交,辽宁阜新车牌,baidu,k715,k716,盘锦到台安...</td>\n",
       "    </tr>\n",
       "    <tr>\n",
       "      <th>3</th>\n",
       "      <td>6931EFC26D229CCFCEA125D3F3C21E57</td>\n",
       "      <td>4</td>\n",
       "      <td>2</td>\n",
       "      <td>3</td>\n",
       "      <td>最受欢迎狗狗排行榜,舶怎么读,场景描 写范例,三维绘图软件,枣和酸奶能一起吃吗,好不壮观,租...</td>\n",
       "    </tr>\n",
       "    <tr>\n",
       "      <th>4</th>\n",
       "      <td>E780470C3BB0D340334BD08CDCC3C71A</td>\n",
       "      <td>2</td>\n",
       "      <td>2</td>\n",
       "      <td>4</td>\n",
       "      <td>干槽症能自愈吗,太太万岁叶舒心去没去美国,干槽症,右眼皮下面一直跳是怎么回事,麦当劳麦旋风的...</td>\n",
       "    </tr>\n",
       "  </tbody>\n",
       "</table>\n",
       "</div>"
      ],
      "text/plain": [
       "                                 ID  Age  Gender  Education  \\\n",
       "0  22DD920316420BE2DF8D6EE651BA174B    1       1          4   \n",
       "1  43CC3AF5A8D6430A3B572337A889AFE4    2       1          3   \n",
       "2  E97654BFF5570E2CCD433EA6128EAC19    4       1          0   \n",
       "3  6931EFC26D229CCFCEA125D3F3C21E57    4       2          3   \n",
       "4  E780470C3BB0D340334BD08CDCC3C71A    2       2          4   \n",
       "\n",
       "                                          Query List  \n",
       "0  柔和双沟,女生,中财网首页 财经, 司少的天价宝贝,什么是遥控魔棒,徽信表情动态搞笑图片,教...  \n",
       "1  广州厨宝烤箱,世情薄,人情恶,雨送黄昏花易落,晓风干,泪痕,厦门酒店用品批发市场,我只是不想...  \n",
       "2  钻石之泪耳机,盘锦到沈阳,旅顺公交,辽宁阜新车牌,baidu,k715,k716,盘锦到台安...  \n",
       "3  最受欢迎狗狗排行榜,舶怎么读,场景描 写范例,三维绘图软件,枣和酸奶能一起吃吗,好不壮观,租...  \n",
       "4  干槽症能自愈吗,太太万岁叶舒心去没去美国,干槽症,右眼皮下面一直跳是怎么回事,麦当劳麦旋风的...  "
      ]
     },
     "execution_count": 4,
     "metadata": {},
     "output_type": "execute_result"
    }
   ],
   "source": [
    "df.head()"
   ]
  },
  {
   "cell_type": "code",
   "execution_count": 5,
   "metadata": {},
   "outputs": [
    {
     "data": {
      "text/plain": [
       "1    38996\n",
       "2    26744\n",
       "3    18529\n",
       "4    10654\n",
       "5     2922\n",
       "0     1666\n",
       "6      489\n",
       "Name: Age, dtype: int64"
      ]
     },
     "execution_count": 5,
     "metadata": {},
     "output_type": "execute_result"
    }
   ],
   "source": [
    "df.loc[:,'Age'].value_counts()"
   ]
  },
  {
   "cell_type": "code",
   "execution_count": 6,
   "metadata": {},
   "outputs": [
    {
     "data": {
      "text/plain": [
       "1    56976\n",
       "2    40869\n",
       "0     2155\n",
       "Name: Gender, dtype: int64"
      ]
     },
     "execution_count": 6,
     "metadata": {},
     "output_type": "execute_result"
    }
   ],
   "source": [
    "df.loc[:,'Gender'].value_counts()"
   ]
  },
  {
   "cell_type": "code",
   "execution_count": 7,
   "metadata": {},
   "outputs": [
    {
     "data": {
      "text/plain": [
       "5    37107\n",
       "4    28148\n",
       "3    18858\n",
       "0     9280\n",
       "6     5693\n",
       "2      560\n",
       "1      354\n",
       "Name: Education, dtype: int64"
      ]
     },
     "execution_count": 7,
     "metadata": {},
     "output_type": "execute_result"
    }
   ],
   "source": [
    "df.loc[:,'Education'].value_counts()"
   ]
  },
  {
   "cell_type": "code",
   "execution_count": 8,
   "metadata": {
    "collapsed": true
   },
   "outputs": [],
   "source": [
    "group_age_df = df[['Age','Query List']].groupby(by = 'Age')\n",
    "group_gender_df = df[['Gender','Query List']].groupby(by = 'Gender')\n",
    "group_education_df = df[['Education','Query List']].groupby(by = 'Education')"
   ]
  },
  {
   "cell_type": "code",
   "execution_count": 9,
   "metadata": {
    "collapsed": true
   },
   "outputs": [],
   "source": [
    "age0_df = group_age_df.get_group(0)\n",
    "age1_df = group_age_df.get_group(1)\n",
    "age2_df = group_age_df.get_group(2)\n",
    "age3_df = group_age_df.get_group(3)\n",
    "age4_df = group_age_df.get_group(4)\n",
    "age5_df = group_age_df.get_group(5)\n",
    "age6_df = group_age_df.get_group(6)"
   ]
  },
  {
   "cell_type": "code",
   "execution_count": 13,
   "metadata": {
    "collapsed": true
   },
   "outputs": [],
   "source": [
    "fileagepath_0 = './Data/VersonData_1/age0_df.csv'\n",
    "fileagepath_1 = './Data/VersonData_1/age1_df.csv'\n",
    "fileagepath_2 = './Data/VersonData_1/age2_df.csv'\n",
    "fileagepath_3 = './Data/VersonData_1/age3_df.csv'\n",
    "fileagepath_4 = './Data/VersonData_1/age4_df.csv'\n",
    "fileagepath_5 = './Data/VersonData_1/age5_df.csv'\n",
    "fileagepath_6 = './Data/VersonData_1/age6_df.csv'"
   ]
  },
  {
   "cell_type": "code",
   "execution_count": 10,
   "metadata": {},
   "outputs": [
    {
     "data": {
      "text/html": [
       "<div>\n",
       "<style>\n",
       "    .dataframe thead tr:only-child th {\n",
       "        text-align: right;\n",
       "    }\n",
       "\n",
       "    .dataframe thead th {\n",
       "        text-align: left;\n",
       "    }\n",
       "\n",
       "    .dataframe tbody tr th {\n",
       "        vertical-align: top;\n",
       "    }\n",
       "</style>\n",
       "<table border=\"1\" class=\"dataframe\">\n",
       "  <thead>\n",
       "    <tr style=\"text-align: right;\">\n",
       "      <th></th>\n",
       "      <th>Age</th>\n",
       "      <th>Query List</th>\n",
       "    </tr>\n",
       "  </thead>\n",
       "  <tbody>\n",
       "    <tr>\n",
       "      <th>211</th>\n",
       "      <td>0</td>\n",
       "      <td>埃及闪电特种部队,张云龙,开卷有益反方,邓超出轨,郑恺,张云龙演过的电视剧,民族团结一家亲手...</td>\n",
       "    </tr>\n",
       "    <tr>\n",
       "      <th>263</th>\n",
       "      <td>0</td>\n",
       "      <td>特别的近义词,能出没最新版,神犬步枪电视剧,红孩儿电视剧,怀孕三个月胸部胀痛,蝴蝶飞舞花丛中...</td>\n",
       "    </tr>\n",
       "    <tr>\n",
       "      <th>299</th>\n",
       "      <td>0</td>\n",
       "      <td>我的世界盾牌怎么做,男人必看关于阳痿视频,朴妮唛视频,呼格案办案民警下场,谭雅娜,嘴型看女人...</td>\n",
       "    </tr>\n",
       "    <tr>\n",
       "      <th>370</th>\n",
       "      <td>0</td>\n",
       "      <td>消灭星星2016最新版本,吞吞吐吐打一生肖,只猜成语,好看手势密码图案大全,开心消消乐无限精...</td>\n",
       "    </tr>\n",
       "    <tr>\n",
       "      <th>376</th>\n",
       "      <td>0</td>\n",
       "      <td>(网王)穿越注意事项,&gt;童话还不够美好(网王),网王聆听无音,网王之游离之梦,晋江文学网,温...</td>\n",
       "    </tr>\n",
       "  </tbody>\n",
       "</table>\n",
       "</div>"
      ],
      "text/plain": [
       "     Age                                         Query List\n",
       "211    0  埃及闪电特种部队,张云龙,开卷有益反方,邓超出轨,郑恺,张云龙演过的电视剧,民族团结一家亲手...\n",
       "263    0  特别的近义词,能出没最新版,神犬步枪电视剧,红孩儿电视剧,怀孕三个月胸部胀痛,蝴蝶飞舞花丛中...\n",
       "299    0  我的世界盾牌怎么做,男人必看关于阳痿视频,朴妮唛视频,呼格案办案民警下场,谭雅娜,嘴型看女人...\n",
       "370    0  消灭星星2016最新版本,吞吞吐吐打一生肖,只猜成语,好看手势密码图案大全,开心消消乐无限精...\n",
       "376    0  (网王)穿越注意事项,>童话还不够美好(网王),网王聆听无音,网王之游离之梦,晋江文学网,温..."
      ]
     },
     "execution_count": 10,
     "metadata": {},
     "output_type": "execute_result"
    }
   ],
   "source": [
    "age0_df.head()"
   ]
  },
  {
   "cell_type": "code",
   "execution_count": 17,
   "metadata": {
    "collapsed": true
   },
   "outputs": [],
   "source": [
    "age0_df.to_csv(fileagepath_0,encoding='utf-8',index=False)\n",
    "age1_df.to_csv(fileagepath_1,encoding='utf-8',index=False)\n",
    "age2_df.to_csv(fileagepath_2,encoding='utf-8',index=False)\n",
    "age3_df.to_csv(fileagepath_3,encoding='utf-8',index=False)\n",
    "age4_df.to_csv(fileagepath_4,encoding='utf-8',index=False)\n",
    "age5_df.to_csv(fileagepath_5,encoding='utf-8',index=False)\n",
    "age6_df.to_csv(fileagepath_6,encoding='utf-8',index=False)"
   ]
  },
  {
   "cell_type": "code",
   "execution_count": 11,
   "metadata": {
    "collapsed": true
   },
   "outputs": [],
   "source": [
    "file_stoppath = './Data/stopwords.txt'"
   ]
  },
  {
   "cell_type": "code",
   "execution_count": 12,
   "metadata": {
    "collapsed": true
   },
   "outputs": [],
   "source": [
    "stopwords=pd.read_csv(file_stoppath,index_col=False,quoting=3,sep=\"\\t\",names=['stopword'], encoding='utf-8')\n",
    "stopwords=stopwords['stopword'].values"
   ]
  },
  {
   "cell_type": "code",
   "execution_count": 13,
   "metadata": {
    "collapsed": true
   },
   "outputs": [],
   "source": [
    "import jieba"
   ]
  },
  {
   "cell_type": "code",
   "execution_count": 14,
   "metadata": {
    "collapsed": true
   },
   "outputs": [],
   "source": [
    "def preprocess_text(content_lines, sentences, category):\n",
    "    for line in content_lines:\n",
    "        try:\n",
    "            segs=jieba.lcut(line)\n",
    "            segs = list(filter(lambda x:len(x)>1, segs)) #没有解析出来的新闻过滤掉\n",
    "            segs = list(filter(lambda x:x not in stopwords, segs)) #把停用词过滤掉\n",
    "            sentences.append((\" \".join(segs), category))\n",
    "        except Exception as e:\n",
    "            print(line)\n",
    "            continue"
   ]
  },
  {
   "cell_type": "code",
   "execution_count": 15,
   "metadata": {
    "collapsed": true
   },
   "outputs": [],
   "source": [
    "age1_data = age1_df['Query List'].values.tolist()[1000:10001]\n",
    "age2_data = age2_df['Query List'].values.tolist()[1000:10001]\n",
    "age3_data = age3_df['Query List'].values.tolist()[1000:10001]\n",
    "age4_data = age4_df['Query List'].values.tolist()[:10000]\n",
    "age5_data = age5_df['Query List'].values.tolist()\n",
    "age6_data = age6_df['Query List'].values.tolist()"
   ]
  },
  {
   "cell_type": "code",
   "execution_count": null,
   "metadata": {
    "collapsed": true
   },
   "outputs": [],
   "source": []
  },
  {
   "cell_type": "code",
   "execution_count": 16,
   "metadata": {},
   "outputs": [
    {
     "name": "stderr",
     "output_type": "stream",
     "text": [
      "Building prefix dict from the default dictionary ...\n",
      "Loading model from cache C:\\Users\\SEELE\\AppData\\Local\\Temp\\jieba.cache\n",
      "Loading model cost 0.526 seconds.\n",
      "Prefix dict has been built successfully.\n"
     ]
    },
    {
     "name": "stdout",
     "output_type": "stream",
     "text": [
      "nan\n",
      "nan\n",
      "nan\n",
      "nan\n"
     ]
    }
   ],
   "source": [
    "sentences = []\n",
    "preprocess_text(age1_data, sentences, 1)\n",
    "preprocess_text(age2_data, sentences, 2)\n",
    "preprocess_text(age3_data, sentences, 3)\n",
    "preprocess_text(age4_data, sentences, 4)\n",
    "preprocess_text(age5_data, sentences, 5)\n",
    "preprocess_text(age6_data, sentences, 6)"
   ]
  },
  {
   "cell_type": "code",
   "execution_count": 17,
   "metadata": {},
   "outputs": [
    {
     "data": {
      "text/plain": [
       "40410"
      ]
     },
     "execution_count": 17,
     "metadata": {},
     "output_type": "execute_result"
    }
   ],
   "source": [
    "len(sentences)"
   ]
  },
  {
   "cell_type": "code",
   "execution_count": 18,
   "metadata": {},
   "outputs": [
    {
     "name": "stdout",
     "output_type": "stream",
     "text": [
      "9001\n",
      "9001\n",
      "9001\n",
      "10000\n",
      "2922\n",
      "489\n"
     ]
    }
   ],
   "source": [
    "print(len(age1_data))\n",
    "print(len(age2_data))\n",
    "print(len(age3_data))\n",
    "print(len(age4_data))\n",
    "print(len(age5_data))\n",
    "print(len(age6_data))"
   ]
  },
  {
   "cell_type": "code",
   "execution_count": 19,
   "metadata": {
    "collapsed": true
   },
   "outputs": [],
   "source": [
    "import random"
   ]
  },
  {
   "cell_type": "code",
   "execution_count": 20,
   "metadata": {},
   "outputs": [
    {
     "data": {
      "text/plain": [
       "('周星驰 精武门 混沌 之戒 诺贝尔 郭云深 几个 行者 小说 拍博 尔特 摄影师 卫斯理 武侠小说 全集 卫斯理 小说全集 混沌 之戒 天照 合成 征服 警花 小说 混沌 之戒 最强 基因 全能 学习机 西安市 市长 菲利 跳水 仿佛 虚空 代数 几何 教皇 格罗 迪克 1003 唐刀 小说 混沌 之戒 诺贝尔 混沌 之戒 136 瓦格纳 混沌 之戒 攻略 超级 幸运星 混沌 之戒 经验 伏虎 工字 美国 小学生 训练 篮球 马枷术 信号 周星驰 精武门 粤语 彳亍 雨巷 朗诵 动漫 女孩 生化危机 唐刀 小说 美少 哀修 章节 目录 混沌 之戒 瓦格纳 马伽术 摔投 男子汉 英雄 围城 口袋 钥匙 排球 视频 皮肤 开裂 脚皮 磨破 好得快 潘小杰 信号 楷书 写法 颜真卿 雨后 故事 邪恶 动态图 眼镜 过滤 山泉水 主角 天使 小说 系统 菲利 跳水 赵冀龙 半步 崩拳 军训 指琴 最强 守门员 红发会 英雄 围城 口袋 没字 仿佛 虚空 代数 几何 教皇 格罗 迪克 最终幻想 王者 之剑 彩蛋 英雄 围城 口袋 钥匙 函数 白莲花 养成 系统 未来 光脑 系统 终极 幻想 小说 师母 书架 小说 喜剧之王 周星驰 国语 混沌 之戒 攻略 第三章 成龙 周星驰 电影 作品 千元 末日 病毒 危机 放逐 王国 汉化 破解版 混沌 之戒 攻略 生化 尖兵 小说 美少 哀修 小说 混沌 之戒 最强 基因 小说 雷锋 系统 喜剧之王 刀剑 神域 第一季 混沌 之戒 中文 破解版 古武 生化危机 放逐 王国 最终幻想 王者 之剑 手枪 周星驰 电影 全集 喜剧之王 洪拳 当代 素数 混沌 之戒 混沌 之戒 放逐 王国 攻略 英雄 围城 口袋 攻略 放逐 王国 红色 兰花 肺活量 上万 武者 生化 尖兵 呼吸困难 混沌 之戒 秘籍 楷书 写法 小篆 写法 精武门 周星驰 楷书 写法 颜真卿 英雄 围城 没字 放逐 王国 攻略 哥布林 小偷 英雄 围城 口袋 版钱 生化危机 唐刀 基因 小说 喜剧之王 周星驰 国语 爱奇艺 汉家 松鼠 最强 用脸 守门员 周星驰 喜剧之王 国语版 系统 存储空间 1001 系统 存储空间 蓝田 军训 基地 闹鬼 事件 呼吸困难 上不来 英雄 围城 口袋 攻略 1003 英雄 围城 口袋 攻略 皮肤 开裂 超级 幸运 星辰 机唐 红豆 琵琶行 朗诵 五个 动漫 女孩 小游戏 蓝田 军训 基地 仿佛 虚空 代数 几何 教皇 格罗 迪克 1010 男子汉 第一季 第一集 憨豆 假期 最终幻想 王者 之剑 彩蛋 拳击 俱乐部 破解版 朗诵 楷书 写法 小篆 写法 邹市 爸爸 放逐 王国 哥布林 小偷 尤费 武者 生化 尖兵 小说 山泉水 生化危机 唐刀 基因 小说 刀剑 神域 楷书 写法 颜真卿 赢博 尔特 摄影师 蓝田 军训 基地 百度 百科 放逐 王国 蓝雾 红花 放逐 王国 兰内 加德 公所 地铁 笨蛋 放逐 王国 城镇 随机 精武门 1991 粤语 高清 重生 boss 朗诵会 搏击 信号 邹市 形意拳 大师 蓝田 军训 基地 条件 生化危机 唐刀 基因 行者 小说 警花 笔记本 小说 美国 usba 成龙 周星驰 喜剧之王 行者 小说 英雄 围城 钻石 钥匙 英雄 围城 口袋 攻略 1001 英雄 围城 口袋 攻略 近地 联盟 先遣队 攻略 闪电 龙爪 高中语文 必背 古诗词 英雄 围城 口袋 金币 有用吗 宿府 朗诵 楷书 写法 小篆 写法 形意拳 巴西 季节 生化 尖兵 小说 混沌 之戒 瓦格纳 雨巷 价值尺度 流通手段 区别 拉练 墨尔本大学 开刃 男孩子 女装 劝学 近地 联盟 先遣队 生化 尖兵 爸爸 第三季 男子汉 第一季',\n",
       " 1)"
      ]
     },
     "execution_count": 20,
     "metadata": {},
     "output_type": "execute_result"
    }
   ],
   "source": [
    "sentences[0]"
   ]
  },
  {
   "cell_type": "code",
   "execution_count": 21,
   "metadata": {
    "collapsed": true
   },
   "outputs": [],
   "source": [
    "random.shuffle(sentences)"
   ]
  },
  {
   "cell_type": "code",
   "execution_count": 22,
   "metadata": {
    "collapsed": true
   },
   "outputs": [],
   "source": [
    "from sklearn.model_selection import train_test_split"
   ]
  },
  {
   "cell_type": "code",
   "execution_count": 23,
   "metadata": {},
   "outputs": [
    {
     "name": "stdout",
     "output_type": "stream",
     "text": [
      "40410\n"
     ]
    }
   ],
   "source": [
    "x, y = zip(*sentences)\n",
    "print(len(y))\n",
    "x_train, x_test, y_train, y_test = train_test_split(x, y, random_state=1234)"
   ]
  },
  {
   "cell_type": "code",
   "execution_count": 24,
   "metadata": {
    "collapsed": true
   },
   "outputs": [],
   "source": [
    "from sklearn.feature_extraction.text import CountVectorizer"
   ]
  },
  {
   "cell_type": "code",
   "execution_count": 25,
   "metadata": {
    "collapsed": true
   },
   "outputs": [],
   "source": [
    "vec = CountVectorizer(\n",
    "    analyzer='word', # tokenise by character ngrams\n",
    "    max_features=4000,  # keep the most common 4000 ngrams\n",
    ")"
   ]
  },
  {
   "cell_type": "code",
   "execution_count": 26,
   "metadata": {},
   "outputs": [
    {
     "data": {
      "text/plain": [
       "CountVectorizer(analyzer='word', binary=False, decode_error='strict',\n",
       "        dtype=<class 'numpy.int64'>, encoding='utf-8', input='content',\n",
       "        lowercase=True, max_df=1.0, max_features=4000, min_df=1,\n",
       "        ngram_range=(1, 1), preprocessor=None, stop_words=None,\n",
       "        strip_accents=None, token_pattern='(?u)\\\\b\\\\w\\\\w+\\\\b',\n",
       "        tokenizer=None, vocabulary=None)"
      ]
     },
     "execution_count": 26,
     "metadata": {},
     "output_type": "execute_result"
    }
   ],
   "source": [
    "vec.fit(x_train)"
   ]
  },
  {
   "cell_type": "code",
   "execution_count": 27,
   "metadata": {
    "collapsed": true
   },
   "outputs": [],
   "source": [
    "def get_features(x):\n",
    "    vec.transform(x)"
   ]
  },
  {
   "cell_type": "code",
   "execution_count": 28,
   "metadata": {
    "collapsed": true
   },
   "outputs": [],
   "source": [
    "from sklearn.naive_bayes import MultinomialNB"
   ]
  },
  {
   "cell_type": "code",
   "execution_count": 29,
   "metadata": {
    "collapsed": true
   },
   "outputs": [],
   "source": [
    "classifier = MultinomialNB()"
   ]
  },
  {
   "cell_type": "code",
   "execution_count": 30,
   "metadata": {},
   "outputs": [
    {
     "data": {
      "text/plain": [
       "MultinomialNB(alpha=1.0, class_prior=None, fit_prior=True)"
      ]
     },
     "execution_count": 30,
     "metadata": {},
     "output_type": "execute_result"
    }
   ],
   "source": [
    "classifier.fit(vec.transform(x_train), y_train)"
   ]
  },
  {
   "cell_type": "code",
   "execution_count": 31,
   "metadata": {},
   "outputs": [
    {
     "data": {
      "text/plain": [
       "0.42571513411857864"
      ]
     },
     "execution_count": 31,
     "metadata": {},
     "output_type": "execute_result"
    }
   ],
   "source": [
    "classifier.score(vec.transform(x_test), y_test)"
   ]
  },
  {
   "cell_type": "code",
   "execution_count": 32,
   "metadata": {
    "collapsed": true
   },
   "outputs": [],
   "source": [
    "from sklearn.model_selection import StratifiedKFold\n",
    "from sklearn.metrics import accuracy_score, precision_score\n",
    "import numpy as np"
   ]
  },
  {
   "cell_type": "code",
   "execution_count": 33,
   "metadata": {
    "collapsed": true
   },
   "outputs": [],
   "source": [
    "def stratifiedkfold_cv(x, y, clf_class, shuffle=True, n_folds=5, **kwargs):\n",
    "    stratifiedk_fold = StratifiedKFold(n_splits=n_folds, shuffle=shuffle)\n",
    "    y_pred = y[:]\n",
    "    for train_index, test_index in stratifiedk_fold.split(x, y):\n",
    "        X_train, X_test = x[train_index], x[test_index]\n",
    "        y_train = y[train_index]\n",
    "        clf = clf_class(**kwargs)\n",
    "        clf.fit(X_train,y_train)\n",
    "        y_pred[test_index] = clf.predict(X_test)\n",
    "    return y_pred "
   ]
  },
  {
   "cell_type": "code",
   "execution_count": 34,
   "metadata": {
    "collapsed": true
   },
   "outputs": [],
   "source": [
    "NB = MultinomialNB"
   ]
  },
  {
   "cell_type": "code",
   "execution_count": 35,
   "metadata": {},
   "outputs": [
    {
     "name": "stdout",
     "output_type": "stream",
     "text": [
      "0.34159225322012227\n"
     ]
    }
   ],
   "source": [
    "print(precision_score(y, stratifiedkfold_cv(vec.transform(x),np.array(y),NB), average='macro'))"
   ]
  },
  {
   "cell_type": "code",
   "execution_count": 36,
   "metadata": {
    "collapsed": true
   },
   "outputs": [],
   "source": [
    "skf = StratifiedKFold(n_splits=3)"
   ]
  },
  {
   "cell_type": "code",
   "execution_count": 38,
   "metadata": {
    "collapsed": true
   },
   "outputs": [],
   "source": [
    "x_np = np.array(x)\n",
    "y_np = np.array(y)"
   ]
  },
  {
   "cell_type": "code",
   "execution_count": 39,
   "metadata": {},
   "outputs": [
    {
     "name": "stdout",
     "output_type": "stream",
     "text": [
      "0.43292999777299385\n",
      "0.4291759465478842\n",
      "0.43640953300170765\n"
     ]
    }
   ],
   "source": [
    "for train_index, test_index in skf.split(x_np, y_np):\n",
    "    X_train, X_test = x_np[train_index], x_np[test_index]\n",
    "    Y_train, Y_test = y_np[train_index], y_np[test_index]\n",
    "    vec.fit(X_train)\n",
    "    classifier.fit(vec.transform(X_train), Y_train)\n",
    "    print(classifier.score(vec.transform(X_test), Y_test))"
   ]
  },
  {
   "cell_type": "code",
   "execution_count": 40,
   "metadata": {},
   "outputs": [
    {
     "data": {
      "text/plain": [
       "['描写 诗句 辣椒 形容 月亮 多久 合适 射雕 英雄传 成都 活血化瘀 何云伟 李菁 合作 安定片 体内 湿气 重会 影响 心脏 抑郁症 反流性 胃炎 心脏 咚咚 难受 深圳 哪家 心内科 张一 山下 颈椎 会手 发麻 植物性神经 紊乱 心脏 症状 幻城梦主 心脏 隐疼 维生素 b12 胡辣汤 做法 藿香 正气水 千万别 乱喝 气滞 血瘀 阿胶 入睡 心脏 鸿钧 老祖 师傅 韭菜 炒鸡蛋 心率 郭德纲力 徒弟 德云社 帅哥 丽珠 得乐 作用 金星 谷维素 副作用 心堵 怎么回事 灵异 体质 血瘀 症状 左边 右边 徐可 奥美 拉挫 藿香 正气 几天 半夜 心脏 不适 心跳 很快 通宣理 肺丸 功效 作用 心脏 早搏 谷维素 功效 作用 颈椎病 藿香 正气 功效 作用 附子 理中丸 功效 作用 入睡 咳嗽 心动过速 成就 一种 境界 轻度 抑郁 阴阳眼 内分泌 失调 表现 移动硬盘 坐飞机 成长 一种 境界 冠心病 食欲不振 韩语 日常用语 300 快速化 瘀血 气滞 血瘀 羊肉 国外 神经病 釜山 行前 丽珠 得乐 三联 疗法 中秋 谌龙 中秋节 几月 几日 龙龙 艾滋病 可怕 心脏 感冒 日本 强力 心丹 好不好 杭州 美景 盖世无双 太平 歌词 奥美 拉挫 多久 键盘 轻度 抑郁 盛冠森 一周 几次 藿香 正气 胶囊 附子 理中丸 左中 肺野 结节 形容 月亮 成语 教师节 速效 救心丸 心脏 很重 国外 优酷 深圳市 医院 天天 拔罐 预防 肠胃 不好 葡萄 日本 强力 心丹 心肌缺血 单身 诗句 棋子 羽毛球 冠军 胃出血 水果 深圳 南山 医院 张一山 鸡巴 张一山 键盘 无籽 葡萄 身体 有害 血瘀 体质 调理 黑眼圈 很重 原因 梦主 小龙虾 胆固醇 港大 深圳 医院 奥美 拉挫 几天 发麻 发麻 羊肉 血瘀 羊肉 英文 葡萄 功效 作用 张一山 好友 键盘 幻城 火族 王子 射雕 英雄传 完整版 抑郁症 治疗 宋喆 乔振宇 阴阳眼 祛湿 血瘀 胃出血 食物 桔梗 功效 作用 张一山 维生素 b12 轻度 抑郁症 调网 植物性神经 紊乱 凉茶 功效 香港大学 深圳 医院 植物神经 功能 紊乱 症状 他乐克 左肋 不适 不适 心脏 颈椎病 自我 治疗 方法 桂附 地黄丸 血压 127 心脏 乔振宇 gay 幻城 火族 王子 扮演者 天天 拔罐 皮肤 皓月当空 晚上 睡觉 睡衣 刘昊然 蹄膀 李菁 何云伟 退出 心脏 不适 濒死 阴阳眼 真的 症状 幻城 黑雾 肠胃 不好 洋葱 洋葱 功效 作用 谷维素 维生素 b12 维生素 b2 射雕 英雄传 全集 孩子 阴阳眼 形容 月亮 诗句 键盘 凝血剂 血瘀 湿气 天天 拔罐 感冒 射雕 英雄传 东邪西毒 胆囊息肉 治疗 植物性神经 紊乱 射雕 英雄传 版有 几部 吸食 后遗症 心脏 标志 乔任 症状 治疗 深圳 体检 医院 洋葱 肠胃 影响 午睡 最佳 时间 左肋 不适 血瘀 韭菜 肋下 不适 心脏 蘑菇 血瘀 幻城梦主 扮演者 韩语 简单 日常用语 肺结核 症状 山楂 红糖 功效 作用 心脏 位置 抑郁症 症状 幻城 电视剧 内分泌 失调 当归 功效 作用 植物性神经 紊乱 发麻 发麻 心脏 不适 冠心病 运动 心堵 图片 德云社 帅哥 心脏 位置 图片 胆囊息肉 黄芪 功效 作用 射雕 英雄传 张一山 gay 心脏 缓解 柠檬 枸杞 泡水 气滞 血瘀 食物 体内 寒气 症状 幻城 结局 丹参滴丸 心脏 位置 人参 健脾 胆囊息肉 治疗 偏方 黄秋生 阴阳眼 youtube 辣椒 难受 心脏 堵得 怎么回事 黄秋生 阴阳眼 真的 藿香 正气 幻城 那团 黑雾 祛湿 胆囊息肉 症状 谷维素 维生素 b2 气滞 血瘀 水果 形容 月亮 词语 信益 理疗 心动过速 颈椎病 心脏病 抑郁症 能治好 胡辣汤 亚信 阴阳眼 黄秋生 完罐 注意事项 桂格 燕麦片 幻城渊 湿疹 治疗 血瘀 能治好 心律失常 症状 体内 湿气 表现 症状 诗句 气滞 血瘀 羊肉 洋葱 为宜 感冒 吸食 后遗症 石菖蒲 功效 作用 黄秋生 阴阳眼 柠檬 枸杞 大枣 泡水 心脏 不适 心电图 没事 植物神经 功能 紊乱 治疗 阴阳眼 图片 睡衣 睡觉 好不好 德云社 纪念 完整版 gogoboy 心脏 咚咚 难受 入睡 植物性神经 紊乱 心脏 心脏 心电图 没事 冠心病 运动 疗法',\n",
       " 'suv 哪款 西马 煤矿 啥时候 破产 挣钱 昂科威 途观 君威 cx5 百转 视频 转换器 中文版 suv 哪款 俯卧撑 苹果 死机 重启 手机 格式 转换器 辽宁 油价 花冠 dvd 能放 视频 12320 网上 预约 挂号 河南 邮政 红米 note 断电 十万左右 视频 转换器 安卓版 下载 调奶器 牌子 邓亚萍 简介 胎位 不正 沈煤 集团 现状 红米 note 电池 休眠 激活 微信 挣钱 网上 预约 挂号 标志 508 健身 计划表 男士 初级 小说 免费 下载 全本 完结 自由 途观 电瓶 没电 电瓶 仰卧起坐 肚子疼 荣放 rav4 暴风 转码 一龙 视频 大全 视频 途观 宋铁龙 前景 刘金山 个人资料 宋氏 通背拳 安卓 手机 格式 转换器 韩乔生 卡戴珊 微信 克隆版 下载 雪铁龙 c5 中秋节 诗句 雪铁龙 c6 辽宁 贿选案 哈弗 h7 孩子 东西 婴儿 浴盆 牌子 联通 4g 套餐 改回 3g 宋铁龙 打败 泰拳 视频 中国象棋 规则 一龙 简历 三十 超过 三十年 视频格式 转换器 七煤 集团 转岗 分流 安置 东风 猛士 民用 医大 二院 网上 挂号 手机 视频格式 转换器 安卓 下载 少年 三国志 最强 阵容 最新 在家 自制 鸡柳 孕妇 木耳 吊坠 打结 方法 图解 机锋 论坛 车载 dvd 播放 mp4 山里红 山楂 孕妇 奶粉 发胖 三十 年轻人 必知 160 说话 技巧 binger 手表 多大 伤口 破伤风 中国 厉害 武术家 万妮 微信 多开 宝安 下载 微信 多开 破解版 三国 卡牌 游戏 沈阳 医大 二院 网上 挂号 手指缝 干净 dvd 导航 显示 视频 播放 好吉宝 婴儿 浴盆 紫叶 灯塔市 中通 快递 手机 格式 转换器 下载 微信 多开 破解版 下载 crv 周小排 少年 三国志 百转 视频 转换器 破解版 手机 微信 开器 免费版 电瓶 没电 启动 周小排 畸用 空腹 胎位 不正 徐玉玉 西安 西宁 火车 时刻表 车载 视频 分辨率 少年 三国志 搭配 象棋 入门 教学 视频 俯卧撑 不动 途观 荣放 suv 哪款 雷克萨斯 天气预报 山里红 dvd 视频 格式 视频 转换器 安卓版 下载 免费 沈煤 集团 裁员 手机 视频格式 转换器 电瓶 没电 起动 昂科威 粗犷 读音 沈煤 倒闭 荣放 途观 九门 关系 中国 伊朗 门票 车载 dvd 视频格式 谌龙 李宗伟 视频 转换器 安卓版 幸运 视频 田馥 百度 binger1188 练出 酒量 双险 双控 口才 训练方法 经典 句子 斗地主 浙江 卫视 节目表 大连 西安 少年 三国志 最强 阵容 悟空 原唱 04198180047 橡皮 英语 自动档 电瓶 安卓 手机 苹果 手机 下象棋 破伤风 多深 伤口 破伤风 象棋 wifi 视频格式 转换器 安卓版 雪铁龙 c4l 手机 行车 记录仪 dvd 导航 播放 格式 视频 胎位 不正 矫正 宋式 太极拳 橄榄 橄榄油 迈锐宝 xl 健身 软件 十来 在家 腹肌 最快 图解 格式 转换器 麻衣 算子 戴荃 创业 立德 手机 导航 卡牌 游戏 jeep 网上 赚钱 方法 联通 4g 套餐 改成 月租 昂科威 途观 沈煤 最新消息 微信 共存 版安卓 国企 煤矿 倒闭 宋铁龙 比赛 视频 发布 手机 改装车 违法 双险 双控 中国象棋 wifi 联机 沈煤 幽默 口才 幸运 田馥 百度 少年 三国志 华佗 地图 开车 保险公司 标志 408 黄豆 做法 全家 微信 分身 西马 煤矿 倒闭 橄榄 少年 三国志 辅助 软件 辽宁 油价 调整 最新消息 蜂蜜 牌子 dvd 格式 视频 中国象棋 红米 note 电池 休眠 激活 君威 gs 中通 快递 灯塔 马拉松 公里 少年 三国志 辅助 软件 最新 灯塔 中通 快递 地址 中国 煤矿安全 沈煤 集团 工人 分流 安卓 视频 转换器 apk 快递 加盟费 流程 沈煤 集团 融资 dvd 导航 视频 下载 破皮 伤口 大灯 忘记 胎位 不正 原因 纠正 方法 电瓶 没电 充电 少年 三国志 魏国 最强 阵容 婴儿 奶粉 牌子 灰指甲 往肉 里长 健身器材 幸运 田馥 安卓 格式 工厂 g20 峰会 煤炭 象棋 规则 顺口溜 葫芦 素馅 饺子 做法 破皮 伤口 破伤风 孕妇 缺钙 食物 补充 最快 孩子 检查 一周 孩子 医保 指南 自由 大连 西安 动车 时刻表 电瓶 没电开 公里 下次 启动 少年 三国志 魏国 最强 阵容 公里 下次 启动',\n",
       " '汪芙渠 汪精卫 关系 羽毛球 挑战 伪装者 演员表 相伴 玉洁冰清 新浪 博客 姓氏 读音 灵芝 康文 教育 博客 教育 转型 教师 使命 教师 一岗双责 制度 手记 伪装者 王天风 一岗双责 上海 女人 精油 小瀛洲 度假村 蒙圈 谌龙 女朋友 纪律 训练营 幸福 海珠区 办证 中心 清远 马头 生涯规划 武汉 导演 李雪 小学 中共 学期 谈心 义务教育法 教师 责任 谌龙 听说 一段 教育部 文件 目标 心理学 实验 芙蓉 新浪 博客 第十二章 管理者 素养 马来西亚 语言 翻译 未成年人 保护法 乌兰巴托 教育 转型 教师 使命 李秉康 教师节 城会 公交车 路线 相伴 新浪 博客 武汉市公安局 电话 靳东 伪装者 追前 一名 哈佛 年前 在校生 做过 调查 党员 平常 看得出来 广州市 海珠区 公安局 电话 教师 一岗双责 有涯 而知 无涯 共建 单位 博客 玉洁冰清 612 新浪 博客 身体健康 图片 大全 香港 青松 侯宝垣 小学 地址 报警 电话 马来西亚 语言 促膝谈心 写下去 玉洁冰清 612 新浪 博客 第三只 陈红 年轻 最美 图片 第十二章 管理者 素养 小学 旅游 夏令营 初中 接触 社会 夏令营 伪装者 李宗伟 流泪 国民 道歉 番茄 哪国 牌子 上海 女人 美白 保湿 精油 开心 武汉市 江岸区 公安局 电话 别离 电视剧 义务教育法 手记 电子相册 小学 品德 社会 课程标准 新课程 背景 学校 管理策略 海教通 下载安装 淡雅 图片 小确 幸是 主题 班会 评课 新浪 博客 登录 坐地铁 象棋 大师 曾庆新 中秋 快乐 教师法 愿景 广州 天气 丹霞地貌 中小学 公共安全 教育 指导 纲要 城会 玩下 一句 长途电话 g20 峰会 蒙圈 中国 传统 文化 绘本 论语 心得 视频 全集 微卡 天地 悠悠 过客 潮起 潮落 蒙圈 图片 英国 伯明翰 大学 世界排名 就座 博客 玉洁冰清 612 新浪 博客 博客 电子 邀请函 手机 微信 社区 辖区 单位 共建 领导 有道 管理 有术 知音 伪装者 王天风 荔湾区 徐启贵 中国 饮食 绘本 徐启贵',\n",
       " '泥鳅 喂龙鱼 王宝强 新片 抵制 唐山 瓜子 二手车 邯郸 石家庄 公里 有线 数字电视 机顶盒 欢乐颂 演员表 凌度 排气管 唐山 鱼缸 上滤 改底 房子 贷款 计算器 多大 平米 豪宅 房子 贷款 计算器 斗牛 猛犸象 象牙 区别 1001 猛犸象 象牙 数字 机顶盒 链接 木命 缺什么 脾虚 气虚 新款 手链 黄金 数字 机顶盒 信号 鱼缸 喂食 水混 老款 数字 机顶盒 脾虚 气滞 症状 头发 厉害 原因 帝王 三间 郑州 石家庄 公里 黄金 观音 吊坠 搜房网 双色球 有线 数字 机顶盒 邯郸 石家庄 买房 贷款 计算器 消消 卡西欧 手表 房子 贷款 计算器 酒仙 游戏 淘宝 豹猫 小说 换水 要放 小米 总出 返回 音量 金刚 菩提 黄金 疏影 象牙 面包圈 小说 金刚 菩提 黄金 黄金 吊坠配 链子 三星 s6edge 唐山 公交车 路线 电视 机顶盒 安装 疏影 胡歌 泥鳅 喂鱼 浑水 泥鳅 喂鱼 气虚 症状 小米 note2 脾虚 气虚 肾虚 掉头发 脾虚 气虚 症状 三星 手表 gear s2 舌苔 发白 三星 手表 gear s3 唐山 有信 二手车 市场 小米 买房 贷款 计算器 下颌 关节 紊乱 综合征 象牙 面包圈 王宝强 豹猫 脾气 症状 三星 gear 智能 手表 功能 祖峰 猛犸象 象牙 区别 机顶盒 连接 电视 五行 相生相克 贷款 计算器 咸鱼 脾虚 债权 车能 唐山 瓜子 债权 转让 斗牛犬 上滤 改底 邯郸 旅游景点 大全 黄花梨 手串 盘玩 三星 s7edge 三星 手表 gear 待机 唐山到 吉林 脾虚 气虚 症状 黄金 观音 吊坠 男士 图片 游泳 好处 唐山 瓜子 小说 新款 手链 京东 商城 抵押 车能 购买 黄金 观音 吊坠配 黄金 观音 郑州 邯郸 贷款 计算器 爸爸 唐山人 学员 驾车 教练 玳瑁 项链 头发 稀少 泥鳅 脏水 小米 官网 剑侠情缘 黄金 观音 吊坠 禁忌 双色球 中奖 规则 红米 note3 拆机 信号 不好 唐山 优信 二手车 脾虚 症状 创维 电视 连接 机顶盒 创维 电视 安装 机顶盒 红米 note3 红米 note4 金刚 空腹 喝牛奶 唐山人 小说 债权 车有 风险 泥鳅 冰箱 黄金 吊坠',\n",
       " '二垒 鸽子 上火 楼兰 psv 破解 教程 黄毛 安徽师范大学 教务 系统 季竟 图片 forus 咪咪 神色 变得 阴晴不定 查看 手机 定制 守望 先锋 武汉 方特 灵力 探寻 关二爷 睁眼 刺青 杀人 事件 灵魂 摆渡 冥王 sfc scannow 灭火器 价格 分辨率 饕餮 自行车 刹车 摩擦 windows media player 禁用 重启 武汉 旅游 肚脐 打开 windows 播放器 饥荒 传送机 留守 儿童英语 作文 乘数 效应 比特 guarantees 购买力 平价 大学 度过 英语 作文 好日子 不算 3d 美女 立体画 高承勇 龙珠超 维斯 真实 身份 头发 哪来 未成年 驾照 1001 未成年 驾照 大学生 入学 寻找 途径 赚钱 百度 作业 大学生 入学 寻找 爱情 杯酒 昨天 下班 公司 妹子 手里 提着 袋子 快掉 午间 派对 禁图 大全 地海 传奇 学年 鉴定 gba 英文 每段 几个 字母 嘴巴 长痘 原因 灵魂 摆渡 没一 好看 王者 荣耀 体验 服点 沙溢 挤出 效应 乘数 效应 费雪 效应 徐光 lb link 802.11 驱动 类似 黑暗 圣经 咳嗽 喝牛奶 千与千寻 主题曲 好看 完结 动漫 推荐 饥荒 麦尔维 分身 五种 饥荒 冒险 模式 隐藏 结局 世界 五种 蛋碎 1001 蛋碎 从乐嘉 进击 巨人 全集 饥荒 魔杖 台子 代码 动漫 人物 素描 边牧 赤红 之瞳 英文 引用 格式 藏獒 价格 守望 先锋 图片 windows media player 重启 vital forus 二氧化碳 灭火器 价格 饥荒 冒险 麦尔斯 3d 立体画 索爱 手机 楼兰 聂远 郑毓芝 灵魂 摆渡 好看 恐怖 太平公主 死缓 最少 服刑 张子 石巴鱼 百科 雌性激素 头发 出油 代购 鞋子 香港 直邮 真假 地海 千与千寻 守望 先锋 ml psp 游戏 大厅 物品 生犀 燃之有 异香 动物 骨粒 进击 巨人 红莲 咳嗽 鸡蛋 风力 灭火器 价格 君生 未生 生君 全诗 爱情 近义词 地海 鼻子 变高变 变小 守望 先锋 流畅 画神 图录 纸质 完本 边境 牧羊犬 饥荒 魔杖 基座 代码 李殊 潇潇 五种 眼睛 守望 先锋 加速器 转发 0.5 分辨率 电脑 损伤 李佳 饥荒 冒险 云盘 搜索 李琳 画神 图录 咳嗽 武汉 游玩 windows 组件 不到 windows media pl 未成年 驾照 杜冰燕 转发 0.5 经济学 效应 大全 石巴鱼 杜冰雁 火影忍者 归乡 一集 鸽子 功效 作用 地海 传奇 歌词 windows media player 灵魂 摆渡 好看 恐怖 guarantee 季竟 中秋 祝福语 口袋妖怪 版本 好玩 白色 ao xin 进击 巨人 李毅 星庭 之花 狗狗 区域 电玩 小子 皮肤 打折 早餐 苹果 李玉狐 无量 进击 巨人 自由 死缓 开怀 放声 李玉湖 禁用 windows media player 藏獒 第一 主人 区别 痤疮 公子 饕餮 经济学 原理 乘数 效应 批改 登陆 灵魂 摆渡 manythings qq 游戏 大厅 游戏 删除 挤出 效应 乘数 效应 作业 灵魂 摆渡 吕哲 分辨率 越高越 清晰 漆黑 魅影 5.0 bw 版本 sector 守望 先锋 模糊 通灵 鬼医 镜片 眼睛 guaranteed 夜店 之王 搜索 音乐 野吹 图片 山回路转 何方 自行车 保证 英文 守望 先锋 英雄 联盟 intermediayy 饥荒 魔杖 持有者 代码 比特 赤红 windows media player 功能 收获 之夜 图片 藏獒 咬死主 vivo 联通 爱人 平凡 生活 用词 表达 丘疹 痤疮 鼻子 变小 自行车 白色 ao xin 灵魂 摆渡 春江花月夜 灵魂 摆渡 爱立信 打开 命令 窗口 pan media playet 功能 黄奕 守望 先锋 哪种 枪火 游侠 官网 王者 荣耀 体验 申请 收获 之夜 动态 图片 王者 荣耀 免疫 石化 皮带 打孔 vivo 定制 联通 话费 优惠活动 兰桂坊 碎片 灵力 探寻 夜店 之王 financial 心炎 悟空 饥荒 人物 驱动 师小红 嘴巴 长痘 守望 先锋 好卡 收获 之夜 性激素 四大 凶兽 轰轰烈烈 相爱 自行车 95533 麦尔维 分身 进击 巨人 剧场版 后篇 石巴子 百科 忠诚度 守望 先锋 教学 瞄准 目标 天道 大道 王宫 回忆 三星 挤出 效应 乘数 效应 瓜子壳 大学 时光 英语 作文 草莓',\n",
       " '海信 65k3500 海信 电视 价格 山东 消防 维保 资质 挂靠 海信 led65k3500 平度 青岛 汽车 海信 电视 官网 高密 平度 汽车站 时刻表 臭氧机 构造 海信 电视 下载 软件 海信 电视 价格 手机 恢复 出厂 设置 摄像头 二维码 海信 液晶电视 价格 海信 液晶电视 价格表 图片 预算 加密狗 只能 一台 电脑 热水器 安装 示意图 手机 微信 视频 打不开 少女 之心 生活 用水 消毒 方法 万寿路 立方 水池 消毒 几克 臭氧 发生器 世界 女排 主攻 排名 朱婷 竹子 热水器 几个 人用 臭氧 发生器 工作 原理 海信 电视 安装 软件 黄历 吉日 查询 搬家 平度 汽车站 电话 煤气罐 情况 下会 爆炸 煤气罐 清洗 消防 维保 资质 挂靠 海信 65k3500 参数 臭氧 发生器 内部结构 中国 普京 震惊 美女 网络 电视机 电视台 平度 青岛 汽车 时刻表 智能 电视 下载 软件 臭氧 发生器 海信 液晶电视 价格 臭氧 发生器 厂家 排名 海信 3500s 液晶电视 配置 水池 臭氧 消毒机 公交车 时间表 西安 电热水器 安装 示意图 人民币 贬值 房价 暴跌 监控 摄像头 二维码 2537 臭氧 煤气罐 清洗 铝塑板 水池 wifi 万能钥匙 下载安装 旺山 小区 海信 3500 液晶电视 配置 手机 电视 软件 网络 电视 热水器 压力 臭氧 发生器 生产厂家 宝钢 复牌 时间 万寿路 地铁 语音 报警 摄像头 电热水器 出口 压力 电热水器 安装 高度 杀菌灯 臭氧 海信 led65k3500 安装 软件 饮用水 消毒 方法 水池 消毒 电热水器 停水 要关 电源 消防 维保 资质证书 竹子 象征意义 黄历 吉日 查询 臭氧 发生器 作用 二级 消防 工程师 报考 济南 建筑 书店 电话 济南 公交 时间表 预算 软件 微信 下载安装 老黄历 紫外线 光管 臭氧 福信 吉利 博越 公交车 时间表 臭氧 消毒机 济南 万寿路 消防 工程师 报考 条件 网络 电视 收看 电视频道 山东省 消防 维保 资质证书 山东省 消防 维保 资质证书 条件 饮用水 池用 消毒 海信 3500s 液晶电视 报价 福信 电子科技 井水 消毒 饮用 光猫 上网 旧版 微信 下载安装 臭氧 作用 消防 维保 资质 微信 打不开 视频 原因 热水器 温度 合适 海信 led 电视 电热水器 出水 压力 臭氧 紫外线 杀菌灯 语音 监控 摄像头 福信 臭氧 发生器 海信 液晶电视 价格 海信 3500 液晶电视 报价 海信 官网 商城',\n",
       " '汽车 喇叭 有个 不响 冷库 关不了 5000 等于 纯净水 设备 1hhhhcom 网域 升级 照片 打印机 卤水 豆腐 放盐 日本 豆腐 好吃 孙大嫩 酸浆 豆腐 视频 卤水 豆腐 放盐 豆腐 卤水 简单 做法 井水 明矾 磨浆 机磨 咔弟 湖南 酸浆 豆腐 视频 想要 逃不掉 北五环 天桥 坍塌 净水器 十大 名牌 豆腐 没劲 银河 照片 磨浆机 故障 冷冻库 豆腐 电线杆 技巧 清东陵 地宫 乾隆 尸体 离子交换 卤水 含盐 银河 个人资料 照片 冷冻库 凸门 把手 大豆 磨浆 机下料 汽车 喇叭 不响 一个响 碱性 物质 净水器 作用 冷冻库 把手 关不了 脱水机 不转 怎么回事 电线杆 1hhhhcom 访问 升级 酸浆 豆腐 制作方法 视频 大型 净水器 豆腐 卤水 技巧 甩桶 怎么回事 二手 磨浆机 配件 井水 咸是 原因 净水器 去除 水中 碱性 物质 大豆 磨浆机 卤水 豆腐 大型 净水器 价格 凉皮 明矾 作用 冷库 门锁 辽宁 卤水 豆腐 做法 卤水 豆腐 做法 视频教程 磨浆机 进水 冷库 舌头 回不去 把手 明矾 作用 冷冻库 凸门 把手 卤水 做法 明矾 药店 卤水 豆腐 花是 放盐 脱水机 不转 怎样才能 卤水 豆腐 做好 全自动 软化水 装置 碱性 净水器 脱水机 不转 怎么回事 井水 地下水 碱性 电机 故障 电信 积分 井水 豆腐 酸浆 豆腐 做法 视频 慈禧 磨浆 机下料 磨浆 机磨 豆渣 不干 石牌 论坛 银河 个人资料 清西陵 地宫 一方 等于 防盗门 舌头 回不去 把手 软化 水质 得弟 卤水 豆腐 清西陵 泰陵 地宫 图片 净水器 脱水机 不转 哪有 盐卤 大型 磨浆机 软化水 石牌 论坛 豆腐 市场 清西陵 简介 5000l 等于 实体店 oppor9 电信 积分 碱性 解决 豆腐 精神 实体店 oppo 磨浆机 分离 厉害 哪有 沈阳 磨浆机 配件 黄陵 商用 净水器 苏打粉 作用 冷库 门锁 舌头 回不去 清东陵 简介 冷冻库 把手 锅炉 软化水 设备 蝴蝶 磨浆机 豆腐 磨浆机 碱性 水能 卤水 豆腐 井水 冷库 舌头 回不去 井水 有点咸 酸浆 豆腐 苏打 冷库 门锁 东西 软化 水质 清西陵 地宫 乾隆 尸体 提升 酸浆 豆腐 变量 榆林 水能 卤水 豆腐 卤水 豆腐 精神 自制 豆腐 卤水 四川 卤水 配方 秘方 大全 判断 电机 轴承 磨浆机 论坛 力源',\n",
       " '兰博基尼 十字绣 三股 两种 颜色 多音字 smartwatch 牌子 玫瑰 中学 六班 描写 词语 李晨 买房 注意事项 楼层 风水 湖北省 京山县 中学 初一 手机 百度 曾范春 老师 奥迪 i8 中学 曾范春 老师 教学 儿子 初中 分到 差班 代表 映客 无翼鸟 漫画 旋风 少女 第二季 演员表 手表 w1 w2 区别 索立信 智能 手表 w1 防水 本田 跑车 王子 照片 索立信 w1 3.0 智能 手表 京山县 好玩 地方 小升初 儿子 成绩 可分 差班 播放器 下载 平米 小四房 装修图 729 中远 弧圈 有喜 宝宝 发烧 嘴巴 起泡 神犬 奇兵 男宅 播放器 索立信 w2 3.0 智能 手表 日本 祖先 中国 初一 男生 课外书 光谷 小升初 6950290408618 买房 定金 想换 smartwatch 智能 手表 w1 手中 唯美 新房 客厅 十字绣 挂八马图 龙珠超 数学 成绩 好学 专业 龙珠超 婚姻 曾范春 春日 朱熹 中学 年级 生字 十字绣 三股 一格 两种 颜色 地理 成绩 专业 小腿 红点 曾范春 老师 好不好 绝世 唐门 初中 分班 十字绣 2230 富贵 牡丹 中国 歌声 鹿晗 年级 湖北省 京山县 中学 脚背 小腿 小红点 729 中远 弧圈 阴道 买房 定金 注意事项 华师一 附中 描写 春天 诗句 中学 雁门 口镇 一岁 宝宝 发烧 嘴里 好多 白色 泡子 身上 1981 3.18 买房 几楼 凉粉 宝宝 发烧 空调 映客 违规 查询 玛莎拉蒂 中国 歌声 导师 济南 冬天 买房 注意事项 qq 浏览器 新房 客厅 十字绣 装修 中学 1976 3.26 买房 几楼 军训 感言 恶棍 天使 邓超 雪山 唱的歌 劳斯莱斯 初中 男生 课外书 田春平 1981 3.18 买房 几楼 729 中远 弧圈 ++ 870bbcom 豌豆荚 sosoon 手表 苗驰 士兵 突击 演员表 安悦溪 蓝梅 图片 王子 中国 歌声 助阵 导师 高尔夫球 无人机 地理课 年级 多音字 729 乒乓球拍 729 一星 乒乓球 新房 十字绣 图片 大全 看手相 算命 图解 729 乒乓球拍 底板 新市镇 看手相 算命 几个 小孩 田春平 1981 3.18 梦见 参加 葬礼 索力 新房 十字绣 墨水 牡丹 描写 春天 词语 手机 看片 国语 电影 sosoom 大雨 图片 唯美 雨夜 图片 索力 智能 手表 w1 防水 sosoon 赵丽颖 激情戏 神犬小七 袁姗姗 智能 手表 w1 w2 区别 忆江南 江南 白居易 光谷 装修 效果图 smartwatch w1 付静 初中 儿子 分到 差班 干部 不好 小升初 好坏 中学 曾范春好 神犬 奇兵 游戏 初一 分到 差班 smartwatch 智能 手表 初中生 书好 作业 书房 装修 王宝强 财产 分割 榻榻米 装修 效果图 描写 春天 词语 诗句 学校 校花 赵丽颖 中国 歌声 毛主席 日本天皇 太极 六章 胡汉三 回来 孝谦 天皇 西北大学 苍蝇 初中 军训 感言 跑车 描写 诗句 729 中远 弧圈 中国 歌声 助阵 导师 初中 课外书 索立信 w2 智能 手表 小四房 装修 效果图 聂弩绀 729 红双喜 初中 地理课 代表 看手相 右手 两条线 手表 w1 sosoon 手表 w1 济南 冬天 生字 拼音 发烧 毛巾 新房 客厅 十字绣 八马图 十字绣 颜色 多杂 豪情 3d 电影 729 中远 弧攻 新房 十字绣 装修 生字 钱场 三十岁 小腿 上长 小白 点点 宝宝 发烧 风扇 七年级 上册 语文 骑士 助手 旋风 少女 第二季 榻榻米 装修 效果图 729 中远 弧圈 绝句 两个 黄鹂 鸣翠柳 杜甫 梦见 划船 下水 出没 alligator 6901028193856',\n",
       " '大理 公主 电视剧 优酷 古代 神兽 死亡 之虫 古代 孩子 难产 视频 angelababy 无痛分娩 医院 哪家 郑恺 秋天 四字 词语 王祖 自然 分娩 阵痛 古代 妃子 孩子 电视剧 范冰冰 孩子 难产 视频 梦见 过世 母亲 分娩 过程 奶奶 走红 网络 孩子 难产 电视剧 视频 angelababy 怀孕 照片 古代 孩子 电视剧 王宝强 走出 阴霾 美女 自然 分娩 imessage 鹿晗 表情 大理 公主 刘涛 难产 视频 广东 猴子 baby 怀孕 图片 大全 自然 分娩 双胞胎 angelababy 怀孕 视频 在家 分娩 双胞胎 视频 angelababy 孩子 angelababy 怀孕 肚子 御赐 厨娘 angelababy 曝已 怀孕 孩子 电视剧 片段 大全 baby 怀孕 大肚子 视频 大脚怪 白娘子 孩子 难产 视频 皇上 孩子 大肚 难产 古装 电视剧 孩子 难产 大理 公主 第几 集生 孩子 水中 分娩 视频 过程 高清 水中 分娩 双胞胎 视频 angelababy 肚子 图片 镇痛 分娩 图片 美国 水中 分娩 过程 视频 baby 退出 幂生 孩子 做手术 视频 baby 怀孕 肚子 大理 公主 林心如 孩子 男来 游戏 自然 分娩 视频 过程 难产 baby 怀孕 大肚子 蚌埠 医院 水中 分娩 古代 电视剧 孩子 视频 美女 分娩 过程 视频 分娩 阵痛 电视片 皇上 皇后 娘娘 闯祸 古代 孩子 难产 电视剧 宫娘娘 孩子 视频 分娩 电影 大理 公主 孩子 视频 大理 公主 第一集 孕妇 家中 痛苦 分娩 视频 在家 水中 分娩 双胞胎 视频 无痛分娩 范冰冰 怀孕 孩子 视频 赵丽颖生 孩子 电视剧 范冰冰 孩子 视频 大全 孕妇 水中 分娩 视频 过程 黄晓明 angelababy 怀孕 镇痛 分娩 幂生 孩子 过程 视频 angelababy 怀孕 照片 妇女 分娩 过程 视频 在家 分娩 视频 宋丹丹 母亲 过世 范冰冰 怀孕 范冰冰 一夜 大肚 孩子 真人 水中 分娩 过程 视频 杨幂 动物 分娩 视频 过程 水中 分娩 视频 过程 高清 嘉年华 游戏 孩子 难产 死亡 图片 baby 怀孕 视频 直播 大理 公主 分娩 第几 李冰冰 接替 范冰冰 湖南 猴子 分娩 视频 过程 站立 美国 孕妇 在家 分娩 视频 电视剧 大理 公主 大理 公主 孩子 视频 二号 人物 身亡 电视剧 孩子 片段 angelababy 肚子疼 视频 娘娘 电视剧 孩子 视频 描写 秋天 四字 词语 baby 怀孕 要生 视频 动物 分娩 双胞胎 视频 孩子 大肚 难产 图片 自然 分娩 过程 古代 孩子 难产 故事 曝张 一山亲 男友 baby 怀孕 angelababy 肚子 孕妇 阵痛 分娩 电影 片段 世界 angelababy 怀孕 大肚 水中 分娩 视频 过程 angelababy 肚子 纹身 中国 猴子 猴子 古装 电视剧 孩子 片段 范冰冰 古代 孩子 视频 孩子 电视剧 分娩 灰姑娘 骑士 董浩 声援 马蓉 美女 痛苦 水中 分娩 自然 分娩 电视剧 baby 怀孕 图片 分娩 图片 美女 分娩 过程 幂生 孩子 视频 真实 分娩 视频 过程 孕妇 痛苦 水中 分娩 视频 分娩 电影 片段 自然 分娩 游戏 古代 孩子 电视剧 片段 真实 分娩 过程 妇女 自然 分娩 视频 过程 下载 鹿晗 表情 大理 公主 孩子 那集 张子枫 皇后 娘娘 孩子 视频 幂生 孩子 顺产 图片 angelababy 怀孕 大出血 枫叶 简笔画 美女 水中 分娩 视频 日本 水中 分娩 视频 孩子 电视剧 片段 树懒 猴子 幂生 孩子 肚子疼 视频 孕妇 孩子 肚子疼 视频 范冰冰 王宝强 离婚 酸辣粉 开胃 怀孕 孩子 电视剧 片段 angelababy 怀孕 图片 赵丽颖 在家 分娩 视频 大叫 奔跑 兄弟 游戏 分娩 难产 小说 无痛分娩 医院 家中 自然 分娩 视频 杨紫 宫缩 医院 美国 孕妇 分娩 视频 angelababy 怀孕 手术 angelababy 视频 游戏 大全 孩子 电视剧 古装 难产 黄晓明 angelababy 孩子 大理 公主 刘涛生 孩子 美国 孕妇 水中 分娩 视频 angelababy 肚子疼 在家 自然 分娩 视频 动物 生产 分娩 视频 孕妇 家中 站立 分娩 视频 李冰冰 范冰冰 古代 孩子 难产 大理 公主 电视剧 孩子 大理 公主 孩子 片段 大肚 孕妇 孩子 难产 范冰冰 孩子 正面 视频 产妇 自然 分娩 真实 视频 古代 女人 孩子 电视剧 孩子 难产 分娩 电视剧 经典 游戏 人工 破水 幂生 孩子 照片 古代 娘娘 孩子 电视剧 大理 公主 电视剧 爱奇艺 世界 最差 动物园 分娩 电视剧 动物 分娩 视频 大全 自然 分娩 视频 过程 自然 分娩 视频 自然 分娩 双胞胎 视频 邓超 暗示 baby 怀孕 视频 分娩 视频 在家 难产 分娩 视频 熊黛林 破水 angelababy 怀孕 流产 国外 自然 分娩 视频',\n",
       " '比利时 勃朗宁 fn 喷气式 战斗机 德国 冲锋枪 6.8 mm 子弹 火炮 晴纶 芬兰 之星 fn 孟津 引黄 复合 装甲 步枪 活塞 系统 人造 橡胶轮胎 英寸 glock34 手枪 民国时期 建立 基础 工业 二战 德国 关注 64mm 子弹 绿枪 腰斩 黄河 7.92 mm 毛瑟 子弹 7mm 比利时 子弹 小浪底 水库 semovente da 自行火炮 中国 解决 无腐蚀 发射 毛瑟 手枪 改造 7.92 毛瑟 子弹 t50 fn49 二战 fn49 自动步枪 结构 关注 64mm 子弹 洛阳 农业 发展 历史 tac 狙击步枪 吉普 服装 北京 黑猪 二战 捷克 坦克 陕西 抽渭 灌区 中部 引黄 a10 攻击机 fn fnc 突击 步枪 t72 复合 装甲 子弹 双基药 氩弧焊 历史 黄河 黑山峡 灌区 大型 灌区 手榴弹 mm2r12 战车 120mm 火箭炮 10mm 步枪 子弹 德国 al kett 公司 采用 r100 锻机用 裸模 重生 之大涅磐 7mm 步枪 子弹 机枪 歼击 火炮 乙基 丁基 评价 孙中山 重生 年代 农家 捷克 zb 中国 地图 u100 机枪 13.2 mm 机枪 mep.1101 贝雷塔 手枪 比利时 49mm 步枪 子弹 机枪 机枪 6.5 毫米 德洛夫 7.5 mm 子弹 性能 扭杆 弹簧 独立 悬架 7mm 步枪 弹性 小浪底 水利枢纽 中国 拥有 世界 大规模 炮兵 原因 瓦尔特 冲锋枪 准噶尔盆地 乙醇 生产 mtbe 10.5 mm 步枪 子弹 he162 蜥蜴 79345mm 步枪 子弹 64mm 子弹 7.92 57mm 毛瑟 bf109 6.3 mm 步枪 子弹 303 二战 步枪 子弹 选择 二战 中国 二五 计划 营房 棉绒 子弹 口径 种类 7.92 mm 毛瑟 子弹 弹道 性能 不好 战篇 7.92 40cetme 有限元法 三个 抗战 自动 榴弹 发射器 6.6 mm 拉普 毫米 自动 榴弹 发射器 南阳盆地 二战 柴油发动机 南阳 河口 水库 瑞士 鲨鱼 轮式 自行 反坦克炮 轻机枪 黄貂鱼 轻型坦克 7.35 x52 italian 军工 产业 自动步枪 二战 沙漠 之鹰 瑞士 stgw57 7.5 mm 自动步枪 重生 饥荒 年代 农妇 sig 710 7.75 x40mm 子弹 新加坡 阿尔蒂 马克斯 毛瑟 mg3 机枪 自动步枪 fn49 回转 枪机 电子地图 大柳树 水利枢纽 最强 军工 霸主 河南 引黄灌区 丰乳 6.45 48mm 手枪 子弹 中国 军事 kriss super 二战时期 步炮 协同 涡浆 发动机 消焰器 s25 攻击机 中部 崛起 阳光工程 6.5 mm 毛瑟 赣抚 平原 灌区 7.65 mm 子弹 7.65 mm 德国 二战 al kett 公司 采用 r100 格洛克 全自动 手枪 步坦 协同作战 亭子 水利枢纽 正式 步枪 骆驼 户外 fn 尼米 机枪 270 口径 子弹 黄河 灌区 7.63 mm 步枪 子弹 解放军 钢盔 二战 军事 技术 43mm 步枪 子弹 6.35 x53mm 螺旋桨 飞机 视频 八眉猪 联合 收割机 276 恩菲尔德 步枪 7.5 57mm 子弹 二战 步枪 安装 枪口 制退器 德国 掷弹筒 rpk 机枪 rpk 机枪 中国 文革 五六十年代 中国 军事 发展 机枪 大全 螺旋桨 飞机 毛瑟 7.2 mm 子弹 性能 子弹 特种 野猪 电子地图 查询 电渣 重熔 疾风 glock34 手枪 5.56 mm 子弹 最强 军工 机枪 洛阳 农业 发展 7.35 x34 捷克斯洛伐克 zk383 1939 饥荒 6.5 mm 子弹 野外 服装 图片 自动步枪 98k 步枪 尼莫 意大利 6.3 mm 步枪 子弹 冲锋枪 德国 pp 中国 自动步枪 7.62 x45 毫米 步枪 二战 日军 协同作战 二战 美军 火炮 二战 炮弹 威力 二战 日本 军事实力 二战 那种 子弹 性能 7.92 45mm 子弹 7.5 mm 子弹 政务信息 宝珠寺 电站 重生 共和国 同龄人 刘易斯 机枪 子弹 选择 东德 突击 步枪 中国 解决 火炮 炮管 洛阳 农业 改造 6.8 mm 子弹 性能 二战 年代 中国 军事 tac338 狙击步枪 南斯拉夫 一款 狙击步枪 德国 hk50 突击 步枪 二号 山猫 坦克 8mm 克拉克 步枪 德国 乌鸦 飞机 四号 驱逐 战车 步枪 洛阳 农业 灌溉 6.35 mm p90 zk 391 自动步枪 瑞典 自动步枪 ppsh41 fn fag 机枪 水洗布 鼬鼠 坦克 甘肃 引水 工程 7x49mm 毛瑟 6.8 mm 步枪 子弹 二战 7.5 mm 子弹 中国 自由 枪机 pt 喷油 系统 工业 步炮 协同 战术 扭杆 悬架 边境 炮战 纪实 重工 重生 年代 小说 岩滩 水库 丰东 灌区 57mm 子弹 12.7 mm 子弹 二战 坦克 钢包 精炼炉 苏联 步枪 子弹 发射 配方 机枪 射手 化工 产业 二战 战斗机 排名 绵羊 抗战 八路军 将领 军衔 保时捷 拖拉机 白马 大型 灌区 晶体管 计算机 hk p8 手枪 二战 苏联 战斗机 活塞 行程 二战 弹道 性能 步枪 子弹 战车 装甲 晶体管 步枪 德国 pp 手枪 zh 自动步枪 机枪 刘庆恩半 自动步枪 二战 后期 锻造 枪管 sg550 突击 步枪 台湾 t65 长白山 黑猪 火炮 威力 郑州 引黄 中国 最新 自行火炮 捷克 38t 坦克 羊绒 fn49 自动步枪 炮管 配方 最强 军工 帝国 美人 7mm 子弹 万家寨 水利枢纽 焊接 炮弹 流星 战斗机 南阳 河口 水库 灌区 工业 文革时期 材料 学家 7.5 mm 步枪 子弹 枪管 7.65 7.5 mm 7mm 步枪 子弹 乙烯 23.6 英寸 厘米 二战 枪口 制退器 二战 中国 采用 两种 子弹 刘庆恩 半自动 6.8 57mm 冷挤压 枪管 民国 6.8 mm 子弹 安哥拉 超长 兔毛 毛衣 中国 半自动 机床 式微 冲锋枪 vz58 突击 步枪 二战 发展 中国 狮头鹅 7.65 mm 步枪 子弹 重生 之如歌 岁月 中国 潜艇 日本 失踪 二战 自动步枪 270 口径 恒定 后坐 zk476 恒定 后座 二战 7.2 mm 步枪 子弹 小耳猪 6.8 mm 毛瑟 子弹 二战 二战 子弹 生产线 液压 自紧 枪机 回转式 闭锁 二战 雷诺 坦克 7.92 45mm 步枪 子弹 轻型坦克 排名 7.5 mm 步枪 子弹 精度 突击 步枪 双基药 二战时期 化工 生产 7.5 子弹 涡扇 发动机 7.92 mm 毛瑟弹 改造 战争 轻型坦克 空地 协同 河南 引黄 万能 战斗机 49mm 比利时 子弹 1937 工业化 ag42 自动步枪 fnmag 机枪 日本 紫电 战斗机 改造 7.35 mm 步枪 子弹 mkb 冲锋 卡宾枪 三号 坦克 日本 打沉 中国 一艘 潜艇 毫米 雷明顿 格努姆 二战 中正 步枪 电子管 凯夫 g36k 7.75 x40 紫坪 水库 枪口 制退器 作用 防弹玻璃 pp2000 fal 冲锋枪 排名 国产 7.62 mm 自动步枪 7.5 mm 子弹 精度 75mm 加浓炮 比利时 749mm 步枪 子弹 pkm 机枪 坦克 百年 洛阳 灌区 防弹玻璃 装甲 丹江口 灌区 7.2 57mm 毛瑟 子弹 适合 中国 7mm 7.65 mm 7.92 mm 毛瑟 步枪 性能 数据 中国 掷弹筒 比利时 fn 步枪 鼠疫 能治好 涡喷 发动机 五六十年代 中国 军事实力 驳壳枪 7mm 步枪 大柳树 水利枢纽 灌溉 7.62 66mm 子弹 科技 英雄 中国 电子地图 轻型坦克 重量 hk p8 6.35 mm 手枪弹 中国 自动步枪 电子管 计算机 轻型坦克 播种机 th301 洛阳 大型 农业 灌区 中国 日本 大使 300 winchester magnum 步枪 gk80 钢盔 挤压 方法 制造 钢质 弹壳 东北 水利 232 防弹 瑞典 毛瑟 安哥拉 兔毛 德国 更换 7mm 步枪 子弹 瑞士 7.5 mm 子弹 性能 年代 中国 半自动 机床 焊接 炮筒 柯尔特 m38 步枪 7.35 mm 子弹 冲锋枪 柯尔特 7.62 毫米 子弹 7x49mm 比利时 毒牙 舰载 战斗机 二战 锻压 枪管 二战 前有 五十年代 水平 7.75 mm 步枪 子弹 丙纶 蚊式 轰炸机 fn49 狙击步枪 四乙基铅 7.2 mm 步枪 子弹 淠史杭 灌区 高压 共轨 二战 枪管 生产 科技 垄断 公司 7.35 子弹 日本 步枪 7.5 mm 步枪 子弹 性能 ultimax 轻机枪 瑞士 启拉利 结构 盖德 冲锋枪 二战 中国 采用 法国 7.5 mm 子弹 二战 中国 步枪 zis 鲁格 手枪 二战 中国 飞机制造 人才 7.65 53mm 步枪 子弹 二战 坦克 生产线 7.5 55mm 步枪 子弹 精度 中国 火炮 马海毛 电子地图 全图 高清 年代 发射 sks 自动步枪 结构 榴弹炮 发射 视频 fn 256 mannlicher qlt89 50mm 榴弹 弹射器 一半 自动步枪 莲山 黑兔 m551 轻型坦克 二战时期 材料科学 二战 中国 采用 7.5 mm 子弹 机械 二战 工业化 超级 军工 霸主 二战 期间 中国 生产 fn49 步枪 g36 突击 步枪 二战 中国 工业化 二战 法国 坦克 fn fal 自动步枪 炮战 天花 疫苗 发明 中国 消除 传染病 m76 狙击步枪 中国 火炮 韩国 k9 43mm 子弹 西北 水利 二战 坦克 二战 德国 坦克']"
      ]
     },
     "execution_count": 40,
     "metadata": {},
     "output_type": "execute_result"
    }
   ],
   "source": [
    "x_train[0:10]"
   ]
  },
  {
   "cell_type": "code",
   "execution_count": 41,
   "metadata": {
    "collapsed": true
   },
   "outputs": [],
   "source": [
    "vec2 = CountVectorizer(\n",
    "    analyzer='word', # tokenise by character ngrams\n",
    "    max_features=40000,  # keep the most common 4000 ngrams\n",
    ")"
   ]
  },
  {
   "cell_type": "code",
   "execution_count": 42,
   "metadata": {},
   "outputs": [
    {
     "data": {
      "text/plain": [
       "CountVectorizer(analyzer='word', binary=False, decode_error='strict',\n",
       "        dtype=<class 'numpy.int64'>, encoding='utf-8', input='content',\n",
       "        lowercase=True, max_df=1.0, max_features=40000, min_df=1,\n",
       "        ngram_range=(1, 1), preprocessor=None, stop_words=None,\n",
       "        strip_accents=None, token_pattern='(?u)\\\\b\\\\w\\\\w+\\\\b',\n",
       "        tokenizer=None, vocabulary=None)"
      ]
     },
     "execution_count": 42,
     "metadata": {},
     "output_type": "execute_result"
    }
   ],
   "source": [
    "vec2.fit(x_train)"
   ]
  },
  {
   "cell_type": "code",
   "execution_count": 59,
   "metadata": {},
   "outputs": [
    {
     "data": {
      "text/plain": [
       "MultinomialNB(alpha=1.0, class_prior=None, fit_prior=True)"
      ]
     },
     "execution_count": 59,
     "metadata": {},
     "output_type": "execute_result"
    }
   ],
   "source": [
    "classifier.fit(vec2.transform(x_train), y_train)"
   ]
  },
  {
   "cell_type": "markdown",
   "metadata": {},
   "source": [
    "### 检测AGE的分类器"
   ]
  },
  {
   "cell_type": "code",
   "execution_count": 60,
   "metadata": {},
   "outputs": [
    {
     "data": {
      "text/plain": [
       "0.45194496684153224"
      ]
     },
     "execution_count": 60,
     "metadata": {},
     "output_type": "execute_result"
    }
   ],
   "source": [
    "classifier.score(vec2.transform(x_test), y_test)"
   ]
  },
  {
   "cell_type": "code",
   "execution_count": 45,
   "metadata": {
    "collapsed": true
   },
   "outputs": [],
   "source": [
    " \n",
    "gender0_df = group_gender_df.get_group(0)\n",
    "gender1_df = group_gender_df.get_group(1)\n",
    "gender2_df = group_gender_df.get_group(2)"
   ]
  },
  {
   "cell_type": "code",
   "execution_count": 46,
   "metadata": {
    "collapsed": true
   },
   "outputs": [],
   "source": [
    "filegenderpath_0 = './Data/VersonData_1/gender0_df.csv'\n",
    "filegenderpath_1 = './Data/VersonData_1/gender1_df.csv'\n",
    "filegenderpath_2 = './Data/VersonData_1/gender2_df.csv'"
   ]
  },
  {
   "cell_type": "code",
   "execution_count": 47,
   "metadata": {
    "collapsed": true
   },
   "outputs": [],
   "source": [
    "gender0_df.to_csv(filegenderpath_0,encoding='utf-8',index=False)\n",
    "gender1_df.to_csv(filegenderpath_1,encoding='utf-8',index=False)\n",
    "gender2_df.to_csv(filegenderpath_2,encoding='utf-8',index=False)"
   ]
  },
  {
   "cell_type": "code",
   "execution_count": 48,
   "metadata": {
    "collapsed": true
   },
   "outputs": [],
   "source": [
    "education0_df = group_education_df.get_group(0)\n",
    "education1_df = group_education_df.get_group(1)\n",
    "education2_df = group_education_df.get_group(2)\n",
    "education3_df = group_education_df.get_group(3)\n",
    "education4_df = group_education_df.get_group(4)\n",
    "education5_df = group_education_df.get_group(5)\n",
    "education6_df = group_education_df.get_group(6)"
   ]
  },
  {
   "cell_type": "code",
   "execution_count": 49,
   "metadata": {
    "collapsed": true
   },
   "outputs": [],
   "source": [
    "fileeducationpath_0 = './Data/VersonData_1/education0_df.csv'\n",
    "fileeducationpath_1 = './Data/VersonData_1/education1_df.csv'\n",
    "fileeducationpath_2 = './Data/VersonData_1/education2_df.csv'\n",
    "fileeducationpath_3 = './Data/VersonData_1/education3_df.csv'\n",
    "fileeducationpath_4 = './Data/VersonData_1/education4_df.csv'\n",
    "fileeducationpath_5 = './Data/VersonData_1/education5_df.csv'\n",
    "fileeducationpath_6 = './Data/VersonData_1/education6_df.csv'"
   ]
  },
  {
   "cell_type": "code",
   "execution_count": 50,
   "metadata": {
    "collapsed": true
   },
   "outputs": [],
   "source": [
    "education0_df.to_csv(fileeducationpath_0,encoding='utf-8',index=False)\n",
    "education1_df.to_csv(fileeducationpath_1,encoding='utf-8',index=False)\n",
    "education2_df.to_csv(fileeducationpath_2,encoding='utf-8',index=False)\n",
    "education3_df.to_csv(fileeducationpath_3,encoding='utf-8',index=False)\n",
    "education4_df.to_csv(fileeducationpath_4,encoding='utf-8',index=False)\n",
    "education5_df.to_csv(fileeducationpath_5,encoding='utf-8',index=False)\n",
    "education6_df.to_csv(fileeducationpath_6,encoding='utf-8',index=False)"
   ]
  },
  {
   "cell_type": "code",
   "execution_count": 51,
   "metadata": {
    "collapsed": true
   },
   "outputs": [],
   "source": [
    "gender1_data = gender1_df['Query List'].values.tolist()[:20000]\n",
    "gender2_data = gender2_df['Query List'].values.tolist()[:20000]"
   ]
  },
  {
   "cell_type": "code",
   "execution_count": 52,
   "metadata": {},
   "outputs": [
    {
     "name": "stdout",
     "output_type": "stream",
     "text": [
      "nan\n",
      "nan\n",
      "nan\n"
     ]
    }
   ],
   "source": [
    "sentences_gender = []\n",
    "preprocess_text(gender1_data, sentences_gender, 1)\n",
    "preprocess_text(gender2_data, sentences_gender, 2)"
   ]
  },
  {
   "cell_type": "code",
   "execution_count": 53,
   "metadata": {},
   "outputs": [
    {
     "data": {
      "text/plain": [
       "39997"
      ]
     },
     "execution_count": 53,
     "metadata": {},
     "output_type": "execute_result"
    }
   ],
   "source": [
    "len(sentences_gender)"
   ]
  },
  {
   "cell_type": "code",
   "execution_count": 54,
   "metadata": {
    "collapsed": true
   },
   "outputs": [],
   "source": [
    "random.shuffle(sentences_gender)"
   ]
  },
  {
   "cell_type": "code",
   "execution_count": 55,
   "metadata": {
    "collapsed": true
   },
   "outputs": [],
   "source": [
    "x_gender, y_gender = zip(*sentences_gender)\n",
    "xgender_train, xgender_test, ygender_train, ygender_test = train_test_split(x_gender, y_gender, random_state=13)"
   ]
  },
  {
   "cell_type": "code",
   "execution_count": 56,
   "metadata": {},
   "outputs": [
    {
     "data": {
      "text/plain": [
       "CountVectorizer(analyzer='word', binary=False, decode_error='strict',\n",
       "        dtype=<class 'numpy.int64'>, encoding='utf-8', input='content',\n",
       "        lowercase=True, max_df=1.0, max_features=4000, min_df=1,\n",
       "        ngram_range=(1, 1), preprocessor=None, stop_words=None,\n",
       "        strip_accents=None, token_pattern='(?u)\\\\b\\\\w\\\\w+\\\\b',\n",
       "        tokenizer=None, vocabulary=None)"
      ]
     },
     "execution_count": 56,
     "metadata": {},
     "output_type": "execute_result"
    }
   ],
   "source": [
    "vec.fit(xgender_train)"
   ]
  },
  {
   "cell_type": "code",
   "execution_count": 57,
   "metadata": {},
   "outputs": [
    {
     "data": {
      "text/plain": [
       "MultinomialNB(alpha=1.0, class_prior=None, fit_prior=True)"
      ]
     },
     "execution_count": 57,
     "metadata": {},
     "output_type": "execute_result"
    }
   ],
   "source": [
    "classifier.fit(vec.transform(xgender_train), ygender_train)"
   ]
  },
  {
   "cell_type": "markdown",
   "metadata": {},
   "source": [
    "### 检测gender的分类器"
   ]
  },
  {
   "cell_type": "code",
   "execution_count": 58,
   "metadata": {},
   "outputs": [
    {
     "data": {
      "text/plain": [
       "0.7975"
      ]
     },
     "execution_count": 58,
     "metadata": {},
     "output_type": "execute_result"
    }
   ],
   "source": [
    "classifier.score(vec.transform(xgender_test), ygender_test)"
   ]
  },
  {
   "cell_type": "code",
   "execution_count": 61,
   "metadata": {},
   "outputs": [
    {
     "name": "stdout",
     "output_type": "stream",
     "text": [
      "0.8096\n"
     ]
    }
   ],
   "source": [
    "vec2.fit(xgender_train)\n",
    "classifier.fit(vec2.transform(xgender_train), ygender_train)\n",
    "print(classifier.score(vec2.transform(xgender_test), ygender_test))"
   ]
  },
  {
   "cell_type": "code",
   "execution_count": 62,
   "metadata": {
    "collapsed": true
   },
   "outputs": [],
   "source": [
    "education0_data = education0_df['Query List'].values.tolist()\n",
    "education1_data = education1_df['Query List'].values.tolist()\n",
    "education2_data = education2_df['Query List'].values.tolist()\n",
    "education3_data = education3_df['Query List'].values.tolist()[1000:11000]\n",
    "education4_data = education4_df['Query List'].values.tolist()[1000:11000]\n",
    "education5_data = education5_df['Query List'].values.tolist()[1000:11000]"
   ]
  },
  {
   "cell_type": "code",
   "execution_count": 63,
   "metadata": {
    "collapsed": true
   },
   "outputs": [],
   "source": [
    "education6_data = education6_df['Query List'].values.tolist()"
   ]
  },
  {
   "cell_type": "code",
   "execution_count": 64,
   "metadata": {},
   "outputs": [
    {
     "name": "stdout",
     "output_type": "stream",
     "text": [
      "nan\n",
      "nan\n",
      "nan\n",
      "nan\n",
      "nan\n",
      "nan\n"
     ]
    }
   ],
   "source": [
    "sentences_education = []\n",
    "preprocess_text(education1_data, sentences_education, 1)\n",
    "preprocess_text(education2_data, sentences_education, 2)\n",
    "preprocess_text(education3_data, sentences_education, 3)\n",
    "preprocess_text(education4_data, sentences_education, 4)\n",
    "preprocess_text(education5_data, sentences_education, 5)\n",
    "preprocess_text(education6_data, sentences_education, 6)"
   ]
  },
  {
   "cell_type": "code",
   "execution_count": 65,
   "metadata": {},
   "outputs": [
    {
     "name": "stdout",
     "output_type": "stream",
     "text": [
      "36601\n"
     ]
    }
   ],
   "source": [
    "print(len(sentences_education))"
   ]
  },
  {
   "cell_type": "code",
   "execution_count": 67,
   "metadata": {
    "collapsed": true
   },
   "outputs": [],
   "source": [
    "random.shuffle(sentences_education)"
   ]
  },
  {
   "cell_type": "code",
   "execution_count": 68,
   "metadata": {
    "collapsed": true
   },
   "outputs": [],
   "source": [
    "x_education, y_education = zip(*sentences_education)\n",
    "xeducation_train, xeducation_test, yeducation_train, yeducation_test = train_test_split(x_education, y_education, random_state=13)"
   ]
  },
  {
   "cell_type": "code",
   "execution_count": 69,
   "metadata": {},
   "outputs": [
    {
     "name": "stdout",
     "output_type": "stream",
     "text": [
      "0.4682548355370998\n"
     ]
    }
   ],
   "source": [
    "vec.fit(xeducation_train)\n",
    "classifier.fit(vec.transform(xeducation_train), yeducation_train)\n",
    "print(classifier.score(vec.transform(xeducation_test), yeducation_test))"
   ]
  },
  {
   "cell_type": "markdown",
   "metadata": {},
   "source": [
    "### 检测education的分类器"
   ]
  },
  {
   "cell_type": "code",
   "execution_count": 70,
   "metadata": {},
   "outputs": [
    {
     "name": "stdout",
     "output_type": "stream",
     "text": [
      "0.5142607365315266\n"
     ]
    }
   ],
   "source": [
    "vec2.fit(xeducation_train)\n",
    "classifier.fit(vec2.transform(xeducation_train), yeducation_train)\n",
    "print(classifier.score(vec2.transform(xeducation_test), yeducation_test))"
   ]
  },
  {
   "cell_type": "code",
   "execution_count": 71,
   "metadata": {
    "collapsed": true
   },
   "outputs": [],
   "source": [
    "x_education_np = np.array(x_education)\n",
    "y_education_np = np.array(y_education)"
   ]
  },
  {
   "cell_type": "code",
   "execution_count": 72,
   "metadata": {},
   "outputs": [
    {
     "name": "stdout",
     "output_type": "stream",
     "text": [
      "0.4300467174821736\n",
      "0.43103024342267027\n",
      "0.433969997540782\n"
     ]
    }
   ],
   "source": [
    "for train_index, test_index in skf.split(x_education_np, y_education_np):\n",
    "    X_train, X_test = x_np[train_index], x_np[test_index]\n",
    "    Y_train, Y_test = y_np[train_index], y_np[test_index]\n",
    "    vec.fit(X_train)\n",
    "    classifier.fit(vec.transform(X_train), Y_train)\n",
    "    print(classifier.score(vec.transform(X_test), Y_test))"
   ]
  },
  {
   "cell_type": "code",
   "execution_count": 73,
   "metadata": {},
   "outputs": [
    {
     "name": "stdout",
     "output_type": "stream",
     "text": [
      "0.46012621916236374\n",
      "0.45455290549954924\n",
      "0.4582342814984835\n"
     ]
    }
   ],
   "source": [
    "for train_index, test_index in skf.split(x_education_np, y_education_np):\n",
    "    X_train, X_test = x_np[train_index], x_np[test_index]\n",
    "    Y_train, Y_test = y_np[train_index], y_np[test_index]\n",
    "    vec2.fit(X_train)\n",
    "    classifier.fit(vec2.transform(X_train), Y_train)\n",
    "    print(classifier.score(vec2.transform(X_test), Y_test))"
   ]
  },
  {
   "cell_type": "markdown",
   "metadata": {},
   "source": [
    "### 最高结果的三种分类器的准确率相加"
   ]
  },
  {
   "cell_type": "code",
   "execution_count": 74,
   "metadata": {
    "collapsed": true
   },
   "outputs": [],
   "source": [
    "average = 0.45194496684153224 + 0.8096 + 0.5142607365315266"
   ]
  },
  {
   "cell_type": "code",
   "execution_count": 75,
   "metadata": {},
   "outputs": [
    {
     "data": {
      "text/plain": [
       "0.5919352344576863"
      ]
     },
     "execution_count": 75,
     "metadata": {},
     "output_type": "execute_result"
    }
   ],
   "source": [
    "average/3"
   ]
  },
  {
   "cell_type": "code",
   "execution_count": null,
   "metadata": {
    "collapsed": true
   },
   "outputs": [],
   "source": []
  }
 ],
 "metadata": {
  "kernelspec": {
   "display_name": "Python 3",
   "language": "python",
   "name": "python3"
  },
  "language_info": {
   "codemirror_mode": {
    "name": "ipython",
    "version": 3
   },
   "file_extension": ".py",
   "mimetype": "text/x-python",
   "name": "python",
   "nbconvert_exporter": "python",
   "pygments_lexer": "ipython3",
   "version": "3.6.2"
  }
 },
 "nbformat": 4,
 "nbformat_minor": 2
}
