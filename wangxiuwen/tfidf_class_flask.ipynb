{
 "cells": [
  {
   "cell_type": "markdown",
   "metadata": {},
   "source": [
    "## 设置一个类"
   ]
  },
  {
   "cell_type": "code",
   "execution_count": 1,
   "metadata": {
    "collapsed": true
   },
   "outputs": [],
   "source": [
    "from sklearn.feature_extraction.text import TfidfVectorizer\n",
    "from sklearn.naive_bayes import MultinomialNB\n",
    "from sklearn.model_selection import StratifiedKFold\n",
    "import numpy as np\n",
    "import jieba\n",
    "import re\n",
    "from joblib import dump, load\n",
    "import pandas as pd"
   ]
  },
  {
   "cell_type": "code",
   "execution_count": 5,
   "metadata": {
    "collapsed": true
   },
   "outputs": [],
   "source": [
    "class Age_cls():\n",
    "    \n",
    "    def __init__(self,file_stop_words='./Data/stopwords.txt',classifier = MultinomialNB()):\n",
    "        self.classifier = classifier\n",
    "        self.vec = TfidfVectorizer(analyzer='word',max_features=4000)\n",
    "        self.stop_words(file_stop_words)\n",
    "    \n",
    "  \n",
    "    def stop_words(self,file_stoppath):\n",
    "        stopwords=pd.read_csv(file_stoppath,index_col=False,quoting=3,sep=\"\\t\",names=['stopword'], encoding='utf-8')\n",
    "        self.stopwords=stopwords['stopword'].values\n",
    "    \n",
    "    def process_data_line(self,data_line):\n",
    "        noise_pattern = re.compile(\"|\".join([\"http\\S+\", \":http\\S+\", \"ｗｗｗ.+?\\t\",'\\d+\\@\\S+']))\n",
    "        clean_text = re.sub(noise_pattern, \"\", data_line)\n",
    "        segs=jieba.lcut(clean_text.strip())\n",
    "        segs = list(filter(lambda x:len(x)>1, segs)) #没有解析出来的新闻过滤掉\n",
    "        segs = list(filter(lambda x:x not in self.stopwords, segs)) #把停用词过滤掉\n",
    "        return (\" \".join(segs))\n",
    "        \n",
    "    # 特征构建\n",
    "    def features(self, X):\n",
    "        return self.vec.transform(X)\n",
    "\n",
    "    # 拟合数据\n",
    "    def fit(self, X, y,shuffle=True, n_folds=5):\n",
    "        return self.stratifiedkfold_cv(np.array(X),np.array(y),shuffle=True, n_folds=5)\n",
    "              \n",
    "    \n",
    "    def stratifiedkfold_cv(self,x, y, shuffle=True, n_folds=5):\n",
    "        stratifiedk_fold = StratifiedKFold(n_splits=n_folds, shuffle=shuffle)\n",
    "        history_score=[]\n",
    "        self.vec.fit(x)\n",
    "        for train_index, test_index in stratifiedk_fold.split(x, y):\n",
    "            X_train, X_test = x[train_index], x[test_index]\n",
    "            y_train,y_test = y[train_index],y[test_index]\n",
    "            self.classifier.fit(self.vec.transform(X_train),y_train)\n",
    "            history_score.append(self.classifier.score(self.vec.transform(X_test), y_test)) \n",
    "        return history_score \n",
    "    \n",
    "    # 预估类别\n",
    "    def predict(self, x):\n",
    "        return self.classifier.predict(self.features([x]))\n",
    "\n",
    "    # 测试集评分\n",
    "    def score(self, X, y):\n",
    "        return self.classifier.score(self.features(X), y)\n",
    "    \n",
    "    # 模型持久化存储\n",
    "    def save_model(self, path):\n",
    "        dump((self.classifier, self.vec), path)\n",
    "    \n",
    "    # 模型加载\n",
    "    def load_model(self, path):\n",
    "        self.classifier, self.vec = load(path)\n",
    "    \n",
    "   "
   ]
  },
  {
   "cell_type": "code",
   "execution_count": 12,
   "metadata": {
    "collapsed": true
   },
   "outputs": [],
   "source": [
    "age_text_cls = Age_cls()"
   ]
  },
  {
   "cell_type": "code",
   "execution_count": 2,
   "metadata": {},
   "outputs": [
    {
     "name": "stderr",
     "output_type": "stream",
     "text": [
      "C:\\Users\\SEELE\\AppData\\Roaming\\Python\\Python36\\site-packages\\ipykernel_launcher.py:2: ParserWarning: Falling back to the 'python' engine because the 'c' engine does not support regex separators (separators > 1 char and different from '\\s+' are interpreted as regex); you can avoid this warning by specifying engine='python'.\n",
      "  \n"
     ]
    },
    {
     "data": {
      "text/html": [
       "<div>\n",
       "<style>\n",
       "    .dataframe thead tr:only-child th {\n",
       "        text-align: right;\n",
       "    }\n",
       "\n",
       "    .dataframe thead th {\n",
       "        text-align: left;\n",
       "    }\n",
       "\n",
       "    .dataframe tbody tr th {\n",
       "        vertical-align: top;\n",
       "    }\n",
       "</style>\n",
       "<table border=\"1\" class=\"dataframe\">\n",
       "  <thead>\n",
       "    <tr style=\"text-align: right;\">\n",
       "      <th></th>\n",
       "      <th>0</th>\n",
       "      <th>1</th>\n",
       "      <th>2</th>\n",
       "      <th>3</th>\n",
       "      <th>4</th>\n",
       "    </tr>\n",
       "  </thead>\n",
       "  <tbody>\n",
       "    <tr>\n",
       "      <th>0</th>\n",
       "      <td>22DD920316420BE2DF8D6EE651BA174B</td>\n",
       "      <td>1</td>\n",
       "      <td>1</td>\n",
       "      <td>4</td>\n",
       "      <td>柔和双沟\\t女生\\t中财网首页 财经\\thttp://pan.baidu.com/s/1pl...</td>\n",
       "    </tr>\n",
       "    <tr>\n",
       "      <th>1</th>\n",
       "      <td>43CC3AF5A8D6430A3B572337A889AFE4</td>\n",
       "      <td>2</td>\n",
       "      <td>1</td>\n",
       "      <td>3</td>\n",
       "      <td>广州厨宝烤箱\\t世情薄,人情恶,雨送黄昏花易落,晓风干,泪痕\\t厦门酒店用品批发市场\\t我只...</td>\n",
       "    </tr>\n",
       "    <tr>\n",
       "      <th>2</th>\n",
       "      <td>E97654BFF5570E2CCD433EA6128EAC19</td>\n",
       "      <td>4</td>\n",
       "      <td>1</td>\n",
       "      <td>0</td>\n",
       "      <td>钻石之泪耳机\\t盘锦到沈阳\\t旅顺公交\\t辽宁阜新车牌\\tbaidu\\tk715\\tk716...</td>\n",
       "    </tr>\n",
       "    <tr>\n",
       "      <th>3</th>\n",
       "      <td>6931EFC26D229CCFCEA125D3F3C21E57</td>\n",
       "      <td>4</td>\n",
       "      <td>2</td>\n",
       "      <td>3</td>\n",
       "      <td>最受欢迎狗狗排行榜\\t舶怎么读\\t场景描 写范例\\t三维绘图软件\\t枣和酸奶能一起吃吗\\t好...</td>\n",
       "    </tr>\n",
       "    <tr>\n",
       "      <th>4</th>\n",
       "      <td>E780470C3BB0D340334BD08CDCC3C71A</td>\n",
       "      <td>2</td>\n",
       "      <td>2</td>\n",
       "      <td>4</td>\n",
       "      <td>干槽症能自愈吗\\t太太万岁叶舒心去没去美国\\t干槽症\\t右眼皮下面一直跳是怎么回事\\t麦当劳...</td>\n",
       "    </tr>\n",
       "  </tbody>\n",
       "</table>\n",
       "</div>"
      ],
      "text/plain": [
       "                                  0  1  2  3  \\\n",
       "0  22DD920316420BE2DF8D6EE651BA174B  1  1  4   \n",
       "1  43CC3AF5A8D6430A3B572337A889AFE4  2  1  3   \n",
       "2  E97654BFF5570E2CCD433EA6128EAC19  4  1  0   \n",
       "3  6931EFC26D229CCFCEA125D3F3C21E57  4  2  3   \n",
       "4  E780470C3BB0D340334BD08CDCC3C71A  2  2  4   \n",
       "\n",
       "                                                   4  \n",
       "0  柔和双沟\\t女生\\t中财网首页 财经\\thttp://pan.baidu.com/s/1pl...  \n",
       "1  广州厨宝烤箱\\t世情薄,人情恶,雨送黄昏花易落,晓风干,泪痕\\t厦门酒店用品批发市场\\t我只...  \n",
       "2  钻石之泪耳机\\t盘锦到沈阳\\t旅顺公交\\t辽宁阜新车牌\\tbaidu\\tk715\\tk716...  \n",
       "3  最受欢迎狗狗排行榜\\t舶怎么读\\t场景描 写范例\\t三维绘图软件\\t枣和酸奶能一起吃吗\\t好...  \n",
       "4  干槽症能自愈吗\\t太太万岁叶舒心去没去美国\\t干槽症\\t右眼皮下面一直跳是怎么回事\\t麦当劳...  "
      ]
     },
     "execution_count": 2,
     "metadata": {},
     "output_type": "execute_result"
    }
   ],
   "source": [
    "file_train_path = './Data/train.csv' \n",
    "traindf = pd.read_csv(file_train_path,sep=\"###__###\",header = None,encoding='utf-8')\n",
    "traindf.head()"
   ]
  },
  {
   "cell_type": "code",
   "execution_count": 4,
   "metadata": {
    "scrolled": true
   },
   "outputs": [
    {
     "data": {
      "text/plain": [
       "'柔和双沟\\t女生\\t中财网首页 财经\\thttp://pan.baidu.com/s/1plpjtn9\\t周公解梦大全查询2345\\t曹云金再讽郭德纲\\t总裁大人行行好\\t中财网第一财经传媒\\t教师节全文\\t男子砸毁15墓碑\\t黄岩岛最新填海图\\t引起的疲\\t缘来未迟落跑甜心不好惹\\t梁朝伟与替身同框\\t笑傲江湖电视剧任贤齐\\t小起名字女孩名字\\t海运行李到堪培拉\\t确定\\t诱爱99天 司少的天价宝贝\\t什么是遥控魔棒\\t徽信表情动态搞笑图片\\t教师节征文100字\\t安微联通网上营业厅\\t甜宠百分百:校草的萌萌未婚妻\\t豪门重生之暖爱成婚\\tnikehypershift和kd5哪个好看\\t韭菜炒鸡蛋\\t陈赫玩王者荣耀\\t虎牙楚河\\t三国演义小说txt下载\\t威县欧派\\t炒馍花怎么做好吃\\t黄岩岛最新消息2016年\\t中秋节诗句大全祝福\\t教师节征文\\t菜谱\\t柔和双沟卖的怎么样\\t七位数开奖结果\\t以色列停车场坍塌\\t天龙家庭农场\\t7.22什么星座\\t新旧约圣经和合本下载\\t4π\\twifi万能钥匙\\t威灵仙图片\\t临泉长官天龙家庭农场\\t早安总统大人\\t百合\\t莲藕的做法\\t花街\\t无锡\\t蚬壳胃散怎么吃\\t触手忆寒\\t中秋节的诗句\\t孟州电信 电子发票\\t鸡丝汤的做法\\t我等你\\t临泉长官镇桥口李小刚农场\\t朋仇\\t全民k歌\\t炸葱花\\t蒜苔炒肉\\t冰川的图片\\tkd5\\t…\\t若风\\t好奇纸尿裤\\t清蒸鱼\\t189.8是谁的平方\\t重庆餐馆发生爆炸\\t捡手机被失主抢劫\\thttps://yunpan.cn/ocsqfgtfya2ewj\\t炒馍花的家常做法\\t三国演义小说百度云\\t总裁掠爱小舅别太坏\\t:https://yunpan.cn/cmh8tmeyraiww\\t周公解梦\\t查坦克冰川\\t凉拌藕片的做法\\t投票\\t鸡丝炒什么好吃\\t被时光掩埋的秘密小说下载\\t中国电信电子发票\\t张续豪\\t关于月亮的诗句\\t用酵母蒸馒头的方法\\t赵丽颖碧瑶坐\\t触手兵长\\t图集 下载腾讯新闻,看街头混战武警\\t厦门航空\\t蚬壳胃散\\t炒茄子做法\\t身份类别怎么填\\t最好的我们里面的方特在哪里\\t牢里面的生活是怎样的\\t强迫症有哪些表现\\t白袍法师暖暖图片\\t朋仇广场舞\\t小宇热游\\t蒸馒头的方法\\t狡滑的意思\\t黄石大冶东岳派出所服务电话\\t三国演义小说下载txt\\thttp://zxjhjc9088.1688.com\\t松柏道馆\\t10.1高速免费几天\\t三国演义小说txt\\t柔和双沟业务待遇\\t酵母蒸馒头的方法\\t初中家教一对一辅导\\t口子窖\\t中秋节祝福诗句\\t侠岚\\t文王国窖42度价格表1001文王国窖42度价格表\\t批注是什么意思\\t殿下专属小丫头\\t无锡爆炸\\t炸茄子做法\\thttp://pan.baidu.com/s/1cor7gy\\t大件行李邮寄\\t烟火陈翔\\t没想到,真没想到作文\\t安徽滁州石坝镇\\t虎牙小宇\\t驾校培训跑长途\\t骨质性关节炎\\t左膝盖内侧疼是怎么回事\\t虎皮尖椒的做法大全\\t陈翔的女朋友吻照\\tq我的世界、5\\t23.04的平方根\\t神将世界表情包\\t寻找成龙\\t柔和双沟卖的\\t三国演义txt百度云\\t一般现在时\\t澳洲邮寄行李费用\\t触手若月\\t1991年11月26日是什么星座\\t校草成长记\\t暮光女向女友求婚\\t钢弩的价格图片\\t乐乐课堂\\t宠妻成瘾老婆你要乖\\t魔手tv\\t梅河口到济南的火车票\\t临泉长官镇\\t君子兰\\t南洋十大邪术电影\\t肚\\t炸油条的做法和配方\\t根号6等于多少\\t笑笑昨日帝王骗\\t吃惊的什么填词语\\t50字教师节征文\\t朝阳区黑庄户邮编\\t千百鲁\\t1991年农历11月26日是什么星座\\t圣经和合本免费下载\\t水煮花生米的做法\\thttp://pan.baidu.com/s/1jhbv9pg\\t十字弓\\t徽信表情含义\\t天才小熊猫微博长图\\t宠冠六宫:帝王的娇蛮皇妃\\t去广告软件 安卓版\\t萌妻娇俏帝少我嘴挑\\t总裁霸爱小小新娘要逃婚\\t花生怎么煮好吃\\t中国证券网\\t柔和双沟销售\\t中秋节的诗句图片\\t男子怪病喝洗洁精\\t4π等于多少\\t服装批发5元\\t怀孕33周肚子隐隐作痛怎么回事\\t百度云\\t酱炒蒜苔的家常做法\\t水煮花生米\\t天才小熊猫作品\\t袁姗姗\\t临泉长官镇桥口\\t呼作白玉盘的上一句\\t微信表情包搞笑图片\\t滴滴快车司机端\\t教师节手抄报简单好看\\t大冶公安局 派出所\\t柔和双沟业务待遇怎么样\\t为什么哺乳期不会有月经\\t临泉长官水上乐园\\t忐忑不安的意思\\t临泉长官李小刚家庭农场\\t电信电子发票怎么报销\\t岳不群\\t:http://pan.baidu.com/s/1plefcb5\\t临泉长官镇桥口李天龙农场\\t凉拌水煮花生米的做法\\t威灵仙的功效与作用\\thttp://pan.baidu.com/s/1o7hnpmy\\t鸽子汤的做法\\t战神伪高冷 天降医妃拐回家\\t白颠疯初期症状\\t天才小熊猫\\t首席萌妻咬一口\\t弩弓枪商城\\t三国演义小说\\t临泉长官镇桥口植物养殖基地\\t邮储银行手机银行客户端下载\\t煮花米怎么做好吃\\t英语在线翻译\\t糖醋鲤鱼\\tｗｗｗ．２０１６ｙｇ．ｃｏｍ\\t搞笑微信表情图片带字\\t新婚甜似火:鲜妻,二胎生一对\\t三国演义\\t关于教师节的手抄报\\thttp://m37189.mustfollow.vx.mvote.net/wx\\t文王国窖42度价格表\\t鱼汤的做法\\thttp://www.cswanda.com/weixin/game1/2016\\t临泉长官镇桥口私人农场\\t临泉长官镇桥口镇杨营\\t临泉长官李天龙家庭农场\\t李子树根部有脓包怎么回事\\t单手高速转牌\\t医学院在什么路上\\t徽信早上好动态表情\\t宝宝小名大全2016洋气\\t寂寞男女聊天记录截图\\thttps://yunpan.cn/oc6nhvmrg5j2ur\\t神将世界\\t美丽的秋天作文300字\\thttp://pan.baidu.com/s/1nu9uizn\\t钢弩\\t冰川世纪电影\\t全文\\t触手蓝烟\\t鱼的做法\\t金罐加多宝20罐\\t澳洲托运行李规定\\t15346171303@189.cn\\t炒蒜苔的家常做法\\t被时光掩埋的秘密\\t根号13.6等于几\\t方特东方神画\\t粉红花朵图片\\tqq号申请\\t千亿盛宠 大叔吻慢点\\thttp://linjiada1989.1688.com\\t东方财富网首页\\thttp://pan.baidu.com/s/1hraemhe\\t动力煤价格\\t手机遥控魔棒\\tjzg\\thttp://pan.baidu.com/s/1o8cxpmm\\t行李托运到澳洲\\t蚬壳胃散副作用\\t红烧鲤鱼\\t触手tv\\t中国财经信息网中财网\\t立方根800\\t美食菜谱\\t笑傲江湖电视剧\\t柔和双沟怎么样\\t笑傲江湖\\t花的品种名字及图片\\t滴滴司机端\\t奇怪君\\t鸡蛋灌饼\\t天龙农家乐园\\t吉拉拉歌词\\t陈翔的女朋友\\t牢解场的生活\\t微微一笑很倾城\\t豪门少奶奶谢少的心尖宠妻'"
      ]
     },
     "execution_count": 4,
     "metadata": {},
     "output_type": "execute_result"
    }
   ],
   "source": [
    "traindf.loc[0,'Query List']"
   ]
  },
  {
   "cell_type": "code",
   "execution_count": 3,
   "metadata": {
    "collapsed": true
   },
   "outputs": [],
   "source": [
    "columns_values = ['ID','Age','Gender','Education','Query List']\n",
    "traindf.columns = columns_values"
   ]
  },
  {
   "cell_type": "code",
   "execution_count": 13,
   "metadata": {},
   "outputs": [
    {
     "name": "stderr",
     "output_type": "stream",
     "text": [
      "Building prefix dict from the default dictionary ...\n",
      "Loading model from cache C:\\Users\\SEELE\\AppData\\Local\\Temp\\jieba.cache\n",
      "Loading model cost 0.555 seconds.\n",
      "Prefix dict has been built successfully.\n"
     ]
    }
   ],
   "source": [
    "traindf['Query List'] = traindf['Query List'].map(age_text_cls.process_data_line)"
   ]
  },
  {
   "cell_type": "code",
   "execution_count": 14,
   "metadata": {},
   "outputs": [
    {
     "data": {
      "text/html": [
       "<div>\n",
       "<style>\n",
       "    .dataframe thead tr:only-child th {\n",
       "        text-align: right;\n",
       "    }\n",
       "\n",
       "    .dataframe thead th {\n",
       "        text-align: left;\n",
       "    }\n",
       "\n",
       "    .dataframe tbody tr th {\n",
       "        vertical-align: top;\n",
       "    }\n",
       "</style>\n",
       "<table border=\"1\" class=\"dataframe\">\n",
       "  <thead>\n",
       "    <tr style=\"text-align: right;\">\n",
       "      <th></th>\n",
       "      <th>ID</th>\n",
       "      <th>Age</th>\n",
       "      <th>Gender</th>\n",
       "      <th>Education</th>\n",
       "      <th>Query List</th>\n",
       "    </tr>\n",
       "  </thead>\n",
       "  <tbody>\n",
       "    <tr>\n",
       "      <th>0</th>\n",
       "      <td>22DD920316420BE2DF8D6EE651BA174B</td>\n",
       "      <td>1</td>\n",
       "      <td>1</td>\n",
       "      <td>4</td>\n",
       "      <td>柔和 双沟 女生 中财网 首页 财经 周公 解梦 大全 查询 2345 曹云金 再讽 郭德纲...</td>\n",
       "    </tr>\n",
       "    <tr>\n",
       "      <th>1</th>\n",
       "      <td>43CC3AF5A8D6430A3B572337A889AFE4</td>\n",
       "      <td>2</td>\n",
       "      <td>1</td>\n",
       "      <td>3</td>\n",
       "      <td>广州 厨宝 烤箱 世情 人情 雨送 黄昏 花易落 风干 泪痕 厦门 酒店用品 批发市场 不想...</td>\n",
       "    </tr>\n",
       "    <tr>\n",
       "      <th>2</th>\n",
       "      <td>E97654BFF5570E2CCD433EA6128EAC19</td>\n",
       "      <td>4</td>\n",
       "      <td>1</td>\n",
       "      <td>0</td>\n",
       "      <td>钻石 之泪 耳机 盘锦 沈阳 旅顺 公交 辽宁 阜新 车牌 baidu k715 k716 ...</td>\n",
       "    </tr>\n",
       "    <tr>\n",
       "      <th>3</th>\n",
       "      <td>6931EFC26D229CCFCEA125D3F3C21E57</td>\n",
       "      <td>4</td>\n",
       "      <td>2</td>\n",
       "      <td>3</td>\n",
       "      <td>受欢迎 狗狗 排行榜 场景 范例 三维 绘图 软件 酸奶 壮观 衣服 网站 动漫 绘图 软件...</td>\n",
       "    </tr>\n",
       "    <tr>\n",
       "      <th>4</th>\n",
       "      <td>E780470C3BB0D340334BD08CDCC3C71A</td>\n",
       "      <td>2</td>\n",
       "      <td>2</td>\n",
       "      <td>4</td>\n",
       "      <td>干槽症 自愈 太太 万岁 舒心 美国 干槽症 眼皮 怎么回事 麦当劳 旋风 勺子 吉林市 鹿...</td>\n",
       "    </tr>\n",
       "  </tbody>\n",
       "</table>\n",
       "</div>"
      ],
      "text/plain": [
       "                                 ID  Age  Gender  Education  \\\n",
       "0  22DD920316420BE2DF8D6EE651BA174B    1       1          4   \n",
       "1  43CC3AF5A8D6430A3B572337A889AFE4    2       1          3   \n",
       "2  E97654BFF5570E2CCD433EA6128EAC19    4       1          0   \n",
       "3  6931EFC26D229CCFCEA125D3F3C21E57    4       2          3   \n",
       "4  E780470C3BB0D340334BD08CDCC3C71A    2       2          4   \n",
       "\n",
       "                                          Query List  \n",
       "0  柔和 双沟 女生 中财网 首页 财经 周公 解梦 大全 查询 2345 曹云金 再讽 郭德纲...  \n",
       "1  广州 厨宝 烤箱 世情 人情 雨送 黄昏 花易落 风干 泪痕 厦门 酒店用品 批发市场 不想...  \n",
       "2  钻石 之泪 耳机 盘锦 沈阳 旅顺 公交 辽宁 阜新 车牌 baidu k715 k716 ...  \n",
       "3  受欢迎 狗狗 排行榜 场景 范例 三维 绘图 软件 酸奶 壮观 衣服 网站 动漫 绘图 软件...  \n",
       "4  干槽症 自愈 太太 万岁 舒心 美国 干槽症 眼皮 怎么回事 麦当劳 旋风 勺子 吉林市 鹿...  "
      ]
     },
     "execution_count": 14,
     "metadata": {},
     "output_type": "execute_result"
    }
   ],
   "source": [
    "traindf.head()"
   ]
  },
  {
   "cell_type": "code",
   "execution_count": 9,
   "metadata": {
    "collapsed": true
   },
   "outputs": [],
   "source": [
    "agedf= traindf[['Age','Query List']]\n",
    "agedf = agedf[agedf['Age']!=0]\n",
    "X_age = agedf['Query List'].values.tolist()\n",
    "Y_age = agedf['Age'].values.tolist()"
   ]
  },
  {
   "cell_type": "code",
   "execution_count": 16,
   "metadata": {},
   "outputs": [
    {
     "name": "stderr",
     "output_type": "stream",
     "text": [
      "D:\\PYTHON\\SDK\\lib\\site-packages\\sklearn\\feature_extraction\\text.py:1089: FutureWarning: Conversion of the second argument of issubdtype from `float` to `np.floating` is deprecated. In future, it will be treated as `np.float64 == np.dtype(float).type`.\n",
      "  if hasattr(X, 'dtype') and np.issubdtype(X.dtype, np.float):\n"
     ]
    }
   ],
   "source": [
    "age_history_score = age_text_cls.fit(X_age,Y_age)"
   ]
  },
  {
   "cell_type": "code",
   "execution_count": 17,
   "metadata": {},
   "outputs": [
    {
     "name": "stdout",
     "output_type": "stream",
     "text": [
      "[0.5425288525090244, 0.54128533658735, 0.5386179895256012, 0.5402959271876748, 0.5437115394395565]\n"
     ]
    }
   ],
   "source": [
    "print(age_history_score)"
   ]
  },
  {
   "cell_type": "code",
   "execution_count": 18,
   "metadata": {
    "collapsed": true
   },
   "outputs": [],
   "source": [
    "age_text_cls.save_model('./Model/age_textcls.model')"
   ]
  },
  {
   "cell_type": "markdown",
   "metadata": {},
   "source": [
    "## 加载测试模型"
   ]
  },
  {
   "cell_type": "code",
   "execution_count": 6,
   "metadata": {
    "collapsed": true
   },
   "outputs": [],
   "source": [
    "load_model_age = Age_cls()"
   ]
  },
  {
   "cell_type": "code",
   "execution_count": 7,
   "metadata": {
    "collapsed": true
   },
   "outputs": [],
   "source": [
    "load_model_age.load_model('./Model/age_textcls.model')"
   ]
  },
  {
   "cell_type": "code",
   "execution_count": 21,
   "metadata": {},
   "outputs": [
    {
     "name": "stderr",
     "output_type": "stream",
     "text": [
      "D:\\PYTHON\\SDK\\lib\\site-packages\\sklearn\\feature_extraction\\text.py:1089: FutureWarning: Conversion of the second argument of issubdtype from `float` to `np.floating` is deprecated. In future, it will be treated as `np.float64 == np.dtype(float).type`.\n",
      "  if hasattr(X, 'dtype') and np.issubdtype(X.dtype, np.float):\n"
     ]
    },
    {
     "data": {
      "text/plain": [
       "0.3"
      ]
     },
     "execution_count": 21,
     "metadata": {},
     "output_type": "execute_result"
    }
   ],
   "source": [
    "load_model_age.score(X_age[0:20],Y_age[0:20])"
   ]
  },
  {
   "cell_type": "code",
   "execution_count": 10,
   "metadata": {},
   "outputs": [
    {
     "name": "stderr",
     "output_type": "stream",
     "text": [
      "D:\\PYTHON\\SDK\\lib\\site-packages\\sklearn\\feature_extraction\\text.py:1089: FutureWarning: Conversion of the second argument of issubdtype from `float` to `np.floating` is deprecated. In future, it will be treated as `np.float64 == np.dtype(float).type`.\n",
      "  if hasattr(X, 'dtype') and np.issubdtype(X.dtype, np.float):\n"
     ]
    }
   ],
   "source": [
    "result = load_model_age.predict(X_age[0])"
   ]
  },
  {
   "cell_type": "code",
   "execution_count": 13,
   "metadata": {},
   "outputs": [
    {
     "name": "stdout",
     "output_type": "stream",
     "text": [
      "1\n"
     ]
    }
   ],
   "source": [
    "print(result[0])"
   ]
  },
  {
   "cell_type": "markdown",
   "metadata": {},
   "source": [
    "## 教育"
   ]
  },
  {
   "cell_type": "code",
   "execution_count": 26,
   "metadata": {
    "collapsed": true
   },
   "outputs": [],
   "source": [
    "educationdf = traindf[['Education','Query List']]\n",
    "educationdf = educationdf[educationdf['Education']!=0]\n",
    "X_education = educationdf['Query List'].values.tolist()\n",
    "Y_education = educationdf['Education'].values.tolist() "
   ]
  },
  {
   "cell_type": "code",
   "execution_count": 27,
   "metadata": {
    "collapsed": true
   },
   "outputs": [],
   "source": [
    "education_cls = Age_cls()"
   ]
  },
  {
   "cell_type": "code",
   "execution_count": 28,
   "metadata": {},
   "outputs": [
    {
     "name": "stderr",
     "output_type": "stream",
     "text": [
      "D:\\PYTHON\\SDK\\lib\\site-packages\\sklearn\\feature_extraction\\text.py:1089: FutureWarning: Conversion of the second argument of issubdtype from `float` to `np.floating` is deprecated. In future, it will be treated as `np.float64 == np.dtype(float).type`.\n",
      "  if hasattr(X, 'dtype') and np.issubdtype(X.dtype, np.float):\n"
     ]
    }
   ],
   "source": [
    "educa_history = education_cls.fit(X_education,Y_education)"
   ]
  },
  {
   "cell_type": "code",
   "execution_count": 29,
   "metadata": {
    "collapsed": true
   },
   "outputs": [],
   "source": [
    "education_cls.save_model('./Model/education_textcls.model')"
   ]
  },
  {
   "cell_type": "markdown",
   "metadata": {},
   "source": [
    "## 性别"
   ]
  },
  {
   "cell_type": "code",
   "execution_count": 57,
   "metadata": {
    "collapsed": true
   },
   "outputs": [],
   "source": [
    "class Third_Sample_Cls():\n",
    "    \n",
    "    def __init__(self,file_stop_words='./Data/stopwords.txt',classifier = MultinomialNB()):\n",
    "        self.classifier = classifier\n",
    "        self.vec = TfidfVectorizer(analyzer='word',max_features=4000)\n",
    "        self.stop_words(file_stop_words)\n",
    "    \n",
    "  \n",
    "    def stop_words(self,file_stoppath):\n",
    "        stopwords=pd.read_csv(file_stoppath,index_col=False,quoting=3,sep=\"\\t\",names=['stopword'], encoding='utf-8')\n",
    "        self.stopwords=stopwords['stopword'].values\n",
    "    \n",
    "    def process_data_line(self,data_line):\n",
    "        noise_pattern = re.compile(\"|\".join([\"http\\S+\", \":http\\S+\", \"ｗｗｗ.+?\\t\",'\\d+\\@\\S+']))\n",
    "        clean_text = re.sub(noise_pattern, \"\", data_line)\n",
    "        segs=jieba.lcut(clean_text.strip())\n",
    "        segs = list(filter(lambda x:len(x)>1, segs)) #没有解析出来的新闻过滤掉\n",
    "        segs = list(filter(lambda x:x not in self.stopwords, segs)) #把停用词过滤掉\n",
    "        return (\" \".join(segs))\n",
    "        \n",
    "    # 特征构建\n",
    "    def features(self, X):\n",
    "        return self.vec.transform(X)\n",
    "\n",
    "    # 拟合数据\n",
    "    def fit(self, X, y,y_flg,shuffle=True, n_folds=5):\n",
    "        return self.skfold_gender_cv(x=np.array(X),y=np.array(y),y_flag = np.array(y_flg),shuffle=shuffle, n_folds=n_folds)\n",
    "              \n",
    "    \n",
    "    def skfold_gender_cv(self,x, y,y_flag,shuffle=True, n_folds=5):\n",
    "        stratifiedk_fold = StratifiedKFold(n_splits=n_folds, shuffle=shuffle)\n",
    "        history_score=[]\n",
    "        self.vec.fit(x)\n",
    "        for train_index, test_index in stratifiedk_fold.split(x, y_flag):\n",
    "            X_train, X_test = x[train_index],x[test_index]\n",
    "            y_train,y_test = y[train_index],y[test_index]\n",
    "            self.classifier.fit( self.vec.transform(X_train),y_train)\n",
    "            history_score.append(self.classifier.score( self.vec.transform(X_test), y_test)) \n",
    "        return history_score \n",
    "    \n",
    "    # 预估类别\n",
    "    def predict(self, x):\n",
    "        return self.classifier.predict(self.features([x]))\n",
    "\n",
    "    # 测试集评分\n",
    "    def score(self, X, y):\n",
    "        return self.classifier.score(self.features(X), y)\n",
    "    \n",
    "    # 模型持久化存储\n",
    "    def save_model(self, path):\n",
    "        dump((self.classifier, self.vec), path)\n",
    "    \n",
    "    # 模型加载\n",
    "    def load_model(self, path):\n",
    "        self.classifier, self.vec = load(path)"
   ]
  },
  {
   "cell_type": "code",
   "execution_count": 41,
   "metadata": {
    "collapsed": true
   },
   "outputs": [],
   "source": [
    "genderdf = traindf[['Age','Query List','Gender']]\n",
    "genderdf = genderdf[genderdf['Gender']!= 0]\n",
    "X_gender = genderdf['Query List'].values.tolist()\n",
    "Y_gender = genderdf['Gender'].values.tolist() \n",
    "Y_ageflg = genderdf['Age'].values.tolist() \n"
   ]
  },
  {
   "cell_type": "code",
   "execution_count": 43,
   "metadata": {},
   "outputs": [
    {
     "name": "stdout",
     "output_type": "stream",
     "text": [
      "97845\n",
      "97845\n",
      "97845\n"
     ]
    }
   ],
   "source": [
    "print(len(X_gender))\n",
    "print(len(Y_gender))\n",
    "print(len(Y_ageflg))"
   ]
  },
  {
   "cell_type": "code",
   "execution_count": 59,
   "metadata": {
    "collapsed": true
   },
   "outputs": [],
   "source": [
    "gender_cls = Third_Sample_Cls()"
   ]
  },
  {
   "cell_type": "code",
   "execution_count": 60,
   "metadata": {},
   "outputs": [
    {
     "name": "stderr",
     "output_type": "stream",
     "text": [
      "D:\\PYTHON\\SDK\\lib\\site-packages\\sklearn\\feature_extraction\\text.py:1089: FutureWarning: Conversion of the second argument of issubdtype from `float` to `np.floating` is deprecated. In future, it will be treated as `np.float64 == np.dtype(float).type`.\n",
      "  if hasattr(X, 'dtype') and np.issubdtype(X.dtype, np.float):\n"
     ]
    }
   ],
   "source": [
    "gender_history = gender_cls.fit(X_gender,Y_gender,Y_ageflg)"
   ]
  },
  {
   "cell_type": "code",
   "execution_count": 58,
   "metadata": {
    "collapsed": true
   },
   "outputs": [],
   "source": [
    "del gender_cls"
   ]
  },
  {
   "cell_type": "code",
   "execution_count": 47,
   "metadata": {},
   "outputs": [
    {
     "name": "stdout",
     "output_type": "stream",
     "text": [
      "[0.5682795106359528, 0.568830596274661, 0.5647285753651143, 0.5664755815235365, 0.5724601730885839]\n"
     ]
    }
   ],
   "source": [
    "print(educa_history)"
   ]
  },
  {
   "cell_type": "code",
   "execution_count": 61,
   "metadata": {},
   "outputs": [
    {
     "name": "stdout",
     "output_type": "stream",
     "text": [
      "[0.8006846515430206, 0.8048132440856369, 0.7955950738412796, 0.8022180201359431, 0.8015946028825514]\n"
     ]
    }
   ],
   "source": [
    "print(gender_history)"
   ]
  },
  {
   "cell_type": "code",
   "execution_count": 62,
   "metadata": {
    "collapsed": true
   },
   "outputs": [],
   "source": [
    "gender_cls.save_model('./Model/gender_textcls.model')"
   ]
  },
  {
   "cell_type": "code",
   "execution_count": null,
   "metadata": {
    "collapsed": true
   },
   "outputs": [],
   "source": []
  }
 ],
 "metadata": {
  "kernelspec": {
   "display_name": "Python 3",
   "language": "python",
   "name": "python3"
  },
  "language_info": {
   "codemirror_mode": {
    "name": "ipython",
    "version": 3
   },
   "file_extension": ".py",
   "mimetype": "text/x-python",
   "name": "python",
   "nbconvert_exporter": "python",
   "pygments_lexer": "ipython3",
   "version": "3.6.12"
  }
 },
 "nbformat": 4,
 "nbformat_minor": 2
}
