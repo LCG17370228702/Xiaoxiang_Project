{
 "cells": [
  {
   "cell_type": "code",
   "execution_count": 1,
   "metadata": {
    "collapsed": true
   },
   "outputs": [],
   "source": [
    "from tensorflow.keras import Input, Model\n",
    "from tensorflow.keras.layers import Embedding, Dense, Conv1D, GlobalMaxPooling1D, Concatenate, Dropout"
   ]
  },
  {
   "cell_type": "code",
   "execution_count": 2,
   "metadata": {
    "collapsed": true
   },
   "outputs": [],
   "source": [
    "class TextCNN(object):\n",
    "    def __init__(self, maxlen, max_features, embedding_dims,\n",
    "                 class_num=5,\n",
    "                 last_activation='softmax'):\n",
    "        self.maxlen = maxlen\n",
    "        self.max_features = max_features\n",
    "        self.embedding_dims = embedding_dims\n",
    "        self.class_num = class_num\n",
    "        self.last_activation = last_activation\n",
    "\n",
    "    def get_model(self):\n",
    "        input = Input((self.maxlen,))\n",
    "        embedding = Embedding(self.max_features, self.embedding_dims, input_length=self.maxlen)(input)\n",
    "        convs = []\n",
    "        for kernel_size in [2, 3, 4]:\n",
    "            c = Conv1D(128, kernel_size, activation='relu')(embedding)\n",
    "            c = GlobalMaxPooling1D()(c)\n",
    "            convs.append(c)\n",
    "        x = Concatenate()(convs)\n",
    "\n",
    "        output = Dense(self.class_num, activation=self.last_activation)(x)\n",
    "        model = Model(inputs=input, outputs=output)\n",
    "        return model"
   ]
  },
  {
   "cell_type": "code",
   "execution_count": 3,
   "metadata": {
    "collapsed": true
   },
   "outputs": [],
   "source": [
    "from tensorflow.keras.preprocessing import sequence\n",
    "import random\n",
    "from sklearn.model_selection import train_test_split\n",
    "from tensorflow.keras.callbacks import EarlyStopping,ModelCheckpoint\n",
    "from tensorflow.keras.utils import to_categorical\n",
    "from utils import *"
   ]
  },
  {
   "cell_type": "code",
   "execution_count": 4,
   "metadata": {
    "collapsed": true
   },
   "outputs": [],
   "source": [
    "#配置路径\n",
    "data_dir = './processed_data'\n",
    "vocab_file_age = './processed_data/Age.txt'\n",
    "vocab_file_gender = './processed_data/Gender.txt'\n",
    "vocab_file_education = './processed_data/Education.txt'\n",
    "vocab_size = 40000"
   ]
  },
  {
   "cell_type": "code",
   "execution_count": 5,
   "metadata": {
    "collapsed": true
   },
   "outputs": [],
   "source": [
    "#神经网络配置\n",
    "max_features = 40001\n",
    "maxlen = 400\n",
    "batch_size = 128\n",
    "embedding_dims = 50\n",
    "epochs = 8"
   ]
  },
  {
   "cell_type": "code",
   "execution_count": 6,
   "metadata": {},
   "outputs": [
    {
     "data": {
      "text/html": [
       "<div>\n",
       "<style scoped>\n",
       "    .dataframe tbody tr th:only-of-type {\n",
       "        vertical-align: middle;\n",
       "    }\n",
       "\n",
       "    .dataframe tbody tr th {\n",
       "        vertical-align: top;\n",
       "    }\n",
       "\n",
       "    .dataframe thead th {\n",
       "        text-align: right;\n",
       "    }\n",
       "</style>\n",
       "<table border=\"1\" class=\"dataframe\">\n",
       "  <thead>\n",
       "    <tr style=\"text-align: right;\">\n",
       "      <th></th>\n",
       "      <th>Unnamed: 0</th>\n",
       "      <th>ID</th>\n",
       "      <th>Age</th>\n",
       "      <th>Gender</th>\n",
       "      <th>Education</th>\n",
       "      <th>Query_List</th>\n",
       "    </tr>\n",
       "  </thead>\n",
       "  <tbody>\n",
       "    <tr>\n",
       "      <th>0</th>\n",
       "      <td>0</td>\n",
       "      <td>22DD920316420BE2DF8D6EE651BA174B</td>\n",
       "      <td>1</td>\n",
       "      <td>1</td>\n",
       "      <td>4</td>\n",
       "      <td>[柔和, 双沟, 女生, 中财网, 首页, 财经, 周公, 解梦, 大全, 查询, 2345...</td>\n",
       "    </tr>\n",
       "    <tr>\n",
       "      <th>1</th>\n",
       "      <td>1</td>\n",
       "      <td>43CC3AF5A8D6430A3B572337A889AFE4</td>\n",
       "      <td>2</td>\n",
       "      <td>1</td>\n",
       "      <td>3</td>\n",
       "      <td>[广州, 厨宝, 烤箱, 世情, 人情, 雨送, 黄昏, 花易落, 风干, 泪痕, 厦门, ...</td>\n",
       "    </tr>\n",
       "    <tr>\n",
       "      <th>2</th>\n",
       "      <td>2</td>\n",
       "      <td>E97654BFF5570E2CCD433EA6128EAC19</td>\n",
       "      <td>4</td>\n",
       "      <td>1</td>\n",
       "      <td>0</td>\n",
       "      <td>[钻石, 之泪, 耳机, 盘锦, 沈阳, 旅顺, 公交, 辽宁, 阜新, 车牌, baidu...</td>\n",
       "    </tr>\n",
       "    <tr>\n",
       "      <th>3</th>\n",
       "      <td>3</td>\n",
       "      <td>6931EFC26D229CCFCEA125D3F3C21E57</td>\n",
       "      <td>4</td>\n",
       "      <td>2</td>\n",
       "      <td>3</td>\n",
       "      <td>[受欢迎, 狗狗, 排行榜, 场景, 范例, 三维, 绘图, 软件, 酸奶, 壮观, 衣服,...</td>\n",
       "    </tr>\n",
       "    <tr>\n",
       "      <th>4</th>\n",
       "      <td>4</td>\n",
       "      <td>E780470C3BB0D340334BD08CDCC3C71A</td>\n",
       "      <td>2</td>\n",
       "      <td>2</td>\n",
       "      <td>4</td>\n",
       "      <td>[干槽症, 自愈, 太太, 万岁, 舒心, 美国, 干槽症, 眼皮, 怎么回事, 麦当劳, ...</td>\n",
       "    </tr>\n",
       "  </tbody>\n",
       "</table>\n",
       "</div>"
      ],
      "text/plain": [
       "   Unnamed: 0                                ID  Age  Gender  Education  \\\n",
       "0           0  22DD920316420BE2DF8D6EE651BA174B    1       1          4   \n",
       "1           1  43CC3AF5A8D6430A3B572337A889AFE4    2       1          3   \n",
       "2           2  E97654BFF5570E2CCD433EA6128EAC19    4       1          0   \n",
       "3           3  6931EFC26D229CCFCEA125D3F3C21E57    4       2          3   \n",
       "4           4  E780470C3BB0D340334BD08CDCC3C71A    2       2          4   \n",
       "\n",
       "                                          Query_List  \n",
       "0  [柔和, 双沟, 女生, 中财网, 首页, 财经, 周公, 解梦, 大全, 查询, 2345...  \n",
       "1  [广州, 厨宝, 烤箱, 世情, 人情, 雨送, 黄昏, 花易落, 风干, 泪痕, 厦门, ...  \n",
       "2  [钻石, 之泪, 耳机, 盘锦, 沈阳, 旅顺, 公交, 辽宁, 阜新, 车牌, baidu...  \n",
       "3  [受欢迎, 狗狗, 排行榜, 场景, 范例, 三维, 绘图, 软件, 酸奶, 壮观, 衣服,...  \n",
       "4  [干槽症, 自愈, 太太, 万岁, 舒心, 美国, 干槽症, 眼皮, 怎么回事, 麦当劳, ...  "
      ]
     },
     "execution_count": 6,
     "metadata": {},
     "output_type": "execute_result"
    }
   ],
   "source": [
    "import pandas as pd\n",
    "file_proce_path = './Data/train_2.csv'\n",
    "\n",
    "train_2 = pd.read_csv(file_proce_path,encoding='utf-8')\n",
    "train_2['Query_List'] = train_2['Query_List'].apply(lambda x:x.split(' '))\n",
    "\n",
    "train_2.head()"
   ]
  },
  {
   "cell_type": "code",
   "execution_count": 7,
   "metadata": {
    "collapsed": true
   },
   "outputs": [],
   "source": [
    "age_to_id = {1:0,2:1,3:2,4:3,5:4,6:5}\n",
    "gender_to_id = {1:0,2:1}\n",
    "education_to_id = {1:0,2:1,3:2,4:3,5:4,6:5}"
   ]
  },
  {
   "cell_type": "code",
   "execution_count": 8,
   "metadata": {
    "collapsed": true
   },
   "outputs": [],
   "source": [
    "Age_label = train_2[['Age','Query_List']]\n",
    "Age_label = Age_label[~(Age_label['Age'] == 0)]\n",
    "\n",
    "X_age = Age_label['Query_List'].values.tolist()\n",
    "Y_age = Age_label['Age'].values.tolist()"
   ]
  },
  {
   "cell_type": "code",
   "execution_count": 9,
   "metadata": {
    "collapsed": true
   },
   "outputs": [],
   "source": [
    "age_words, age_word_to_id = read_vocab(vocab_file_age)"
   ]
  },
  {
   "cell_type": "code",
   "execution_count": 10,
   "metadata": {
    "collapsed": true
   },
   "outputs": [],
   "source": [
    "#全部数据\n",
    "data = list(zip(X_age,Y_age))\n",
    "del X_age,Y_age\n",
    "X_age,Y_age = zip(*data)"
   ]
  },
  {
   "cell_type": "code",
   "execution_count": 11,
   "metadata": {
    "collapsed": true
   },
   "outputs": [],
   "source": [
    "#乱序\n",
    "random.shuffle(data)"
   ]
  },
  {
   "cell_type": "code",
   "execution_count": 12,
   "metadata": {
    "collapsed": true
   },
   "outputs": [],
   "source": [
    "#切分训练集和测试集\n",
    "x_train_data,x_test_data,y_train_data,y_test_data = train_test_split(X_age,Y_age,random_state =1)"
   ]
  },
  {
   "cell_type": "code",
   "execution_count": 13,
   "metadata": {
    "collapsed": true,
    "scrolled": true
   },
   "outputs": [],
   "source": [
    "#对文本的词ID和类别ID编码\n",
    "x_train = encode_sentences([content for content in x_train_data], age_word_to_id)\n",
    "y_train = to_categorical(encode_cate(y_train_data, age_to_id))\n",
    "x_test = encode_sentences([content for content in x_test_data], age_word_to_id)\n",
    "y_test = to_categorical(encode_cate(y_test_data, age_to_id))"
   ]
  },
  {
   "cell_type": "code",
   "execution_count": 14,
   "metadata": {},
   "outputs": [
    {
     "name": "stdout",
     "output_type": "stream",
     "text": [
      "对序列做padding,保证是samples*timestep的维度\n",
      "x_train shape: (73750, 400)\n",
      "x_test shape: (24584, 400)\n",
      "y_test shape: (24584, 6)\n"
     ]
    }
   ],
   "source": [
    "print(\"对序列做padding,保证是samples*timestep的维度\")\n",
    "x_train = sequence.pad_sequences(x_train,maxlen = maxlen)\n",
    "x_test = sequence.pad_sequences(x_test,maxlen = maxlen)\n",
    "print('x_train shape:',x_train.shape)\n",
    "print(\"x_test shape:\",x_test.shape)\n",
    "print('y_test shape:', y_test.shape)"
   ]
  },
  {
   "cell_type": "code",
   "execution_count": 15,
   "metadata": {},
   "outputs": [
    {
     "name": "stdout",
     "output_type": "stream",
     "text": [
      "构建模型....\n"
     ]
    }
   ],
   "source": [
    "print('构建模型....')\n",
    "model = TextCNN(maxlen,max_features,embedding_dims,class_num = 6).get_model()\n",
    "model.compile('adam','categorical_crossentropy',metrics = ['accuracy'])"
   ]
  },
  {
   "cell_type": "code",
   "execution_count": 16,
   "metadata": {},
   "outputs": [
    {
     "name": "stdout",
     "output_type": "stream",
     "text": [
      "训练....\n"
     ]
    }
   ],
   "source": [
    "print('训练....')\n",
    "#设定callbacks回调函数\n",
    "my_callbacks = [\n",
    "    ModelCheckpoint('./cnn_model.h5',verbose = 1),\n",
    "    EarlyStopping(monitor = 'val_accuracy',patience = 2,mode = 'max')\n",
    "]"
   ]
  },
  {
   "cell_type": "code",
   "execution_count": 17,
   "metadata": {},
   "outputs": [
    {
     "name": "stdout",
     "output_type": "stream",
     "text": [
      "Epoch 1/8\n",
      "577/577 [==============================] - ETA: 0s - loss: 1.1668 - accuracy: 0.5328\n",
      "Epoch 00001: saving model to .\\cnn_model.h5\n",
      "577/577 [==============================] - 41s 71ms/step - loss: 1.1668 - accuracy: 0.5328 - val_loss: 1.0915 - val_accuracy: 0.5734\n",
      "Epoch 2/8\n",
      "576/577 [============================>.] - ETA: 0s - loss: 0.9770 - accuracy: 0.6301\n",
      "Epoch 00002: saving model to .\\cnn_model.h5\n",
      "577/577 [==============================] - 40s 69ms/step - loss: 0.9770 - accuracy: 0.6301 - val_loss: 1.0811 - val_accuracy: 0.5769\n",
      "Epoch 3/8\n",
      "576/577 [============================>.] - ETA: 0s - loss: 0.7853 - accuracy: 0.7222\n",
      "Epoch 00003: saving model to .\\cnn_model.h5\n",
      "577/577 [==============================] - 40s 69ms/step - loss: 0.7853 - accuracy: 0.7223 - val_loss: 1.1448 - val_accuracy: 0.5684\n",
      "Epoch 4/8\n",
      "576/577 [============================>.] - ETA: 0s - loss: 0.5213 - accuracy: 0.8383\n",
      "Epoch 00004: saving model to .\\cnn_model.h5\n",
      "577/577 [==============================] - 40s 69ms/step - loss: 0.5213 - accuracy: 0.8383 - val_loss: 1.3235 - val_accuracy: 0.5485\n"
     ]
    }
   ],
   "source": [
    "#fit拟合数据\n",
    "history = model.fit(x_train,y_train,\n",
    "          batch_size = batch_size,\n",
    "          epochs = epochs,\n",
    "          callbacks = my_callbacks,\n",
    "          validation_data=(x_test, y_test))"
   ]
  },
  {
   "cell_type": "code",
   "execution_count": 18,
   "metadata": {},
   "outputs": [
    {
     "data": {
      "image/png": "[encoded data removed]",
      "text/plain": [
       "<Figure size 432x288 with 1 Axes>"
      ]
     },
     "metadata": {},
     "output_type": "display_data"
    }
   ],
   "source": [
    "#训练中信息输出\n",
    "import matplotlib.pyplot as plt\n",
    "plt.switch_backend('agg')\n",
    "%matplotlib inline\n",
    "\n",
    "fig1 = plt.figure()\n",
    "plt.plot(history.history['loss'],'r',linewidth=3.0)\n",
    "plt.plot(history.history['val_loss'],'b',linewidth=3.0)\n",
    "plt.legend(['Training loss', 'Validation Loss'],fontsize=18)\n",
    "plt.xlabel('Epochs ',fontsize=16)\n",
    "plt.ylabel('Loss',fontsize=16)\n",
    "plt.title('Loss Curves :CNN',fontsize=16)\n",
    "plt.show()"
   ]
  },
  {
   "cell_type": "code",
   "execution_count": 19,
   "metadata": {},
   "outputs": [
    {
     "data": {
      "image/png": "[encoded data removed]",
      "text/plain": [
       "<Figure size 432x288 with 1 Axes>"
      ]
     },
     "metadata": {},
     "output_type": "display_data"
    }
   ],
   "source": [
    "fig2 = plt.figure()\n",
    "plt.plot(history.history['accuracy'],'r',linewidth=3.0)\n",
    "plt.plot(history.history['val_accuracy'],'b',linewidth=3.0)\n",
    "plt.legend(['Training Accuracy', 'Validation Accuracy'],fontsize=18)\n",
    "plt.xlabel('Epochs ',fontsize=16)\n",
    "plt.ylabel('Accuracy',fontsize=16)\n",
    "plt.title('Accuracy Curves : CNN',fontsize=16)\n",
    "plt.show()"
   ]
  },
  {
   "cell_type": "code",
   "execution_count": null,
   "metadata": {
    "collapsed": true
   },
   "outputs": [],
   "source": [
    "                                                                                                        "
   ]
  }
 ],
 "metadata": {
  "kernelspec": {
   "display_name": "Python 3",
   "language": "python",
   "name": "python3"
  },
  "language_info": {
   "codemirror_mode": {
    "name": "ipython",
    "version": 3
   },
   "file_extension": ".py",
   "mimetype": "text/x-python",
   "name": "python",
   "nbconvert_exporter": "python",
   "pygments_lexer": "ipython3",
   "version": "3.6.2"
  }
 },
 "nbformat": 4,
 "nbformat_minor": 2
}
