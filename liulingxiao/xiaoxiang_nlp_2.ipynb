{
  "nbformat": 4,
  "nbformat_minor": 0,
  "metadata": {
    "colab": {
      "name": "xiaoxiang_nlp_2.ipynb",
      "provenance": [],
      "collapsed_sections": [],
      "authorship_tag": "ABX9TyOiqHb1pbSGmLESjFX/WC0U",
      "include_colab_link": true
    },
    "kernelspec": {
      "display_name": "Python 3",
      "name": "python3"
    }
  },
  "cells": [
    {
      "cell_type": "markdown",
      "metadata": {
        "id": "view-in-github",
        "colab_type": "text"
      },
      "source": [
        "<a href=\"https://colab.research.google.com/github/LCG17370228702/Xiaoxiang_Project/blob/main/xiaoxiang_nlp_2.ipynb\" target=\"_parent\"><img src=\"https://colab.research.google.com/assets/colab-badge.svg\" alt=\"Open In Colab\"/></a>"
      ]
    },
    {
      "cell_type": "code",
      "metadata": {
        "colab": {
          "base_uri": "https://localhost:8080/"
        },
        "id": "lXr9bqgeu-Ag",
        "outputId": "62fdc4bb-87cf-405f-dc6c-935bfe274d90"
      },
      "source": [
        "from google.colab import drive\r\n",
        "drive.mount('/content/gdrive')\r\n",
        "\r\n",
        "import os\r\n",
        "os.chdir('/content/gdrive/MyDrive/Colab Notebooks/XiaoXiang_project')"
      ],
      "execution_count": 1,
      "outputs": [
        {
          "output_type": "stream",
          "text": [
            "Drive already mounted at /content/gdrive; to attempt to forcibly remount, call drive.mount(\"/content/gdrive\", force_remount=True).\n"
          ],
          "name": "stdout"
        }
      ]
    },
    {
      "cell_type": "code",
      "metadata": {
        "id": "wDlPNJUovlUV"
      },
      "source": [
        "import warnings\r\n",
        "warnings.filterwarnings(\"ignore\")\r\n",
        "import pandas as pd\r\n",
        "\r\n",
        "train_df = pd.read_csv('./data/train.csv', sep=\"###__###\", header=None, names=['ID', 'Age', 'Gender', 'Education', 'Query_List'])\r\n",
        "test_df = pd.read_csv('./data/test.csv', sep=\"###__###\", header=None, names=['ID', 'Query_List'])\r\n",
        "stopwords_df = pd.read_table('./data/cn_stopwords.txt', header=None, names=['StopWords'])\r\n",
        "stopwords = stopwords_df['StopWords'].values"
      ],
      "execution_count": 2,
      "outputs": []
    },
    {
      "cell_type": "code",
      "metadata": {
        "id": "S8HQXkjlvmT5"
      },
      "source": [
        "import re\r\n",
        "\r\n",
        "def find_chinese(file):\r\n",
        "  pattern = re.compile(r'[^\\u4e00-\\u9fa5 \\t]')\r\n",
        "  chinese_txt = re.sub(pattern,'',file)\r\n",
        "  return chinese_txt"
      ],
      "execution_count": 3,
      "outputs": []
    },
    {
      "cell_type": "code",
      "metadata": {
        "colab": {
          "base_uri": "https://localhost:8080/",
          "height": 276
        },
        "id": "1WlBovxswj7R",
        "outputId": "fa1a181d-afb9-4180-be92-c15d7d1c637d"
      },
      "source": [
        "import jieba\r\n",
        "\r\n",
        "train_age_df = train_df[['Age', 'Query_List']]\r\n",
        "train_age_df = train_age_df[~(train_age_df['Age']==0)]  # 对缺失值直接进行删除\r\n",
        "train_age_df['Query_List'] = train_age_df['Query_List'].apply(lambda x: find_chinese(x))\r\n",
        "train_age_df['Query_List'] = train_age_df['Query_List'].apply(lambda x: jieba.lcut(x))\r\n",
        "train_age_df['Query_List'] = train_age_df['Query_List'].apply(lambda x: filter(lambda y: len(y)>1, x))\r\n",
        "train_age_df['Query_List'] = train_age_df['Query_List'].apply(lambda x: filter(lambda y: y not in stopwords, x))\r\n",
        "train_age_df['Query_List'] = train_age_df['Query_List'].apply(lambda x: ' '.join(x))\r\n",
        "\r\n",
        "train_age_df.head()"
      ],
      "execution_count": 4,
      "outputs": [
        {
          "output_type": "stream",
          "text": [
            "Building prefix dict from the default dictionary ...\n",
            "Loading model from cache /tmp/jieba.cache\n",
            "Loading model cost 0.751 seconds.\n",
            "Prefix dict has been built successfully.\n"
          ],
          "name": "stderr"
        },
        {
          "output_type": "execute_result",
          "data": {
            "text/html": [
              "<div>\n",
              "<style scoped>\n",
              "    .dataframe tbody tr th:only-of-type {\n",
              "        vertical-align: middle;\n",
              "    }\n",
              "\n",
              "    .dataframe tbody tr th {\n",
              "        vertical-align: top;\n",
              "    }\n",
              "\n",
              "    .dataframe thead th {\n",
              "        text-align: right;\n",
              "    }\n",
              "</style>\n",
              "<table border=\"1\" class=\"dataframe\">\n",
              "  <thead>\n",
              "    <tr style=\"text-align: right;\">\n",
              "      <th></th>\n",
              "      <th>Age</th>\n",
              "      <th>Query_List</th>\n",
              "    </tr>\n",
              "  </thead>\n",
              "  <tbody>\n",
              "    <tr>\n",
              "      <th>0</th>\n",
              "      <td>1</td>\n",
              "      <td>柔和 双沟 女生 中财网 首页 财经 周公 解梦 大全 查询 曹云金 再讽 郭德纲 总裁 大...</td>\n",
              "    </tr>\n",
              "    <tr>\n",
              "      <th>1</th>\n",
              "      <td>2</td>\n",
              "      <td>广州 厨宝 烤箱 世情 人情 恶雨 黄昏 花易 落晓 风干 泪痕 厦门 酒店用品 批发市场 ...</td>\n",
              "    </tr>\n",
              "    <tr>\n",
              "      <th>2</th>\n",
              "      <td>4</td>\n",
              "      <td>钻石 之泪 耳机 盘锦 沈阳 旅顺 公交 辽宁 阜新 车牌 盘锦 台安 网游 永生 网游 辽...</td>\n",
              "    </tr>\n",
              "    <tr>\n",
              "      <th>3</th>\n",
              "      <td>4</td>\n",
              "      <td>受欢迎 狗狗 排行榜 场景 范例 三维 绘图 软件 酸奶 一起 壮观 衣服 网站 动漫 绘图...</td>\n",
              "    </tr>\n",
              "    <tr>\n",
              "      <th>4</th>\n",
              "      <td>2</td>\n",
              "      <td>干槽症 自愈 太太 万岁 舒心 美国 干槽症 眼皮 下面 一直 怎么回事 麦当劳 旋风 勺子...</td>\n",
              "    </tr>\n",
              "  </tbody>\n",
              "</table>\n",
              "</div>"
            ],
            "text/plain": [
              "   Age                                         Query_List\n",
              "0    1  柔和 双沟 女生 中财网 首页 财经 周公 解梦 大全 查询 曹云金 再讽 郭德纲 总裁 大...\n",
              "1    2  广州 厨宝 烤箱 世情 人情 恶雨 黄昏 花易 落晓 风干 泪痕 厦门 酒店用品 批发市场 ...\n",
              "2    4  钻石 之泪 耳机 盘锦 沈阳 旅顺 公交 辽宁 阜新 车牌 盘锦 台安 网游 永生 网游 辽...\n",
              "3    4  受欢迎 狗狗 排行榜 场景 范例 三维 绘图 软件 酸奶 一起 壮观 衣服 网站 动漫 绘图...\n",
              "4    2  干槽症 自愈 太太 万岁 舒心 美国 干槽症 眼皮 下面 一直 怎么回事 麦当劳 旋风 勺子..."
            ]
          },
          "metadata": {
            "tags": []
          },
          "execution_count": 4
        }
      ]
    },
    {
      "cell_type": "code",
      "metadata": {
        "colab": {
          "base_uri": "https://localhost:8080/"
        },
        "id": "vA2BxiRsCeY3",
        "outputId": "b33fe318-a902-46ee-d58d-09b4d7cb5722"
      },
      "source": [
        "import numpy as np\r\n",
        "from sklearn.model_selection import train_test_split, KFold, StratifiedKFold\r\n",
        "from sklearn.feature_extraction.text import TfidfVectorizer\r\n",
        "from sklearn.svm import LinearSVC\r\n",
        "from sklearn.metrics import f1_score\r\n",
        "from sklearn.linear_model import RidgeClassifier, LogisticRegression\r\n",
        "from lightgbm import LGBMClassifier\r\n",
        "\r\n",
        "tfidf = TfidfVectorizer(ngram_range=(1, 2), max_features=4000).fit(train_age_df['Query_List'].iloc[:].values)\r\n",
        "train_tfidf = tfidf.transform(train_age_df['Query_List'].iloc[:].values)\r\n",
        "test_tfidf = tfidf.transform(test_df['Query_List'].iloc[:].values)\r\n",
        "\r\n",
        "skf = StratifiedKFold(n_splits=5, random_state=42) \r\n",
        "test_pred = np.zeros((test_tfidf.shape[0], 6), dtype=np.float32)\r\n",
        "\r\n",
        "for idx, (train_index, valid_index) in enumerate(skf.split(train_tfidf, train_age_df['Age'].values)):\r\n",
        "  x_train_, x_valid_ = train_tfidf[train_index], train_tfidf[valid_index]\r\n",
        "  y_train_, y_valid_ = train_age_df['Age'].values[train_index], train_age_df['Age'].values[valid_index]\r\n",
        "  \r\n",
        "  clf = LGBMClassifier()\r\n",
        "  clf.fit(x_train_, y_train_)\r\n",
        "  val_pred = clf.predict(x_valid_)\r\n",
        "  \r\n",
        "  print(f1_score(y_valid_, val_pred, average='macro'))\r\n",
        "  test_pred += clf.predict_proba(test_tfidf)"
      ],
      "execution_count": 7,
      "outputs": [
        {
          "output_type": "stream",
          "text": [
            "0.3312084201204833\n",
            "0.3385144209214305\n",
            "0.33331765721245427\n",
            "0.3368186381370939\n",
            "0.337591561830142\n"
          ],
          "name": "stdout"
        }
      ]
    },
    {
      "cell_type": "code",
      "metadata": {
        "id": "trSm51Z8EMCk"
      },
      "source": [
        ""
      ],
      "execution_count": null,
      "outputs": []
    }
  ]
}
