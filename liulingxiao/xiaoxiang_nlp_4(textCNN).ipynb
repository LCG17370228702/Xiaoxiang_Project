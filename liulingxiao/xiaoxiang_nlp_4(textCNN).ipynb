{
  "nbformat": 4,
  "nbformat_minor": 0,
  "metadata": {
    "colab": {
      "name": "xiaoxiang_nlp_4.ipynb",
      "provenance": [],
      "collapsed_sections": []
    },
    "kernelspec": {
      "name": "python3",
      "display_name": "Python 3"
    },
    "accelerator": "GPU"
  },
  "cells": [
    {
      "cell_type": "code",
      "metadata": {
        "colab": {
          "base_uri": "https://localhost:8080/"
        },
        "id": "AHo24vYyf_o6",
        "outputId": "b7a62c64-6b22-4d10-e263-f55175fe3462"
      },
      "source": [
        "from google.colab import drive\r\n",
        "drive.mount('/content/gdrive')\r\n",
        "\r\n",
        "import os\r\n",
        "os.chdir('/content/gdrive/MyDrive/Colab Notebooks/XiaoXiang_project')"
      ],
      "execution_count": 1,
      "outputs": [
        {
          "output_type": "stream",
          "text": [
            "Mounted at /content/gdrive\n"
          ],
          "name": "stdout"
        }
      ]
    },
    {
      "cell_type": "markdown",
      "metadata": {
        "id": "Sf8ubasOqlxT"
      },
      "source": [
        "# 加载数据及数据预处理"
      ]
    },
    {
      "cell_type": "code",
      "metadata": {
        "id": "nJl7tplDccW1",
        "colab": {
          "base_uri": "https://localhost:8080/",
          "height": 204
        },
        "outputId": "3d7c6bfe-8d2a-46b7-e574-59546042b98d"
      },
      "source": [
        "import warnings\r\n",
        "warnings.filterwarnings(\"ignore\")\r\n",
        "import pandas as pd\r\n",
        "import re\r\n",
        "import jieba\r\n",
        "\r\n",
        "# def find_chinese(file):\r\n",
        "#   pattern = re.compile(r'[^\\u4e00-\\u9fa5 \\t]')\r\n",
        "#   chinese_txt = re.sub(pattern,'',file)\r\n",
        "#   return chinese_txt\r\n",
        "\r\n",
        "def remove_noise(document):\r\n",
        "  noise_pattern = re.compile(\"|\".join([\"http\\S+\", \":http\\S+\", \"ｗｗｗ.+?\\t\",'\\d+\\@\\S+']))\r\n",
        "  clean_text = re.sub(noise_pattern, \"\", document)\r\n",
        "  return clean_text.strip()\r\n",
        "\r\n",
        "def preprocess_text(content_lines):\r\n",
        "  segs=jieba.lcut(content_lines)\r\n",
        "  segs = list(filter(lambda x:len(x)>1, segs)) #没有解析出来的新闻过滤掉\r\n",
        "  segs = list(filter(lambda x:x not in stopwords, segs)) #把停用词过滤掉\r\n",
        "  return ' '.join(segs)\r\n",
        "\r\n",
        "\r\n",
        "# i = 0\r\n",
        "i = 1\r\n",
        "if i == 0:\r\n",
        "  train_df = pd.read_csv('./data/train.csv', sep=\"###__###\", header=None, names=['ID', 'Age', 'Gender', 'Education', 'Query_List'])\r\n",
        "  test_df = pd.read_csv('./data/test.csv', sep=\"###__###\", header=None, names=['ID', 'Query_List'])\r\n",
        "  stopwords_df = pd.read_table('./data/cn_stopwords.txt', header=None, names=['StopWords'])\r\n",
        "  stopwords = stopwords_df['StopWords'].values\r\n",
        "\r\n",
        "  train_df['Query_List'] = train_df['Query_List'].apply(remove_noise)\r\n",
        "  train_df['Query_List'] = train_df['Query_List'].apply(preprocess_text)\r\n",
        "\r\n",
        "  train_df.to_csv('./data/train_cutwords.csv', index=None)\r\n",
        "\r\n",
        "elif i == 1:\r\n",
        "  train_df = pd.read_csv('./data/train_cutwords.csv')\r\n",
        "\r\n",
        "train_df.head()"
      ],
      "execution_count": 2,
      "outputs": [
        {
          "output_type": "execute_result",
          "data": {
            "text/html": [
              "<div>\n",
              "<style scoped>\n",
              "    .dataframe tbody tr th:only-of-type {\n",
              "        vertical-align: middle;\n",
              "    }\n",
              "\n",
              "    .dataframe tbody tr th {\n",
              "        vertical-align: top;\n",
              "    }\n",
              "\n",
              "    .dataframe thead th {\n",
              "        text-align: right;\n",
              "    }\n",
              "</style>\n",
              "<table border=\"1\" class=\"dataframe\">\n",
              "  <thead>\n",
              "    <tr style=\"text-align: right;\">\n",
              "      <th></th>\n",
              "      <th>ID</th>\n",
              "      <th>Age</th>\n",
              "      <th>Gender</th>\n",
              "      <th>Education</th>\n",
              "      <th>Query_List</th>\n",
              "    </tr>\n",
              "  </thead>\n",
              "  <tbody>\n",
              "    <tr>\n",
              "      <th>0</th>\n",
              "      <td>22DD920316420BE2DF8D6EE651BA174B</td>\n",
              "      <td>1</td>\n",
              "      <td>1</td>\n",
              "      <td>4</td>\n",
              "      <td>柔和 双沟 女生 中财网 首页 财经 周公 解梦 大全 查询 2345 曹云金 再讽 郭德纲...</td>\n",
              "    </tr>\n",
              "    <tr>\n",
              "      <th>1</th>\n",
              "      <td>43CC3AF5A8D6430A3B572337A889AFE4</td>\n",
              "      <td>2</td>\n",
              "      <td>1</td>\n",
              "      <td>3</td>\n",
              "      <td>广州 厨宝 烤箱 世情 人情 雨送 黄昏 花易落 风干 泪痕 厦门 酒店用品 批发市场 不想...</td>\n",
              "    </tr>\n",
              "    <tr>\n",
              "      <th>2</th>\n",
              "      <td>E97654BFF5570E2CCD433EA6128EAC19</td>\n",
              "      <td>4</td>\n",
              "      <td>1</td>\n",
              "      <td>0</td>\n",
              "      <td>钻石 之泪 耳机 盘锦 沈阳 旅顺 公交 辽宁 阜新 车牌 baidu k715 k716 ...</td>\n",
              "    </tr>\n",
              "    <tr>\n",
              "      <th>3</th>\n",
              "      <td>6931EFC26D229CCFCEA125D3F3C21E57</td>\n",
              "      <td>4</td>\n",
              "      <td>2</td>\n",
              "      <td>3</td>\n",
              "      <td>受欢迎 狗狗 排行榜 场景 范例 三维 绘图 软件 酸奶 一起 壮观 衣服 网站 动漫 绘图...</td>\n",
              "    </tr>\n",
              "    <tr>\n",
              "      <th>4</th>\n",
              "      <td>E780470C3BB0D340334BD08CDCC3C71A</td>\n",
              "      <td>2</td>\n",
              "      <td>2</td>\n",
              "      <td>4</td>\n",
              "      <td>干槽症 自愈 太太 万岁 舒心 美国 干槽症 眼皮 下面 一直 怎么回事 麦当劳 旋风 勺子...</td>\n",
              "    </tr>\n",
              "  </tbody>\n",
              "</table>\n",
              "</div>"
            ],
            "text/plain": [
              "                                 ID  ...                                         Query_List\n",
              "0  22DD920316420BE2DF8D6EE651BA174B  ...  柔和 双沟 女生 中财网 首页 财经 周公 解梦 大全 查询 2345 曹云金 再讽 郭德纲...\n",
              "1  43CC3AF5A8D6430A3B572337A889AFE4  ...  广州 厨宝 烤箱 世情 人情 雨送 黄昏 花易落 风干 泪痕 厦门 酒店用品 批发市场 不想...\n",
              "2  E97654BFF5570E2CCD433EA6128EAC19  ...  钻石 之泪 耳机 盘锦 沈阳 旅顺 公交 辽宁 阜新 车牌 baidu k715 k716 ...\n",
              "3  6931EFC26D229CCFCEA125D3F3C21E57  ...  受欢迎 狗狗 排行榜 场景 范例 三维 绘图 软件 酸奶 一起 壮观 衣服 网站 动漫 绘图...\n",
              "4  E780470C3BB0D340334BD08CDCC3C71A  ...  干槽症 自愈 太太 万岁 舒心 美国 干槽症 眼皮 下面 一直 怎么回事 麦当劳 旋风 勺子...\n",
              "\n",
              "[5 rows x 5 columns]"
            ]
          },
          "metadata": {
            "tags": []
          },
          "execution_count": 2
        }
      ]
    },
    {
      "cell_type": "code",
      "metadata": {
        "id": "INk0CXwjq04g",
        "colab": {
          "base_uri": "https://localhost:8080/",
          "height": 204
        },
        "outputId": "748434eb-e1de-4575-c17f-ae646dd89ce1"
      },
      "source": [
        "'''\r\n",
        "  先跑通代码，删除标签为0的数据，后续进行填充\r\n",
        "'''\r\n",
        "\r\n",
        "train_df = train_df[~(train_df['Age']==0)]\r\n",
        "train_df = train_df[~(train_df['Gender']==0)]\r\n",
        "train_df = train_df[~(train_df['Education']==0)]\r\n",
        "\r\n",
        "train_df['Age'] = train_df['Age'] - 1\r\n",
        "train_df['Gender'] = train_df['Gender'] - 1\r\n",
        "train_df['Education'] = train_df['Education'] - 1\r\n",
        "\r\n",
        "train_df['Query_List'] = train_df['Query_List'].apply(lambda x: x.split(' '))\r\n",
        "train_df = train_df.reset_index(drop=True)\r\n",
        "\r\n",
        "\r\n",
        "train_df.head()"
      ],
      "execution_count": 3,
      "outputs": [
        {
          "output_type": "execute_result",
          "data": {
            "text/html": [
              "<div>\n",
              "<style scoped>\n",
              "    .dataframe tbody tr th:only-of-type {\n",
              "        vertical-align: middle;\n",
              "    }\n",
              "\n",
              "    .dataframe tbody tr th {\n",
              "        vertical-align: top;\n",
              "    }\n",
              "\n",
              "    .dataframe thead th {\n",
              "        text-align: right;\n",
              "    }\n",
              "</style>\n",
              "<table border=\"1\" class=\"dataframe\">\n",
              "  <thead>\n",
              "    <tr style=\"text-align: right;\">\n",
              "      <th></th>\n",
              "      <th>ID</th>\n",
              "      <th>Age</th>\n",
              "      <th>Gender</th>\n",
              "      <th>Education</th>\n",
              "      <th>Query_List</th>\n",
              "    </tr>\n",
              "  </thead>\n",
              "  <tbody>\n",
              "    <tr>\n",
              "      <th>0</th>\n",
              "      <td>22DD920316420BE2DF8D6EE651BA174B</td>\n",
              "      <td>0</td>\n",
              "      <td>0</td>\n",
              "      <td>3</td>\n",
              "      <td>[柔和, 双沟, 女生, 中财网, 首页, 财经, 周公, 解梦, 大全, 查询, 2345...</td>\n",
              "    </tr>\n",
              "    <tr>\n",
              "      <th>1</th>\n",
              "      <td>43CC3AF5A8D6430A3B572337A889AFE4</td>\n",
              "      <td>1</td>\n",
              "      <td>0</td>\n",
              "      <td>2</td>\n",
              "      <td>[广州, 厨宝, 烤箱, 世情, 人情, 雨送, 黄昏, 花易落, 风干, 泪痕, 厦门, ...</td>\n",
              "    </tr>\n",
              "    <tr>\n",
              "      <th>2</th>\n",
              "      <td>6931EFC26D229CCFCEA125D3F3C21E57</td>\n",
              "      <td>3</td>\n",
              "      <td>1</td>\n",
              "      <td>2</td>\n",
              "      <td>[受欢迎, 狗狗, 排行榜, 场景, 范例, 三维, 绘图, 软件, 酸奶, 一起, 壮观,...</td>\n",
              "    </tr>\n",
              "    <tr>\n",
              "      <th>3</th>\n",
              "      <td>E780470C3BB0D340334BD08CDCC3C71A</td>\n",
              "      <td>1</td>\n",
              "      <td>1</td>\n",
              "      <td>3</td>\n",
              "      <td>[干槽症, 自愈, 太太, 万岁, 舒心, 美国, 干槽症, 眼皮, 下面, 一直, 怎么回...</td>\n",
              "    </tr>\n",
              "    <tr>\n",
              "      <th>4</th>\n",
              "      <td>0D58894CD481D4B3039000661665C0DB</td>\n",
              "      <td>2</td>\n",
              "      <td>1</td>\n",
              "      <td>2</td>\n",
              "      <td>[貔貅, 饲育, 指南, 韩姨, 贵阳, 古琴, 洛基, 风速, 英美, 店主, 好吃, 重...</td>\n",
              "    </tr>\n",
              "  </tbody>\n",
              "</table>\n",
              "</div>"
            ],
            "text/plain": [
              "                                 ID  ...                                         Query_List\n",
              "0  22DD920316420BE2DF8D6EE651BA174B  ...  [柔和, 双沟, 女生, 中财网, 首页, 财经, 周公, 解梦, 大全, 查询, 2345...\n",
              "1  43CC3AF5A8D6430A3B572337A889AFE4  ...  [广州, 厨宝, 烤箱, 世情, 人情, 雨送, 黄昏, 花易落, 风干, 泪痕, 厦门, ...\n",
              "2  6931EFC26D229CCFCEA125D3F3C21E57  ...  [受欢迎, 狗狗, 排行榜, 场景, 范例, 三维, 绘图, 软件, 酸奶, 一起, 壮观,...\n",
              "3  E780470C3BB0D340334BD08CDCC3C71A  ...  [干槽症, 自愈, 太太, 万岁, 舒心, 美国, 干槽症, 眼皮, 下面, 一直, 怎么回...\n",
              "4  0D58894CD481D4B3039000661665C0DB  ...  [貔貅, 饲育, 指南, 韩姨, 贵阳, 古琴, 洛基, 风速, 英美, 店主, 好吃, 重...\n",
              "\n",
              "[5 rows x 5 columns]"
            ]
          },
          "metadata": {
            "tags": []
          },
          "execution_count": 3
        }
      ]
    },
    {
      "cell_type": "markdown",
      "metadata": {
        "id": "fM24HjjXqqy2"
      },
      "source": [
        "# 定义一些要用到的函数"
      ]
    },
    {
      "cell_type": "code",
      "metadata": {
        "id": "05tHa7lPP_Jl"
      },
      "source": [
        "from collections import Counter\r\n",
        "\r\n",
        "\r\n",
        "def build_vocab(train_data, vocab_file, vocab_size=5000):\r\n",
        "  '''\r\n",
        "    根据训练集构建词汇表，并保存为txt格式文件\r\n",
        "  '''\r\n",
        "  all_data = []\r\n",
        "  for i in range(train_data.shape[0]):\r\n",
        "    all_data.extend(train_data['Query_List'][i])\r\n",
        "  counter = Counter(all_data)\r\n",
        "\r\n",
        "  # print(len(counter))\r\n",
        "\r\n",
        "\r\n",
        "  # 取出现最多的前n个词\r\n",
        "  # vocab_size = 5000\r\n",
        "\r\n",
        "  count_pairs = counter.most_common(vocab_size - 1)\r\n",
        "  words, _ = list(zip(*count_pairs))\r\n",
        "  \r\n",
        "  # 添加一个 <PAD> 来将所有文本pad为同一长度\r\n",
        "  words = ['<PAD>'] + list(words)\r\n",
        "  open(vocab_file, mode='w', encoding='utf-8', errors='ignore').write('\\n'.join(words) + '\\n')\r\n",
        "\r\n",
        "def read_vocab(vocab_file):\r\n",
        "  '''\r\n",
        "    读取词汇表，构建词语-->ID编号的映射\r\n",
        "  '''\r\n",
        "  with open(vocab_file, 'r') as f:\r\n",
        "    words = [_.strip() for _ in f.readlines()]\r\n",
        "  word_to_id = dict(zip(words, range(len(words))))\r\n",
        "  return words, word_to_id\r\n",
        "\r\n",
        "def encode_cate(content, words):\r\n",
        "  '''将文字转换为id表示的内容'''\r\n",
        "  return [(words[x] if x in words else 40000) for x in content]\r\n",
        "\r\n",
        "def encode_sentences(contents, words):\r\n",
        "  '''将文字转换为id表示的内容'''\r\n",
        "  return [encode_cate(x,words) for x in contents]\r\n"
      ],
      "execution_count": 4,
      "outputs": []
    },
    {
      "cell_type": "markdown",
      "metadata": {
        "id": "_j7LueM7wcuK"
      },
      "source": [
        "# 定义网络结构\r\n",
        "\r\n",
        "![image.png](data:image/png;base64,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)"
      ]
    },
    {
      "cell_type": "code",
      "metadata": {
        "id": "qjhjZuO0twnX"
      },
      "source": [
        "from tensorflow.keras import Input, Model\r\n",
        "from tensorflow.keras.layers import Embedding, Dense, Conv1D, GlobalAveragePooling1D, Concatenate, Dropout\r\n",
        "\r\n",
        "class TextCNN(object):\r\n",
        "  def __init__(self, maxlen, max_features, embedding_dims, class_num, last_activation='softmax'):\r\n",
        "    self.maxlen = maxlen\r\n",
        "    self.max_features = max_features\r\n",
        "    self.embedding_dims = embedding_dims\r\n",
        "    self.class_num = class_num\r\n",
        "    self.last_activation = last_activation\r\n",
        "\r\n",
        "  def get_model(self):\r\n",
        "    input = Input((self.maxlen,))\r\n",
        "    embedding = Embedding(self.max_features, self.embedding_dims, input_length=self.maxlen)(input)\r\n",
        "    convs = []\r\n",
        "    for kernel_size in [3, 4, 5]:\r\n",
        "      c = Conv1D(128, kernel_size, activation='relu')(embedding)\r\n",
        "      c = GlobalAveragePooling1D()(c)\r\n",
        "      convs.append(c)\r\n",
        "\r\n",
        "    # c = Conv1D(128, kernel_size=3, activation='relu')(embedding)\r\n",
        "    # c = GlobalAveragePooling1D()(c)\r\n",
        "    # convs.append(c)\r\n",
        "    # c = Conv1D(256, kernel_size=4, activation='relu')(embedding)\r\n",
        "    # c = GlobalAveragePooling1D()(c)\r\n",
        "    # convs.append(c)\r\n",
        "    # c = Conv1D(512, kernel_size=5, activation='relu')(embedding)\r\n",
        "    # c = GlobalAveragePooling1D()(c)\r\n",
        "    # convs.append(c)\r\n",
        "\r\n",
        "    x = Concatenate()(convs)\r\n",
        "\r\n",
        "    output = Dense(self.class_num, activation=self.last_activation)(x)\r\n",
        "    model = Model(inputs=input, outputs=output)\r\n",
        "    return model"
      ],
      "execution_count": 5,
      "outputs": []
    },
    {
      "cell_type": "markdown",
      "metadata": {
        "id": "AiIhEmXOqgxi"
      },
      "source": [
        "# 数据处理与训练"
      ]
    },
    {
      "cell_type": "code",
      "metadata": {
        "colab": {
          "base_uri": "https://localhost:8080/"
        },
        "id": "sGQ6Ib2Sn00d",
        "outputId": "c8e9d29a-6b16-43b4-89ac-9f145a1bdcca"
      },
      "source": [
        "from tensorflow.keras.preprocessing import sequence\r\n",
        "import random\r\n",
        "from sklearn.model_selection import train_test_split\r\n",
        "from tensorflow.keras.callbacks import EarlyStopping, ModelCheckpoint\r\n",
        "from tensorflow.keras.utils import to_categorical\r\n",
        "\r\n",
        "# 路径设置\r\n",
        "vocab_file = './vocab/vocab.txt'\r\n",
        "\r\n",
        "# 词汇量\r\n",
        "vocab_size = 40000\r\n",
        "\r\n",
        "# 神经网络配置\r\n",
        "max_features = 40001\r\n",
        "maxlen = 100\r\n",
        "batch_size = 64\r\n",
        "embedding_dims = 50\r\n",
        "epochs = 8\r\n",
        "class_num = 6\r\n",
        "\r\n",
        "print('正在进行数据处理。。。。')\r\n",
        "if not os.path.exists(vocab_file):\r\n",
        "  build_vocab(train_df, vocab_file, vocab_size=vocab_size)\r\n",
        "\r\n",
        "words, word_to_id = read_vocab(vocab_file)\r\n",
        "\r\n",
        "x = train_df['Query_List'].to_list()\r\n",
        "y_age = train_df['Age'].to_list()\r\n",
        "\r\n",
        "data = list(zip(x,y_age))\r\n",
        "del x, y_age\r\n",
        "\r\n",
        "# 乱序\r\n",
        "random.shuffle(data)\r\n",
        "# 切分训练集和测试集\r\n",
        "train_data, test_data = train_test_split(data, test_size=0.2, random_state=42)\r\n",
        "# 对文本进行编码\r\n",
        "x_train = encode_sentences([content[0] for content in train_data], word_to_id)\r\n",
        "y_train = to_categorical([_[1] for _ in train_data], class_num)\r\n",
        "x_test = encode_sentences([content[0] for content in test_data], word_to_id)\r\n",
        "y_test = to_categorical([_[1] for _ in test_data], class_num)\r\n",
        "\r\n",
        "\r\n",
        "print('对序列做padding，保证是 samples*timestep 的维度')\r\n",
        "x_train = sequence.pad_sequences(x_train, maxlen=maxlen)\r\n",
        "x_test = sequence.pad_sequences(x_test, maxlen=maxlen)\r\n",
        "print('x_train shape:', x_train.shape)\r\n",
        "print('y_train shape:', y_train.shape)\r\n",
        "print('x_test shape:', x_test.shape)\r\n",
        "print('y_test shape:', y_test.shape)\r\n",
        "\r\n",
        "print('构建模型...')\r\n",
        "model = TextCNN(maxlen, max_features, embedding_dims, class_num).get_model()\r\n",
        "model.compile('adam', 'categorical_crossentropy', metrics=['accuracy'])\r\n",
        "\r\n",
        "print('训练...')\r\n",
        "# 设定callbacks回调函数\r\n",
        "filepath = './model/weights.{epoch:02d}-{val_loss:.2f}.hdf5'\r\n",
        "\r\n",
        "my_callbacks = [\r\n",
        "    ModelCheckpoint(filepath, verbose=1),\r\n",
        "    EarlyStopping(monitor='val_accuracy', patience=2, mode='max')\r\n",
        "]\r\n",
        "\r\n",
        "# fit拟合数据\r\n",
        "history = model.fit(x_train, y_train,\r\n",
        "          batch_size=batch_size,\r\n",
        "          epochs=epochs,\r\n",
        "          callbacks=my_callbacks,\r\n",
        "          validation_data=(x_test, y_test))\r\n",
        "\r\n",
        "print('对测试集预测...')\r\n",
        "result = model.predict(x_test)"
      ],
      "execution_count": 9,
      "outputs": [
        {
          "output_type": "stream",
          "text": [
            "正在进行数据处理。。。。\n",
            "对序列做padding，保证是 samples*timestep 的维度\n",
            "x_train shape: (70793, 100)\n",
            "y_train shape: (70793, 6)\n",
            "x_test shape: (17699, 100)\n",
            "y_test shape: (17699, 6)\n",
            "构建模型...\n",
            "训练...\n",
            "Epoch 1/8\n",
            "1107/1107 [==============================] - 38s 33ms/step - loss: 1.2172 - accuracy: 0.5018 - val_loss: 1.0579 - val_accuracy: 0.5717\n",
            "\n",
            "Epoch 00001: saving model to ./model/weights.01-1.06.hdf5\n",
            "Epoch 2/8\n",
            "1107/1107 [==============================] - 36s 33ms/step - loss: 0.8718 - accuracy: 0.6677 - val_loss: 1.1183 - val_accuracy: 0.5513\n",
            "\n",
            "Epoch 00002: saving model to ./model/weights.02-1.12.hdf5\n",
            "Epoch 3/8\n",
            "1107/1107 [==============================] - 37s 33ms/step - loss: 0.6576 - accuracy: 0.7591 - val_loss: 1.2906 - val_accuracy: 0.5260\n",
            "\n",
            "Epoch 00003: saving model to ./model/weights.03-1.29.hdf5\n",
            "对测试集预测...\n"
          ],
          "name": "stdout"
        }
      ]
    }
  ]
}