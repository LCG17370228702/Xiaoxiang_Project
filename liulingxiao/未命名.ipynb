{
 "cells": [
  {
   "cell_type": "code",
   "execution_count": 1,
   "metadata": {
    "ExecuteTime": {
     "end_time": "2021-02-28T14:26:28.352639Z",
     "start_time": "2021-02-28T14:26:14.622338Z"
    }
   },
   "outputs": [],
   "source": [
    "import warnings\n",
    "warnings.filterwarnings(\"ignore\")\n",
    "import pandas as pd\n",
    "\n",
    "train_df = pd.read_csv('./data/train.csv', sep=\"###__###\", header=None, names=['ID', 'Age', 'Gender', 'Education', 'Query_List'], encoding='utf8')\n",
    "test_df = pd.read_csv('./data/test.csv', sep=\"###__###\", header=None, names=['ID', 'Query_List'], encoding='utf8')\n",
    "stopwords_df = pd.read_table('./data/cn_stopwords.txt', header=None, names=['StopWords'])\n",
    "stopwords = stopwords_df['StopWords'].values"
   ]
  },
  {
   "cell_type": "code",
   "execution_count": 2,
   "metadata": {
    "ExecuteTime": {
     "end_time": "2021-02-28T14:26:28.530165Z",
     "start_time": "2021-02-28T14:26:28.355631Z"
    }
   },
   "outputs": [
    {
     "data": {
      "text/html": [
       "<div>\n",
       "<style scoped>\n",
       "    .dataframe tbody tr th:only-of-type {\n",
       "        vertical-align: middle;\n",
       "    }\n",
       "\n",
       "    .dataframe tbody tr th {\n",
       "        vertical-align: top;\n",
       "    }\n",
       "\n",
       "    .dataframe thead th {\n",
       "        text-align: right;\n",
       "    }\n",
       "</style>\n",
       "<table border=\"1\" class=\"dataframe\">\n",
       "  <thead>\n",
       "    <tr style=\"text-align: right;\">\n",
       "      <th></th>\n",
       "      <th>ID</th>\n",
       "      <th>Age</th>\n",
       "      <th>Gender</th>\n",
       "      <th>Education</th>\n",
       "      <th>Query_List</th>\n",
       "    </tr>\n",
       "  </thead>\n",
       "  <tbody>\n",
       "    <tr>\n",
       "      <th>0</th>\n",
       "      <td>22DD920316420BE2DF8D6EE651BA174B</td>\n",
       "      <td>1</td>\n",
       "      <td>1</td>\n",
       "      <td>4</td>\n",
       "      <td>柔和双沟\\t女生\\t中财网首页 财经\\thttp://pan.baidu.com/s/1pl...</td>\n",
       "    </tr>\n",
       "    <tr>\n",
       "      <th>1</th>\n",
       "      <td>43CC3AF5A8D6430A3B572337A889AFE4</td>\n",
       "      <td>2</td>\n",
       "      <td>1</td>\n",
       "      <td>3</td>\n",
       "      <td>广州厨宝烤箱\\t世情薄,人情恶,雨送黄昏花易落,晓风干,泪痕\\t厦门酒店用品批发市场\\t我只...</td>\n",
       "    </tr>\n",
       "    <tr>\n",
       "      <th>2</th>\n",
       "      <td>E97654BFF5570E2CCD433EA6128EAC19</td>\n",
       "      <td>4</td>\n",
       "      <td>1</td>\n",
       "      <td>0</td>\n",
       "      <td>钻石之泪耳机\\t盘锦到沈阳\\t旅顺公交\\t辽宁阜新车牌\\tbaidu\\tk715\\tk716...</td>\n",
       "    </tr>\n",
       "  </tbody>\n",
       "</table>\n",
       "</div>"
      ],
      "text/plain": [
       "                                 ID  Age  Gender  Education  \\\n",
       "0  22DD920316420BE2DF8D6EE651BA174B    1       1          4   \n",
       "1  43CC3AF5A8D6430A3B572337A889AFE4    2       1          3   \n",
       "2  E97654BFF5570E2CCD433EA6128EAC19    4       1          0   \n",
       "\n",
       "                                          Query_List  \n",
       "0  柔和双沟\\t女生\\t中财网首页 财经\\thttp://pan.baidu.com/s/1pl...  \n",
       "1  广州厨宝烤箱\\t世情薄,人情恶,雨送黄昏花易落,晓风干,泪痕\\t厦门酒店用品批发市场\\t我只...  \n",
       "2  钻石之泪耳机\\t盘锦到沈阳\\t旅顺公交\\t辽宁阜新车牌\\tbaidu\\tk715\\tk716...  "
      ]
     },
     "execution_count": 2,
     "metadata": {},
     "output_type": "execute_result"
    }
   ],
   "source": [
    "train_df.head(3)"
   ]
  },
  {
   "cell_type": "markdown",
   "metadata": {},
   "source": [
    "![image.png](data:image/png;base64,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)"
   ]
  },
  {
   "cell_type": "code",
   "execution_count": 3,
   "metadata": {
    "ExecuteTime": {
     "end_time": "2021-02-28T14:26:28.757557Z",
     "start_time": "2021-02-28T14:26:28.533157Z"
    }
   },
   "outputs": [
    {
     "name": "stdout",
     "output_type": "stream",
     "text": [
      "1    38996\n",
      "2    26744\n",
      "3    18529\n",
      "4    10654\n",
      "5     2922\n",
      "0     1666\n",
      "6      489\n",
      "Name: Age, dtype: int64\n",
      "--------------------\n",
      "1    56976\n",
      "2    40869\n",
      "0     2155\n",
      "Name: Gender, dtype: int64\n",
      "--------------------\n",
      "5    37107\n",
      "4    28148\n",
      "3    18858\n",
      "0     9280\n",
      "6     5693\n",
      "2      560\n",
      "1      354\n",
      "Name: Education, dtype: int64\n",
      "--------------------\n"
     ]
    }
   ],
   "source": [
    "for column in ['Age', 'Gender', 'Education']:\n",
    "    print(train_df[column].value_counts())\n",
    "    print('-'*20)"
   ]
  },
  {
   "cell_type": "code",
   "execution_count": 4,
   "metadata": {
    "ExecuteTime": {
     "end_time": "2021-02-28T14:26:28.922117Z",
     "start_time": "2021-02-28T14:26:28.759552Z"
    }
   },
   "outputs": [],
   "source": [
    "import re\n",
    "\n",
    "def find_chinese(file):\n",
    "    pattern = re.compile(r'[^\\u4e00-\\u9fa5 \\t]')\n",
    "    chinese_txt = re.sub(pattern,'',file)\n",
    "    return chinese_txt"
   ]
  },
  {
   "cell_type": "code",
   "execution_count": 5,
   "metadata": {
    "ExecuteTime": {
     "end_time": "2021-02-28T14:52:30.941216Z",
     "start_time": "2021-02-28T14:26:28.925109Z"
    }
   },
   "outputs": [
    {
     "name": "stderr",
     "output_type": "stream",
     "text": [
      "Building prefix dict from the default dictionary ...\n",
      "Dumping model to file cache C:\\Users\\hp\\AppData\\Local\\Temp\\jieba.cache\n",
      "Loading model cost 1.111 seconds.\n",
      "Prefix dict has been built successfully.\n"
     ]
    },
    {
     "data": {
      "text/html": [
       "<div>\n",
       "<style scoped>\n",
       "    .dataframe tbody tr th:only-of-type {\n",
       "        vertical-align: middle;\n",
       "    }\n",
       "\n",
       "    .dataframe tbody tr th {\n",
       "        vertical-align: top;\n",
       "    }\n",
       "\n",
       "    .dataframe thead th {\n",
       "        text-align: right;\n",
       "    }\n",
       "</style>\n",
       "<table border=\"1\" class=\"dataframe\">\n",
       "  <thead>\n",
       "    <tr style=\"text-align: right;\">\n",
       "      <th></th>\n",
       "      <th>Age</th>\n",
       "      <th>Query_List</th>\n",
       "      <th>fasttext_label</th>\n",
       "    </tr>\n",
       "  </thead>\n",
       "  <tbody>\n",
       "    <tr>\n",
       "      <th>0</th>\n",
       "      <td>1</td>\n",
       "      <td>柔和 双沟 女生 中财网 首页 财经 周公 解梦 大全 查询 曹云金 再讽 郭德纲 总裁 大...</td>\n",
       "      <td>__label__1</td>\n",
       "    </tr>\n",
       "    <tr>\n",
       "      <th>1</th>\n",
       "      <td>2</td>\n",
       "      <td>广州 厨宝 烤箱 世情 人情 恶雨 黄昏 花易 落晓 风干 泪痕 厦门 酒店用品 批发市场 ...</td>\n",
       "      <td>__label__2</td>\n",
       "    </tr>\n",
       "    <tr>\n",
       "      <th>2</th>\n",
       "      <td>4</td>\n",
       "      <td>钻石 之泪 耳机 盘锦 沈阳 旅顺 公交 辽宁 阜新 车牌 盘锦 台安 网游 永生 网游 辽...</td>\n",
       "      <td>__label__4</td>\n",
       "    </tr>\n",
       "    <tr>\n",
       "      <th>3</th>\n",
       "      <td>4</td>\n",
       "      <td>受欢迎 狗狗 排行榜 场景 范例 三维 绘图 软件 酸奶 一起 壮观 衣服 网站 动漫 绘图...</td>\n",
       "      <td>__label__4</td>\n",
       "    </tr>\n",
       "    <tr>\n",
       "      <th>4</th>\n",
       "      <td>2</td>\n",
       "      <td>干槽症 自愈 太太 万岁 舒心 美国 干槽症 眼皮 下面 一直 怎么回事 麦当劳 旋风 勺子...</td>\n",
       "      <td>__label__2</td>\n",
       "    </tr>\n",
       "  </tbody>\n",
       "</table>\n",
       "</div>"
      ],
      "text/plain": [
       "   Age                                         Query_List fasttext_label\n",
       "0    1  柔和 双沟 女生 中财网 首页 财经 周公 解梦 大全 查询 曹云金 再讽 郭德纲 总裁 大...     __label__1\n",
       "1    2  广州 厨宝 烤箱 世情 人情 恶雨 黄昏 花易 落晓 风干 泪痕 厦门 酒店用品 批发市场 ...     __label__2\n",
       "2    4  钻石 之泪 耳机 盘锦 沈阳 旅顺 公交 辽宁 阜新 车牌 盘锦 台安 网游 永生 网游 辽...     __label__4\n",
       "3    4  受欢迎 狗狗 排行榜 场景 范例 三维 绘图 软件 酸奶 一起 壮观 衣服 网站 动漫 绘图...     __label__4\n",
       "4    2  干槽症 自愈 太太 万岁 舒心 美国 干槽症 眼皮 下面 一直 怎么回事 麦当劳 旋风 勺子...     __label__2"
      ]
     },
     "execution_count": 5,
     "metadata": {},
     "output_type": "execute_result"
    }
   ],
   "source": [
    "import jieba\n",
    "\n",
    "train_age_df = train_df[['Age', 'Query_List']]\n",
    "train_age_df = train_age_df[~(train_age_df['Age']==0)]  # 对缺失值直接进行删除\n",
    "train_age_df['fasttext_label'] = '__label__' + train_age_df['Age'].astype(str)\n",
    "train_age_df['Query_List'] = train_age_df['Query_List'].apply(lambda x: find_chinese(x))\n",
    "train_age_df['Query_List'] = train_age_df['Query_List'].apply(lambda x: jieba.lcut(x))\n",
    "train_age_df['Query_List'] = train_age_df['Query_List'].apply(lambda x: filter(lambda y: len(y)>1, x))\n",
    "train_age_df['Query_List'] = train_age_df['Query_List'].apply(lambda x: filter(lambda y: y not in stopwords, x))\n",
    "train_age_df['Query_List'] = train_age_df['Query_List'].apply(lambda x: ' '.join(x))\n",
    "\n",
    "train_age_df.head()"
   ]
  },
  {
   "cell_type": "code",
   "execution_count": 6,
   "metadata": {
    "ExecuteTime": {
     "end_time": "2021-02-28T14:52:30.952187Z",
     "start_time": "2021-02-28T14:52:30.944209Z"
    }
   },
   "outputs": [
    {
     "data": {
      "text/plain": [
       "(98334, 3)"
      ]
     },
     "execution_count": 6,
     "metadata": {},
     "output_type": "execute_result"
    }
   ],
   "source": [
    "train_age_df.shape"
   ]
  },
  {
   "cell_type": "code",
   "execution_count": 7,
   "metadata": {
    "ExecuteTime": {
     "end_time": "2021-02-28T14:53:41.930512Z",
     "start_time": "2021-02-28T14:52:30.956177Z"
    }
   },
   "outputs": [],
   "source": [
    "from sklearn.feature_extraction.text import TfidfVectorizer\n",
    "\n",
    "tfidf = TfidfVectorizer(ngram_range=(1, 1), max_features=4000).fit(train_age_df['Query_List'].iloc[:80000].values)\n",
    "train_tfidf = tfidf.transform(train_age_df['Query_List'].iloc[:80000].values)\n",
    "val_tfidf = tfidf.transform(train_age_df['Query_List'].iloc[80000:].values)\n",
    "\n",
    "y_train = train_age_df['Age'].iloc[:80000].values\n",
    "y_val = train_age_df['Age'].iloc[80000:].values"
   ]
  },
  {
   "cell_type": "code",
   "execution_count": 8,
   "metadata": {
    "ExecuteTime": {
     "end_time": "2021-02-28T14:59:46.993753Z",
     "start_time": "2021-02-28T14:53:41.933471Z"
    }
   },
   "outputs": [
    {
     "name": "stdout",
     "output_type": "stream",
     "text": [
      "0.33566797704383317\n"
     ]
    }
   ],
   "source": [
    "from sklearn.linear_model import RidgeClassifier, LogisticRegression\n",
    "from lightgbm import LGBMClassifier\n",
    "from sklearn.metrics import f1_score\n",
    "\n",
    "# clf = RidgeClassifier()\n",
    "# clf = LogisticRegression()\n",
    "clf = LGBMClassifier()\n",
    "clf.fit(train_tfidf, train_age_df['Age'].iloc[:80000].values)\n",
    "val_pred = clf.predict(val_tfidf)\n",
    "\n",
    "print(f1_score(y_val, val_pred, average='macro'))"
   ]
  },
  {
   "cell_type": "code",
   "execution_count": 9,
   "metadata": {
    "ExecuteTime": {
     "end_time": "2021-02-28T14:59:53.713819Z",
     "start_time": "2021-02-28T14:59:46.996745Z"
    }
   },
   "outputs": [
    {
     "name": "stdout",
     "output_type": "stream",
     "text": [
      "0.3207561234350292\n"
     ]
    }
   ],
   "source": [
    "clf = RidgeClassifier()\n",
    "# clf = LogisticRegression()\n",
    "# clf = LGBMClassifier()\n",
    "clf.fit(train_tfidf, train_age_df['Age'].iloc[:80000].values)\n",
    "val_pred = clf.predict(val_tfidf)\n",
    "\n",
    "print(f1_score(y_val, val_pred, average='macro'))"
   ]
  },
  {
   "cell_type": "code",
   "execution_count": 10,
   "metadata": {
    "ExecuteTime": {
     "end_time": "2021-02-28T15:00:11.499291Z",
     "start_time": "2021-02-28T14:59:53.716785Z"
    }
   },
   "outputs": [
    {
     "name": "stdout",
     "output_type": "stream",
     "text": [
      "0.33654352964604034\n"
     ]
    }
   ],
   "source": [
    "# clf = RidgeClassifier()\n",
    "clf = LogisticRegression()\n",
    "# clf = LGBMClassifier()\n",
    "clf.fit(train_tfidf, train_age_df['Age'].iloc[:80000].values)\n",
    "val_pred = clf.predict(val_tfidf)\n",
    "\n",
    "print(f1_score(y_val, val_pred, average='macro'))"
   ]
  },
  {
   "cell_type": "code",
   "execution_count": null,
   "metadata": {},
   "outputs": [],
   "source": []
  }
 ],
 "metadata": {
  "hide_input": false,
  "kernelspec": {
   "display_name": "Python 3",
   "language": "python",
   "name": "python3"
  },
  "language_info": {
   "codemirror_mode": {
    "name": "ipython",
    "version": 3
   },
   "file_extension": ".py",
   "mimetype": "text/x-python",
   "name": "python",
   "nbconvert_exporter": "python",
   "pygments_lexer": "ipython3",
   "version": "3.7.6"
  },
  "toc": {
   "base_numbering": 1,
   "nav_menu": {},
   "number_sections": true,
   "sideBar": true,
   "skip_h1_title": false,
   "title_cell": "Table of Contents",
   "title_sidebar": "Contents",
   "toc_cell": false,
   "toc_position": {},
   "toc_section_display": true,
   "toc_window_display": false
  },
  "varInspector": {
   "cols": {
    "lenName": 16,
    "lenType": 16,
    "lenVar": 40
   },
   "kernels_config": {
    "python": {
     "delete_cmd_postfix": "",
     "delete_cmd_prefix": "del ",
     "library": "var_list.py",
     "varRefreshCmd": "print(var_dic_list())"
    },
    "r": {
     "delete_cmd_postfix": ") ",
     "delete_cmd_prefix": "rm(",
     "library": "var_list.r",
     "varRefreshCmd": "cat(var_dic_list()) "
    }
   },
   "types_to_exclude": [
    "module",
    "function",
    "builtin_function_or_method",
    "instance",
    "_Feature"
   ],
   "window_display": false
  }
 },
 "nbformat": 4,
 "nbformat_minor": 4
}
