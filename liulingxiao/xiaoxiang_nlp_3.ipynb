{
  "nbformat": 4,
  "nbformat_minor": 0,
  "metadata": {
    "colab": {
      "name": "xiaoxiang_nlp_3.ipynb",
      "provenance": []
    },
    "kernelspec": {
      "name": "python3",
      "display_name": "Python 3"
    }
  },
  "cells": [
    {
      "cell_type": "code",
      "metadata": {
        "colab": {
          "base_uri": "https://localhost:8080/"
        },
        "id": "oWoqUhL4BdYV",
        "outputId": "12147768-3a59-4159-9bbb-b33dc7f8d981"
      },
      "source": [
        "from google.colab import drive\r\n",
        "drive.mount('/content/gdrive')\r\n",
        "\r\n",
        "import os\r\n",
        "os.chdir('/content/gdrive/MyDrive/Colab Notebooks/XiaoXiang_project')"
      ],
      "execution_count": 1,
      "outputs": [
        {
          "output_type": "stream",
          "text": [
            "Mounted at /content/gdrive\n"
          ],
          "name": "stdout"
        }
      ]
    },
    {
      "cell_type": "code",
      "metadata": {
        "id": "yNLxXV_5BnRe"
      },
      "source": [
        "import warnings\r\n",
        "warnings.filterwarnings(\"ignore\")\r\n",
        "import pandas as pd\r\n",
        "import numpy as np\r\n",
        "import re\r\n",
        "import jieba\r\n",
        "from sklearn.model_selection import train_test_split, KFold, StratifiedKFold\r\n",
        "from sklearn.feature_extraction.text import TfidfVectorizer, CountVectorizer\r\n",
        "from sklearn.decomposition import LatentDirichletAllocation\r\n",
        "from sklearn.svm import SVC\r\n",
        "from sklearn.metrics import f1_score\r\n",
        "from sklearn.linear_model import RidgeClassifier, LogisticRegression\r\n",
        "from lightgbm import LGBMClassifier\r\n",
        "\r\n",
        "train_df = pd.read_csv('./data/train_chinese.csv')\r\n",
        "train_df = train_df[~(train_df['Age']==0)]\r\n",
        "train_df = train_df[~(train_df['Gender']==0)]\r\n",
        "train_df = train_df[~(train_df['Education']==0)]"
      ],
      "execution_count": 2,
      "outputs": []
    },
    {
      "cell_type": "code",
      "metadata": {
        "colab": {
          "base_uri": "https://localhost:8080/"
        },
        "id": "wVt4-YilF6W7",
        "outputId": "c42e0edd-9685-4521-c3fc-1a92811941d8"
      },
      "source": [
        "tfidf = TfidfVectorizer(ngram_range=(1, 2), max_df=0.95, min_df=2, max_features=10000).fit(train_df['Query_List'].iloc[:].values)\r\n",
        "train_tfidf = tfidf.transform(train_df['Query_List'].iloc[:].values)\r\n",
        "\r\n",
        "from scipy.sparse import hstack\r\n",
        "train = hstack((train_tfidf,train_df['Education'].iloc[:].values.reshape(-1, 1)), format='csr')\r\n",
        "\r\n",
        "skf = StratifiedKFold(n_splits=5, random_state=42)\r\n",
        "\r\n",
        "for idx, (train_index, valid_index) in enumerate(skf.split(train, train_df['Age'].values)):\r\n",
        "  x_train_, x_valid_ = train[train_index], train[valid_index]\r\n",
        "  y_train_, y_valid_ = train_df['Age'].values[train_index], train_df['Age'].values[valid_index]\r\n",
        "  \r\n",
        "  clf = LGBMClassifier()\r\n",
        "  # clf = SVC()\r\n",
        "\r\n",
        "  clf.fit(x_train_, y_train_)\r\n",
        "  val_pred = clf.predict(x_valid_)\r\n",
        "  \r\n",
        "  print(f1_score(y_valid_, val_pred, average='macro'))"
      ],
      "execution_count": 27,
      "outputs": [
        {
          "output_type": "stream",
          "text": [
            "0.4319974474776875\n",
            "0.4395835904571102\n",
            "0.4370017365107906\n",
            "0.4432637624781856\n",
            "0.4411691179383668\n"
          ],
          "name": "stdout"
        }
      ]
    },
    {
      "cell_type": "code",
      "metadata": {
        "id": "35bFrPGNRu62"
      },
      "source": [
        ""
      ],
      "execution_count": null,
      "outputs": []
    }
  ]
}